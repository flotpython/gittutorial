{
 "cells": [
  {
   "cell_type": "markdown",
   "metadata": {},
   "source": [
    "# Tutorial `git` - partie 1"
   ]
  },
  {
   "cell_type": "code",
   "execution_count": null,
   "metadata": {},
   "outputs": [],
   "source": [
    "# ce sera toujours notre façon de commencer\n",
    "[ -f scripts/helpers.sh ] && source scripts/helpers.sh; standard-start"
   ]
  },
  {
   "cell_type": "markdown",
   "metadata": {},
   "source": [
    "## quelle version de git ?"
   ]
  },
  {
   "cell_type": "markdown",
   "metadata": {},
   "source": [
    "En fait toutes les commandes de git sont de cette forme\n",
    "\n",
    "```bash\n",
    "git subcommand [options] [arguments]\n",
    "```"
   ]
  },
  {
   "cell_type": "markdown",
   "metadata": {},
   "source": [
    "En particulier pour savoir la version de `git` qui est installée"
   ]
  },
  {
   "cell_type": "code",
   "execution_count": null,
   "metadata": {},
   "outputs": [],
   "source": [
    "git version"
   ]
  },
  {
   "cell_type": "markdown",
   "metadata": {},
   "source": [
    "## créer un repo git"
   ]
  },
  {
   "cell_type": "markdown",
   "metadata": {},
   "source": [
    "La première commande à connaître est celle qui crée un repo vide; pour être sûr je vais partir d'un répertoire entièrement vide"
   ]
  },
  {
   "cell_type": "code",
   "execution_count": null,
   "metadata": {},
   "outputs": [],
   "source": [
    "# je détruis\n",
    "rm -rf my-first-repo\n",
    "\n",
    "# on le crée, vide\n",
    "mkdir my-first-repo\n",
    "\n",
    "# on va dedans\n",
    "cd my-first-repo"
   ]
  },
  {
   "cell_type": "markdown",
   "metadata": {},
   "source": [
    "Si on regarde bien partout (l'option `ls -a` montre **tous les fichiers** même ceux dont le nom commence par un point:"
   ]
  },
  {
   "cell_type": "code",
   "execution_count": null,
   "metadata": {},
   "outputs": [],
   "source": [
    "ls -a"
   ]
  },
  {
   "cell_type": "markdown",
   "metadata": {},
   "source": [
    "Pour **transformer ce répertoire vide en repo git** - vide aussi, donc :"
   ]
  },
  {
   "cell_type": "code",
   "execution_count": null,
   "metadata": {},
   "outputs": [],
   "source": [
    "git init"
   ]
  },
  {
   "cell_type": "markdown",
   "metadata": {},
   "source": [
    "Regardons à nouveau le répertoire; l'option `ls -F` montre le type des entrées"
   ]
  },
  {
   "cell_type": "code",
   "execution_count": null,
   "metadata": {},
   "outputs": [],
   "source": [
    "ls -aF"
   ]
  },
  {
   "cell_type": "markdown",
   "metadata": {},
   "source": [
    "Ici vous voyez que les trois entrées sont des répertoires :  \n",
    "`.` c'est le répertoire courant,  \n",
    "`..` est son répertoire père, et  \n",
    "`.git` est le répertoire de travail de `git`"
   ]
  },
  {
   "cell_type": "markdown",
   "metadata": {},
   "source": [
    "## ne plus pensez à `.git`"
   ]
  },
  {
   "cell_type": "markdown",
   "metadata": {},
   "source": [
    "Maintenant que vous avez vu ce répertoire `.git`, on va s'efforcer de **l'oublier entièrement**, car ce n'est qu'un détail d'implémentation. Il est beaucoup plus important de se familiariser avec le modèle mental des objets de git, que de savoir comment tout ça est rangé sur le disque."
   ]
  },
  {
   "cell_type": "code",
   "execution_count": null,
   "metadata": {},
   "outputs": [],
   "source": [
    "# malgré la présence de ce directory .git\n",
    "# si on demande la liste des fichiers 'normaux' \n",
    "# on voit un répertoire vide\n",
    "ls"
   ]
  },
  {
   "cell_type": "markdown",
   "metadata": {},
   "source": [
    "## premier commit"
   ]
  },
  {
   "cell_type": "markdown",
   "metadata": {},
   "source": [
    "Les **principaux objets** dans ce modèle mental, ce sont les `commit`s. \n",
    "\n",
    "Comme mon répository est vide, je n'ai encore aucun commit :"
   ]
  },
  {
   "cell_type": "code",
   "execution_count": null,
   "metadata": {
    "tags": [
     "raises-exception"
    ]
   },
   "outputs": [],
   "source": [
    "git log"
   ]
  },
  {
   "cell_type": "markdown",
   "metadata": {},
   "source": [
    "Nous allons créer un premier commit; mais avant cela, on crée un premier fichier `README.md`, avec quelques lignes dedans, et une faute d'orthographe :"
   ]
  },
  {
   "cell_type": "code",
   "execution_count": null,
   "metadata": {
    "cell_style": "split"
   },
   "outputs": [],
   "source": [
    "cat > README.md << EOF\n",
    "# lisez-moi\n",
    "\n",
    "Ce répository sert à ilustrer \n",
    "notre cours sur **git**\n",
    "EOF"
   ]
  },
  {
   "cell_type": "code",
   "execution_count": null,
   "metadata": {
    "cell_style": "split"
   },
   "outputs": [],
   "source": [
    "# voyons ce fichier\n",
    "cat README.md"
   ]
  },
  {
   "cell_type": "markdown",
   "metadata": {},
   "source": [
    "### d'abord on ajoute"
   ]
  },
  {
   "cell_type": "markdown",
   "metadata": {},
   "source": [
    "Pour créer un commit, il faut d'abord **ajouter** avec `git add` des changements, pour **préparer** le contenu du commit :"
   ]
  },
  {
   "cell_type": "code",
   "execution_count": null,
   "metadata": {},
   "outputs": [],
   "source": [
    "git add README.md"
   ]
  },
  {
   "cell_type": "markdown",
   "metadata": {},
   "source": [
    "### et on crée le commit"
   ]
  },
  {
   "cell_type": "markdown",
   "metadata": {},
   "source": [
    "Et maintenant nous pouvons créer notre premier commit, sans grande surprise, avec la commande `git commit`."
   ]
  },
  {
   "cell_type": "code",
   "execution_count": null,
   "metadata": {},
   "outputs": [],
   "source": [
    "git commit -m 'mon premier commit'"
   ]
  },
  {
   "cell_type": "markdown",
   "metadata": {},
   "source": [
    "## c'est quoi un commit ?"
   ]
  },
  {
   "cell_type": "markdown",
   "metadata": {},
   "source": [
    "Pour essayer de définir un commit de manière formelle, un commit peut être vu comme :\n",
    "\n",
    "* l'ensemble des **contenus des fichiers** qui constituent une version,\n",
    "* un ou plusieurs **commits** dont ce commit **dépend**,\n",
    "* un commentaire en texte libre.\n",
    "\n",
    "Pour l'instant c'est un peu abstrait, on en reparlera.."
   ]
  },
  {
   "cell_type": "markdown",
   "metadata": {},
   "source": [
    "## voir l'historique"
   ]
  },
  {
   "cell_type": "markdown",
   "metadata": {},
   "source": [
    "L'historique d'un répository git, c'est donc principalement la liste des commits :"
   ]
  },
  {
   "cell_type": "code",
   "execution_count": null,
   "metadata": {},
   "outputs": [],
   "source": [
    "git log"
   ]
  },
  {
   "cell_type": "markdown",
   "metadata": {},
   "source": [
    "Signalons tout de suite une présentation qui sera plus pratique, où chaque commit fait l'objet d'une ligne du rapport"
   ]
  },
  {
   "cell_type": "code",
   "execution_count": null,
   "metadata": {},
   "outputs": [],
   "source": [
    "git log --oneline"
   ]
  },
  {
   "cell_type": "markdown",
   "metadata": {},
   "source": [
    "## un second commit"
   ]
  },
  {
   "cell_type": "markdown",
   "metadata": {},
   "source": [
    "Utilisons la même technique pour créer un deuxième commit; cette fois nous allons créer un deuxième fichier `LICENSE`, et également modifier le premier `README.md`."
   ]
  },
  {
   "cell_type": "code",
   "execution_count": null,
   "metadata": {},
   "outputs": [],
   "source": [
    "# lorsque le fichier ne fait qu'une seule ligne, pas besoin de EOF\n",
    "echo 'Licence Creative Commons BY-NC-ND 4.0' > LICENSE"
   ]
  },
  {
   "cell_type": "code",
   "execution_count": null,
   "metadata": {},
   "outputs": [],
   "source": [
    "# voici le contenu du fichier LICENSE\n",
    "cat LICENSE"
   ]
  },
  {
   "cell_type": "code",
   "execution_count": null,
   "metadata": {
    "cell_style": "split"
   },
   "outputs": [],
   "source": [
    "# comme on veut que ce nouveau fichier \n",
    "# fasse partie du deuxième commit, on l'ajoute\n",
    "git add LICENSE"
   ]
  },
  {
   "cell_type": "code",
   "execution_count": null,
   "metadata": {
    "cell_style": "split"
   },
   "outputs": [],
   "source": [
    "# voilà ce que nous montre alors \"git status\"\n",
    "git status"
   ]
  },
  {
   "cell_type": "code",
   "execution_count": null,
   "metadata": {
    "cell_style": "center"
   },
   "outputs": [],
   "source": [
    "# maintenant je corrige la faute d'orthographe\n",
    "sed -i -e s,ilustrer,illustrer, README.md\n",
    "rm -f README.md-e"
   ]
  },
  {
   "cell_type": "code",
   "execution_count": null,
   "metadata": {
    "cell_style": "center"
   },
   "outputs": [],
   "source": [
    "# voici maintenant git status\n",
    "# remarquez la différence entre \n",
    "# ce qui est en vert et ce qui est en rouge\n",
    "# nous y reviendrons\n",
    "git status"
   ]
  },
  {
   "cell_type": "code",
   "execution_count": null,
   "metadata": {},
   "outputs": [],
   "source": [
    "# dans l'immédiat je veux ajouter le changement lié à l'orthographe\n",
    "# dans le prochain commit"
   ]
  },
  {
   "cell_type": "markdown",
   "metadata": {},
   "source": [
    "Je commence par regarder ce qui a changé (depuis le dernier commit donc)"
   ]
  },
  {
   "cell_type": "code",
   "execution_count": null,
   "metadata": {},
   "outputs": [],
   "source": [
    "git diff README.md"
   ]
  },
  {
   "cell_type": "code",
   "execution_count": null,
   "metadata": {},
   "outputs": [],
   "source": [
    "# c'est bien ce que je voulais faire\n",
    "git add README.md"
   ]
  },
  {
   "cell_type": "code",
   "execution_count": null,
   "metadata": {},
   "outputs": [],
   "source": [
    "# regardons à nouveau git status\n",
    "# tout ce qui est en vert sera dans le prochain commit\n",
    "git status"
   ]
  },
  {
   "cell_type": "code",
   "execution_count": null,
   "metadata": {},
   "outputs": [],
   "source": [
    "# tous les changements montrés EN VERT vont faire partie du prochain commit\n",
    "git commit -m \"nouveau fichier LICENSE, une correction dans README.md\""
   ]
  },
  {
   "cell_type": "markdown",
   "metadata": {},
   "source": [
    "## afficher le contenu du repository"
   ]
  },
  {
   "cell_type": "markdown",
   "metadata": {},
   "source": [
    "Lister le contenu du repository, c'est donc afficher les commits qui sont dedans.\n",
    "\n",
    "On l'a vu, le premier outil pour faire cela s'appelle `git log`"
   ]
  },
  {
   "cell_type": "code",
   "execution_count": null,
   "metadata": {},
   "outputs": [],
   "source": [
    "git log"
   ]
  },
  {
   "cell_type": "markdown",
   "metadata": {},
   "source": [
    "## chaque commit a son sha-1"
   ]
  },
  {
   "cell_type": "markdown",
   "metadata": {},
   "source": [
    "Comme vous le voyez, chaque commit a un identifiant (en orange), assez long (40 digits hexadécimaux) pour qu'on soit sûr qu'il est unique; on appelle ça le **hash** du commit, ou encore son **sha1** - prononcer *chat-ouane*.\n",
    "\n",
    "40 caractères hexadécimaux, ça fait $40 * 4$ bits, donc $2^{160}$ hash différents; de l'ordre de $10^{50}$.\n",
    "\n",
    "En général, seulement 7 caractères suffisent pour disambigüer les commits dans un repo; en effet il y a $2^{7*4} = 2^{28} = 268435456$  \n",
    "suites de 7 digits hexadécimaux."
   ]
  },
  {
   "cell_type": "code",
   "execution_count": null,
   "metadata": {},
   "outputs": [],
   "source": [
    "# le format par défaut de git log est vite encombrant, si on veut condenser\n",
    "git log --oneline"
   ]
  },
  {
   "cell_type": "markdown",
   "metadata": {},
   "source": [
    "## un raccourci"
   ]
  },
  {
   "cell_type": "markdown",
   "metadata": {},
   "source": [
    "Pour me simplifier la vie je me définis une fonction bash :"
   ]
  },
  {
   "cell_type": "code",
   "execution_count": null,
   "metadata": {},
   "outputs": [],
   "source": [
    "# pour éviter de retaper cette phrase un peu longue\n",
    "# j'en profite pour ajouter l'option --graph qui est utile \n",
    "# lorsque les dépendances deviennent moins simples\n",
    "function show-repo() { git log --oneline --graph; }"
   ]
  },
  {
   "cell_type": "markdown",
   "metadata": {},
   "source": [
    "Et maintenant pour vois le contenu du repository j'ai seulement besoin de faire :"
   ]
  },
  {
   "cell_type": "code",
   "execution_count": null,
   "metadata": {},
   "outputs": [],
   "source": [
    "show-repo"
   ]
  },
  {
   "cell_type": "markdown",
   "metadata": {},
   "source": [
    "Bien sûr on pourrait aussi afficher d'autres informations comme la date, l'auteur, mais pour l'instant ça nous suffit."
   ]
  },
  {
   "cell_type": "code",
   "execution_count": null,
   "metadata": {},
   "outputs": [],
   "source": [
    "# pour voir la documentation complète\n",
    "# de git log (attention très très long !)\n",
    "# enlever le commentaire en début de ligne:\n",
    "\n",
    "# git log --help"
   ]
  },
  {
   "cell_type": "markdown",
   "metadata": {},
   "source": [
    "## la branche `master`"
   ]
  },
  {
   "cell_type": "markdown",
   "metadata": {},
   "source": [
    "Vous remarquez aussi que le dernier commit est afiché avec le label `(HEAD -> master)` en vert. C'est aussi ce que nous dit `git status` d'ailleurs :"
   ]
  },
  {
   "cell_type": "code",
   "execution_count": null,
   "metadata": {},
   "outputs": [],
   "source": [
    "git status"
   ]
  },
  {
   "cell_type": "markdown",
   "metadata": {},
   "source": [
    "À ce stade de notre avancement, le repository possède une seule branche qui s'appelle `master`; c'est le nom par défaut. Et comme pour l'instant on n'a qu'une seule branche, c'est aussi la branche courante (`On branch master`)"
   ]
  },
  {
   "cell_type": "markdown",
   "metadata": {},
   "source": [
    "À quoi sert cette branche ? pour nous pour l'instant, on peut se contenter de remarquer que\n",
    "\n",
    "* la branche courante désigne le *point de départ* du prochain commit; on le verra bientôt, le prochain commit sera créé *au-dessus* de celui désigné par le branche courante;\n",
    "* et aussi, la branche courante *avance* en même temps que nos commits; après le premier commit, `master` désignait le premier commit, après le second commit elle désigne le second commit.\n",
    "\n",
    "On verra qu'on peut très facilement créer plusieurs branches, pour basculer facilement entre les différentes évolutions du code, qui peuvent tout à fait se faire en parallèle; mais n'anticipons pas davantage."
   ]
  },
  {
   "cell_type": "markdown",
   "metadata": {},
   "source": [
    "## créons quelques fichiers"
   ]
  },
  {
   "cell_type": "code",
   "execution_count": null,
   "metadata": {},
   "outputs": [],
   "source": [
    "# on crée trois fichiers; les détails importent peu\n",
    "../scripts/populate create-three-files"
   ]
  },
  {
   "cell_type": "code",
   "execution_count": null,
   "metadata": {
    "cell_style": "split"
   },
   "outputs": [],
   "source": [
    "# leur contenu\n",
    "cat file1    "
   ]
  },
  {
   "cell_type": "code",
   "execution_count": null,
   "metadata": {
    "cell_style": "split"
   },
   "outputs": [],
   "source": [
    "cat file2  "
   ]
  },
  {
   "cell_type": "code",
   "execution_count": null,
   "metadata": {},
   "outputs": [],
   "source": [
    "cat file3"
   ]
  },
  {
   "cell_type": "markdown",
   "metadata": {},
   "source": [
    "À ce stade nous avons donc deux fichiers dans le repo (en fait dans le dernier commit du repo), et 3 fichiers nouveaux (inconnus de git) "
   ]
  },
  {
   "cell_type": "code",
   "execution_count": null,
   "metadata": {
    "cell_style": "split"
   },
   "outputs": [],
   "source": [
    "git ls-files"
   ]
  },
  {
   "cell_type": "code",
   "execution_count": null,
   "metadata": {
    "cell_style": "split"
   },
   "outputs": [],
   "source": [
    "ls -1F"
   ]
  },
  {
   "cell_type": "markdown",
   "metadata": {},
   "source": [
    "## deux autres commits"
   ]
  },
  {
   "cell_type": "markdown",
   "metadata": {},
   "source": [
    "L'intérêt de procéder en deux temps lorsqu'on fabrique un commit, c'est qu'on ne veut pas toujours mettre dans le prochain commit **tout ce qui a changé**.\n",
    "\n",
    "Ici par exemple si je veux créer mon troisième commit **avec** les deux fichiers `file1` et `file2` mais **sans** `file3`, je peux le faire comme ceci"
   ]
  },
  {
   "cell_type": "code",
   "execution_count": null,
   "metadata": {},
   "outputs": [],
   "source": [
    "git add file1 file2\n",
    "git commit -m \"deux fichiers de plus\""
   ]
  },
  {
   "cell_type": "code",
   "execution_count": null,
   "metadata": {},
   "outputs": [],
   "source": [
    "show-repo"
   ]
  },
  {
   "cell_type": "markdown",
   "metadata": {},
   "source": [
    "Et pour faire on poids, je crée un quatrième commit, en ajoutant `file3` et en modifiant `file`"
   ]
  },
  {
   "cell_type": "code",
   "execution_count": null,
   "metadata": {},
   "outputs": [],
   "source": [
    "sed -i -e s',line2 of file1,line2 modified in file1,' file1\n",
    "rm file1-e"
   ]
  },
  {
   "cell_type": "code",
   "execution_count": null,
   "metadata": {},
   "outputs": [],
   "source": [
    "# ici git status me montre que j'ai \n",
    "# (*) le fichier file1 modifié \n",
    "# (*) le fichier file3 qui n'est pas dans le repo\n",
    "git status"
   ]
  },
  {
   "cell_type": "code",
   "execution_count": null,
   "metadata": {},
   "outputs": [],
   "source": [
    "# si j'ajoute les deux fichiers file1 et file3\n",
    "# je prépare un commit qui contient \n",
    "# tout ce qu'il y a dans mon répertoire de travail\n",
    "git add file1 file3"
   ]
  },
  {
   "cell_type": "code",
   "execution_count": null,
   "metadata": {},
   "outputs": [],
   "source": [
    "# du coup tout est en vert\n",
    "git status"
   ]
  },
  {
   "cell_type": "code",
   "execution_count": null,
   "metadata": {},
   "outputs": [],
   "source": [
    "git commit -m \"quatrième commit, avec 5 fichiers\""
   ]
  },
  {
   "cell_type": "code",
   "execution_count": null,
   "metadata": {},
   "outputs": [],
   "source": [
    "show-repo"
   ]
  },
  {
   "cell_type": "markdown",
   "metadata": {},
   "source": [
    "Remarquez enfin que la branche master est toujours placée sur le tout dernier commit."
   ]
  },
  {
   "cell_type": "markdown",
   "metadata": {},
   "source": [
    "## le nom symbolique `head`"
   ]
  },
  {
   "cell_type": "markdown",
   "metadata": {},
   "source": [
    "Le nom `HEAD` désigne **toujours** le commit courant; on va voir bientôt comment d'autres branches, et changer de branche, mais dans tous les cas `HEAD` désigne le commit courant."
   ]
  },
  {
   "cell_type": "markdown",
   "metadata": {},
   "source": [
    "Et `git` propose aussi un mécanisme permettant de désigner un commit par rapport à un autre; je m'explique, le commit `HEAD^` désigne le (premier) père de `HEAD`\n",
    "\n",
    "Donc par exemple si je passe à `git log` le paramètre `HEAD^`, je vais voir l'historique du point du vue, non pas du commit courant, mais du commit juste précédent :"
   ]
  },
  {
   "cell_type": "code",
   "execution_count": null,
   "metadata": {},
   "outputs": [],
   "source": [
    "git log --oneline HEAD^"
   ]
  },
  {
   "cell_type": "markdown",
   "metadata": {},
   "source": [
    "Et ainsi de suite"
   ]
  },
  {
   "cell_type": "code",
   "execution_count": null,
   "metadata": {},
   "outputs": [],
   "source": [
    "git log --oneline HEAD^^"
   ]
  },
  {
   "cell_type": "code",
   "execution_count": null,
   "metadata": {},
   "outputs": [],
   "source": [
    "# du coup je peux améliorer un peu mon raccourci\n",
    "# avec cette incantation un peu magique, je passe à git log\n",
    "# les mêmes paramètres que je reçois de show-repo\n",
    "function show-repo() { git log --oneline --graph \"$@\"; }"
   ]
  },
  {
   "cell_type": "code",
   "execution_count": null,
   "metadata": {},
   "outputs": [],
   "source": [
    "show-repo HEAD^^^"
   ]
  },
  {
   "cell_type": "markdown",
   "metadata": {},
   "source": [
    "Il y a plein d'autres façons de désigner un commit, notamment bien sûr par son *sha-1*; mais bon ne nous égarons pas."
   ]
  },
  {
   "cell_type": "markdown",
   "metadata": {},
   "source": [
    "## repository *vs* espace de travail"
   ]
  },
  {
   "cell_type": "markdown",
   "metadata": {},
   "source": [
    "À ce stade, il est crucial de bien faire la différence entre :"
   ]
  },
  {
   "cell_type": "code",
   "execution_count": null,
   "metadata": {},
   "outputs": [],
   "source": [
    "# d'une part, les fichiers présents dans le répertoire de travail\n",
    "ls -l"
   ]
  },
  {
   "cell_type": "code",
   "execution_count": null,
   "metadata": {
    "cell_style": "center"
   },
   "outputs": [],
   "source": [
    "# et d'autre part, le contenu des commits\n",
    "git ls-tree HEAD"
   ]
  },
  {
   "cell_type": "code",
   "execution_count": null,
   "metadata": {
    "cell_style": "center"
   },
   "outputs": [],
   "source": [
    "# ainsi je peux regarder le contenu d'un commit précédent\n",
    "git ls-tree HEAD~3"
   ]
  },
  {
   "cell_type": "markdown",
   "metadata": {},
   "source": [
    "# résumé"
   ]
  },
  {
   "cell_type": "markdown",
   "metadata": {},
   "source": [
    "Les points à retenir:\n",
    "\n",
    "* on crée un repo avec `git init`\n",
    "* on crée un commit en deux temps:\n",
    "  * `git add` pour accumuler des changements dans le *stage* ou l'*index*\n",
    "  * `git commit` pour créer le commit\n",
    "  * le commit est créé le long de la branche courante\n",
    "* un repo est essentiellement un ensemble de commits\n",
    "  * liés entre eux par un graphe acyclique\n",
    "* un commit peut être identifié par\n",
    "  * le nom spécial `HEAD`\n",
    "  * ou un nom de branche\n",
    "  * ou un SHA-1\n",
    "  * ou comme l'ancêtre d'un commit avec les notations `HEAD^` ou `master~2`"
   ]
  }
 ],
 "metadata": {
  "kernelspec": {
   "display_name": "Bash",
   "language": "bash",
   "name": "bash"
  },
  "language_info": {
   "codemirror_mode": "shell",
   "file_extension": ".sh",
   "mimetype": "text/x-sh",
   "name": "bash"
  }
 },
 "nbformat": 4,
 "nbformat_minor": 2
}
