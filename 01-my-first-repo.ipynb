{
 "cells": [
  {
   "cell_type": "markdown",
   "metadata": {},
   "source": [
    "# Un notebook pour `bash`"
   ]
  },
  {
   "cell_type": "markdown",
   "metadata": {},
   "source": [
    "Ce document est un notebook Jupyter, mais au lieu de reposer sur un kernel IPython, il utilise un kernel 'bash'.\n",
    "\n",
    "Ce qui signifie, naturellement, que les cellules de code ne contiennent pas du Python mais des lignes de commandes pour le terminal."
   ]
  },
  {
   "cell_type": "code",
   "execution_count": null,
   "metadata": {
    "raises-exception": true,
    "tags": [
     "raises-exception"
    ]
   },
   "outputs": [],
   "source": [
    "# ceci ne va pas marcher\n",
    "print(\"je na parle pas le Python\") "
   ]
  },
  {
   "cell_type": "code",
   "execution_count": null,
   "metadata": {},
   "outputs": [],
   "source": [
    "# à la place il faut faire\n",
    "echo \"je ne parle pas le Python, je parle le bash\""
   ]
  },
  {
   "cell_type": "markdown",
   "metadata": {},
   "source": [
    "# Quelle version de git"
   ]
  },
  {
   "cell_type": "markdown",
   "metadata": {},
   "source": [
    "En fait toutes les commandes de git sont de cette forme\n",
    "\n",
    "```bash\n",
    "git subcommand [options] [arguments]\n",
    "```"
   ]
  },
  {
   "cell_type": "markdown",
   "metadata": {},
   "source": [
    "En particulier pour savoir la version de `git` qui est installée"
   ]
  },
  {
   "cell_type": "code",
   "execution_count": null,
   "metadata": {},
   "outputs": [],
   "source": [
    "git version"
   ]
  },
  {
   "cell_type": "markdown",
   "metadata": {},
   "source": [
    "# Créer un repo git"
   ]
  },
  {
   "cell_type": "markdown",
   "metadata": {},
   "source": [
    "La première commande à connaître est celle qui crée un repo vide; pour être sûr je vais partir d'un répertoire entièrement vide"
   ]
  },
  {
   "cell_type": "code",
   "execution_count": null,
   "metadata": {},
   "outputs": [],
   "source": [
    "# on détruit le répertoire 'my-first-repo' et tout ce qu'il y a dedans, s'il existe\n",
    "rm -rf my-first-repo\n",
    "# on le crée, vide\n",
    "mkdir my-first-repo\n",
    "# on va dedans\n",
    "cd my-first-repo"
   ]
  },
  {
   "cell_type": "markdown",
   "metadata": {},
   "source": [
    "Si on regarde bien partout (l'option ls -a montre tous les fichiers même ceux dont le nom commence par un point:"
   ]
  },
  {
   "cell_type": "code",
   "execution_count": null,
   "metadata": {},
   "outputs": [],
   "source": [
    "ls -a"
   ]
  },
  {
   "cell_type": "markdown",
   "metadata": {},
   "source": [
    "Pour transformer ce répertoire vide en repo git - vide aussi, donc :"
   ]
  },
  {
   "cell_type": "code",
   "execution_count": null,
   "metadata": {},
   "outputs": [],
   "source": [
    "git init"
   ]
  },
  {
   "cell_type": "markdown",
   "metadata": {},
   "source": [
    "Regardons à nouveau le répertoire; l'option `ls -F` montre le type des entrées"
   ]
  },
  {
   "cell_type": "code",
   "execution_count": null,
   "metadata": {},
   "outputs": [],
   "source": [
    "ls -aF"
   ]
  },
  {
   "cell_type": "markdown",
   "metadata": {},
   "source": [
    "Ici vous voyez que les trois entrées sont des répertoires :  \n",
    "`.` c'est le répertoire courant,  \n",
    "`..` est son répertoire père, et  \n",
    "`.git` est le répertoire de travail de `git`"
   ]
  },
  {
   "cell_type": "markdown",
   "metadata": {},
   "source": [
    "# Ne plus pensez à `.git`"
   ]
  },
  {
   "cell_type": "markdown",
   "metadata": {},
   "source": [
    "Maintenant que vou avez vu ce répertoire `.git`, on va s'efforcer de l'oublier entièrement, car ce n'est qu'un détail d'implémentation. Il est beaucoup plus important de se familiariser avec le modèle mental des objets de git, que de savoir comment tout ça est rangé sur le disque."
   ]
  },
  {
   "cell_type": "code",
   "execution_count": null,
   "metadata": {},
   "outputs": [],
   "source": [
    "# malgré la présence de ce directory .git\n",
    "# si on demande la liste des fichiers 'normaux' on voit un répertoire vide\n",
    "ls"
   ]
  },
  {
   "cell_type": "markdown",
   "metadata": {},
   "source": [
    "# Premier commit"
   ]
  },
  {
   "cell_type": "markdown",
   "metadata": {},
   "source": [
    "Les principaux objets dans ce modèle mental, ce sont les `commit`s. \n",
    "\n",
    "Comme mon répository est vide, je n'ai encore aucun commit :"
   ]
  },
  {
   "cell_type": "code",
   "execution_count": null,
   "metadata": {
    "tags": [
     "raises-exception"
    ]
   },
   "outputs": [],
   "source": [
    "# l'idiome en `|| :` est juste une astuce pour que le notebook \n",
    "# continue malgré l'erreur apparente que nous faisons ici intentionnellement\n",
    "git log"
   ]
  },
  {
   "cell_type": "markdown",
   "metadata": {},
   "source": [
    "Et pour illustrer cela, nous allons créer un premier commit; on reviendra plus tard sur les détails de ces commandes, mais pour le moment vous pouvez voir que sans grande surprise, on crée un commit avec la commande `git commit` :"
   ]
  },
  {
   "cell_type": "markdown",
   "metadata": {},
   "source": [
    "Pour essayer de définir un commit de manière formelle, un commit peut être vu comme :\n",
    "\n",
    "* l'ensemble des **contenus des fichiers** qui constituent une version,\n",
    "* un ou plusieurs **commits** dont ce commit **dépend**,\n",
    "* un commentaire en texte libre."
   ]
  },
  {
   "cell_type": "code",
   "execution_count": null,
   "metadata": {},
   "outputs": [],
   "source": [
    "# on crée un premier fichier 'README.md'\n",
    "# avec quelques lignes dedans, et une faute d'orthographe\n",
    "cat > README.md << EOF\n",
    "# lisez-moi\n",
    "\n",
    "Ce répository sert à ilustrer notre cours sur **git**\n",
    "EOF"
   ]
  },
  {
   "cell_type": "code",
   "execution_count": null,
   "metadata": {},
   "outputs": [],
   "source": [
    "# tout ce qui apparait entre les deux EOF se retrouve dans le fichier\n",
    "cat README.md"
   ]
  },
  {
   "cell_type": "code",
   "execution_count": null,
   "metadata": {},
   "outputs": [],
   "source": [
    "# pour créer un commit il faut d'abord dire ce qu'on veut mettre dedans\n",
    "git add README.md\n",
    "# et là on peut créer notre premier commit\n",
    "git commit -m 'mon premier commit'"
   ]
  },
  {
   "cell_type": "markdown",
   "metadata": {},
   "source": [
    "# Voir l'historique"
   ]
  },
  {
   "cell_type": "markdown",
   "metadata": {},
   "source": [
    "L'historique d'un répository git, c'est donc principalement la liste des commits :"
   ]
  },
  {
   "cell_type": "code",
   "execution_count": null,
   "metadata": {},
   "outputs": [],
   "source": [
    "git log"
   ]
  },
  {
   "cell_type": "markdown",
   "metadata": {},
   "source": [
    "Signalons tout de suite une présentation qui sera plus pratique, où chaque commit fait l'objet d'une ligne du rapport"
   ]
  },
  {
   "cell_type": "code",
   "execution_count": null,
   "metadata": {},
   "outputs": [],
   "source": [
    "git log --pretty=oneline"
   ]
  },
  {
   "cell_type": "markdown",
   "metadata": {},
   "source": [
    "# Un second commit"
   ]
  },
  {
   "cell_type": "markdown",
   "metadata": {},
   "source": [
    "Utilisons la même technique pour créer un deuxième commit; cette fois nous allons créer un deuxième fichier `LICENSE`, et également modifier le premier `README.md`."
   ]
  },
  {
   "cell_type": "code",
   "execution_count": null,
   "metadata": {},
   "outputs": [],
   "source": [
    "# lorsque le fichier ne fait qu'une seule ligne, pas besoin de EOF\n",
    "echo 'Licence Creative Commons BY-NC-ND 4.0' > LICENSE\n"
   ]
  },
  {
   "cell_type": "code",
   "execution_count": null,
   "metadata": {},
   "outputs": [],
   "source": [
    "# voici le contenu du fichier LICENSE\n",
    "cat LICENSE"
   ]
  },
  {
   "cell_type": "code",
   "execution_count": null,
   "metadata": {},
   "outputs": [],
   "source": [
    "# comme on veut que ce nouveau fichier fasse partie du deuxième commit, on l'ajoute\n",
    "git add LICENSE\n"
   ]
  },
  {
   "cell_type": "code",
   "execution_count": null,
   "metadata": {},
   "outputs": [],
   "source": [
    "git status"
   ]
  },
  {
   "cell_type": "code",
   "execution_count": null,
   "metadata": {},
   "outputs": [],
   "source": [
    "sed -i -e s,ilustrer,illustrer, README.md"
   ]
  },
  {
   "cell_type": "code",
   "execution_count": null,
   "metadata": {},
   "outputs": [],
   "source": [
    "git status\n"
   ]
  },
  {
   "cell_type": "code",
   "execution_count": null,
   "metadata": {},
   "outputs": [],
   "source": []
  }
 ],
 "metadata": {
  "kernelspec": {
   "display_name": "Bash",
   "language": "bash",
   "name": "bash"
  },
  "language_info": {
   "codemirror_mode": "shell",
   "file_extension": ".sh",
   "mimetype": "text/x-sh",
   "name": "bash"
  }
 },
 "nbformat": 4,
 "nbformat_minor": 2
}
