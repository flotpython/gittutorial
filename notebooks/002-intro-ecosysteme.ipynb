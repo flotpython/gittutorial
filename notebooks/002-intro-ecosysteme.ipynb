{
 "cells": [
  {
   "cell_type": "markdown",
   "metadata": {
    "slideshow": {
     "slide_type": "slide"
    }
   },
   "source": [
    "<div class=\"licence\">\n",
    "<span>Licence CC BY-NC-ND</span>\n",
    "<span>Thierry Parmentelat</span>\n",
    "<span><img src=\"media/inria-25-alpha.png\" /></span>\n",
    "</div>"
   ]
  },
  {
   "cell_type": "markdown",
   "metadata": {
    "slideshow": {
     "slide_type": ""
    }
   },
   "source": [
    "# écosystème git"
   ]
  },
  {
   "cell_type": "markdown",
   "metadata": {
    "slideshow": {
     "slide_type": "slide"
    }
   },
   "source": [
    "## propos"
   ]
  },
  {
   "cell_type": "markdown",
   "metadata": {},
   "source": [
    "* le système `git` est un *SCM* - Source Code Management tool\n",
    "* introduit vers 2005 par Linus Torvalds, au départ pour le développement de linux\n",
    "* s'inscrit dans une histoire\n",
    "  * sccs (70'), rcs (80'), cvs(90'), subversion (2004), git(2007) ... ??"
   ]
  },
  {
   "cell_type": "markdown",
   "metadata": {},
   "source": [
    "tous ces systèmes visent à la même chose :\n",
    "\n",
    "> ***s'y retrouver dans la gestion des versions d'un logiciel***"
   ]
  },
  {
   "cell_type": "markdown",
   "metadata": {
    "slideshow": {
     "slide_type": "slide"
    }
   },
   "source": [
    "## mais pas que..."
   ]
  },
  {
   "cell_type": "markdown",
   "metadata": {},
   "source": [
    "* **lois**: gestion du corpus de lois: le Council de Washington DC\n",
    "  * https://github.com/DCCouncil/dc-law-html\n",
    "* **open-data**: \n",
    "  * https://github.com/collections/open-data\n",
    "\n",
    "et en réalité tous ces outils sont potentiellement utiles  \n",
    "**pour pratiquement tout ce qui est numérique** \n",
    "\n",
    "même si clairement ils s'appliquent le mieux  \n",
    "aux **contenus de nature textuelle**"
   ]
  },
  {
   "cell_type": "markdown",
   "metadata": {
    "slideshow": {
     "slide_type": "slide"
    }
   },
   "source": [
    "## en pratique : pour soi"
   ]
  },
  {
   "cell_type": "markdown",
   "metadata": {
    "slideshow": {
     "slide_type": ""
    }
   },
   "source": [
    "#### même si vous travaillez seul\n",
    "\n",
    "* il est possible - et recommandé - d'utiliser `git`  \n",
    "  sur un dépôt uniquement local  \n",
    "  (i.e. même sans github/gitlab)\n",
    "\n",
    "* identifier les versions qui fonctionnent\n",
    "* trouver plus facilement les régressions\n",
    "  * en fait les tests **font partie** du code\n",
    "* travailler sur plusieurs choses en parallèle"
   ]
  },
  {
   "cell_type": "markdown",
   "metadata": {
    "slideshow": {
     "slide_type": "slide"
    }
   },
   "source": [
    "## en pratique : en équipe"
   ]
  },
  {
   "cell_type": "markdown",
   "metadata": {
    "slideshow": {
     "slide_type": ""
    }
   },
   "source": [
    "* via un repo distant (e.g. github)\n",
    "* chacun peut modifier tout le code\n",
    "  * `git` se charge de l'intégration des modifications\n",
    "* permettre un travail très fluide en petite équipe\n",
    "* et permet aussi de travailler en Open Source  \n",
    "  où on ne connaît pas forcément les uns les autres *a priori*"
   ]
  },
  {
   "cell_type": "markdown",
   "metadata": {
    "slideshow": {
     "slide_type": "slide"
    }
   },
   "source": [
    "## plusieurs étages"
   ]
  },
  {
   "cell_type": "markdown",
   "metadata": {},
   "source": [
    "il faut distinguer  \n",
    "\n",
    "* le socle technologique `git` pur, open-source, utilisable :\n",
    "  * en local sur un seul ordi\n",
    "  * ou en réseau au dessus de n'importe quelle infra (petite ou grosse, publique ou privée)\n",
    "\n",
    "* et les plateformes publiques : \n",
    "<htps://github.com>,\n",
    "<https://gitlab.com>,\n",
    "<https://bitbucket.org> \n",
    "\n",
    "  * qui sont construites **au-dessus** de la couche `git`  \n",
    "    par ex. synchroniser un contenu local avec github\n",
    "\n",
    "  * et offrents des services **additionels**  \n",
    "    par ex. 'pull requests` "
   ]
  },
  {
   "cell_type": "markdown",
   "metadata": {
    "slideshow": {
     "slide_type": "slide"
    }
   },
   "source": [
    "![](media/archi-plain-git-vs-extras.png)"
   ]
  },
  {
   "cell_type": "markdown",
   "metadata": {
    "slideshow": {
     "slide_type": "slide"
    }
   },
   "source": [
    "## notre sujet aujourd'hui\n",
    "\n",
    "###  apprendre à utiliser git en novice \n",
    "\n",
    "* présenter le modèle mental:\n",
    "  * repo / espace de travail / index \n",
    "  * commit / branche / tag   \n",
    "\n",
    "### se familiariser avec les plateformes\n",
    "\n",
    "* workflow usuel\n",
    "  * forks et pull requests\n",
    "* fonctionnalités supplémentaires\n",
    "  * issues / CI"
   ]
  },
  {
   "cell_type": "markdown",
   "metadata": {
    "slideshow": {
     "slide_type": "slide"
    }
   },
   "source": [
    "## architecture centralisée ou pas"
   ]
  },
  {
   "cell_type": "markdown",
   "metadata": {},
   "source": [
    "* le précédent système - baptisé `subversion` - était basé sur une architecture *centralisée*\n",
    "  * nécessaire de déployer un **noeud central**\n",
    "  * qui se charge de consolider tous les développements\n",
    "  * et qui donc est une *référence*\n",
    "  * mais cela induit beaucoup de lourdeur "
   ]
  },
  {
   "cell_type": "markdown",
   "metadata": {
    "cell_style": "center",
    "slideshow": {
     "slide_type": "fragment"
    }
   },
   "source": [
    "### architecture centralisée: forcément en étoile\n",
    "\n",
    "<center><img src=\"media/archi-star.png\"></center>"
   ]
  },
  {
   "cell_type": "markdown",
   "metadata": {
    "slideshow": {
     "slide_type": "slide"
    }
   },
   "source": [
    "## `git` permet des architectures décentralisées\n",
    "\n",
    "* `git` a pris le contrepied total de cette approche\n",
    "  * on peut commencer dans son coin\n",
    "  * et créer ensuite des liens de *peering* entre deux repos \n",
    "  * de façon à implémenter des workflows aussi simples ou complexes que nécessaire"
   ]
  },
  {
   "cell_type": "markdown",
   "metadata": {
    "cell_style": "split",
    "slideshow": {
     "slide_type": "slide"
    }
   },
   "source": [
    "un réflexe: git en local\n",
    "\n",
    "![](media/archi-gh-1.png)"
   ]
  },
  {
   "cell_type": "markdown",
   "metadata": {
    "cell_style": "split",
    "slideshow": {
     "slide_type": "fragment"
    }
   },
   "source": [
    "juste publier\n",
    "\n",
    "![](media/archi-gh-2.png)"
   ]
  },
  {
   "cell_type": "markdown",
   "metadata": {
    "cell_style": "split",
    "slideshow": {
     "slide_type": "fragment"
    }
   },
   "source": [
    "une petite équipe (on se connait)\n",
    "![](media/archi-gh-3.png)"
   ]
  },
  {
   "cell_type": "markdown",
   "metadata": {
    "cell_style": "split",
    "slideshow": {
     "slide_type": "fragment"
    }
   },
   "source": [
    "Open Source\n",
    "\n",
    "![](media/archi-gh-4.png)"
   ]
  },
  {
   "cell_type": "markdown",
   "metadata": {
    "cell_style": "center",
    "slideshow": {
     "slide_type": "slide"
    }
   },
   "source": [
    "### codéveloppement\n",
    "\n",
    "<img src=\"media/archi-codev.png\">"
   ]
  },
  {
   "cell_type": "markdown",
   "metadata": {
    "slideshow": {
     "slide_type": "slide"
    }
   },
   "source": [
    "## espace de travail / index / repo"
   ]
  },
  {
   "cell_type": "markdown",
   "metadata": {},
   "source": [
    "en réalité lorsque vous créez un repo git **localement** sur votre ordi:\n",
    "\n",
    "* un espace de travail: répertoires et fichiers\n",
    "* un index: changements en préparation pour le prochain commit\n",
    "* repository: ensemble de commits"
   ]
  },
  {
   "cell_type": "markdown",
   "metadata": {},
   "source": [
    "![](media/repo-contents-1-three-parts.png)"
   ]
  },
  {
   "cell_type": "markdown",
   "metadata": {
    "slideshow": {
     "slide_type": "slide"
    }
   },
   "source": [
    "## repo 'nu' *vs* repo de travail"
   ]
  },
  {
   "cell_type": "markdown",
   "metadata": {
    "cell_style": "split"
   },
   "source": [
    "* un repo 'usuel' contient donc trois parties\n",
    "  * espace de travail\n",
    "  * index\n",
    "  * repo à proprement parler\n",
    "* un repo 'hébergé' \n",
    "  * par ex. sur *github.com*\n",
    "  * est dit nu (*bare repo*)\n",
    "* lorsqu'on 'connecte' deux repos\n",
    "  * comme par exemple avec un auteur\n",
    "  * qui publie sur github"
   ]
  },
  {
   "cell_type": "markdown",
   "metadata": {
    "cell_style": "split"
   },
   "source": [
    "<img src=\"media/archi-gh-2.png\" width=\"80px\" />"
   ]
  },
  {
   "cell_type": "markdown",
   "metadata": {
    "cell_style": "split",
    "slideshow": {
     "slide_type": ""
    }
   },
   "source": [
    "en réalité il se passe ceci:\n",
    "\n",
    "![](media/repo-contents-2-repo-sync-to-repo.png)"
   ]
  },
  {
   "cell_type": "markdown",
   "metadata": {
    "slideshow": {
     "slide_type": "slide"
    }
   },
   "source": [
    "## deux familles de commandes"
   ]
  },
  {
   "cell_type": "markdown",
   "metadata": {
    "cell_style": "split"
   },
   "source": [
    "#### commandes *locales*\n",
    "\n",
    "* ne se préoccupent pas d'un éventuel repo distant\n",
    "* on va commencer par là:\n",
    "\n",
    "* créer des commits\n",
    "  * `init`\n",
    "  * `log`\n",
    "  * `add`\n",
    "  * `commit`\n",
    "\n",
    "* gérer les branches\n",
    "  * `checkout`\n",
    "  * `merge`\n",
    "  * `branch`"
   ]
  },
  {
   "cell_type": "markdown",
   "metadata": {
    "cell_style": "split"
   },
   "source": [
    "#### commandes *distantes*\n",
    "\n",
    "* dans un deuxième temps\n",
    "* pour se synchroniser avec un autre repo \n",
    "\n",
    "* inspecter\n",
    "  * `fetch`\n",
    "  * `remote`\n",
    "  \n",
    "* synchroniser\n",
    "  * `clone`\n",
    "  * `pull`\n",
    "  * `push`"
   ]
  },
  {
   "cell_type": "markdown",
   "metadata": {
    "slideshow": {
     "slide_type": "slide"
    }
   },
   "source": [
    "## pour en savoir plus\n",
    "\n",
    "* livre \"Pro Git\" par Scott Chacon et Ben Straub\n",
    "  * https://git-scm.com/book/en/v2\n",
    "  * aussi en français https://git-scm.com/book/fr/v2"
   ]
  }
 ],
 "metadata": {
  "celltoolbar": "Slideshow",
  "kernelspec": {
   "display_name": "Calysto Bash",
   "language": "bash",
   "name": "calysto_bash"
  },
  "language_info": {
   "file_extension": ".sh",
   "help_links": [
    {
     "text": "MetaKernel Magics",
     "url": "https://metakernel.readthedocs.io/en/latest/source/README.html"
    }
   ],
   "mimetype": "text/x-sh",
   "name": "bash",
   "version": "0.2.1"
  },
  "notebookname": "intro - architecture",
  "rise": {
   "autolaunch": true,
   "slideNumber": "c/t",
   "start_slideshow_at": "selected",
   "theme": "sky",
   "transition": "cube"
  },
  "version": "1.0"
 },
 "nbformat": 4,
 "nbformat_minor": 2
}
