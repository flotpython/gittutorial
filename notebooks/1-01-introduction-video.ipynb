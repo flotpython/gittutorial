{
 "cells": [
  {
   "cell_type": "markdown",
   "metadata": {
    "slideshow": {
     "slide_type": "slide"
    }
   },
   "source": [
    "<div class=\"licence\">\n",
    "<span>Licence CC BY-NC-ND</span>\n",
    "<span>Thierry Parmentelat</span>\n",
    "<span><img src=\"media/inria-25-alpha.png\" /></span>\n",
    "</div>"
   ]
  },
  {
   "cell_type": "markdown",
   "metadata": {},
   "source": [
    "# vidéo et intro à `git`"
   ]
  },
  {
   "cell_type": "markdown",
   "metadata": {
    "slideshow": {
     "slide_type": "slide"
    }
   },
   "source": [
    "## version html\n",
    "\n",
    "pour suivre ce cours en version statique :\n",
    "\n",
    "https://flotpython-gittutorial.readthedocs.io/"
   ]
  },
  {
   "cell_type": "markdown",
   "metadata": {
    "slideshow": {
     "slide_type": "slide"
    }
   },
   "source": [
    "## vidéo"
   ]
  },
  {
   "cell_type": "markdown",
   "metadata": {},
   "source": [
    "pour ceux qui n'ont aucune idée :  [vidéo de survol](https://www.youtube.com/watch?v=WPK3axteMnI)  \n",
    "une introduction rapide (7')  \n",
    "tour d'horizon en deux parties\n",
    "\n",
    "* utilisation en local : création d'une branche, merge\n",
    "* exposition dans github.com, et partage avec un collaborateur"
   ]
  },
  {
   "cell_type": "markdown",
   "metadata": {
    "slideshow": {
     "slide_type": "notes"
    }
   },
   "source": [
    "La vidéo introductive montre, à très haute altitude, comment git peut être utilisé dans un workflow très simplifié mais assez typique. Naturellement toutes ces notions sont reprises par la suite, il s'agit uniquement de fixer les idées, notamment pour les gens qui n'ont aucune idée a priori sur cet outil, et qui pourraient avoir du mal à en voir la finalité."
   ]
  },
  {
   "cell_type": "markdown",
   "metadata": {
    "slideshow": {
     "slide_type": "slide"
    }
   },
   "source": [
    "## quand utiliser git ?"
   ]
  },
  {
   "cell_type": "markdown",
   "metadata": {},
   "source": [
    "* on peut utiliser git **en local**\n",
    "* on peut utiliser git si on **travaille seul**\n",
    "* on peut ensuite **passer à l'échelle** si/comme nécessaire\n",
    "* bref, ça devient un réflexe"
   ]
  },
  {
   "cell_type": "markdown",
   "metadata": {
    "slideshow": {
     "slide_type": "notes"
    }
   },
   "source": [
    "Il n'est pas nécessaire d'utiliser `github` ou une autre infrastructure pour commencer avec `git`. Au contraire il semble préférable de commencer à utiliser *git* localement pour bien se familiariser avec les concepts centraux que sont **le commit**, **l'index**, **la branche**, **le remote**, et bien maitriser les différences pendantes. Il est très facile, à partir d'un repo local, de s'étendre à `github` ou autre.\n",
    "\n",
    "De la même façon il n'est pas nécessaire d'attendre de réaliser un projet en équipe pour bénéficier des avantages que procure un système comme *git*."
   ]
  },
  {
   "cell_type": "markdown",
   "metadata": {
    "slideshow": {
     "slide_type": "slide"
    }
   },
   "source": [
    "## avec git on peut"
   ]
  },
  {
   "cell_type": "markdown",
   "metadata": {
    "slideshow": {
     "slide_type": ""
    }
   },
   "source": [
    "* conserver une trace structurée de tous les changements\n",
    "* revenir en arrière\n",
    "  * sur n'importe quel **commit**\n",
    "* découper le travail en problèmes indépendants\n",
    "  * en créant autant de **branches** que nécessaire\n",
    "* intégrer (**merge / fusionner**) facilement \n",
    "  * une fois que tous les morceaux sont terminés"
   ]
  },
  {
   "cell_type": "markdown",
   "metadata": {
    "slideshow": {
     "slide_type": "notes"
    }
   },
   "source": [
    "La finalité de `git` est de stocker l'historique des changements sous la forme d'un ensemble de *commits*, sur lequel on reviendra longuement naturellement. À ce stade on peut noter toutefois que le travail se fait le long de *branches*, qui le plus souvent évoluent en parallèle et sont ensuite fusionnées. Tout ceci a déjà un intérêt même lorsqu'on travaille seul."
   ]
  },
  {
   "cell_type": "markdown",
   "metadata": {
    "slideshow": {
     "slide_type": "slide"
    }
   },
   "source": [
    "## avec git on peut"
   ]
  },
  {
   "cell_type": "markdown",
   "metadata": {},
   "source": [
    "* travailler à plusieurs\n",
    "  * sans dépendre les uns des autres\n",
    "  * chacun sa **branche**\n",
    "* facilement synchroniser deux dépôts distants\n",
    "  * à base de `clone`, `push` et `pull`"
   ]
  },
  {
   "cell_type": "markdown",
   "metadata": {
    "slideshow": {
     "slide_type": "notes"
    }
   },
   "source": [
    "Mais `git` est aussi et avant tout conçu pour faciliter le travail collaboratif, que ce soit dans le cadre d'une petite équipe ramassée, ou pour de très gros projets avec des contributeurs nombreux et qui ne se connaissent pas forcément au départ."
   ]
  },
  {
   "cell_type": "markdown",
   "metadata": {
    "slideshow": {
     "slide_type": "slide"
    }
   },
   "source": [
    "## les limites de git"
   ]
  },
  {
   "cell_type": "markdown",
   "metadata": {},
   "source": [
    "* lorsqu'on fusionne (merge) deux branches\n",
    "  * il faut pouvoir calculer l'union de plusieurs changements\n",
    "* du coup\n",
    "  * OK sur du contenu textuel\n",
    "  * mais pas dispo sur les formats plus exotiques  \n",
    "    (e.g. vidéo, audio, ...)"
   ]
  },
  {
   "cell_type": "markdown",
   "metadata": {
    "slideshow": {
     "slide_type": "notes"
    }
   },
   "source": [
    "Il est possible de verser dans `git` du contenu binaire comme du pdf, des images, du son, de la vidéo, mais ses capacités pour fusionner de tels documents sont pauvres. \n",
    "\n",
    "Le plus souvent, les projets qui utilisent `git` sont de nature très majoritairement textuelle; on y trouve fréquemment des artefacts, comme des images utilisées comme illustrations dans la documentation, qui sont du binaire, mais sur lesquels on ne sait pas fusionner les changements. "
   ]
  },
  {
   "cell_type": "markdown",
   "metadata": {
    "slideshow": {
     "slide_type": "slide"
    }
   },
   "source": [
    "## sachez aussi que"
   ]
  },
  {
   "cell_type": "markdown",
   "metadata": {},
   "source": [
    "* on a utilisé un repo `github.com` **public** parce que c'est pratique\n",
    "  * on peut facilement créer des repos **privés**\n",
    "* on peut facilement déployer sa propre infra \n",
    "  * si on a des données plus sensibles\n",
    "* l'aspect confidentialité n'est pas un obstacle"
   ]
  },
  {
   "cell_type": "markdown",
   "metadata": {
    "slideshow": {
     "slide_type": "notes"
    }
   },
   "source": [
    "Les trois gros joueurs - github, gitlab et bitbucket - se démènent naturellement pour attirer à eux la plus grosse part de marché. \n",
    "\n",
    "Avant le début 2019, `github` réservait les repos privés aux utilisateurs payants. Depuis cette date cette limitation est tombée, chacun peut donc créer autant repos privés que nécessaire. \n",
    "\n",
    "L'angle d'attaque de `gitlab` est de proposer une solution facilement déployable sur une infra privée.\n",
    "\n",
    "Le point important ici est que l'écosystème git propose des solutions pour tous les besoins en termes de confidentialité."
   ]
  }
 ],
 "metadata": {
  "celltoolbar": "Slideshow",
  "ipub": {
   "sphinx": {
    "toggle_input": false,
    "toggle_input_all": false,
    "toggle_output": false,
    "toggle_output_all": false
   },
   "toc": true
  },
  "kernelspec": {
   "display_name": "Calysto Bash",
   "language": "bash",
   "name": "calysto_bash"
  },
  "language_info": {
   "file_extension": ".sh",
   "help_links": [
    {
     "text": "MetaKernel Magics",
     "url": "https://metakernel.readthedocs.io/en/latest/source/README.html"
    }
   ],
   "mimetype": "text/x-sh",
   "name": "bash",
   "version": "0.2.1"
  },
  "notebookname": "vidéo et intro",
  "rise": {
   "autolaunch": true,
   "slideNumber": "c/t",
   "start_slideshow_at": "selected",
   "theme": "sky",
   "transition": "cube"
  },
  "version": "1.0"
 },
 "nbformat": 4,
 "nbformat_minor": 4
}
