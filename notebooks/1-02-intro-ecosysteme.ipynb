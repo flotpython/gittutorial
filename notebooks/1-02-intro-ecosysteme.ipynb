{
 "cells": [
  {
   "cell_type": "markdown",
   "metadata": {
    "slideshow": {
     "slide_type": "slide"
    }
   },
   "source": [
    "<div class=\"licence\">\n",
    "<span>Licence CC BY-NC-ND</span>\n",
    "<span>Thierry Parmentelat</span>\n",
    "<span><img src=\"media/inria-25-alpha.png\" /></span>\n",
    "</div>"
   ]
  },
  {
   "cell_type": "markdown",
   "metadata": {
    "slideshow": {
     "slide_type": ""
    }
   },
   "source": [
    "# écosystème git"
   ]
  },
  {
   "cell_type": "markdown",
   "metadata": {
    "slideshow": {
     "slide_type": "slide"
    }
   },
   "source": [
    "## propos"
   ]
  },
  {
   "cell_type": "markdown",
   "metadata": {},
   "source": [
    "* le système `git` est un *SCM* - Source Code Management tool\n",
    "* introduit vers 2005 par Linus Torvalds, au départ pour le développement de Linux\n",
    "* s'inscrit dans une histoire\n",
    "  * sccs (70'), rcs (80'), cvs(90'), subversion (2004), git(2007) ... ??"
   ]
  },
  {
   "cell_type": "markdown",
   "metadata": {},
   "source": [
    "tous ces systèmes visent à la même chose :\n",
    "\n",
    "> ***s'y retrouver dans la gestion des versions d'un logiciel***"
   ]
  },
  {
   "cell_type": "markdown",
   "metadata": {
    "slideshow": {
     "slide_type": "slide"
    }
   },
   "source": [
    "## mais pas que..."
   ]
  },
  {
   "cell_type": "markdown",
   "metadata": {},
   "source": [
    "* **lois**: gestion du corpus de lois: le Council de Washington DC\n",
    "  * https://github.com/DCCouncil/dc-law-html\n",
    "* **open-data**: \n",
    "  * https://github.com/collections/open-data\n",
    "\n",
    "et en réalité tous ces outils sont potentiellement utiles  \n",
    "**pour pratiquement tout ce qui est numérique** \n",
    "\n",
    "même si clairement ils s'appliquent le mieux  \n",
    "aux **contenus de nature textuelle**"
   ]
  },
  {
   "cell_type": "markdown",
   "metadata": {
    "slideshow": {
     "slide_type": "notes"
    }
   },
   "source": [
    "Le développement de logiciels présente naturellement quelques spécificités; mais les outils de la suite `git` sont très adaptés à tous les projets collaboratifs visant à produire du contenu digital de nature principalement textuelle. "
   ]
  },
  {
   "cell_type": "markdown",
   "metadata": {
    "slideshow": {
     "slide_type": "slide"
    }
   },
   "source": [
    "## en pratique : pour soi"
   ]
  },
  {
   "cell_type": "markdown",
   "metadata": {
    "slideshow": {
     "slide_type": ""
    }
   },
   "source": [
    "#### même si vous travaillez seul\n",
    "\n",
    "* il est possible - et recommandé - d'utiliser `git`  \n",
    "  sur un dépôt uniquement local  \n",
    "  (i.e. même sans github/gitlab)\n",
    "* travailler sur plusieurs choses en parallèle\n",
    "* identifier les versions qui fonctionnent\n",
    "  * trouver plus facilement les régressions\n",
    "  * en fait les tests **font partie** du code"
   ]
  },
  {
   "cell_type": "markdown",
   "metadata": {
    "slideshow": {
     "slide_type": "notes"
    }
   },
   "source": [
    "Un premier usage consiste à travailler le plus possible sur de petits problèmes indépendants, chacun sur sa branche, ce qui rend le travail plus simple, sachant que la fusion des branches est prise en charge par `git`.\n",
    "\n",
    "Un autre usage consiste à embarquer la suite de tests avec le code; de cette manière on peut automatiquement déclencher les tests sur chaque nouveau commit."
   ]
  },
  {
   "cell_type": "markdown",
   "metadata": {
    "slideshow": {
     "slide_type": "slide"
    }
   },
   "source": [
    "## en pratique : en équipe"
   ]
  },
  {
   "cell_type": "markdown",
   "metadata": {
    "slideshow": {
     "slide_type": ""
    }
   },
   "source": [
    "* via un repo distant (e.g. github)\n",
    "* chacun peut modifier tout le code\n",
    "  * `git` se charge de l'intégration des modifications\n",
    "* permettre un travail très fluide en petite équipe\n",
    "* et permet aussi de travailler en Open Source  \n",
    "  où on ne connaît pas forcément les uns les autres *a priori*"
   ]
  },
  {
   "cell_type": "markdown",
   "metadata": {
    "slideshow": {
     "slide_type": "notes"
    }
   },
   "source": [
    "En exposant un repo sur une infrastructure accessible par tous, on crée un point d'échange qui permet le travail en groupe. \n",
    "\n",
    "On verra que l'architecture de `git` est extrêment flexible, et permet de faire face à tous les cas de figure."
   ]
  },
  {
   "cell_type": "markdown",
   "metadata": {
    "slideshow": {
     "slide_type": "slide"
    }
   },
   "source": [
    "## plusieurs étages"
   ]
  },
  {
   "cell_type": "markdown",
   "metadata": {},
   "source": [
    "il faut bien distinguer  \n",
    "\n",
    "* le socle technologique `git` pur, open-source, utilisable :\n",
    "  * en local sur un seul ordi\n",
    "  * ou en réseau au dessus de n'importe quelle infra (petite ou grosse, publique ou privée)\n",
    "\n",
    "* et les plateformes publiques : \n",
    "<htps://github.com>,\n",
    "<https://gitlab.com>,\n",
    "<https://bitbucket.org> \n",
    "\n",
    "  * qui sont construites **au-dessus** de la couche `git`  \n",
    "    par ex. synchroniser un contenu local avec github\n",
    "\n",
    "  * et offrents des services **additionels**  \n",
    "    par ex. 'pull requests` "
   ]
  },
  {
   "cell_type": "markdown",
   "metadata": {
    "slideshow": {
     "slide_type": "slide"
    }
   },
   "source": [
    "![](media/archi-plain-git-vs-extras.png)"
   ]
  },
  {
   "cell_type": "markdown",
   "metadata": {
    "slideshow": {
     "slide_type": "notes"
    }
   },
   "source": [
    "Une plateforme comme `github` offre à chaque projet deux types de services :\n",
    "\n",
    "* sous le capot, elle utilise naturellement le système `git` de manière totalement native;\n",
    "* en supplément, elle offre des traits supplémentaires, dans une dimension que nous qualifions de *sociale*.\n",
    "\n",
    "Les deux étages sont très largement indépendants; en allant sur github et en n'utilisant pas les traits additionnels, on reste libre de partir ensuite sur gitlab; même si ça ne présente pas un grand intérêt, pour bien comprendre, on peut même avoir le même repo présent à la fois sur github et gitlab."
   ]
  },
  {
   "cell_type": "markdown",
   "metadata": {
    "slideshow": {
     "slide_type": "slide"
    }
   },
   "source": [
    "## notre sujet\n",
    "\n",
    "apprendre à utiliser git en novice \n",
    "\n",
    "* présenter le modèle mental:\n",
    "  * repo / espace de travail / index \n",
    "  * commit / branche / tag   \n",
    "\n",
    "se familiariser avec les plateformes\n",
    "\n",
    "* workflow usuel\n",
    "  * forks et pull requests\n",
    "* fonctionnalités supplémentaires\n",
    "  * issues / CI"
   ]
  },
  {
   "cell_type": "markdown",
   "metadata": {
    "slideshow": {
     "slide_type": "notes"
    }
   },
   "source": [
    "Nous allons principalement étudier la couche 'pure git', car c'est ce qui est le plus délicat à bien maitriser; en fin de cours nous verrons rapidement les traits additionnels proposés par github."
   ]
  },
  {
   "cell_type": "markdown",
   "metadata": {
    "slideshow": {
     "slide_type": "slide"
    }
   },
   "source": [
    "## architecture centralisée ou pas"
   ]
  },
  {
   "cell_type": "markdown",
   "metadata": {},
   "source": [
    "le précédent système - baptisé `subversion` -  \n",
    "était basé sur une architecture *centralisée*\n",
    "\n",
    "  * nécessaire de déployer un **noeud central**\n",
    "  * qui se charge de consolider tous les développements\n",
    "  * et qui donc est une *référence*\n",
    "  * mais cela induit beaucoup de lourdeur "
   ]
  },
  {
   "cell_type": "markdown",
   "metadata": {
    "cell_style": "center",
    "slideshow": {
     "slide_type": "fragment"
    }
   },
   "source": [
    "architecture centralisée: forcément en étoile\n",
    "\n",
    "<center><img src=\"media/archi-star.png\"></center>"
   ]
  },
  {
   "cell_type": "markdown",
   "metadata": {
    "slideshow": {
     "slide_type": "slide"
    }
   },
   "source": [
    "## `git` permet des architectures décentralisées\n",
    "\n",
    "* `git` a pris le contrepied total de cette approche\n",
    "  * on peut commencer dans son coin\n",
    "  * et créer ensuite des liens de *peering* entre deux repos \n",
    "  * de façon à implémenter des workflows aussi simples ou complexes que nécessaire"
   ]
  },
  {
   "cell_type": "markdown",
   "metadata": {
    "cell_style": "split",
    "slideshow": {
     "slide_type": "slide"
    }
   },
   "source": [
    "un réflexe: git en local\n",
    "\n",
    "![](media/archi-gh-1.png)"
   ]
  },
  {
   "cell_type": "markdown",
   "metadata": {
    "cell_style": "center",
    "slideshow": {
     "slide_type": "notes"
    }
   },
   "source": [
    "Ceci correspond naturellement à une personne utilisant git en local sur son ordinateur."
   ]
  },
  {
   "cell_type": "markdown",
   "metadata": {
    "cell_style": "split",
    "slideshow": {
     "slide_type": "fragment"
    }
   },
   "source": [
    "juste publier\n",
    "\n",
    "![](media/archi-gh-2.png)"
   ]
  },
  {
   "cell_type": "markdown",
   "metadata": {
    "slideshow": {
     "slide_type": "notes"
    }
   },
   "source": [
    "Ici notre auteur a publié son repo sur github; la coulaur gris clair indique que sur github, il s'agit d'un *bare* repo, un repo 'nu', on en reparlera bien sûr."
   ]
  },
  {
   "cell_type": "markdown",
   "metadata": {
    "cell_style": "split",
    "slideshow": {
     "slide_type": "fragment"
    }
   },
   "source": [
    "une petite équipe (on se connait)\n",
    "![](media/archi-gh-3.png)"
   ]
  },
  {
   "cell_type": "markdown",
   "metadata": {
    "slideshow": {
     "slide_type": "notes"
    }
   },
   "source": [
    "Maintenant que le premier auteur a publié sur github, un de ses amis peut accéder a ce repo, et du coup se créer un troisième repo sur son ordinateur; les échanges entre les deux personnes se font tous au travers de github."
   ]
  },
  {
   "cell_type": "markdown",
   "metadata": {
    "cell_style": "split",
    "slideshow": {
     "slide_type": "fragment"
    }
   },
   "source": [
    "Open Source\n",
    "\n",
    "![](media/archi-gh-4.png)"
   ]
  },
  {
   "cell_type": "markdown",
   "metadata": {
    "slideshow": {
     "slide_type": "notes"
    }
   },
   "source": [
    "Dans le cas ou le contributeur est inconnu de l'auteur, le contributeur n'a **pas les droits d'accès en écriture** dans le repo `github`; pour pouvoir malgré tout proposer des améliorations à l'auteur, le contributeur se crée un *fork* où il aura cette fois le droit d'écrire; le fork est simplement un quatrième repo, toujours sur github, dans lequel le contributeur peut exposer ses propositions. On reparlera de ce cas d'usage vers la fin du cours."
   ]
  },
  {
   "cell_type": "markdown",
   "metadata": {
    "cell_style": "center",
    "slideshow": {
     "slide_type": "slide"
    }
   },
   "source": [
    "### codéveloppement\n",
    "\n",
    "<img src=\"media/archi-codev.png\">"
   ]
  },
  {
   "cell_type": "markdown",
   "metadata": {
    "slideshow": {
     "slide_type": "notes"
    }
   },
   "source": [
    "Dans cette configuration, totalement différente, on a illustré le cas de deux équipes, une aux USA et une en France, qui collaborent sur le même sujet mais veulent préserver leur indépendance, ou en tous cas intégrer - ou pas - les idées de l'uutre équipe, mais chacun à son rythme. Pour un tel scénario, on peut imaginer une architecture avec de chaque coté un dépôt d'intégration, et un lien entre ces deux repos pour permettre d'aller - plus ou moins automatiquement selon les besoins - adopter les nouveautés de l'autre équipe."
   ]
  },
  {
   "cell_type": "markdown",
   "metadata": {
    "slideshow": {
     "slide_type": "slide"
    }
   },
   "source": [
    "## espace de travail / index / repo"
   ]
  },
  {
   "cell_type": "markdown",
   "metadata": {},
   "source": [
    "en réalité lorsque vous créez un repo git **localement** sur votre ordi:\n",
    "\n",
    "* un espace de travail: répertoires et fichiers\n",
    "* un index: changements en préparation pour le prochain commit\n",
    "* repository: ensemble de commits"
   ]
  },
  {
   "cell_type": "markdown",
   "metadata": {},
   "source": [
    "![](media/repo-contents-1-three-parts.png)"
   ]
  },
  {
   "cell_type": "markdown",
   "metadata": {
    "slideshow": {
     "slide_type": "notes"
    }
   },
   "source": [
    "Pour faire le lien avec les figures précédentes : ces trois boites constituent les morceaux de chacun des dépots gris foncé comme `john` ou `auteur`; la boite gris clair à droite est de même nature que par exemple les boites `github` et `fork`."
   ]
  },
  {
   "cell_type": "markdown",
   "metadata": {
    "slideshow": {
     "slide_type": "slide"
    }
   },
   "source": [
    "## repo 'nu' *vs* repo de travail"
   ]
  },
  {
   "cell_type": "markdown",
   "metadata": {
    "cell_style": "split"
   },
   "source": [
    "* un repo 'usuel' contient donc trois parties\n",
    "  * espace de travail\n",
    "  * index\n",
    "  * repo à proprement parler\n",
    "* un repo 'hébergé' \n",
    "  * par ex. sur *github.com*\n",
    "  * est dit nu (*bare repo*)\n",
    "* lorsqu'on 'connecte' deux repos\n",
    "  * comme par exemple avec un auteur\n",
    "  * qui publie sur github"
   ]
  },
  {
   "cell_type": "markdown",
   "metadata": {
    "cell_style": "split"
   },
   "source": [
    "<img src=\"media/archi-gh-2.png\" width=\"80px\" />"
   ]
  },
  {
   "cell_type": "markdown",
   "metadata": {
    "cell_style": "split",
    "slideshow": {
     "slide_type": ""
    }
   },
   "source": [
    "en réalité il se passe ceci:\n",
    "\n",
    "![](media/repo-contents-2-repo-sync-to-repo.png)"
   ]
  },
  {
   "cell_type": "markdown",
   "metadata": {
    "slideshow": {
     "slide_type": "slide"
    }
   },
   "source": [
    "## deux familles de commandes"
   ]
  },
  {
   "cell_type": "markdown",
   "metadata": {
    "cell_style": "split"
   },
   "source": [
    "#### commandes *locales*\n",
    "\n",
    "* ne se préoccupent pas d'un éventuel repo distant\n",
    "* on va commencer par là:\n",
    "\n",
    "* créer des commits\n",
    "  * `init`\n",
    "  * `log`\n",
    "  * `add`\n",
    "  * `commit`\n",
    "\n",
    "* gérer les branches\n",
    "  * `checkout`\n",
    "  * `merge`\n",
    "  * `branch`"
   ]
  },
  {
   "cell_type": "markdown",
   "metadata": {
    "cell_style": "split"
   },
   "source": [
    "#### commandes *distantes*\n",
    "\n",
    "* dans un deuxième temps\n",
    "* pour se synchroniser avec un autre repo \n",
    "\n",
    "* inspecter\n",
    "  * `fetch`\n",
    "  * `remote`\n",
    "  \n",
    "* synchroniser\n",
    "  * `clone`\n",
    "  * `pull`\n",
    "  * `push`"
   ]
  },
  {
   "cell_type": "markdown",
   "metadata": {
    "slideshow": {
     "slide_type": "slide"
    }
   },
   "source": [
    "## pour en savoir plus\n",
    "\n",
    "* livre \"Pro Git\" par Scott Chacon et Ben Straub\n",
    "  * https://git-scm.com/book/en/v2\n",
    "  * aussi en français https://git-scm.com/book/fr/v2"
   ]
  }
 ],
 "metadata": {
  "celltoolbar": "Slideshow",
  "ipub": {
   "sphinx": {
    "toggle_input": false,
    "toggle_input_all": false,
    "toggle_output": false,
    "toggle_output_all": false
   }
  },
  "kernelspec": {
   "display_name": "Calysto Bash",
   "language": "bash",
   "name": "calysto_bash"
  },
  "language_info": {
   "file_extension": ".sh",
   "help_links": [
    {
     "text": "MetaKernel Magics",
     "url": "https://metakernel.readthedocs.io/en/latest/source/README.html"
    }
   ],
   "mimetype": "text/x-sh",
   "name": "bash",
   "version": "0.2.1"
  },
  "notebookname": "intro - architecture",
  "rise": {
   "autolaunch": true,
   "slideNumber": "c/t",
   "start_slideshow_at": "selected",
   "theme": "sky",
   "transition": "cube"
  },
  "version": "1.0"
 },
 "nbformat": 4,
 "nbformat_minor": 4
}
