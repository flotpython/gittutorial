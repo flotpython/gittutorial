{
 "cells": [
  {
   "cell_type": "markdown",
   "metadata": {
    "slideshow": {
     "slide_type": "slide"
    }
   },
   "source": [
    "# tutorial `git` - prologue"
   ]
  },
  {
   "cell_type": "markdown",
   "metadata": {},
   "source": [
    "## un notebook pour `bash`"
   ]
  },
  {
   "cell_type": "markdown",
   "metadata": {},
   "source": [
    "ce document est bien un notebook jupyter, mais au lieu de reposer sur un kernel ipython, il utilise un kernel 'bash'.\n",
    "\n",
    "ce qui signifie, naturellement, que les cellules de code ne contiennent pas du python mais des lignes de commandes pour le terminal."
   ]
  },
  {
   "cell_type": "code",
   "execution_count": null,
   "metadata": {
    "raises-exception": true,
    "tags": [
     "raises-exception"
    ]
   },
   "outputs": [],
   "source": [
    "# ceci ne va pas marcher\n",
    "print(\"je ne parle pas le Python\") "
   ]
  },
  {
   "cell_type": "code",
   "execution_count": null,
   "metadata": {},
   "outputs": [],
   "source": [
    "# à la place il faut faire\n",
    "echo \"je ne parle pas le Python, je parle le bash\""
   ]
  },
  {
   "cell_type": "markdown",
   "metadata": {
    "slideshow": {
     "slide_type": "slide"
    }
   },
   "source": [
    "## le point de départ"
   ]
  },
  {
   "cell_type": "markdown",
   "metadata": {},
   "source": [
    "en bash, il y a la notion de 'répertoire courant' (en fait tous les processus ont un répertoire courant)."
   ]
  },
  {
   "cell_type": "code",
   "execution_count": null,
   "metadata": {},
   "outputs": [],
   "source": [
    "pwd"
   ]
  },
  {
   "cell_type": "markdown",
   "metadata": {},
   "source": [
    "dans tous les notebooks qui suivent, on va avoir envie de faire des choses répétables; c'est-à-dire de pouvoir refaire  et refaire *cell* -> *run all* (ça rejoint la notion mathématique d'idempotence).\n",
    "\n",
    "pour ça, il faut qu'on puisse se mettre dans un état connu au début de chaque notebook; entre autres choses, le répertoire de travail est important."
   ]
  },
  {
   "cell_type": "markdown",
   "metadata": {
    "slideshow": {
     "slide_type": "slide"
    }
   },
   "source": [
    "## prélude standard"
   ]
  },
  {
   "cell_type": "markdown",
   "metadata": {},
   "source": [
    "pour être sûr, dans chaque notebook, de bien partir à chaque fois du même endroit, nous aurons recours à l'astuce suivante :"
   ]
  },
  {
   "cell_type": "code",
   "execution_count": null,
   "metadata": {},
   "outputs": [],
   "source": [
    "# ce sera toujours notre façon de commencer\n",
    "[ -f scripts/helpers.sh ] && source scripts/helpers.sh; standard-start"
   ]
  },
  {
   "cell_type": "markdown",
   "metadata": {},
   "source": [
    "en plus on en profitera pour définir quelques raccourcis comme `show-repo` ..."
   ]
  },
  {
   "cell_type": "markdown",
   "metadata": {},
   "source": [
    "## configuration"
   ]
  },
  {
   "cell_type": "markdown",
   "metadata": {},
   "source": [
    "enfin, pour pouvoir exécuter le tutorial il faut initialiser ces deux variables pour git :"
   ]
  },
  {
   "cell_type": "code",
   "execution_count": null,
   "metadata": {},
   "outputs": [],
   "source": [
    "# ces deux réglages pour git sont nécessaires\n",
    "# \n",
    "# ça se lit comme ceci: si user.name est indéfini, alors on lui donne la chaine \"Jeanne Durand\"\n",
    "\n",
    "git config user.name  || git config --global user.name \"Jeanne Durand\"\n",
    "git config user.email || git config --global user.email \"jeanne.durand@example.org\""
   ]
  },
  {
   "cell_type": "code",
   "execution_count": null,
   "metadata": {},
   "outputs": [],
   "source": [
    "# vérifions le réglage en vigueur\n",
    "git config user.name\n",
    "git config user.email"
   ]
  },
  {
   "cell_type": "markdown",
   "metadata": {},
   "source": [
    "on peut maintenant passer au notebook suivant"
   ]
  }
 ],
 "metadata": {
  "celltoolbar": "Slideshow",
  "kernelspec": {
   "display_name": "Bash",
   "language": "bash",
   "name": "bash"
  },
  "language_info": {
   "codemirror_mode": "shell",
   "file_extension": ".sh",
   "mimetype": "text/x-sh",
   "name": "bash"
  }
 },
 "nbformat": 4,
 "nbformat_minor": 2
}
