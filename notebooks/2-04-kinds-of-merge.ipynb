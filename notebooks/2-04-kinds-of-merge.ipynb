{
 "cells": [
  {
   "cell_type": "markdown",
   "metadata": {
    "slideshow": {
     "slide_type": "slide"
    }
   },
   "source": [
    "<div class=\"licence\">\n",
    "<span>Licence CC BY-NC-ND</span>\n",
    "<span>Thierry Parmentelat</span>\n",
    "<span><img src=\"media/inria-25-alpha.png\" /></span>\n",
    "</div>"
   ]
  },
  {
   "cell_type": "markdown",
   "metadata": {
    "slideshow": {
     "slide_type": ""
    }
   },
   "source": [
    "# plusieurs sortes de merge"
   ]
  },
  {
   "cell_type": "code",
   "execution_count": null,
   "metadata": {
    "slideshow": {
     "slide_type": "slide"
    }
   },
   "outputs": [],
   "source": [
    "# ce sera toujours notre façon de commencer\n",
    "[ -f scripts/helpers.sh ] && source scripts/helpers.sh"
   ]
  },
  {
   "cell_type": "markdown",
   "metadata": {
    "slideshow": {
     "slide_type": "slide"
    }
   },
   "source": [
    "## reprenons .."
   ]
  },
  {
   "cell_type": "markdown",
   "metadata": {},
   "source": [
    "si vous avez bien suivi et exécuté ce qui précède, vous devez avoir un répertoire `my-first-repo`:\n",
    "\n",
    "* qui contient 4 commits\n",
    "* et deux branches `master` et `devel`\n",
    "* la branche `master` pointe sur notre premier merge\n",
    "* la branche `devel` est un peu en retrait"
   ]
  },
  {
   "cell_type": "code",
   "execution_count": null,
   "metadata": {},
   "outputs": [],
   "source": [
    "# si nécessaire, vous pouvez remettre le repository en l'état\n",
    "# \n",
    "# pour cela mettez \"true\" au lieu de \"\"\n",
    "# et bien sûr évaluer la cellule\n",
    "\n",
    "reset=\"\"\n",
    "\n",
    "if [ -n \"$reset\" ]; then \n",
    "    cd $TOP\n",
    "    bash $SCRIPTS/2-01-my-first-repo.sh\n",
    "    bash $SCRIPTS/2-02-my-first-changes.sh\n",
    "    bash $SCRIPTS/2-03-my-first-branch.sh\n",
    "fi >& /dev/null"
   ]
  },
  {
   "cell_type": "markdown",
   "metadata": {
    "slideshow": {
     "slide_type": "slide"
    }
   },
   "source": [
    "## le point.."
   ]
  },
  {
   "cell_type": "code",
   "execution_count": null,
   "metadata": {},
   "outputs": [],
   "source": [
    "# si nécessaire, on se place dans le repo git\n",
    "[ -d my-first-repo ] && cd my-first-repo\n",
    "\n",
    "pwd"
   ]
  },
  {
   "cell_type": "code",
   "execution_count": null,
   "metadata": {},
   "outputs": [],
   "source": [
    "# vous devez avoir deux branches, 6 commits dont un merge\n",
    "# et être sur la branche master \n",
    "git l --all"
   ]
  },
  {
   "cell_type": "markdown",
   "metadata": {
    "slideshow": {
     "slide_type": "slide"
    }
   },
   "source": [
    "## commits comparables ou pas"
   ]
  },
  {
   "cell_type": "markdown",
   "metadata": {},
   "source": [
    "* la relation *commit X référence commit Y* définit un **ordre partiel** sur les commits\n",
    "\n",
    "* selon que deux commits **sont comparables ou non**\n",
    "  * la création d'un merge va avoir des effets très différents"
   ]
  },
  {
   "cell_type": "markdown",
   "metadata": {
    "cell_style": "split"
   },
   "source": [
    "`master` et `media` non comparables `master` $\\nless$ `devel`  \n",
    "`master` $\\ngtr$ `devel`  \n",
    "\n",
    "\n",
    "\n",
    "![](media/order-2-not-compare.png) "
   ]
  },
  {
   "cell_type": "markdown",
   "metadata": {
    "cell_style": "split"
   },
   "source": [
    "ils sont comparables  \n",
    "`master` > `media`\n",
    "\n",
    "![](media/order-3-compare.png) "
   ]
  },
  {
   "cell_type": "markdown",
   "metadata": {
    "cell_style": "center",
    "slideshow": {
     "slide_type": "slide"
    }
   },
   "source": [
    "## deux sortes de merge"
   ]
  },
  {
   "cell_type": "markdown",
   "metadata": {},
   "source": [
    "* si les deux points du merge **sont comparables** :\n",
    "  * **pas besoin** de créer un commit !\n",
    "* dans le cas contraire\n",
    "  * un nouveau commit **est nécessaire**\n",
    "  \n",
    "* voyons ces deux cas plus en détail  "
   ]
  },
  {
   "cell_type": "markdown",
   "metadata": {
    "slideshow": {
     "slide_type": "slide"
    }
   },
   "source": [
    "## (1) merge avec deux commits comparables"
   ]
  },
  {
   "cell_type": "markdown",
   "metadata": {},
   "source": [
    "si les deux commits sont comparables\n",
    "\n",
    "* le plus grand des deux **contient déjà** les changements communs aux deux commits\n",
    "* d'ailleurs: le plus proche ancêtre commun est le plus petit des deux\n"
   ]
  },
  {
   "cell_type": "markdown",
   "metadata": {
    "slideshow": {
     "slide_type": "slide"
    }
   },
   "source": [
    "## (1) merge avec deux commits comparables"
   ]
  },
  {
   "cell_type": "markdown",
   "metadata": {
    "cell_style": "split"
   },
   "source": [
    "un merge dit *fast-forward*\n",
    "\n",
    "![](media/merge-1-fast-forward.png)"
   ]
  },
  {
   "cell_type": "markdown",
   "metadata": {
    "cell_style": "split"
   },
   "source": [
    "un merge sans aucun effet\n",
    "\n",
    "![](media/merge-2-noop.png)"
   ]
  },
  {
   "cell_type": "markdown",
   "metadata": {
    "slideshow": {
     "slide_type": "slide"
    }
   },
   "source": [
    "## (2) merge avec commits incomparables"
   ]
  },
  {
   "cell_type": "markdown",
   "metadata": {},
   "source": [
    "* dans ce cas donc, il faut **créer un commit** qui incorpore les changements\n",
    "* c'est fait **automatiquement** par `git merge` \n",
    "* toutefois :\n",
    "  * l'algorithme fonctionne à base de `diff`\n",
    "  * qui est **orienté lignes**\n",
    "  * d'où la bien meilleure adéquation sur **le texte**\n",
    "\n",
    "digression:\n",
    "\n",
    "* c'est une des raisons qui ont favorisé le format *markdown* \n",
    "* on en reparlera"
   ]
  },
  {
   "cell_type": "markdown",
   "metadata": {
    "slideshow": {
     "slide_type": "slide"
    }
   },
   "source": [
    "## notion de conflit"
   ]
  },
  {
   "cell_type": "markdown",
   "metadata": {},
   "source": [
    "* imaginez que vous avez une section de code, disons une ligne\n",
    "* qui est changée dans la branche A\n",
    "* et **aussi** changée dans la branche B\n",
    "* mais de manière différente.."
   ]
  },
  {
   "cell_type": "markdown",
   "metadata": {
    "slideshow": {
     "slide_type": "slide"
    }
   },
   "source": [
    "## en cas de conflit"
   ]
  },
  {
   "cell_type": "markdown",
   "metadata": {
    "cell_style": "split"
   },
   "source": [
    "Dans ce genre de cas\n",
    "\n",
    "* la fusion automatique **ne va pas réussir**\n",
    "* et le commit **ne sera pas créé**"
   ]
  },
  {
   "cell_type": "markdown",
   "metadata": {
    "cell_style": "split"
   },
   "source": [
    "`git merge` va\n",
    "\n",
    "* fusionner le maximum\n",
    "  * c'est mis dans l'index\n",
    "* pour le reste\n",
    "  * il insère des balises dans le texte\n",
    "  * avec les deux versions\n",
    "  * **pas dans l'index**\n",
    "  * vous laisse le soin de choisir\n",
    "* il vous reste à \n",
    "  * mettre dans l'index les conflits résolus\n",
    "  * créer le commit vous même"
   ]
  },
  {
   "cell_type": "markdown",
   "metadata": {
    "slideshow": {
     "slide_type": "slide"
    }
   },
   "source": [
    "## auto merge"
   ]
  },
  {
   "cell_type": "markdown",
   "metadata": {},
   "source": [
    "![](media/auto-merge-failed.png)"
   ]
  },
  {
   "cell_type": "markdown",
   "metadata": {
    "slideshow": {
     "slide_type": "slide"
    }
   },
   "source": [
    "## exemple 1: fast-forward"
   ]
  },
  {
   "cell_type": "code",
   "execution_count": null,
   "metadata": {
    "cell_style": "split"
   },
   "outputs": [],
   "source": [
    "git l"
   ]
  },
  {
   "cell_type": "markdown",
   "metadata": {
    "cell_style": "split"
   },
   "source": [
    "* rappel: `master` a fusionné `devel`\n",
    "* vérifiez que `master` et `devel` sont comparables\n",
    "* que se passe-t-il si on merge `master` dans `devel` ?"
   ]
  },
  {
   "cell_type": "code",
   "execution_count": null,
   "metadata": {
    "cell_style": "center",
    "slideshow": {
     "slide_type": "slide"
    }
   },
   "outputs": [],
   "source": [
    "git checkout devel\n",
    "git merge master"
   ]
  },
  {
   "cell_type": "code",
   "execution_count": null,
   "metadata": {
    "cell_style": "center"
   },
   "outputs": [],
   "source": [
    "git l"
   ]
  },
  {
   "cell_type": "markdown",
   "metadata": {},
   "source": [
    "Réponse: \n",
    "\n",
    "* pas de commit créé\n",
    "* `devel` \"rattrape\" simplement `master`"
   ]
  },
  {
   "cell_type": "markdown",
   "metadata": {
    "slideshow": {
     "slide_type": "slide"
    }
   },
   "source": [
    "## exemple 2 : merge avec conflit - première branche"
   ]
  },
  {
   "cell_type": "code",
   "execution_count": null,
   "metadata": {
    "cell_style": "split"
   },
   "outputs": [],
   "source": [
    "# un changement qui\n",
    "# ne sera pas conflictuel\n",
    "\n",
    "$SCRIPTS/do no-worries-1"
   ]
  },
  {
   "cell_type": "code",
   "execution_count": null,
   "metadata": {
    "cell_style": "split"
   },
   "outputs": [],
   "source": [
    "# celui-ci par contre le sera\n",
    "\n",
    "$SCRIPTS/do conflict-1"
   ]
  },
  {
   "cell_type": "code",
   "execution_count": null,
   "metadata": {
    "cell_style": "center"
   },
   "outputs": [],
   "source": [
    "git diff"
   ]
  },
  {
   "cell_type": "markdown",
   "metadata": {
    "slideshow": {
     "slide_type": "slide"
    }
   },
   "source": [
    "## exemple 2 : merge avec conflit - première branche"
   ]
  },
  {
   "cell_type": "code",
   "execution_count": null,
   "metadata": {
    "cell_style": "center"
   },
   "outputs": [],
   "source": [
    "git add factorial.md\n",
    "git commit -m 'pour conflit dans devel'"
   ]
  },
  {
   "cell_type": "code",
   "execution_count": null,
   "metadata": {},
   "outputs": [],
   "source": [
    "git l --all"
   ]
  },
  {
   "cell_type": "markdown",
   "metadata": {
    "slideshow": {
     "slide_type": "slide"
    }
   },
   "source": [
    "## exemple 2 : merge avec conflit - deuxième branche"
   ]
  },
  {
   "cell_type": "code",
   "execution_count": null,
   "metadata": {
    "cell_style": "split"
   },
   "outputs": [],
   "source": [
    "# remettons-nous au commit précédent\n",
    "git checkout master"
   ]
  },
  {
   "cell_type": "code",
   "execution_count": null,
   "metadata": {
    "cell_style": "split"
   },
   "outputs": [],
   "source": [
    "# même logique, on fait deux changements\n",
    "\n",
    "$SCRIPTS/do no-worries-2\n",
    "$SCRIPTS/do conflict-2"
   ]
  },
  {
   "cell_type": "code",
   "execution_count": null,
   "metadata": {
    "cell_style": "split",
    "scrolled": true
   },
   "outputs": [],
   "source": [
    "git diff"
   ]
  },
  {
   "cell_type": "code",
   "execution_count": null,
   "metadata": {
    "cell_style": "split"
   },
   "outputs": [],
   "source": [
    "git add factorial.py factorial.md\n",
    "\n",
    "git commit -m'pour conflit, dans master'"
   ]
  },
  {
   "cell_type": "markdown",
   "metadata": {
    "slideshow": {
     "slide_type": "slide"
    }
   },
   "source": [
    "## exemple 2 : merge avec conflit - on a deux branches"
   ]
  },
  {
   "cell_type": "code",
   "execution_count": null,
   "metadata": {},
   "outputs": [],
   "source": [
    "git l --all\n"
   ]
  },
  {
   "cell_type": "markdown",
   "metadata": {
    "slideshow": {
     "slide_type": "slide"
    }
   },
   "source": [
    "## exemple 2 : le merge échoue"
   ]
  },
  {
   "cell_type": "code",
   "execution_count": null,
   "metadata": {},
   "outputs": [],
   "source": [
    "# on est sur master\n",
    "git merge devel"
   ]
  },
  {
   "cell_type": "markdown",
   "metadata": {
    "slideshow": {
     "slide_type": "slide"
    }
   },
   "source": [
    "## exemple 2 : le résultat du merge qui a échoué"
   ]
  },
  {
   "cell_type": "code",
   "execution_count": null,
   "metadata": {
    "cell_style": "split"
   },
   "outputs": [],
   "source": [
    "git status"
   ]
  },
  {
   "cell_type": "code",
   "execution_count": null,
   "metadata": {
    "cell_style": "split"
   },
   "outputs": [],
   "source": [
    "cat factorial.md"
   ]
  },
  {
   "cell_type": "markdown",
   "metadata": {
    "slideshow": {
     "slide_type": "slide"
    }
   },
   "source": [
    "## exemple 2 : résoudre le conflit"
   ]
  },
  {
   "cell_type": "markdown",
   "metadata": {
    "cell_style": "split"
   },
   "source": [
    "* modifier à la main le fichier concerné\n",
    "* ajouter ce changement à l'index\n",
    "* on peut alors commiter"
   ]
  },
  {
   "cell_type": "code",
   "execution_count": null,
   "metadata": {
    "cell_style": "split"
   },
   "outputs": [],
   "source": [
    "# je simule une modification sous éditeur\n",
    "$SCRIPTS/do resolve-conflict\n",
    "\n",
    "cat factorial.md"
   ]
  },
  {
   "cell_type": "code",
   "execution_count": null,
   "metadata": {
    "cell_style": "center"
   },
   "outputs": [],
   "source": [
    "# pas de changement naturellement\n",
    "git status"
   ]
  },
  {
   "cell_type": "markdown",
   "metadata": {
    "slideshow": {
     "slide_type": "slide"
    }
   },
   "source": [
    "## exemple 2 : résoudre le conflit (2)"
   ]
  },
  {
   "cell_type": "code",
   "execution_count": null,
   "metadata": {
    "cell_style": "split"
   },
   "outputs": [],
   "source": [
    "# maintenant on peut mettre \n",
    "# la résolution du conflit dans l'index\n",
    "git add factorial.md"
   ]
  },
  {
   "cell_type": "code",
   "execution_count": null,
   "metadata": {
    "cell_style": "split"
   },
   "outputs": [],
   "source": [
    "# plus de souci\n",
    "git status"
   ]
  },
  {
   "cell_type": "code",
   "execution_count": null,
   "metadata": {},
   "outputs": [],
   "source": [
    "# et à présent on peut committer\n",
    "git commit -m  'conflit résolu'"
   ]
  },
  {
   "cell_type": "code",
   "execution_count": null,
   "metadata": {},
   "outputs": [],
   "source": [
    "git l --all"
   ]
  },
  {
   "cell_type": "markdown",
   "metadata": {
    "cell_style": "center",
    "slideshow": {
     "slide_type": "slide"
    }
   },
   "source": [
    "## exercice 1"
   ]
  },
  {
   "cell_type": "markdown",
   "metadata": {},
   "source": [
    "je vous invite à vous amuser à faire les diffs dans tous les sens :\n",
    "\n",
    "* calculer le sha-1 du dernier point de fourche (\"*mon premier merge*\")\n",
    "* diff avec HEAD (a.k.a. master)\n",
    "* diff avec devel\n",
    "* diff entre master et devel"
   ]
  },
  {
   "cell_type": "code",
   "execution_count": null,
   "metadata": {
    "slideshow": {
     "slide_type": "slide"
    }
   },
   "outputs": [],
   "source": [
    "git diff devel master\n"
   ]
  },
  {
   "cell_type": "markdown",
   "metadata": {
    "slideshow": {
     "slide_type": "slide"
    }
   },
   "source": [
    "## exercice 2"
   ]
  },
  {
   "cell_type": "markdown",
   "metadata": {},
   "source": [
    "s'entraîner à faire des merge \n",
    "\n",
    "1. avec des configurations *claires*, \n",
    "   c'est-à-dire où clairement les deux changements sont indépendants les uns des autres\n",
    "   \n",
    "1. on a vu un conflit quand les deux branches **modifient** la même ligne  \n",
    "   que se passe-t-il si les deux branches **insèrent** du code au même endroit dans un fichier"
   ]
  },
  {
   "cell_type": "markdown",
   "metadata": {
    "slideshow": {
     "slide_type": "slide"
    }
   },
   "source": [
    "## résumé\n",
    "\n",
    "* lorsque deux commits sont comparables\n",
    "  * c'est-à-dire qu'il existe un chemin uniquement descendant de l'un à l'autre\n",
    "  * alors un merge **ne produit pas de commit**\n",
    "  * mais peut provoquer un \"rattrapage\" d'une branche par une autre\n",
    "\n",
    "* dans le cas contraire\n",
    "  * un merge **crée un commit** de fusion\n",
    "  * sauf lorsqu'il y a conflit\n",
    "  * dans ce cas c'est à vous de résoudre ces conflits à la main\n",
    "  * et de terminer le travail en créant le commit  "
   ]
  },
  {
   "cell_type": "markdown",
   "metadata": {
    "slideshow": {
     "slide_type": "slide"
    }
   },
   "source": [
    "## état\n",
    "\n",
    "comme d'habitude nous observons notre répo à ce stade"
   ]
  },
  {
   "cell_type": "code",
   "execution_count": null,
   "metadata": {},
   "outputs": [],
   "source": [
    "git l --all"
   ]
  }
 ],
 "metadata": {
  "celltoolbar": "Slideshow",
  "ipub": {
   "sphinx": {
    "toggle_input": true,
    "toggle_input_all": true,
    "toggle_output": true,
    "toggle_output_all": true
   }
  },
  "kernelspec": {
   "display_name": "Calysto Bash",
   "language": "bash",
   "name": "calysto_bash"
  },
  "language_info": {
   "file_extension": ".sh",
   "help_links": [
    {
     "text": "MetaKernel Magics",
     "url": "https://metakernel.readthedocs.io/en/latest/source/README.html"
    }
   ],
   "mimetype": "text/x-sh",
   "name": "bash",
   "version": "0.2.1"
  },
  "notebookname": "ordre partiel, fast-forward",
  "rise": {
   "autolaunch": true,
   "slideNumber": "c/t",
   "start_slideshow_at": "selected",
   "theme": "sky",
   "transition": "cube"
  },
  "version": "1.0"
 },
 "nbformat": 4,
 "nbformat_minor": 2
}
