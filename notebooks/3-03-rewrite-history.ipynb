{
 "cells": [
  {
   "cell_type": "markdown",
   "metadata": {
    "slideshow": {
     "slide_type": "slide"
    }
   },
   "source": [
    "<div class=\"licence\">\n",
    "<span>Licence CC BY-NC-ND</span>\n",
    "<span>Thierry Parmentelat</span>\n",
    "<span><img src=\"media/inria-25-alpha.png\" /></span>\n",
    "</div>"
   ]
  },
  {
   "cell_type": "markdown",
   "metadata": {
    "slideshow": {
     "slide_type": ""
    }
   },
   "source": [
    "# reconstruire avec `rebase` "
   ]
  },
  {
   "cell_type": "markdown",
   "metadata": {},
   "source": [
    "*rebase dans deux cas d'usage*\n",
    "\n",
    "* git pull --rebase\n",
    "* rebase -i\n",
    "\n",
    "ce serait le bon endroit aussi pour parler de \n",
    "\n",
    "* git commit --amend\n",
    "* commit immutable"
   ]
  },
  {
   "cell_type": "markdown",
   "metadata": {
    "slideshow": {
     "slide_type": "slide"
    }
   },
   "source": [
    "## digression : un commit est immutable"
   ]
  },
  {
   "cell_type": "markdown",
   "metadata": {},
   "source": [
    "en informatique, on fait la distinction entre objets mutables et immutables\n",
    "\n",
    "* un terme savant pour désigner les objets qui peuvent changer\n",
    "* un ficher par exemple est un objet mutable"
   ]
  },
  {
   "cell_type": "markdown",
   "metadata": {},
   "source": [
    "* un commit est par contre **immutable**\n",
    "* dit autrement, une fois qu'il est créé on ne peut plus le modifier  \n",
    "* mais on peut en créer un autre "
   ]
  },
  {
   "cell_type": "markdown",
   "metadata": {},
   "source": [
    "cela signifie notamment que \n",
    "\n",
    "* **vous ne pouvez pas perdre** ce que vous avez mis dans un commit \n",
    "* pourvu que ce soit **dans un commit**\n",
    "* ou alors il faut vraiment le faire exprès\n",
    "  * par exemple quelqu'un met une vidéo de 10 Gb dans le repo.."
   ]
  }
 ],
 "metadata": {
  "celltoolbar": "Slideshow",
  "ipub": {
   "sphinx": {
    "toggle_input": true,
    "toggle_input_all": true,
    "toggle_output": true,
    "toggle_output_all": true
   }
  },
  "kernelspec": {
   "display_name": "Calysto Bash",
   "language": "bash",
   "name": "calysto_bash"
  },
  "language_info": {
   "file_extension": ".sh",
   "help_links": [
    {
     "text": "MetaKernel Magics",
     "url": "https://metakernel.readthedocs.io/en/latest/source/README.html"
    }
   ],
   "mimetype": "text/x-sh",
   "name": "bash",
   "version": "0.2.1"
  },
  "notebookname": "rebase",
  "rise": {
   "autolaunch": true,
   "slideNumber": "c/t",
   "start_slideshow_at": "selected",
   "theme": "sky",
   "transition": "cube"
  },
  "version": "1.0"
 },
 "nbformat": 4,
 "nbformat_minor": 4
}
