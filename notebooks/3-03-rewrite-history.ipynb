{
 "cells": [
  {
   "cell_type": "markdown",
   "metadata": {
    "slideshow": {
     "slide_type": "slide"
    }
   },
   "source": [
    "<div class=\"licence\">\n",
    "<span>Licence CC BY-NC-ND</span>\n",
    "<span>Thierry Parmentelat</span>\n",
    "<span><img src=\"media/inria-25-alpha.png\" /></span>\n",
    "</div>"
   ]
  },
  {
   "cell_type": "markdown",
   "metadata": {
    "slideshow": {
     "slide_type": "slide"
    }
   },
   "source": [
    "# récrire l'historique"
   ]
  },
  {
   "cell_type": "markdown",
   "metadata": {
    "slideshow": {
     "slide_type": "slide"
    }
   },
   "source": [
    "## rappel : un commit est immutable"
   ]
  },
  {
   "cell_type": "markdown",
   "metadata": {},
   "source": [
    "en informatique, on fait la distinction entre  \n",
    "objets *mutables* et *immutables*\n",
    "\n",
    "* un terme savant pour désigner les objets  \n",
    "  qui peuvent changer\n",
    "\n",
    "* un ficher par exemple est un objet mutable"
   ]
  },
  {
   "cell_type": "markdown",
   "metadata": {},
   "source": [
    "* un commit est par contre **immutable**\n",
    "* dit autrement, une fois qu'il est créé  \n",
    "  on ne peut plus le modifier  \n",
    "\n",
    "* mais on peut en créer un autre "
   ]
  },
  {
   "cell_type": "markdown",
   "metadata": {
    "slideshow": {
     "slide_type": "slide"
    }
   },
   "source": [
    "## attention aux commits poussés"
   ]
  },
  {
   "cell_type": "markdown",
   "metadata": {},
   "source": [
    "avant d'aller plus loin, souvenez-vous de cette règle d'or\n",
    "\n",
    "> ne **jamais** récrire un commit déjà publié/poussé\n",
    "\n",
    "si quelqu'un a déjà tiré ce commit, et vous le remplacez  \n",
    "par un autre, au deuxième `pull` votre collègue  \n",
    "va déclencher un désordre monstrueux\n",
    "\n",
    "exercice : voyez-vous pourquoi ?"
   ]
  },
  {
   "cell_type": "markdown",
   "metadata": {
    "slideshow": {
     "slide_type": "slide"
    }
   },
   "source": [
    "## modifier le dernier commit"
   ]
  },
  {
   "cell_type": "markdown",
   "metadata": {},
   "source": [
    "le cas le plus simple de récriture de l'histoire :  \n",
    "vous voulez modifier le commit que vous venez de faire  \n",
    "à cause d'une faute d'orthographe dans le message\n",
    "\n",
    "\n",
    "```\n",
    "git commit --amend\n",
    "```\n",
    "\n",
    "si vous avez ajouté des changements dans l'index entretemps,  \n",
    "ils feront partie du nouveau commit "
   ]
  },
  {
   "cell_type": "markdown",
   "metadata": {
    "slideshow": {
     "slide_type": "slide"
    }
   },
   "source": [
    "# reconstruire avec `rebase` "
   ]
  },
  {
   "cell_type": "markdown",
   "metadata": {},
   "source": [
    "un outil permettant de rejouer une suite de changements  \n",
    "\n",
    "*xxx à terminer*"
   ]
  },
  {
   "cell_type": "markdown",
   "metadata": {
    "cell_style": "split"
   },
   "source": [
    "![](media/merge-vs-rebase.png)"
   ]
  },
  {
   "cell_type": "markdown",
   "metadata": {
    "slideshow": {
     "slide_type": "slide"
    }
   },
   "source": [
    "*rebase dans deux cas d'usage*\n",
    "\n",
    "* git pull --rebase\n",
    "* rebase -i\n",
    "\n",
    "ce serait le bon endroit aussi pour parler de \n",
    "\n",
    "* git commit --amend\n",
    "* commit immutable"
   ]
  }
 ],
 "metadata": {
  "celltoolbar": "Slideshow",
  "ipub": {
   "sphinx": {
    "toggle_input": true,
    "toggle_input_all": true,
    "toggle_output": true,
    "toggle_output_all": true
   }
  },
  "kernelspec": {
   "display_name": "Calysto Bash",
   "language": "bash",
   "name": "calysto_bash"
  },
  "language_info": {
   "file_extension": ".sh",
   "help_links": [
    {
     "text": "MetaKernel Magics",
     "url": "https://metakernel.readthedocs.io/en/latest/source/README.html"
    }
   ],
   "mimetype": "text/x-sh",
   "name": "bash",
   "version": "0.2.1"
  },
  "notebookname": "rebase",
  "rise": {
   "autolaunch": true,
   "slideNumber": "c/t",
   "start_slideshow_at": "selected",
   "theme": "sky",
   "transition": "cube"
  },
  "version": "1.0"
 },
 "nbformat": 4,
 "nbformat_minor": 4
}
