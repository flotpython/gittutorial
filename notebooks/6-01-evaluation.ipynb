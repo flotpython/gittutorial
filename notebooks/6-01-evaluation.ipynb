{
 "cells": [
  {
   "cell_type": "markdown",
   "metadata": {},
   "source": [
    "# Cours git - évaluation"
   ]
  },
  {
   "cell_type": "markdown",
   "metadata": {
    "slideshow": {
     "slide_type": ""
    }
   },
   "source": [
    "## Prérequis"
   ]
  },
  {
   "cell_type": "markdown",
   "metadata": {},
   "source": [
    "Chaque élève doit avoir créé un compte sur `https://github.com/`"
   ]
  },
  {
   "cell_type": "markdown",
   "metadata": {},
   "source": [
    "## Date limite et modalités de livraison"
   ]
  },
  {
   "cell_type": "markdown",
   "metadata": {},
   "source": [
    "L'exercice qui est décrit ici est à faire pour le **xxx date à définir**.\n",
    "\n",
    "À cette date, chacun des groupes devra avoir envoyé un message sur discourse, en indiquant l'URL du  dépôt construit par le groupe sur github; [un fil dédié a été créé sur discourse pour déposer ces messages](https://discourse.mines-paristech.fr/t/fil-de-publication-de-vos-depots-git-pour-levaluation-tutorial-git/305)."
   ]
  },
  {
   "cell_type": "markdown",
   "metadata": {},
   "source": [
    "## Groupes et rôles"
   ]
  },
  {
   "cell_type": "markdown",
   "metadata": {},
   "source": [
    "L'exercice est à réaliser en groupes **de 3 à 4 élèves**, chaque groupe ayant **un meneur identifié** (groupes constitués par ailleurs). Le meneur est le joueur #1, les autres membres du groupe sont numérotés 2, 3, 4."
   ]
  },
  {
   "cell_type": "markdown",
   "metadata": {},
   "source": [
    "## Étape 1  - création du dépôt sur github - (à faire par le meneur)"
   ]
  },
  {
   "cell_type": "markdown",
   "metadata": {},
   "source": [
    "### Résultat attendu :"
   ]
  },
  {
   "cell_type": "markdown",
   "metadata": {},
   "source": [
    "* le meneur a créé un dépôt sur github, sous le nom `eval-gittuto`, c'est-à-dire donc en pratique sous un nom comme `https://github.com/lemeneur/eval-gittuto` si on imagine que son pseudo sur github est `lemeneur`.\n",
    "* ce dépôt contient un seul commit avec un seul fichier `README.md`, dont le contenu est produit par la cellule suivante (évaluez, et copiez-collez)"
   ]
  },
  {
   "cell_type": "code",
   "execution_count": null,
   "metadata": {},
   "outputs": [],
   "source": [
    "# copier les lignes produites par cette cellule\n",
    "# dans le fichier README.md\n",
    "\n",
    "# mettez ici le nombre de personnes dans votre groupe\n",
    "\n",
    "how_many_people = 4\n",
    "\n",
    "for i in range(1, how_many_people + 1):\n",
    "    print(f\"{i:02d} Nom:\")\n",
    "    print(f\"{i:02d} Prénom:\")"
   ]
  },
  {
   "cell_type": "markdown",
   "metadata": {},
   "source": [
    "### Indices"
   ]
  },
  {
   "cell_type": "markdown",
   "metadata": {},
   "source": [
    "Il y a principalement deux stratégies possibles ici :\n",
    "\n",
    "* soit on crée un dépôt local avec `git init`, on le remplit, puis on crée un dépôt vide sur github, et on pousse le dépôt local sur github;\n",
    "\n",
    "* soit on commence par créer le dépôt sur github avec le `README.md`, pour le cloner ensuite localement"
   ]
  },
  {
   "cell_type": "markdown",
   "metadata": {
    "slideshow": {
     "slide_type": "slide"
    }
   },
   "source": [
    "## Étape 2 - droits d'accès - (toujours à faire par le meneur)"
   ]
  },
  {
   "cell_type": "markdown",
   "metadata": {},
   "source": [
    "Dans cette étape le meneur donne les droits en écriture aux membres de son groupe."
   ]
  },
  {
   "cell_type": "markdown",
   "metadata": {},
   "source": [
    "### Indice"
   ]
  },
  {
   "cell_type": "markdown",
   "metadata": {},
   "source": [
    "Depuis la page projet, allez dans l'onglet `Settings`, puis `Collaborators`."
   ]
  },
  {
   "cell_type": "markdown",
   "metadata": {},
   "source": [
    "## Étape 3 - clonage chez tout le monde\n",
    "\n"
   ]
  },
  {
   "cell_type": "markdown",
   "metadata": {},
   "source": [
    "Ceux qui n'ont pas ce dépôt sur leur ordinateur personnel le clônent depuis github."
   ]
  },
  {
   "cell_type": "markdown",
   "metadata": {},
   "source": [
    "### Indice"
   ]
  },
  {
   "cell_type": "markdown",
   "metadata": {},
   "source": [
    "Le bouton `Clone or download` dans la page du projet sur github."
   ]
  },
  {
   "cell_type": "markdown",
   "metadata": {},
   "source": [
    "## Étape 4 - modification locale du *NOM*"
   ]
  },
  {
   "cell_type": "markdown",
   "metadata": {},
   "source": [
    "Chacun édite le fichier `README.md` pour **remplir son NOM** dans la ligne correspondant à son numéro dans le groupe.\n",
    "Chacun crée localement un commit avec ce changement dans le fichier.\n",
    "\n",
    "Assurez-vous que les commits contient bien votre nom (dans la rubrique `Author` de `git log`) pour que l'on puisse vous accorder les points lors de l'évaluation."
   ]
  },
  {
   "cell_type": "markdown",
   "metadata": {},
   "source": [
    "## Étape 5 - tout le monde pousse"
   ]
  },
  {
   "cell_type": "markdown",
   "metadata": {},
   "source": [
    "Chacun pousse son commit dans le dépôt sur github; dans cette étape, arrangez-vous pour que ce soit **le meneur qui pousse son commit en premier**."
   ]
  },
  {
   "cell_type": "markdown",
   "metadata": {},
   "source": [
    "### Indice"
   ]
  },
  {
   "cell_type": "markdown",
   "metadata": {},
   "source": [
    "Si vous avez des soucis pour pousser votre commit, voyez dans le cours [le notebook intitulé \"le push qui tue\"](https://nbhosting.inria.fr/auditor/notebook/mines-git-tuto:Session%202/notebooks/3-02-push-syndrom)"
   ]
  },
  {
   "cell_type": "markdown",
   "metadata": {},
   "source": [
    "## Étape 6 - tout le monde tire"
   ]
  },
  {
   "cell_type": "markdown",
   "metadata": {},
   "source": [
    "Chacun tire depuis github; vous devez tous vous retrouver avec les lignes *Nom* renseignées."
   ]
  },
  {
   "cell_type": "markdown",
   "metadata": {},
   "source": [
    "## Étape 7 - chacun renseigne son *PRÉNOM*\n",
    "\n",
    "Comme à l'étape 4, mais cette fois vous renseignez votre prénom dans la ligne correspondant à votre numéro.\n",
    "\n",
    "Et vous créez un commit, comme à l'étape 4."
   ]
  },
  {
   "cell_type": "markdown",
   "metadata": {},
   "source": [
    "## Étape 8 - chacun pousse"
   ]
  },
  {
   "cell_type": "markdown",
   "metadata": {},
   "source": [
    "Comme à l'étape 5, sauf que cette fois ce **n'est pas le meneur qui pousse en premier**."
   ]
  },
  {
   "cell_type": "markdown",
   "metadata": {},
   "source": [
    "### Indice"
   ]
  },
  {
   "cell_type": "markdown",
   "metadata": {},
   "source": [
    "Comme à l'étape 5, voyez dans le cours [le notebook intitulé \"le push qui tue\"](https://nbhosting.inria.fr/auditor/notebook/mines-git-tuto:Session%202/notebooks/3-02-push-syndrom)"
   ]
  },
  {
   "cell_type": "markdown",
   "metadata": {},
   "source": [
    "## Étape 9 - le groupe publie son dépôt"
   ]
  },
  {
   "cell_type": "markdown",
   "metadata": {},
   "source": [
    "Un des membres du groupe [publie sur discourse, dans ce fil](https://discourse.mines-paristech.fr/t/fil-de-publication-de-vos-depots-git-pour-levaluation-tutorial-git/305), l'URL du dépôt github pour évaluation."
   ]
  }
 ],
 "metadata": {
  "jupytext": {
   "cell_metadata_filter": "all",
   "encoding": "# -*- coding: utf-8 -*-",
   "notebook_metadata_filter": "all,-language_info",
   "text_representation": {
    "extension": ".py",
    "format_name": "percent",
    "format_version": "1.2",
    "jupytext_version": "1.2.1"
   }
  },
  "kernelspec": {
   "display_name": "Python 3",
   "language": "python",
   "name": "python3"
  },
  "language_info": {
   "codemirror_mode": {
    "name": "ipython",
    "version": 3
   },
   "file_extension": ".py",
   "mimetype": "text/x-python",
   "name": "python",
   "nbconvert_exporter": "python",
   "pygments_lexer": "ipython3",
   "version": "3.7.3"
  }
 },
 "nbformat": 4,
 "nbformat_minor": 2
}
