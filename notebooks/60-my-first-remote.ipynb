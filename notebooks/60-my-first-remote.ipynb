{
 "cells": [
  {
   "cell_type": "markdown",
   "metadata": {},
   "source": [
    "<div class=\"licence\">\n",
    "<span>Licence CC BY-NC-ND</span>\n",
    "<span>Thierry Parmentelat</span>\n",
    "<span><img src=\"media/inria-25-alpha.png\" /></span>\n",
    "</div>"
   ]
  },
  {
   "cell_type": "markdown",
   "metadata": {},
   "source": [
    "# `git` tutorial (6)"
   ]
  },
  {
   "cell_type": "markdown",
   "metadata": {},
   "source": [
    "## synchronisations entre repos"
   ]
  },
  {
   "cell_type": "code",
   "execution_count": null,
   "metadata": {},
   "outputs": [],
   "source": [
    "# ce sera toujours notre façon de commencer\n",
    "[ -f scripts/helpers.sh ] && source scripts/helpers.sh"
   ]
  },
  {
   "cell_type": "markdown",
   "metadata": {
    "slideshow": {
     "slide_type": "slide"
    }
   },
   "source": [
    "## architecture décentralisée"
   ]
  },
  {
   "cell_type": "markdown",
   "metadata": {},
   "source": [
    "* on a vu plusieurs architectures permettant de créer des workflows\n",
    "* comme par exemple\n",
    "\n",
    "![](media/archi-star.png)\n",
    "\n",
    "* dans ce schéma \n",
    "  * les boites sont des repos\n",
    "  * les liens correspondent à des synchronisations entre repos  "
   ]
  },
  {
   "cell_type": "markdown",
   "metadata": {
    "slideshow": {
     "slide_type": "slide"
    }
   },
   "source": [
    "## notre exemple"
   ]
  },
  {
   "cell_type": "markdown",
   "metadata": {},
   "source": [
    "pour cette partie :\n",
    "\n",
    "* nous repartons d'un repo quasiment vide `initial-repo`\n",
    "* que l'on va dupliquer (dans le jargon git: cloner) dans `cloned-repo`\n",
    "* puis modifier, et synchroniser entre eux "
   ]
  },
  {
   "cell_type": "code",
   "execution_count": null,
   "metadata": {
    "slideshow": {
     "slide_type": "slide"
    }
   },
   "outputs": [],
   "source": [
    "cd $TOPLEVEL\n",
    "\n",
    "# on recommence un autre repo plus simple; à nouveau\n",
    "# je nettoie complètement ce qu'on a pu faire précédemment\n",
    "if [ -d initial-repo ]; then\n",
    "    echo \"on repart d'un directory vide\"\n",
    "    rm -rf initial-repo\n",
    "fi\n",
    "\n",
    "# on le crée\n",
    "mkdir initial-repo\n",
    "\n",
    "# on va dedans\n",
    "cd initial-repo"
   ]
  },
  {
   "cell_type": "code",
   "execution_count": null,
   "metadata": {},
   "outputs": [],
   "source": [
    "# si nécessaire, on se place dans le repo git\n",
    "[ -d initial-repo ] && cd initial-repo\n",
    "\n",
    "pwd"
   ]
  },
  {
   "cell_type": "markdown",
   "metadata": {
    "slideshow": {
     "slide_type": "slide"
    }
   },
   "source": [
    "## création"
   ]
  },
  {
   "cell_type": "code",
   "execution_count": null,
   "metadata": {},
   "outputs": [],
   "source": [
    "$SCRIPTS/do populate-initial-repo"
   ]
  },
  {
   "cell_type": "code",
   "execution_count": null,
   "metadata": {},
   "outputs": [],
   "source": [
    "git l"
   ]
  },
  {
   "cell_type": "markdown",
   "metadata": {
    "slideshow": {
     "slide_type": "slide"
    }
   },
   "source": [
    "## le point"
   ]
  },
  {
   "cell_type": "code",
   "execution_count": null,
   "metadata": {
    "cell_style": "split",
    "slideshow": {
     "slide_type": ""
    }
   },
   "outputs": [],
   "source": [
    "# vous devez avoir 2 commits\n",
    "git l\n"
   ]
  },
  {
   "cell_type": "code",
   "execution_count": null,
   "metadata": {
    "cell_style": "split"
   },
   "outputs": [],
   "source": [
    "# avec deux branches `master` et `devel`\n",
    "# on est sur la branch devel\n",
    "git branch"
   ]
  },
  {
   "cell_type": "markdown",
   "metadata": {
    "slideshow": {
     "slide_type": "slide"
    }
   },
   "source": [
    "## pour les besoins du cours"
   ]
  },
  {
   "cell_type": "markdown",
   "metadata": {},
   "source": [
    "* en général, les repos sont créés sur des **machines distinctes**\n",
    "  * typiquement un repo local et un sur github\n",
    "* techniquement, pas obligatoire\n",
    "  * **pour les besoins du cours**, nous allons créer nos repos **localement** \n",
    "* les mécanismes de copie/synchronisation sont exactement identiques"
   ]
  },
  {
   "cell_type": "code",
   "execution_count": null,
   "metadata": {
    "cell_style": "center",
    "slideshow": {
     "slide_type": ""
    }
   },
   "outputs": [],
   "source": [
    "# on utilisera ce répertoire $TOPLEVEL/cloned-repo\n",
    "# pour héberger un repo avatar de ce qu'on \n",
    "# pourrait mettre sur github\n",
    "\n",
    "if [ -d $TOPLEVEL/cloned-repo ]; then\n",
    "    rm -rf $TOPLEVEL/cloned-repo\n",
    "fi"
   ]
  },
  {
   "cell_type": "markdown",
   "metadata": {
    "slideshow": {
     "slide_type": "slide"
    }
   },
   "source": [
    "## `git clone` sert à dupliquer un repo"
   ]
  },
  {
   "cell_type": "code",
   "execution_count": null,
   "metadata": {
    "cell_style": "split",
    "slideshow": {
     "slide_type": ""
    }
   },
   "outputs": [],
   "source": [
    "cd $TOPLEVEL\n",
    "\n",
    "git clone initial-repo/.git cloned-repo"
   ]
  },
  {
   "cell_type": "code",
   "execution_count": null,
   "metadata": {
    "cell_style": "split"
   },
   "outputs": [],
   "source": [
    "cd $TOPLEVEL/cloned-repo\n",
    "\n",
    "ls"
   ]
  },
  {
   "cell_type": "markdown",
   "metadata": {
    "cell_style": "center",
    "slideshow": {
     "slide_type": "slide"
    }
   },
   "source": [
    "le clone va contenir:\n",
    "\n",
    "* **les commits**, c'est-à-dire la partie `bare`\n",
    "* les fichiers présents dans le **commit courant**\n",
    "* mais par contre l'index n'est **pas concerné**\n",
    "  * si on avait eu des modifications pendantes dans `initial-repo`\n",
    "  * que ce soit dans l'index ou les fichiers\n",
    "  * ils **n'auraient pas** été copiés"
   ]
  },
  {
   "cell_type": "code",
   "execution_count": null,
   "metadata": {
    "cell_style": "split"
   },
   "outputs": [],
   "source": [
    "git status"
   ]
  },
  {
   "cell_type": "code",
   "execution_count": null,
   "metadata": {
    "cell_style": "split"
   },
   "outputs": [],
   "source": [
    "git l"
   ]
  },
  {
   "cell_type": "markdown",
   "metadata": {
    "slideshow": {
     "slide_type": "slide"
    }
   },
   "source": [
    "* en réalité dans un `git clone`\n",
    "  * du coté source, seul le ***bare repo*** est lu\n",
    "  * les fichiers et l'index ne sont **pas du tout regardés**\n",
    "  * bien souvent d'ailleurs la source est sur une infra comme github\n",
    "  * et dans ce cas la source n'est **que** un *bare repo*\n",
    "  \n",
    "* les fonctions de synchro entre repos\n",
    "  * ne concernent en réalité  \n",
    "    que la partie 'bare repo' des deux cotés\n",
    "  * en général les fichiers et index **ne sont pas concernés**  \n",
    "    par les synchros entre repo\n",
    "  * qui ne font principalement que transférer des commits  \n",
    "    (et mettre à jour des branches)\n",
    "    \n",
    "* sauf dans le cas de `pull` \n",
    "  * qui en réalité fait `fetch` + `merge`\n",
    "  * et du coup `merge` peut être amené à toucher les fichiers"
   ]
  },
  {
   "cell_type": "markdown",
   "metadata": {
    "cell_style": "center",
    "slideshow": {
     "slide_type": "slide"
    }
   },
   "source": [
    "à noter surtout:\n",
    "\n",
    "* **pas de hiérarchie** entre les repos\n",
    "  * la source et le clone sont des **pairs** - pas de *master*/*slave* \n",
    "* la seule différence bien sûr ce sont les droits d'accès\n",
    "  * en gros c'est **chacun chez soi**\n",
    "  * si vous avez les droits d'accès (linux, windows, macOS)  \n",
    "    sur un repo vous pouvez écrire dedans"
   ]
  },
  {
   "cell_type": "markdown",
   "metadata": {
    "cell_style": "center",
    "slideshow": {
     "slide_type": "slide"
    }
   },
   "source": [
    "## `git clone` en vrai "
   ]
  },
  {
   "cell_type": "markdown",
   "metadata": {},
   "source": [
    "l'usage le plus fréquent consiste à dupliquer un repo qui est publié sur `github`\n",
    "\n",
    "par exemple ce cours est sur\n",
    "https://github.com/flotpython/gittutorial/"
   ]
  },
  {
   "cell_type": "markdown",
   "metadata": {
    "cell_style": "split"
   },
   "source": [
    "![](media/github-clone.png)"
   ]
  },
  {
   "cell_type": "markdown",
   "metadata": {
    "cell_style": "split"
   },
   "source": [
    "tapez \n",
    "\n",
    "    git clone \n",
    "    \n",
    "et faites 'coller' avec Control-V\n",
    "\n",
    "    git clone git@github.com:flotpython/gittutorial.git\n",
    "    \n",
    "vous pouvez alors faire\n",
    "\n",
    "    cd gittutorial\n",
    "    git log --oneline\n",
    "    ls"
   ]
  },
  {
   "cell_type": "markdown",
   "metadata": {
    "slideshow": {
     "slide_type": "slide"
    }
   },
   "source": [
    "## les fonctions de synchronisation"
   ]
  },
  {
   "cell_type": "markdown",
   "metadata": {
    "cell_style": "split"
   },
   "source": [
    "en plus de `clone`, les fonctions de synchronisation sont:\n",
    "\n",
    "* `fetch`\n",
    "* `pull`\n",
    "* `push`"
   ]
  },
  {
   "cell_type": "markdown",
   "metadata": {
    "cell_style": "split",
    "slideshow": {
     "slide_type": "fragment"
    }
   },
   "source": [
    "**passif**\n",
    "* `fetch`  injecte des commits distants dans le repo local **sans impact local**\n",
    "\n",
    "**actif**\n",
    "* `push`: injecte des commits locaux dans le repo distant\n",
    "* `pull` = `fetch`+`merge`\n"
   ]
  },
  {
   "cell_type": "markdown",
   "metadata": {
    "slideshow": {
     "slide_type": "slide"
    }
   },
   "source": [
    "## la notion de *remote*"
   ]
  },
  {
   "cell_type": "markdown",
   "metadata": {},
   "source": [
    "avant de voir en détail les fonctions de synchro,  \n",
    "nous devons voir la notion de *remote*\n",
    "\n",
    "un *remote*, c'est \n",
    "* essentiellement **un nom** symbolique\n",
    "* qui nous permet de faire facilement référence à un **autre repo**\n",
    "* i.e. plutôt que de retaper **son URL** à chaque fois"
   ]
  },
  {
   "cell_type": "markdown",
   "metadata": {
    "slideshow": {
     "slide_type": "slide"
    }
   },
   "source": [
    "## les *remote*s"
   ]
  },
  {
   "cell_type": "markdown",
   "metadata": {},
   "source": [
    "dans notre clone, notez la présence d'un *remote* appelé `origin`"
   ]
  },
  {
   "cell_type": "code",
   "execution_count": null,
   "metadata": {
    "cell_style": "split"
   },
   "outputs": [],
   "source": [
    "# nous sommes dans le clone\n",
    "pwd"
   ]
  },
  {
   "cell_type": "code",
   "execution_count": null,
   "metadata": {
    "cell_style": "split"
   },
   "outputs": [],
   "source": [
    "# pour lister les remotes connus\n",
    "git remote"
   ]
  },
  {
   "cell_type": "markdown",
   "metadata": {
    "slideshow": {
     "slide_type": "slide"
    }
   },
   "source": [
    "au moment du `clone`, git a créé pour nous ce *remote* avec le nom prédéfini `origin`, qui désigne le repo d'où on a cloné"
   ]
  },
  {
   "cell_type": "code",
   "execution_count": null,
   "metadata": {},
   "outputs": [],
   "source": [
    "# en version bavarde on voit à quoi correspond le remote \n",
    "git remote -v"
   ]
  },
  {
   "cell_type": "markdown",
   "metadata": {},
   "source": [
    "comme pour les branches, on peut facilement ajouter, renommer, etc. les *remote*s"
   ]
  },
  {
   "cell_type": "markdown",
   "metadata": {
    "slideshow": {
     "slide_type": "slide"
    }
   },
   "source": [
    "## branches et remotes"
   ]
  },
  {
   "cell_type": "markdown",
   "metadata": {},
   "source": [
    "un repo git est *self-contained*\n",
    "\n",
    "* toutes les références (branche et remote) sont des **objets locaux**\n",
    "* on peut toujours travailler sans connexion réseau\n",
    "\n",
    "pour résumer, deux notions très différentes\n",
    "\n",
    "* la branche désigne un point dans les commits (forcément locaux)\n",
    "* le remote est simplement une **référence** vers un autre repo\n",
    "  * c'est juste un nom, un alias, vers un autre repo\n",
    "* ainsi par exemple\n",
    "  * on peut sans souci créer un remote vers un repo inexistant\n",
    "  * c'est seulement quand on s'en sert - via fetch/push/pull - qu'on se rendra compte du problème"
   ]
  },
  {
   "cell_type": "markdown",
   "metadata": {
    "slideshow": {
     "slide_type": "slide"
    }
   },
   "source": [
    "## branches et remotes - suite"
   ]
  },
  {
   "cell_type": "markdown",
   "metadata": {},
   "source": [
    "* comme un repo est *self-contained*\n",
    "* il conserve **localement** la trace des branches distantes\n",
    "* voyez par exemple les branches `origin/master` et `origin/devel`\n"
   ]
  },
  {
   "cell_type": "code",
   "execution_count": null,
   "metadata": {},
   "outputs": [],
   "source": [
    "git l -3 --all"
   ]
  },
  {
   "cell_type": "markdown",
   "metadata": {
    "cell_style": "split"
   },
   "source": [
    "qu'on pourrait rephraser comme:\n",
    "* du point de vue du repo `cloned-repo`\n",
    "* il y a dans le repo distant `origin` (donc, `my-first-repo`)\n",
    "* une branche `master` \n",
    "* qui pointe vers ce commit"
   ]
  },
  {
   "cell_type": "code",
   "execution_count": null,
   "metadata": {
    "cell_style": "split"
   },
   "outputs": [],
   "source": [
    "# REMARQUE\n",
    "# on peut utiliser la syntaxe origin/devel \n",
    "# pour désigner un commit\n",
    "git l origin/devel"
   ]
  },
  {
   "cell_type": "markdown",
   "metadata": {
    "slideshow": {
     "slide_type": "slide"
    }
   },
   "source": [
    "## branches et remotes - suite"
   ]
  },
  {
   "cell_type": "markdown",
   "metadata": {},
   "source": [
    "cette information **n'est pas** garantie d'être 100% à jour !\n",
    "\n",
    "on va le voir tout de suite : \n",
    "\n",
    "* si je crée dans `my-first-repo` un commit\n",
    "  * c'est une opération **strictement locale**\n",
    "* le clone `cloned-repo` n'en n'est pas informé immédiatement\n",
    "  * à nouveau, c'est du pair à pair / chacun chez soi\n",
    "* il le sera essentiellement s'il fait un `fetch`"
   ]
  },
  {
   "cell_type": "markdown",
   "metadata": {},
   "source": [
    "remarque:\n",
    "\n",
    "* on peut configurer énormément de choses; par exemple\n",
    "  * décider de synchoniser deux repos après chaque commit\n",
    "* mais c'est de l'ordre du confort\n",
    "  * ce sont des **opérations élémentaires distinctes**"
   ]
  },
  {
   "cell_type": "markdown",
   "metadata": {
    "slideshow": {
     "slide_type": "slide"
    }
   },
   "source": [
    "## synchro - fetch"
   ]
  },
  {
   "cell_type": "markdown",
   "metadata": {},
   "source": [
    "notre scénario\n",
    "\n",
    "* créer u nouveau commit dans le repo originel `my-first-repo`\n",
    "* observer les deux repos à ce stade\n",
    "* déclencher un `fetch` depuis `cloned-repo`\n",
    "* observer les deux repos à ce stade"
   ]
  },
  {
   "cell_type": "markdown",
   "metadata": {
    "slideshow": {
     "slide_type": "slide"
    }
   },
   "source": [
    "## fetch (1) - créer un commit à l'origine"
   ]
  },
  {
   "cell_type": "code",
   "execution_count": null,
   "metadata": {},
   "outputs": [],
   "source": [
    "cd $TOPLEVEL/my-first-repo"
   ]
  },
  {
   "cell_type": "code",
   "execution_count": null,
   "metadata": {
    "cell_style": "split"
   },
   "outputs": [],
   "source": [
    "git l\n"
   ]
  },
  {
   "cell_type": "code",
   "execution_count": null,
   "metadata": {
    "cell_style": "split"
   },
   "outputs": [],
   "source": [
    "$SCRIPTS/do no-worries-2\n",
    "git add factorial.py\n",
    "git commit -m \"fix factorial in the origin repo\""
   ]
  },
  {
   "cell_type": "code",
   "execution_count": null,
   "metadata": {},
   "outputs": [],
   "source": [
    "git l"
   ]
  },
  {
   "cell_type": "markdown",
   "metadata": {
    "slideshow": {
     "slide_type": "slide"
    }
   },
   "source": [
    "## fetch (2) - utiliser `fetch` depuis le clone"
   ]
  },
  {
   "cell_type": "code",
   "execution_count": null,
   "metadata": {},
   "outputs": [],
   "source": [
    "# je retourne sur le clone\n",
    "cd $TOPLEVEL/cloned-repo"
   ]
  },
  {
   "cell_type": "code",
   "execution_count": null,
   "metadata": {
    "cell_style": "split"
   },
   "outputs": [],
   "source": [
    "git l"
   ]
  },
  {
   "cell_type": "code",
   "execution_count": null,
   "metadata": {
    "cell_style": "split"
   },
   "outputs": [],
   "source": [
    "# pour aller chercher \n",
    "git fetch --all"
   ]
  },
  {
   "cell_type": "markdown",
   "metadata": {
    "slideshow": {
     "slide_type": "slide"
    }
   },
   "source": [
    "## après le `fetch`"
   ]
  },
  {
   "cell_type": "code",
   "execution_count": null,
   "metadata": {
    "cell_style": "split"
   },
   "outputs": [],
   "source": [
    "git l --all"
   ]
  },
  {
   "cell_type": "markdown",
   "metadata": {
    "cell_style": "split"
   },
   "source": [
    "remarquez :\n",
    "\n",
    "* nous voyons un nouveau commit !\n",
    "* `origin/master` est mis à jour\n",
    "* ainsi d'ailleurs que `origin/HEAD`\n",
    "* remarque: pas de branch locale `devel`\n",
    "  * on peut cependant faire\n",
    "  * `git checkout devel` "
   ]
  },
  {
   "cell_type": "markdown",
   "metadata": {
    "slideshow": {
     "slide_type": "slide"
    }
   },
   "source": [
    "## mettre à jour les références locales"
   ]
  },
  {
   "cell_type": "markdown",
   "metadata": {
    "cell_style": "split"
   },
   "source": [
    "à ce stade, pour me mettre à jour par rapport au repo distant, je peux\n",
    "\n",
    "* merger `origin/master` dans `master`\n",
    "* ce qui ferait avancer `master` d'un cran \n",
    "* noter que c'est un merge `fast-forward`\n",
    "* et donc, pas de création de commit"
   ]
  },
  {
   "cell_type": "code",
   "execution_count": null,
   "metadata": {
    "cell_style": "split"
   },
   "outputs": [],
   "source": [
    "git merge origin/master"
   ]
  },
  {
   "cell_type": "code",
   "execution_count": null,
   "metadata": {},
   "outputs": [],
   "source": [
    "git l"
   ]
  },
  {
   "cell_type": "markdown",
   "metadata": {
    "slideshow": {
     "slide_type": "slide"
    }
   },
   "source": [
    "## `pull = fetch + merge`"
   ]
  },
  {
   "cell_type": "markdown",
   "metadata": {},
   "source": [
    "* c'est exactement le propos de `pull`\n",
    "* que d'automatiser ce genre d'opérations\n",
    "* en une seule passe\n",
    "\n",
    "plusieurs formes\n",
    "\n",
    "* `git pull origin master` \n",
    "  * met à jour `origin/master` depuis le remote `origin`\n",
    "  * et le merge dans `master`\n",
    "* `git pull origin master:devel` \n",
    "  * met à jour `origin/master` et le merge dans `devel`"
   ]
  },
  {
   "cell_type": "markdown",
   "metadata": {
    "slideshow": {
     "slide_type": "slide"
    }
   },
   "source": [
    "## `pull` et raccourcis"
   ]
  },
  {
   "cell_type": "markdown",
   "metadata": {
    "slideshow": {
     "slide_type": ""
    }
   },
   "source": [
    "* on peut même encore raccourcir, grâce à la configuration\n",
    "* en partant du nom de la branche courante, ici `master`\n",
    "* qui a été configurée lorsqu'on a fait `clone`"
   ]
  },
  {
   "cell_type": "code",
   "execution_count": null,
   "metadata": {
    "cell_style": "split"
   },
   "outputs": [],
   "source": [
    "# git config permet de lire\n",
    "# un attribut dans la config\n",
    "git config branch.master.remote"
   ]
  },
  {
   "cell_type": "code",
   "execution_count": null,
   "metadata": {
    "cell_style": "split",
    "slideshow": {
     "slide_type": ""
    }
   },
   "outputs": [],
   "source": [
    "git config branch.master.merge"
   ]
  },
  {
   "cell_type": "markdown",
   "metadata": {},
   "source": [
    "du coup je peux encore enlever des arguments\n",
    "\n",
    "* `git pull origin`\n",
    "  * revient à `git pull origin master`\n",
    "* `git pull` \n",
    "  * revient `git pull origin master`"
   ]
  },
  {
   "cell_type": "markdown",
   "metadata": {
    "slideshow": {
     "slide_type": "slide"
    }
   },
   "source": [
    "## résumé sur *fetch* et *merge* et *pull*"
   ]
  },
  {
   "cell_type": "markdown",
   "metadata": {},
   "source": [
    "pour résumer jusqu'ici :\n",
    "\n",
    "* `fetch`\n",
    "  * avec `git fetch` on sait aller chercher \n",
    "    les commits présents dans les autres repos\n",
    "  * je recommande de faire `git fetch --all` \n",
    "    car la commande est principalement inoffensive\n",
    "  * les outils genre SourceTree font cela périodiquement par défaut\n",
    "\n",
    "* `merge` \n",
    "  * on peut ensuite merger ces commits\n",
    "  * exactement comme si on les avait créés localement\n",
    "  * notamment vis-à-vis des *fast-forward* \n",
    "  \n",
    "* `pull` \n",
    "  * permet de faire les deux phases en une fois"
   ]
  },
  {
   "cell_type": "markdown",
   "metadata": {
    "slideshow": {
     "slide_type": "slide"
    }
   },
   "source": [
    "## dans l'autre sens"
   ]
  },
  {
   "cell_type": "markdown",
   "metadata": {
    "cell_style": "split"
   },
   "source": [
    "\n",
    "* le modèle étant symétrique (pair à pair)\n",
    "* à première vue, on se dit que le *push* \n",
    "* c-à-d propager des commits locaux vers un repo ditant\n",
    "* devrait être l'exact symétrique du *pull*\n"
   ]
  },
  {
   "cell_type": "markdown",
   "metadata": {
    "cell_style": "split",
    "slideshow": {
     "slide_type": "fragment"
    }
   },
   "source": [
    "en pratique ce n'est **pas le cas**"
   ]
  },
  {
   "cell_type": "markdown",
   "metadata": {
    "slideshow": {
     "slide_type": "slide"
    }
   },
   "source": [
    "## dissymétrie"
   ]
  },
  {
   "cell_type": "markdown",
   "metadata": {},
   "source": [
    "la dissymétrie est liée à la résolution de conflits :\n",
    "\n",
    "* lors d'un `pull`, il y a un humain qui peut résoudre les conflits, revenir en arrière, etc..\n",
    "* lors d'un `push`, ce **n'est pas forcément le cas**\n",
    "\n",
    "c'est pourquoi :\n",
    "\n",
    "* l'opération de `push` est effectivement l'inverse de `pull`\n",
    "* on recopie à distance les commits qui n'y sont pas encore\n",
    "* et on merge dans la branche distante\n",
    "* mais c'est **limité à des *fast-foward***"
   ]
  },
  {
   "cell_type": "markdown",
   "metadata": {
    "slideshow": {
     "slide_type": "slide"
    }
   },
   "source": [
    "## push et droits d'accès"
   ]
  },
  {
   "cell_type": "markdown",
   "metadata": {},
   "source": [
    "notez aussi que, bien entendu, lors d'un push :\n",
    "* il faut les droits d'écriture dans le repo distant\n",
    "\n",
    "dans mon cas de figure\n",
    "* puisque mes deux repos sont locaux\n",
    "* j'ai bien le droit d'écrire dans les deux repos \n",
    "\n",
    "dans le cas d'un repo distant sur github (gitlab, ...)\n",
    "* il faut faire une démarche particulière pour obtenir ce droit\n",
    "* **ou bien** se créer un *fork* (c'est leur principale raison d'être)\n",
    "* on reparlera de tout ça"
   ]
  },
  {
   "cell_type": "markdown",
   "metadata": {
    "slideshow": {
     "slide_type": "slide"
    }
   },
   "source": [
    "## un push simple"
   ]
  },
  {
   "cell_type": "markdown",
   "metadata": {
    "slideshow": {
     "slide_type": ""
    }
   },
   "source": [
    "scénario #1 : un push qui se passe bien\n",
    "\n",
    "* je crée un commit dans le repo original\n",
    "* je le pousse sur le clone"
   ]
  },
  {
   "cell_type": "markdown",
   "metadata": {
    "slideshow": {
     "slide_type": "slide"
    }
   },
   "source": [
    "## "
   ]
  },
  {
   "cell_type": "markdown",
   "metadata": {
    "slideshow": {
     "slide_type": "slide"
    }
   },
   "source": [
    "## un push compliqué\n",
    "\n",
    "scénario #2 : un push qui ne se passe pas bien\n",
    "\n",
    "* en partant des deux repo synchronisés\n",
    "* je crée un commit sur l'un et un comnit sur l'autre\n",
    "* si j'essaie de pousser à ce stade\n",
    "  * je ne suis pas dans le cas *fast forward* !\n",
    "  * et le *push* échoue*\n",
    "* il me faut alors d'abord tirer, avant de pouvoir pousser"
   ]
  }
 ],
 "metadata": {
  "celltoolbar": "Slideshow",
  "kernelspec": {
   "display_name": "Calysto Bash",
   "language": "bash",
   "name": "calysto_bash"
  },
  "language_info": {
   "file_extension": ".sh",
   "help_links": [
    {
     "text": "MetaKernel Magics",
     "url": "https://metakernel.readthedocs.io/en/latest/source/README.html"
    }
   ],
   "mimetype": "text/x-sh",
   "name": "bash",
   "version": "0.2.1"
  },
  "notebookname": "mon premier remote",
  "rise": {
   "autolaunch": true,
   "slideNumber": "c/t",
   "start_slideshow_at": "selected",
   "theme": "sky",
   "transition": "cube"
  },
  "version": "1.0"
 },
 "nbformat": 4,
 "nbformat_minor": 2
}
