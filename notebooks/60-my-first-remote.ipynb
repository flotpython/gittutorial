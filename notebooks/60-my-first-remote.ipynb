{
 "cells": [
  {
   "cell_type": "markdown",
   "metadata": {},
   "source": [
    "<div class=\"licence\">\n",
    "<span>Licence CC BY-NC-ND</span>\n",
    "<span>Thierry Parmentelat</span>\n",
    "<span><img src=\"media/inria-25-alpha.png\" /></span>\n",
    "</div>"
   ]
  },
  {
   "cell_type": "markdown",
   "metadata": {},
   "source": [
    "# `git` tutorial (6)"
   ]
  },
  {
   "cell_type": "markdown",
   "metadata": {},
   "source": [
    "## deuxième dépôt"
   ]
  },
  {
   "cell_type": "code",
   "execution_count": null,
   "metadata": {},
   "outputs": [],
   "source": [
    "# ce sera toujours notre façon de commencer\n",
    "[ -f scripts/helpers.sh ] && source scripts/helpers.sh"
   ]
  },
  {
   "cell_type": "code",
   "execution_count": null,
   "metadata": {
    "slideshow": {
     "slide_type": "slide"
    }
   },
   "outputs": [],
   "source": [
    "# si nécessaire, vous pouvez remettre le repository en l'état\n",
    "# \n",
    "# pour cela mettez \"true\" au lieu de \"\"\n",
    "# et bien sûr évaluer la cellule\n",
    "\n",
    "reset=\"\"\n",
    "\n",
    "if [ -n \"$reset\" ]; then \n",
    "    cd $TOPLEVEL\n",
    "    bash $SCRIPTS/10-my-first-repo.sh\n",
    "    bash $SCRIPTS/20-my-first-changes.sh\n",
    "    bash $SCRIPTS/30-my-first-branch.sh\n",
    "    bash $SCRIPTS/40-kinds-of-merge.sh\n",
    "fi >& /dev/null"
   ]
  },
  {
   "cell_type": "code",
   "execution_count": null,
   "metadata": {},
   "outputs": [],
   "source": [
    "# si nécessaire, on se place dans le repo git\n",
    "[ -d my-first-repo ] && cd my-first-repo\n",
    "\n",
    "pwd"
   ]
  },
  {
   "cell_type": "markdown",
   "metadata": {
    "slideshow": {
     "slide_type": "slide"
    }
   },
   "source": [
    "## le point"
   ]
  },
  {
   "cell_type": "code",
   "execution_count": null,
   "metadata": {
    "cell_style": "split",
    "slideshow": {
     "slide_type": ""
    }
   },
   "outputs": [],
   "source": [
    "# vous devez avoir 9 commits\n",
    "git log --oneline | wc -l\n"
   ]
  },
  {
   "cell_type": "code",
   "execution_count": null,
   "metadata": {
    "cell_style": "split"
   },
   "outputs": [],
   "source": [
    "# le dernier s'appelle 'conflit résolu'\n",
    "git log -1 --format=\"%s\""
   ]
  },
  {
   "cell_type": "code",
   "execution_count": null,
   "metadata": {},
   "outputs": [],
   "source": [
    "# et la branche courante est master\n",
    "git branch"
   ]
  },
  {
   "cell_type": "markdown",
   "metadata": {
    "slideshow": {
     "slide_type": "slide"
    }
   },
   "source": [
    "## `git clone` sert à dupliquer un repo"
   ]
  },
  {
   "cell_type": "markdown",
   "metadata": {},
   "source": [
    "permet de dupliquer un repo:\n",
    "\n",
    "* la partie `bare`, i.e. **les commits**, sont concernés\n",
    "* l'index n'est pas concerné\n",
    "* les fichiers présents dans le **commit courant** sont créés"
   ]
  },
  {
   "cell_type": "markdown",
   "metadata": {},
   "source": [
    "* en général, sur deux machines distinctes\n",
    "  * e.g. un repo local et un sur github\n",
    "* pas obligatoire\n",
    "  * nous allons créer nos repos localement"
   ]
  },
  {
   "cell_type": "code",
   "execution_count": null,
   "metadata": {
    "cell_style": "split",
    "slideshow": {
     "slide_type": "slide"
    }
   },
   "outputs": [],
   "source": [
    "if [ -d $TOPLEVEL/fake-github ]; then\n",
    "    rm -rf $TOPLEVEL/fake-github\n",
    "fi\n",
    "\n",
    "cd $TOPLEVEL\n",
    "git clone my-first-repo/.git fake-github\n"
   ]
  },
  {
   "cell_type": "code",
   "execution_count": null,
   "metadata": {
    "cell_style": "split"
   },
   "outputs": [],
   "source": [
    "cd $TOPLEVEL/fake-github\n",
    "\n",
    "ls"
   ]
  },
  {
   "cell_type": "code",
   "execution_count": null,
   "metadata": {
    "cell_style": "center"
   },
   "outputs": [],
   "source": [
    "git l"
   ]
  },
  {
   "cell_type": "markdown",
   "metadata": {
    "slideshow": {
     "slide_type": "slide"
    }
   },
   "source": [
    "## exemple réseau"
   ]
  },
  {
   "cell_type": "markdown",
   "metadata": {},
   "source": [
    "dans la pratique on ferait plutôt par exemple"
   ]
  },
  {
   "cell_type": "code",
   "execution_count": null,
   "metadata": {},
   "outputs": [],
   "source": [
    "cd $TOPLEVEL\n",
    "git clone https://github.com/parmentelat/nbautoeval"
   ]
  }
 ],
 "metadata": {
  "celltoolbar": "Slideshow",
  "kernelspec": {
   "display_name": "Calysto Bash",
   "language": "bash",
   "name": "calysto_bash"
  },
  "language_info": {
   "file_extension": ".sh",
   "help_links": [
    {
     "text": "MetaKernel Magics",
     "url": "https://metakernel.readthedocs.io/en/latest/source/README.html"
    }
   ],
   "mimetype": "text/x-sh",
   "name": "bash",
   "version": "0.2.1"
  },
  "notebookname": "mon premier remote",
  "rise": {
   "autolaunch": true,
   "slideNumber": "c/t",
   "start_slideshow_at": "selected",
   "theme": "sky",
   "transition": "cube"
  },
  "version": "1.0"
 },
 "nbformat": 4,
 "nbformat_minor": 2
}
