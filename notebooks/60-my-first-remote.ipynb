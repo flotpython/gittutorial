{
 "cells": [
  {
   "cell_type": "markdown",
   "metadata": {},
   "source": [
    "<div class=\"licence\">\n",
    "<span>Licence CC BY-NC-ND</span>\n",
    "<span>Thierry Parmentelat</span>\n",
    "<span><img src=\"media/inria-25-alpha.png\" /></span>\n",
    "</div>"
   ]
  },
  {
   "cell_type": "markdown",
   "metadata": {},
   "source": [
    "# `git` tutorial (6)"
   ]
  },
  {
   "cell_type": "markdown",
   "metadata": {},
   "source": [
    "## synchronisations entre repos"
   ]
  },
  {
   "cell_type": "code",
   "execution_count": null,
   "metadata": {},
   "outputs": [],
   "source": [
    "# ce sera toujours notre façon de commencer\n",
    "[ -f scripts/helpers.sh ] && source scripts/helpers.sh"
   ]
  },
  {
   "cell_type": "markdown",
   "metadata": {
    "slideshow": {
     "slide_type": "slide"
    }
   },
   "source": [
    "## architecture décentralisée"
   ]
  },
  {
   "cell_type": "markdown",
   "metadata": {},
   "source": [
    "* on a vu plusieurs architectures permettant de créer des workflows\n",
    "* comme par exemple\n",
    "\n",
    "![](media/archi-star.png)\n",
    "\n",
    "* dans ce schéma \n",
    "  * les boites sont des repos\n",
    "  * les liens correspondent à des synchronisations entre repos  "
   ]
  },
  {
   "cell_type": "markdown",
   "metadata": {
    "slideshow": {
     "slide_type": "slide"
    }
   },
   "source": [
    "## notre exemple"
   ]
  },
  {
   "cell_type": "markdown",
   "metadata": {},
   "source": [
    "pour cette partie :\n",
    "\n",
    "* nous repartons d'un repo quasiment vide `repo-alice`\n",
    "* que l'on va *cloner* dans `repo-cloned`\n",
    "* puis les modifier (créer des commits)\n",
    "* et les synchroniser entre eux "
   ]
  },
  {
   "cell_type": "code",
   "execution_count": null,
   "metadata": {
    "slideshow": {
     "slide_type": "slide"
    }
   },
   "outputs": [],
   "source": [
    "cd $TOP\n",
    "\n",
    "# on recommence un autre repo plus simple; à nouveau\n",
    "# je nettoie complètement ce qu'on a pu faire précédemment\n",
    "if [ -d repo-alice ]; then\n",
    "    echo \"on repart d'un directory vide\"\n",
    "    rm -rf repo-alice repo-cloned fake-github.git repo-bob\n",
    "fi\n",
    "\n",
    "# on le crée\n",
    "mkdir repo-alice\n",
    "\n",
    "# on va dedans\n",
    "cd repo-alice"
   ]
  },
  {
   "cell_type": "code",
   "execution_count": null,
   "metadata": {},
   "outputs": [],
   "source": [
    "# si nécessaire, on se place dans le repo git\n",
    "[ -d repo-alice ] && cd repo-alice\n",
    "\n",
    "pwd"
   ]
  },
  {
   "cell_type": "markdown",
   "metadata": {
    "slideshow": {
     "slide_type": "slide"
    }
   },
   "source": [
    "## création"
   ]
  },
  {
   "cell_type": "code",
   "execution_count": null,
   "metadata": {},
   "outputs": [],
   "source": [
    "$SCRIPTS/do populate-repo-alice"
   ]
  },
  {
   "cell_type": "code",
   "execution_count": null,
   "metadata": {},
   "outputs": [],
   "source": [
    "git l"
   ]
  },
  {
   "cell_type": "markdown",
   "metadata": {
    "slideshow": {
     "slide_type": "slide"
    }
   },
   "source": [
    "## le point"
   ]
  },
  {
   "cell_type": "code",
   "execution_count": null,
   "metadata": {
    "cell_style": "split",
    "slideshow": {
     "slide_type": ""
    }
   },
   "outputs": [],
   "source": [
    "# vous devez avoir 2 commits\n",
    "git l\n"
   ]
  },
  {
   "cell_type": "code",
   "execution_count": null,
   "metadata": {
    "cell_style": "split"
   },
   "outputs": [],
   "source": [
    "# avec deux branches `master` et `devel`\n",
    "# on est sur la branch devel\n",
    "git branch"
   ]
  },
  {
   "cell_type": "markdown",
   "metadata": {
    "slideshow": {
     "slide_type": "slide"
    }
   },
   "source": [
    "## pour les besoins du cours"
   ]
  },
  {
   "cell_type": "markdown",
   "metadata": {},
   "source": [
    "* en général, les repos sont créés sur des **machines distinctes**\n",
    "  * typiquement : un repo local + un sur github\n",
    "* techniquement, pas obligatoire\n",
    "  * **pour les besoins du cours**,  \n",
    "    nous allons créer nos repos **localement** \n",
    "\n",
    "* les mécanismes de copie/synchronisation sont exactement identiques"
   ]
  },
  {
   "cell_type": "code",
   "execution_count": null,
   "metadata": {
    "cell_style": "center",
    "slideshow": {
     "slide_type": ""
    }
   },
   "outputs": [],
   "source": [
    "# on utilisera ce répertoire $TOP/repo-cloned\n",
    "# pour simuler un deuxième repo\n",
    "# \n",
    "# on verra plus tard qu'en pratique deux personnes\n",
    "# qui travaillent ensemble passent par un troisième \n",
    "# repo sur github, mais pour l'instant on veut \n",
    "# seulement bien illustrer les fonctions `fetch` et `pull` \n",
    "\n",
    "if [ -d $TOP/repo-cloned ]; then\n",
    "    rm -rf $TOP/repo-cloned\n",
    "fi"
   ]
  },
  {
   "cell_type": "markdown",
   "metadata": {
    "slideshow": {
     "slide_type": "slide"
    }
   },
   "source": [
    "## `git clone` sert à dupliquer un repo"
   ]
  },
  {
   "cell_type": "code",
   "execution_count": null,
   "metadata": {
    "cell_style": "split",
    "slideshow": {
     "slide_type": ""
    }
   },
   "outputs": [],
   "source": [
    "cd $TOP\n",
    "\n",
    "git clone repo-alice/.git repo-cloned"
   ]
  },
  {
   "cell_type": "code",
   "execution_count": null,
   "metadata": {
    "cell_style": "split"
   },
   "outputs": [],
   "source": [
    "cd $TOP/repo-cloned\n",
    "\n",
    "ls"
   ]
  },
  {
   "cell_type": "markdown",
   "metadata": {
    "cell_style": "center",
    "slideshow": {
     "slide_type": "slide"
    }
   },
   "source": [
    "le clone va contenir :\n",
    "\n",
    "* **les commits**, c'est-à-dire la partie `bare`\n",
    "* les fichiers présents dans le **commit courant**\n",
    "* mais par contre l'index n'est **pas concerné**\n",
    "  * si on avait eu des modifications pendantes dans `repo-alice`\n",
    "  * que ce soit dans l'index ou les fichiers\n",
    "  * ils **n'auraient pas** été copiés"
   ]
  },
  {
   "cell_type": "code",
   "execution_count": null,
   "metadata": {
    "cell_style": "split"
   },
   "outputs": [],
   "source": [
    "git status"
   ]
  },
  {
   "cell_type": "code",
   "execution_count": null,
   "metadata": {
    "cell_style": "split"
   },
   "outputs": [],
   "source": [
    "git l"
   ]
  },
  {
   "cell_type": "markdown",
   "metadata": {
    "slideshow": {
     "slide_type": "slide"
    }
   },
   "source": [
    "* en réalité dans un `git clone`\n",
    "  * du coté source, seul le ***bare repo*** est lu\n",
    "  * les fichiers et l'index ne sont **pas du tout regardés**\n",
    "  * bien souvent d'ailleurs la source est sur une infra comme github\n",
    "  * et dans ce cas la source n'est **que** un *bare repo*\n",
    "  \n",
    "* les fonctions de synchro entre repos\n",
    "  * ne concernent en réalité  \n",
    "    que la partie 'bare repo' des deux cotés\n",
    "\n",
    "  * en général les fichiers et index **ne sont pas concernés**  \n",
    "    par les synchros entre repo\n",
    "\n",
    "  * qui ne font principalement que transférer des commits  \n",
    "    (et mettre à jour des branches)\n",
    "    \n",
    "* sauf dans le cas de `pull` \n",
    "  * qui en réalité fait `fetch` + `merge`\n",
    "  * et du coup `merge` peut être amené à toucher les fichiers"
   ]
  },
  {
   "cell_type": "markdown",
   "metadata": {
    "cell_style": "center",
    "slideshow": {
     "slide_type": "slide"
    }
   },
   "source": [
    "à noter surtout :\n",
    "\n",
    "* **pas de hiérarchie** entre les repos\n",
    "  * la source et le clone sont des **pairs** - pas de *master*/*slave* \n",
    "* la seule différence bien sûr ce sont les droits d'accès\n",
    "  * en gros c'est **chacun chez soi**\n",
    "  * si vous avez les droits d'accès (linux, windows, macOS)  \n",
    "    sur un repo vous pouvez écrire dedans"
   ]
  },
  {
   "cell_type": "markdown",
   "metadata": {
    "slideshow": {
     "slide_type": "slide"
    }
   },
   "source": [
    "autre remarque :\n",
    "\n",
    "* les SHA1 des commits **sont préservés**\n",
    "* la copie se fait quasiment à l'octet près\n",
    "* ce qui permet un mode de réplication incrémental\n",
    "  * si je copie un gros repo un lundi\n",
    "  * et que je tire depuis ce repo mardi\n",
    "  * on va efficacement calculer ce qu'il est réellement utile de transférer"
   ]
  },
  {
   "cell_type": "code",
   "execution_count": null,
   "metadata": {
    "cell_style": "split"
   },
   "outputs": [],
   "source": [
    "cd $TOP/repo-alice\n",
    "git l -1"
   ]
  },
  {
   "cell_type": "code",
   "execution_count": null,
   "metadata": {
    "cell_style": "split"
   },
   "outputs": [],
   "source": [
    "cd $TOP/repo-cloned\n",
    "git l -1"
   ]
  },
  {
   "cell_type": "markdown",
   "metadata": {
    "cell_style": "center",
    "slideshow": {
     "slide_type": "slide"
    }
   },
   "source": [
    "## `git clone` en vrai "
   ]
  },
  {
   "cell_type": "markdown",
   "metadata": {},
   "source": [
    "l'usage le plus fréquent consiste à dupliquer un repo qui est publié sur `github`\n",
    "\n",
    "par exemple ce cours est sur\n",
    "https://github.com/flotpython/gittutorial/"
   ]
  },
  {
   "cell_type": "markdown",
   "metadata": {
    "cell_style": "split"
   },
   "source": [
    "![](media/github-clone.png)"
   ]
  },
  {
   "cell_type": "markdown",
   "metadata": {
    "cell_style": "split"
   },
   "source": [
    "tapez \n",
    "\n",
    "    git clone \n",
    "    \n",
    "et faites 'coller' avec Control-V\n",
    "\n",
    "    git clone git@github.com:flotpython/gittutorial.git\n",
    "    \n",
    "vous pouvez alors faire\n",
    "\n",
    "    cd gittutorial\n",
    "    git log --oneline\n",
    "    ls"
   ]
  },
  {
   "cell_type": "markdown",
   "metadata": {
    "slideshow": {
     "slide_type": "slide"
    }
   },
   "source": [
    "## les fonctions de synchronisation"
   ]
  },
  {
   "cell_type": "markdown",
   "metadata": {
    "cell_style": "split"
   },
   "source": [
    "en plus de `clone`, les fonctions de synchronisation sont :\n",
    "\n",
    "* `fetch`\n",
    "* `pull`\n",
    "* `push`"
   ]
  },
  {
   "cell_type": "markdown",
   "metadata": {
    "cell_style": "split",
    "slideshow": {
     "slide_type": "fragment"
    }
   },
   "source": [
    "**passif**\n",
    "\n",
    "* `fetch`  injecte des commits distants dans le repo local **sans impact local**\n",
    "\n",
    "**actif**\n",
    "\n",
    "* `push`: injecte des commits locaux dans le repo distant\n",
    "* `pull` = `fetch`+`merge`\n"
   ]
  },
  {
   "cell_type": "markdown",
   "metadata": {
    "slideshow": {
     "slide_type": "slide"
    }
   },
   "source": [
    "## la notion de *remote*"
   ]
  },
  {
   "cell_type": "markdown",
   "metadata": {},
   "source": [
    "avant de voir en détail les fonctions de synchro,  \n",
    "nous devons voir la notion de *remote*\n",
    "\n",
    "un *remote*, c'est \n",
    "\n",
    "* essentiellement **un nom** symbolique\n",
    "* qui nous permet de faire facilement référence à un **autre repo**\n",
    "* i.e. plutôt que de retaper **son URL** à chaque fois"
   ]
  },
  {
   "cell_type": "markdown",
   "metadata": {
    "slideshow": {
     "slide_type": "slide"
    }
   },
   "source": [
    "## les *remote*s"
   ]
  },
  {
   "cell_type": "markdown",
   "metadata": {},
   "source": [
    "dans notre clone, notez la présence d'un *remote* appelé `origin`"
   ]
  },
  {
   "cell_type": "code",
   "execution_count": null,
   "metadata": {
    "cell_style": "split"
   },
   "outputs": [],
   "source": [
    "# nous sommes dans le clone\n",
    "pwd"
   ]
  },
  {
   "cell_type": "code",
   "execution_count": null,
   "metadata": {
    "cell_style": "split"
   },
   "outputs": [],
   "source": [
    "# pour lister les remotes connus\n",
    "git remote"
   ]
  },
  {
   "cell_type": "markdown",
   "metadata": {
    "slideshow": {
     "slide_type": "slide"
    }
   },
   "source": [
    "au moment du `clone`, git a créé pour nous ce *remote* avec le nom prédéfini `origin`, qui désigne le repo d'où on a cloné"
   ]
  },
  {
   "cell_type": "code",
   "execution_count": null,
   "metadata": {},
   "outputs": [],
   "source": [
    "# en version bavarde on voit à quoi correspond le remote \n",
    "git remote -v"
   ]
  },
  {
   "cell_type": "markdown",
   "metadata": {},
   "source": [
    "pour info : comme pour les branches, on peut facilement ajouter, renommer, etc. les *remote*s"
   ]
  },
  {
   "cell_type": "markdown",
   "metadata": {
    "slideshow": {
     "slide_type": "slide"
    }
   },
   "source": [
    "## branches et remotes"
   ]
  },
  {
   "cell_type": "markdown",
   "metadata": {},
   "source": [
    "un repo git est *self-contained*\n",
    "\n",
    "* toutes les références (branche et remote) sont des **objets locaux**\n",
    "* on peut toujours travailler sans connexion réseau\n",
    "\n",
    "pour résumer, deux notions très différentes\n",
    "\n",
    "* la branche désigne un point dans les commits (forcément locaux)\n",
    "* le remote est simplement une **référence** vers un autre repo\n",
    "  * c'est juste un nom, un alias, vers un autre repo\n",
    "* ainsi par exemple\n",
    "  * on peut sans souci créer un remote vers un repo inexistant\n",
    "  * c'est seulement quand on s'en sert - via fetch/push/pull - qu'on se rendra compte du problème"
   ]
  },
  {
   "cell_type": "markdown",
   "metadata": {
    "slideshow": {
     "slide_type": "slide"
    }
   },
   "source": [
    "## branches et remotes - suite"
   ]
  },
  {
   "cell_type": "markdown",
   "metadata": {},
   "source": [
    "* comme un repo est *self-contained*\n",
    "* il conserve **localement** la trace des branches distantes\n",
    "* voyez par exemple les branches `origin/master` et `origin/devel`\n"
   ]
  },
  {
   "cell_type": "code",
   "execution_count": null,
   "metadata": {},
   "outputs": [],
   "source": [
    "# depuis le clone, on voit un nouveau type \n",
    "# de référence, comme par exemple origin/master\n",
    "\n",
    "git l --all"
   ]
  },
  {
   "cell_type": "markdown",
   "metadata": {
    "cell_style": "center"
   },
   "source": [
    "qu'on pourrait paraphraser comme ceci :\n",
    "\n",
    "* du point de vue du repo `repo-cloned`\n",
    "* il y a dans le repo distant `origin` (donc, `repo-alice`)\n",
    "* une branche `master` \n",
    "* qui pointe vers ce commit"
   ]
  },
  {
   "cell_type": "markdown",
   "metadata": {
    "slideshow": {
     "slide_type": "slide"
    }
   },
   "source": [
    "## branches et remotes - suite"
   ]
  },
  {
   "cell_type": "markdown",
   "metadata": {},
   "source": [
    "cette information **n'est pas** garantie d'être 100% à jour !\n",
    "\n",
    "on va le voir tout de suite : \n",
    "\n",
    "* si je crée dans `my-first-repo` un commit\n",
    "  * c'est une opération **strictement locale**\n",
    "* le clone `repo-cloned` n'en n'est pas informé immédiatement\n",
    "  * à nouveau, c'est du pair à pair / chacun chez soi\n",
    "* il le sera essentiellement s'il fait un `fetch`"
   ]
  },
  {
   "cell_type": "markdown",
   "metadata": {},
   "source": [
    "remarque :\n",
    "\n",
    "* on peut configurer énormément de choses; par exemple\n",
    "  * décider de synchoniser deux repos après chaque commit\n",
    "* mais c'est de l'ordre du confort\n",
    "  * ce sont des **opérations élémentaires distinctes**"
   ]
  },
  {
   "cell_type": "markdown",
   "metadata": {
    "slideshow": {
     "slide_type": "slide"
    }
   },
   "source": [
    "## synchro - fetch"
   ]
  },
  {
   "cell_type": "markdown",
   "metadata": {},
   "source": [
    "notre scénario\n",
    "\n",
    "* créer un nouveau commit dans le repo originel `my-first-repo`\n",
    "* observer les deux repos à ce stade\n",
    "* déclencher un `fetch` depuis `repo-cloned`\n",
    "* observer les deux repos à ce stade"
   ]
  },
  {
   "cell_type": "markdown",
   "metadata": {
    "slideshow": {
     "slide_type": "slide"
    }
   },
   "source": [
    "## fetch (1) - créer un commit à l'origine"
   ]
  },
  {
   "cell_type": "code",
   "execution_count": null,
   "metadata": {},
   "outputs": [],
   "source": [
    "cd $TOP/repo-alice"
   ]
  },
  {
   "cell_type": "code",
   "execution_count": null,
   "metadata": {
    "cell_style": "split"
   },
   "outputs": [],
   "source": [
    "git l\n"
   ]
  },
  {
   "cell_type": "code",
   "execution_count": null,
   "metadata": {
    "cell_style": "split"
   },
   "outputs": [],
   "source": [
    "$SCRIPTS/do first-commit-in-alice"
   ]
  },
  {
   "cell_type": "code",
   "execution_count": null,
   "metadata": {},
   "outputs": [],
   "source": [
    "git l"
   ]
  },
  {
   "cell_type": "markdown",
   "metadata": {
    "slideshow": {
     "slide_type": "slide"
    }
   },
   "source": [
    "## avant le `fetch`"
   ]
  },
  {
   "cell_type": "code",
   "execution_count": null,
   "metadata": {
    "cell_style": "split"
   },
   "outputs": [],
   "source": [
    "cd $TOP/repo-alice\n",
    "git l"
   ]
  },
  {
   "cell_type": "code",
   "execution_count": null,
   "metadata": {
    "cell_style": "split"
   },
   "outputs": [],
   "source": [
    "cd $TOP/repo-cloned\n",
    "git l"
   ]
  },
  {
   "cell_type": "markdown",
   "metadata": {
    "slideshow": {
     "slide_type": "slide"
    }
   },
   "source": [
    "## fetch (2) - utiliser `fetch` depuis le clone"
   ]
  },
  {
   "cell_type": "code",
   "execution_count": null,
   "metadata": {},
   "outputs": [],
   "source": [
    "# je retourne sur le clone\n",
    "cd $TOP/repo-cloned\n",
    "\n",
    "# on va chercher les commits nouveaux\n",
    "# en faisant --all on va sur tous les remote connus\n",
    "# ici on n'en a qu'un, c'est origin = initial\n",
    "git fetch --all"
   ]
  },
  {
   "cell_type": "markdown",
   "metadata": {
    "slideshow": {
     "slide_type": "slide"
    }
   },
   "source": [
    "## après le `fetch`"
   ]
  },
  {
   "cell_type": "code",
   "execution_count": null,
   "metadata": {
    "cell_style": "split"
   },
   "outputs": [],
   "source": [
    "# le repo initial\n",
    "\n",
    "cd $TOP/repo-alice\n",
    "git l"
   ]
  },
  {
   "cell_type": "code",
   "execution_count": null,
   "metadata": {
    "cell_style": "split"
   },
   "outputs": [],
   "source": [
    "# le repo après fetch\n",
    "cd $TOP/repo-cloned\n",
    "\n",
    "# si je ne précise pas --all\n",
    "# on part comme toujours de HEAD\n",
    "git l "
   ]
  },
  {
   "cell_type": "code",
   "execution_count": null,
   "metadata": {
    "cell_style": "split"
   },
   "outputs": [],
   "source": [
    "# mais si j'ajoute --all:\n",
    "\n",
    "git l --all"
   ]
  },
  {
   "cell_type": "markdown",
   "metadata": {
    "cell_style": "split"
   },
   "source": [
    "remarquez :\n",
    "\n",
    "* nous voyons un nouveau commit !\n",
    "* `origin/devel` est mis à jour\n",
    "* ainsi d'ailleurs que `origin/HEAD`\n",
    "* remarque / digression : \n",
    "  * pas de branch locale `master`\n",
    "  * on pourrait cependant faire\n",
    "  * `git checkout master` \n",
    "  * on ne va pas le faire "
   ]
  },
  {
   "cell_type": "markdown",
   "metadata": {
    "slideshow": {
     "slide_type": "slide"
    }
   },
   "source": [
    "## mettre à jour les références locales"
   ]
  },
  {
   "cell_type": "markdown",
   "metadata": {
    "cell_style": "split"
   },
   "source": [
    "à ce stade, pour me mettre à jour par rapport au repo distant, je peux\n",
    "\n",
    "* merger `origin/devel` dans `devel`\n",
    "* ce qui ferait avancer `devel` d'un cran \n",
    "* noter que c'est un merge `fast-forward`\n",
    "* et donc, **pas de création** de commit"
   ]
  },
  {
   "cell_type": "code",
   "execution_count": null,
   "metadata": {
    "cell_style": "split"
   },
   "outputs": [],
   "source": [
    "git merge origin/devel"
   ]
  },
  {
   "cell_type": "code",
   "execution_count": null,
   "metadata": {},
   "outputs": [],
   "source": [
    "git l"
   ]
  },
  {
   "cell_type": "markdown",
   "metadata": {
    "slideshow": {
     "slide_type": "slide"
    }
   },
   "source": [
    "## `pull = fetch + merge`"
   ]
  },
  {
   "cell_type": "markdown",
   "metadata": {},
   "source": [
    "* c'est exactement le propos de `pull`\n",
    "* que d'automatiser ce genre d'opérations\n",
    "* en une seule passe\n",
    "\n",
    "plusieurs formes\n",
    "\n",
    "* `git pull origin master` \n",
    "  * met à jour `origin/master` depuis le remote `origin`\n",
    "  * et le merge dans `master`\n",
    "* `git pull origin master:devel` \n",
    "  * met à jour `origin/master` et le merge dans `devel`"
   ]
  },
  {
   "cell_type": "markdown",
   "metadata": {
    "slideshow": {
     "slide_type": "slide"
    }
   },
   "source": [
    "## `pull` et raccourcis"
   ]
  },
  {
   "cell_type": "markdown",
   "metadata": {
    "slideshow": {
     "slide_type": ""
    }
   },
   "source": [
    "* on peut même encore raccourcir, grâce à la configuration\n",
    "* en partant du nom de la branche courante, ici `devel`\n",
    "* qui a été configurée lorsqu'on a fait `clone`"
   ]
  },
  {
   "cell_type": "code",
   "execution_count": null,
   "metadata": {
    "cell_style": "split"
   },
   "outputs": [],
   "source": [
    "# git config permet de lire\n",
    "# un attribut dans la config\n",
    "\n",
    "# ceci est le défaut pour le\n",
    "# premier argument à git pull\n",
    "git config branch.devel.remote"
   ]
  },
  {
   "cell_type": "code",
   "execution_count": null,
   "metadata": {
    "cell_style": "split",
    "slideshow": {
     "slide_type": ""
    }
   },
   "outputs": [],
   "source": [
    "# pareil pour le deuxième argument\n",
    "\n",
    "git config branch.devel.merge"
   ]
  },
  {
   "cell_type": "markdown",
   "metadata": {},
   "source": [
    "du coup je peux encore enlever des arguments\n",
    "\n",
    "* `git pull origin`\n",
    "  * revient à `git pull origin devel`\n",
    "* `git pull` \n",
    "  * revient `git pull origin devel`"
   ]
  },
  {
   "cell_type": "markdown",
   "metadata": {
    "slideshow": {
     "slide_type": "slide"
    }
   },
   "source": [
    "## `pull` sur plusieurs branches"
   ]
  },
  {
   "cell_type": "markdown",
   "metadata": {},
   "source": [
    "enfin on peut indiquer plusieurs branches sur le même remote\n",
    "\n",
    "* `git pull origin master:master devel:devel` \n",
    "\n",
    "peut être utile quand on sait qu'on suit toujours plusieurs branches"
   ]
  },
  {
   "cell_type": "markdown",
   "metadata": {
    "slideshow": {
     "slide_type": "slide"
    }
   },
   "source": [
    "## résumé sur *fetch* et *merge* et *pull*"
   ]
  },
  {
   "cell_type": "markdown",
   "metadata": {},
   "source": [
    "pour résumer jusqu'ici :\n",
    "\n",
    "* `fetch`\n",
    "  * avec `git fetch` on sait aller chercher \n",
    "    les commits présents dans les autres repos\n",
    "\n",
    "  * je recommande de faire `git fetch --all` \n",
    "    car la commande est principalement inoffensive\n",
    "\n",
    "  * les outils genre SourceTree font cela périodiquement par défaut\n",
    "\n",
    "* `merge` \n",
    "  * on peut ensuite merger ces commits\n",
    "  * exactement comme si on les avait créés localement\n",
    "  * notamment vis-à-vis des *fast-forward* \n",
    "  \n",
    "* `pull` \n",
    "  * permet de faire les deux phases en une fois"
   ]
  },
  {
   "cell_type": "markdown",
   "metadata": {
    "slideshow": {
     "slide_type": "slide"
    }
   },
   "source": [
    "## dans l'autre sens: `push`"
   ]
  },
  {
   "cell_type": "markdown",
   "metadata": {
    "cell_style": "split"
   },
   "source": [
    "\n",
    "* le modèle étant symétrique (pair à pair)\n",
    "* à première vue, on se dit que le *push* \n",
    "* c-à-d propager des commits locaux vers un repo ditant\n",
    "* **devrait** être l'**exact symétrique** du *pull*\n"
   ]
  },
  {
   "cell_type": "markdown",
   "metadata": {
    "cell_style": "split",
    "slideshow": {
     "slide_type": "fragment"
    }
   },
   "source": [
    "* en pratique ce n'est **pas le cas**\n",
    "* on travaille dans une **autre repo**\n",
    "  * le plus souvent un *bare repo*"
   ]
  },
  {
   "cell_type": "markdown",
   "metadata": {
    "slideshow": {
     "slide_type": "slide"
    }
   },
   "source": [
    "## dissymétrie"
   ]
  },
  {
   "cell_type": "markdown",
   "metadata": {},
   "source": [
    "la dissymétrie est liée à la résolution de conflits :\n",
    "\n",
    "* lors d'un `pull`, il y a un humain qui peut résoudre les conflits, revenir en arrière, etc..\n",
    "* lors d'un `push`, ce **n'est pas forcément le cas** (pensez `github`)\n",
    "\n",
    "c'est pourquoi :\n",
    "\n",
    "* l'opération de `push` est effectivement l'inverse de `pull`\n",
    "* on recopie à distance les commits qui n'y sont pas encore\n",
    "* et on merge dans la branche distante\n",
    "* mais c'est **limité à des *fast-foward***\n",
    "* de cette façon on élimine la possibilité de conflits\n",
    "* même si ça peut paraître trop conservatoire"
   ]
  },
  {
   "cell_type": "markdown",
   "metadata": {
    "slideshow": {
     "slide_type": "slide"
    }
   },
   "source": [
    "## push et droits d'accès"
   ]
  },
  {
   "cell_type": "markdown",
   "metadata": {},
   "source": [
    "notez aussi que, bien entendu, lors d'un push :\n",
    "\n",
    "* il faut bien sûr les **droits d'écriture** dans le repo distant\n",
    "\n",
    "dans le cas d'un repo distant sur github (gitlab, ...)\n",
    "\n",
    "* il faut faire une démarche particulière pour obtenir ce droit\n",
    "* **ou bien** se créer un *fork* (c'est leur principale raison d'être)\n",
    "* on reparlera de tout ça"
   ]
  },
  {
   "cell_type": "markdown",
   "metadata": {
    "slideshow": {
     "slide_type": "slide"
    }
   },
   "source": [
    "## cas d'usage\n",
    "\n",
    "en pratique le `push` est utilisé pour\n",
    "\n",
    "* exposer un travail sur un repo public - toujours *bare*\n",
    "* de façon à ce que les collaborateurs  \n",
    "  puissent alors l'importer dans leur repo avec un `pull`\n",
    "  \n",
    "d'ailleurs \n",
    "\n",
    "* `git push` **se plaint** si on essaie de pousser  \n",
    "  vers un **repo qui n'est pas *bare***\n"
   ]
  },
  {
   "cell_type": "markdown",
   "metadata": {
    "slideshow": {
     "slide_type": "slide"
    }
   },
   "source": [
    "## pour expérimenter"
   ]
  },
  {
   "cell_type": "markdown",
   "metadata": {},
   "source": [
    "* nous allons revoir du coup notre setup\n",
    "* on conserve `repo-alice`\n",
    "* on détruit `repo-cloned`\n",
    "* on crée à la place un repo *bare* qui s'appelle `fake-github.git`\n",
    "* on va voir tout de suite pourquoi ce nom en `.git`"
   ]
  },
  {
   "cell_type": "code",
   "execution_count": null,
   "metadata": {
    "slideshow": {
     "slide_type": ""
    }
   },
   "outputs": [],
   "source": [
    "cd $TOP\n",
    "rm -rf repo-cloned fake-github.git\n",
    "git clone --bare repo-alice fake-github.git"
   ]
  },
  {
   "cell_type": "markdown",
   "metadata": {
    "cell_style": "center",
    "slideshow": {
     "slide_type": "slide"
    }
   },
   "source": [
    "## un *bare* repo"
   ]
  },
  {
   "cell_type": "markdown",
   "metadata": {},
   "source": [
    "ce qui nous donne l'occasion de voir à quoi ça ressemble"
   ]
  },
  {
   "cell_type": "code",
   "execution_count": null,
   "metadata": {
    "cell_style": "split"
   },
   "outputs": [],
   "source": [
    "cd $TOP\n",
    "\n",
    "# le contenu d'un repo bare\n",
    "ls fake-github.git"
   ]
  },
  {
   "cell_type": "code",
   "execution_count": null,
   "metadata": {
    "cell_style": "split"
   },
   "outputs": [],
   "source": [
    "# est proche du contenu d'un .git\n",
    "# dans un repo 'normal'\n",
    "\n",
    "ls repo-alice/.git"
   ]
  },
  {
   "cell_type": "markdown",
   "metadata": {},
   "source": [
    "enfin disons, surtout en ce qui concerne \n",
    "\n",
    "* `config`\n",
    "* `objects`: c'est là que sont rangés les commits et leurs contenus\n",
    "* `refs`: c'est là que sont rangées les branches\n",
    "\n",
    "on a l'habitude d'appeler les *bare* repo  \n",
    "avec un nom en `.git` pour indiquer leur type (juste une convention)"
   ]
  },
  {
   "cell_type": "markdown",
   "metadata": {
    "slideshow": {
     "slide_type": "slide"
    }
   },
   "source": [
    "## un push simple"
   ]
  },
  {
   "cell_type": "markdown",
   "metadata": {
    "slideshow": {
     "slide_type": ""
    }
   },
   "source": [
    "scénario #1 : un push qui se passe bien\n",
    "\n",
    "* je crée un commit dans le repo original\n",
    "* je le pousse sur le faux github"
   ]
  },
  {
   "cell_type": "markdown",
   "metadata": {
    "slideshow": {
     "slide_type": "slide"
    }
   },
   "source": [
    "## push simple"
   ]
  },
  {
   "cell_type": "code",
   "execution_count": null,
   "metadata": {
    "cell_style": "split"
   },
   "outputs": [],
   "source": [
    "cd $TOP/repo-alice\n",
    "\n",
    "$SCRIPTS/do commit-in-initial-for-simple-push\n",
    "\n",
    "git l"
   ]
  },
  {
   "cell_type": "code",
   "execution_count": null,
   "metadata": {
    "cell_style": "split"
   },
   "outputs": [],
   "source": [
    "cd $TOP/fake-github.git\n",
    "git l"
   ]
  },
  {
   "cell_type": "markdown",
   "metadata": {
    "slideshow": {
     "slide_type": "slide"
    }
   },
   "source": [
    "## préparation"
   ]
  },
  {
   "cell_type": "markdown",
   "metadata": {
    "slideshow": {
     "slide_type": "fragment"
    }
   },
   "source": [
    "quelques précautions sont à prendre toutefois pour pouvoir pousser\n",
    "\n",
    "\n",
    "* la syntaxe de `push` est similaire à celle de pull\n",
    "* il va donc nous falloir un `remote` "
   ]
  },
  {
   "cell_type": "markdown",
   "metadata": {
    "slideshow": {
     "slide_type": "slide"
    }
   },
   "source": [
    "## il nous faut un `remote`"
   ]
  },
  {
   "cell_type": "code",
   "execution_count": null,
   "metadata": {},
   "outputs": [],
   "source": [
    "# on avait bien créé un remote plus haut mais\n",
    "# c'était dans `repo-bob`\n",
    "\n",
    "cd $TOP/repo-alice\n",
    "\n",
    "# mais ici dans repo-alice on ne connait aucun remote\n",
    "git remote"
   ]
  },
  {
   "cell_type": "code",
   "execution_count": null,
   "metadata": {},
   "outputs": [],
   "source": [
    "# il va donc nous falloir définir un remote à la main\n",
    "# et cette fois plutôt que de l'appeler `origin` on va l'appeler `github` \n",
    "# ce sera beaucoup plus parlant pour nous\n",
    "\n",
    "git remote add github $TOP/fake-github.git"
   ]
  },
  {
   "cell_type": "code",
   "execution_count": null,
   "metadata": {},
   "outputs": [],
   "source": [
    "git remote -v"
   ]
  },
  {
   "cell_type": "markdown",
   "metadata": {
    "slideshow": {
     "slide_type": "slide"
    }
   },
   "source": [
    "## avant le push"
   ]
  },
  {
   "cell_type": "code",
   "execution_count": null,
   "metadata": {
    "cell_style": "split",
    "slideshow": {
     "slide_type": ""
    }
   },
   "outputs": [],
   "source": [
    "# la situation dans initial\n",
    "# on a 4 commits\n",
    "\n",
    "cd $TOP/repo-alice\n",
    "\n",
    "git l --all"
   ]
  },
  {
   "cell_type": "code",
   "execution_count": null,
   "metadata": {
    "cell_style": "split"
   },
   "outputs": [],
   "source": [
    "# et dans le clone\n",
    "# seulement 3 commits\n",
    "\n",
    "cd $TOP/fake-github.git\n",
    "\n",
    "git l --all"
   ]
  },
  {
   "cell_type": "markdown",
   "metadata": {
    "slideshow": {
     "slide_type": "slide"
    }
   },
   "source": [
    "## mon premier push"
   ]
  },
  {
   "cell_type": "code",
   "execution_count": null,
   "metadata": {},
   "outputs": [],
   "source": [
    "# on se met dans le repo initial\n",
    "\n",
    "cd $TOP/repo-alice\n",
    "\n",
    "# la syntaxe de push est voisine de celle de pull\n",
    "# on pourrait faire simplement\n",
    "#\n",
    "# git push github devel\n",
    "\n",
    "\n",
    "# cela dit je recommande par sécurité \n",
    "# d'éviter toute ambiüité \n",
    "# et de faire explicitement\n",
    "#\n",
    "git push github devel:devel"
   ]
  },
  {
   "cell_type": "markdown",
   "metadata": {
    "slideshow": {
     "slide_type": "slide"
    }
   },
   "source": [
    "## après le push"
   ]
  },
  {
   "cell_type": "code",
   "execution_count": null,
   "metadata": {
    "cell_style": "split",
    "slideshow": {
     "slide_type": ""
    }
   },
   "outputs": [],
   "source": [
    "# ainsi après le push \n",
    "# les deux repos sont \n",
    "# en phase\n",
    "\n",
    "\n",
    "\n",
    "cd $TOP/repo-alice\n",
    "git l "
   ]
  },
  {
   "cell_type": "code",
   "execution_count": null,
   "metadata": {
    "cell_style": "split"
   },
   "outputs": [],
   "source": [
    "# remarque un peu digressive\n",
    "# voyez que github\n",
    "# ne connait aucun remote\n",
    "# c'est bien le cas dans la vraie vie\n",
    "# car ce n'est jamais github \n",
    "# qui pousse ou qui tire\n",
    "\n",
    "cd $TOP/fake-github.git\n",
    "git l "
   ]
  },
  {
   "cell_type": "markdown",
   "metadata": {
    "slideshow": {
     "slide_type": "slide"
    }
   },
   "source": [
    "## résumé\n",
    "\n",
    "nous avons à présent tous les éléments pour construire  \n",
    "le plus simple travail collaboratif :\n",
    "\n",
    "* alice crée un repo local sur son laptop\n",
    "* elle travaille un moment seule, crée des commits\n",
    "* elle publie son repo sur gihub\n",
    "  * création d'un repo via l'interface web\n",
    "  * ajout d'un remote dans son repo local\n",
    "  * push\n",
    "* bob peut alors créer un clone sur son laptop\n",
    "  * et si alice lui donne les droits d'écriture  \n",
    "    (toujours via l'interface web de github)\n",
    "\n",
    "  * alors bob peut pousser lui aussi son travail"
   ]
  },
  {
   "cell_type": "markdown",
   "metadata": {
    "cell_style": "split"
   },
   "source": [
    "![](media/archi-gh-3.png)"
   ]
  },
  {
   "cell_type": "code",
   "execution_count": null,
   "metadata": {
    "slideshow": {
     "slide_type": "slide"
    }
   },
   "outputs": [],
   "source": [
    "# on repart d'un repo tout simple avec seulement deux commits \n",
    "# pour ne pas encombrer inutilement l'affichage\n",
    "\n",
    "# on nettoie\n",
    "cd $TOP\n",
    "rm -rf repo-alice fake-github.git repo-bob\n",
    "\n",
    "# recrée repo-alice avec deux commits\n",
    "cd $TOP\n",
    "mkdir repo-alice\n",
    "cd repo-alice\n",
    "$SCRIPTS/do populate-repo-alice > /dev/null\n",
    "\n",
    "# on crée un repo bare qui remplace github\n",
    "# pour faire le proxy entre les deux acteurs\n",
    "cd $TOP\n",
    "git clone --bare repo-alice fake-github.git\n",
    "\n",
    "# on clone le faux github dans repo-bob\n",
    "cd $TOP\n",
    "git clone fake-github.git repo-bob"
   ]
  },
  {
   "cell_type": "markdown",
   "metadata": {
    "cell_style": "split",
    "slideshow": {
     "slide_type": "slide"
    }
   },
   "source": [
    "les trois repos sont en phase"
   ]
  },
  {
   "cell_type": "code",
   "execution_count": null,
   "metadata": {
    "cell_style": "split"
   },
   "outputs": [],
   "source": [
    "cd $TOP/repo-alice\n",
    "git l"
   ]
  },
  {
   "cell_type": "code",
   "execution_count": null,
   "metadata": {
    "cell_style": "split"
   },
   "outputs": [],
   "source": [
    "cd $TOP/fake-github.git\n",
    "git l"
   ]
  },
  {
   "cell_type": "code",
   "execution_count": null,
   "metadata": {
    "cell_style": "split"
   },
   "outputs": [],
   "source": [
    "cd $TOP/repo-bob\n",
    "git l"
   ]
  },
  {
   "cell_type": "markdown",
   "metadata": {
    "cell_style": "split",
    "slideshow": {
     "slide_type": "slide"
    }
   },
   "source": [
    "## un push compliqué\n",
    "\n",
    "scénario #2 :  \n",
    "un push qui ne se passe pas bien\n",
    "\n",
    "* un cas **très fréquent** en pratique\n",
    "* et qui génère pas mal de frustration "
   ]
  },
  {
   "cell_type": "markdown",
   "metadata": {
    "cell_style": "split"
   },
   "source": [
    "* deux personnes se mettent à travailler  \n",
    "* sur des sujets différents\n",
    "* mais en même temps  \n",
    "  (i.e. en partant du même commit)\n",
    "\n",
    "* ils commitent chacun de leur coté"
   ]
  },
  {
   "cell_type": "markdown",
   "metadata": {
    "slideshow": {
     "slide_type": "slide"
    }
   },
   "source": [
    "## le `push` qui tue (1)"
   ]
  },
  {
   "cell_type": "code",
   "execution_count": null,
   "metadata": {
    "cell_style": "split",
    "slideshow": {
     "slide_type": ""
    }
   },
   "outputs": [],
   "source": [
    "# alice avance de son coté\n",
    "\n",
    "cd $TOP/repo-alice\n",
    "$SCRIPTS/do commit-alice\n",
    "\n",
    "git l"
   ]
  },
  {
   "cell_type": "code",
   "execution_count": null,
   "metadata": {
    "cell_style": "split",
    "slideshow": {
     "slide_type": ""
    }
   },
   "outputs": [],
   "source": [
    "# bob aussi\n",
    "\n",
    "cd $TOP/repo-bob\n",
    "$SCRIPTS/do commit-bob\n",
    "\n",
    "git l"
   ]
  },
  {
   "cell_type": "markdown",
   "metadata": {
    "slideshow": {
     "slide_type": "slide"
    }
   },
   "source": [
    "## il faut un remote pour pousser"
   ]
  },
  {
   "cell_type": "markdown",
   "metadata": {},
   "source": [
    "à ce stade les deux acteurs vont vouloir pousser leur travail sur github  \n",
    "pour ça il leur faut un remote"
   ]
  },
  {
   "cell_type": "code",
   "execution_count": null,
   "metadata": {},
   "outputs": [],
   "source": [
    "cd $TOP/repo-alice\n",
    "git remote add github $TOP/fake-github.git\n",
    "git remote\n",
    "\n",
    "cd $TOP/repo-bob\n",
    "git remote add github $TOP/fake-github.git\n",
    "git remote"
   ]
  },
  {
   "cell_type": "markdown",
   "metadata": {
    "slideshow": {
     "slide_type": "slide"
    }
   },
   "source": [
    "## le `push` qui tue (2)"
   ]
  },
  {
   "cell_type": "markdown",
   "metadata": {},
   "source": [
    "le premier des deux qui veut pousser sur github n'a aucun problème"
   ]
  },
  {
   "cell_type": "code",
   "execution_count": null,
   "metadata": {
    "cell_style": "split"
   },
   "outputs": [],
   "source": [
    "cd $TOP/repo-alice\n",
    "\n",
    "git push github devel:devel "
   ]
  },
  {
   "cell_type": "code",
   "execution_count": null,
   "metadata": {
    "cell_style": "split"
   },
   "outputs": [],
   "source": [
    "git l"
   ]
  },
  {
   "cell_type": "code",
   "execution_count": null,
   "metadata": {
    "cell_style": "split"
   },
   "outputs": [],
   "source": [
    "cd $TOP/fake-github.git\n",
    "git l"
   ]
  },
  {
   "cell_type": "markdown",
   "metadata": {
    "slideshow": {
     "slide_type": "slide"
    }
   },
   "source": [
    "## le `push` qui tue (3)"
   ]
  },
  {
   "cell_type": "markdown",
   "metadata": {},
   "source": [
    "* bob veut pousser lui aussi\n",
    "* c'est à ce stade que ça coince\n",
    "* car ce push crée implique un merge\n",
    "* qui n'**est pas *fast-forward***\n",
    "* car en effet le graphe des commits ressemble à ceci\n",
    "\n",
    "```\n",
    "devel pour alice et github        devel pour bob\n",
    "                     ↳   A      B   ↵\n",
    "                           \\   /\n",
    "                             C2\n",
    "                             |\n",
    "                             C1\n",
    "```\n",
    "\n",
    "* un `push` de la part de bob \n",
    "* revient donc à merger `B` au dessus de `A`\n",
    "* qui comme on le voit ne sont pas comparables"
   ]
  },
  {
   "cell_type": "markdown",
   "metadata": {
    "slideshow": {
     "slide_type": "slide"
    }
   },
   "source": [
    "## le `push` qui tue (4)"
   ]
  },
  {
   "cell_type": "code",
   "execution_count": null,
   "metadata": {},
   "outputs": [],
   "source": [
    "# si bob essaie de pousser à ce stade, c'est refusé\n",
    "# car le merge, qui n'est pas fast-forward, impliquerait\n",
    "# la création d'un nouveau commit, ce qui\n",
    "# est risqué à distance \n",
    "#\n",
    "# notez bien qu'ici les deux modifications de alice et bob\n",
    "# sont indépendantes et peuvent être mergées sans conflit !\n",
    "\n",
    "cd $TOP/repo-bob\n",
    "git push github devel"
   ]
  },
  {
   "cell_type": "markdown",
   "metadata": {
    "slideshow": {
     "slide_type": "slide"
    }
   },
   "source": [
    "## tirer avant de pousser"
   ]
  },
  {
   "cell_type": "code",
   "execution_count": null,
   "metadata": {},
   "outputs": [],
   "source": [
    "# pour s'en sortir il suffit que Bob commence par tirer\n",
    "# et c'est en tirant qu'on va créer le commit qui merge les deux travaux\n",
    "# \n",
    "# pour des raisons sordides liées au fait qu'on est dans un notebook\n",
    "# je lui passe l'option --no-edit\n",
    "\n",
    "cd $TOP/repo-bob\n",
    "git pull --no-edit github devel "
   ]
  },
  {
   "cell_type": "code",
   "execution_count": null,
   "metadata": {},
   "outputs": [],
   "source": [
    "git l"
   ]
  },
  {
   "cell_type": "markdown",
   "metadata": {
    "slideshow": {
     "slide_type": "slide"
    }
   },
   "source": [
    "## le `push` ne tue plus"
   ]
  },
  {
   "cell_type": "markdown",
   "metadata": {},
   "source": [
    "```\n",
    "                                M   ←  devel pour bob\n",
    "devel pour alice et github    /   \\    \n",
    "                        ↳   A      B  \n",
    "                              \\   /\n",
    "                                C2\n",
    "                                |\n",
    "                                C1\n",
    "```\n"
   ]
  },
  {
   "cell_type": "markdown",
   "metadata": {},
   "source": [
    "pour Bob à présent, le fait de pousser `devel` sur `github` est redevenu un *fast-forward*, il peut pousser"
   ]
  },
  {
   "cell_type": "code",
   "execution_count": null,
   "metadata": {
    "cell_style": "split"
   },
   "outputs": [],
   "source": [
    "cd $TOP/repo-bob\n",
    "git push github devel"
   ]
  },
  {
   "cell_type": "code",
   "execution_count": null,
   "metadata": {
    "cell_style": "split"
   },
   "outputs": [],
   "source": [
    "\n",
    "git l"
   ]
  },
  {
   "cell_type": "code",
   "execution_count": null,
   "metadata": {
    "cell_style": "split",
    "slideshow": {
     "slide_type": "slide"
    }
   },
   "outputs": [],
   "source": [
    "# et alice peut tirer\n",
    "cd $TOP/repo-alice\n",
    "git pull github devel"
   ]
  },
  {
   "cell_type": "code",
   "execution_count": null,
   "metadata": {
    "cell_style": "split"
   },
   "outputs": [],
   "source": [
    "git l"
   ]
  },
  {
   "cell_type": "markdown",
   "metadata": {
    "slideshow": {
     "slide_type": "slide"
    }
   },
   "source": [
    "## résumé"
   ]
  },
  {
   "cell_type": "markdown",
   "metadata": {
    "slideshow": {
     "slide_type": ""
    }
   },
   "source": [
    "* on copie un repo avec `clone`"
   ]
  },
  {
   "cell_type": "markdown",
   "metadata": {
    "slideshow": {
     "slide_type": "fragment"
    }
   },
   "source": [
    "* on va chercher les mises à jour de manière non intrusive avec `fetch`"
   ]
  },
  {
   "cell_type": "markdown",
   "metadata": {
    "slideshow": {
     "slide_type": "fragment"
    }
   },
   "source": [
    "* souvent on veut ensuite les appliquer localement\n",
    "  * c'est à dire `fetch` puis `merge` -> c'est le propos de `pull`"
   ]
  },
  {
   "cell_type": "markdown",
   "metadata": {
    "slideshow": {
     "slide_type": "fragment"
    }
   },
   "source": [
    "  \n",
    "* `push` est en gros l'inverse de `pull` \n",
    "  * sauf qu'il faut les droits d'accès\n",
    "  * et qu'on ne contrôle pas les `remote` distants\n",
    "  * c'est pourquoi il n'y a pas le symétrique de `fetch` "
   ]
  },
  {
   "cell_type": "markdown",
   "metadata": {
    "slideshow": {
     "slide_type": ""
    }
   },
   "source": [
    "  \n",
    "* attention lors d'un `push`\n",
    "  * à bien vérifier qu'il n'y a pas besoin de tirer d'abord\n",
    "  * voir aussi `rebase` qu'on verra plus tard"
   ]
  }
 ],
 "metadata": {
  "celltoolbar": "Slideshow",
  "kernelspec": {
   "display_name": "Calysto Bash",
   "language": "bash",
   "name": "calysto_bash"
  },
  "language_info": {
   "file_extension": ".sh",
   "help_links": [
    {
     "text": "MetaKernel Magics",
     "url": "https://metakernel.readthedocs.io/en/latest/source/README.html"
    }
   ],
   "mimetype": "text/x-sh",
   "name": "bash",
   "version": "0.2.1"
  },
  "notebookname": "mon premier remote",
  "rise": {
   "autolaunch": true,
   "slideNumber": "c/t",
   "start_slideshow_at": "selected",
   "theme": "sky",
   "transition": "cube"
  },
  "version": "1.0"
 },
 "nbformat": 4,
 "nbformat_minor": 2
}
