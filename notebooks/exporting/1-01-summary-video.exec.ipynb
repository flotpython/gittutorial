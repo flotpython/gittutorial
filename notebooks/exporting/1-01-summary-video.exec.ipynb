{
 "cells": [
  {
   "cell_type": "markdown",
   "metadata": {},
   "source": [
    "# introduction à `git`"
   ]
  },
  {
   "cell_type": "markdown",
   "metadata": {
    "slideshow": {
     "slide_type": "slide"
    }
   },
   "source": [
    "## vidéo"
   ]
  },
  {
   "cell_type": "markdown",
   "metadata": {},
   "source": [
    "* pour ceux qui n'ont aucune idée\n",
    "* une introduction rapide (7')\n",
    "* tour d'horizon"
   ]
  },
  {
   "cell_type": "markdown",
   "metadata": {},
   "source": [
    "* utilisation en local\n",
    "  * création d'une branche, merge\n",
    "* exposition dans github.com\n",
    "  * et partage avec un collaborateur\n",
    "\n",
    "https://www.youtube.com/watch?v=WPK3axteMnI"
   ]
  },
  {
   "cell_type": "markdown",
   "metadata": {
    "slideshow": {
     "slide_type": "slide"
    }
   },
   "source": [
    "## quand utiliser git ?"
   ]
  },
  {
   "cell_type": "markdown",
   "metadata": {},
   "source": [
    "* on peut utiliser git **en local**\n",
    "* on peut utiliser git si on **travaille seul**\n",
    "* on peut ensuite **passer à l'échelle** si/comme nécessaire\n",
    "* bref, ça devient un réflexe"
   ]
  },
  {
   "cell_type": "markdown",
   "metadata": {
    "slideshow": {
     "slide_type": "slide"
    }
   },
   "source": [
    "## avec git on peut"
   ]
  },
  {
   "cell_type": "markdown",
   "metadata": {
    "slideshow": {
     "slide_type": ""
    }
   },
   "source": [
    "* revenir en arrière\n",
    "  * sur n'importe quel **commit**\n",
    "* découper le travail en problèmes indépendants\n",
    "  * en créant autant de **branches** que nécessaire\n",
    "* intégrer (**merge / fusionner**) facilement \n",
    "  * une fois que tous les morceaux sont terminés"
   ]
  },
  {
   "cell_type": "markdown",
   "metadata": {
    "slideshow": {
     "slide_type": "slide"
    }
   },
   "source": [
    "## avec git on peut"
   ]
  },
  {
   "cell_type": "markdown",
   "metadata": {},
   "source": [
    "* travailler à plusieurs\n",
    "  * sans dépendre les uns des autres\n",
    "  * chacun sa **branche**\n",
    "* facilement synchroniser deux dépôts distants\n",
    "  * à base de `clone`, `push` et `pull`"
   ]
  },
  {
   "cell_type": "markdown",
   "metadata": {
    "slideshow": {
     "slide_type": "slide"
    }
   },
   "source": [
    "## les limites de git"
   ]
  },
  {
   "cell_type": "markdown",
   "metadata": {},
   "source": [
    "* lorsqu'on fusionne (merge) deux branches\n",
    "  * il faut pouvoir calculer l'union de plusieurs changements\n",
    "* du coup\n",
    "  * OK sur du contenu textuel\n",
    "  * mais pas dispo sur les formats plus exotiques  \n",
    "    (e.g. vidéo, audio, ...)"
   ]
  },
  {
   "cell_type": "markdown",
   "metadata": {
    "slideshow": {
     "slide_type": "slide"
    }
   },
   "source": [
    "## sachez aussi que"
   ]
  },
  {
   "cell_type": "markdown",
   "metadata": {},
   "source": [
    "* on a utilisé un repo `github.com` public parce que c'est pratique\n",
    "  * on peut faire des repos privés\n",
    "* on peut facilement déployer sa propre infra \n",
    "  * si on a des données plus sensibles\n",
    "  * c'est-à-dire apparier deux repos git 'basiques'  "
   ]
  }
 ],
 "metadata": {
  "celltoolbar": "Slideshow",
  "ipub": {
   "sphinx": {
    "toggle_input": true,
    "toggle_input_all": true,
    "toggle_output": true,
    "toggle_output_all": true
   },
   "toc": true
  },
  "kernelspec": {
   "display_name": "Calysto Bash",
   "language": "bash",
   "name": "calysto_bash"
  },
  "language_info": {
   "file_extension": ".sh",
   "help_links": [
    {
     "text": "MetaKernel Magics",
     "url": "https://metakernel.readthedocs.io/en/latest/source/README.html"
    }
   ],
   "mimetype": "text/x-sh",
   "name": "bash",
   "version": "0.2.1"
  },
  "notebookname": "résumé de la vidéo",
  "rise": {
   "autolaunch": true,
   "slideNumber": "c/t",
   "start_slideshow_at": "selected",
   "theme": "sky",
   "transition": "cube"
  },
  "version": "1.0"
 },
 "nbformat": 4,
 "nbformat_minor": 2
}
