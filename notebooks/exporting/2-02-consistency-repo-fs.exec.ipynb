{
 "cells": [
  {
   "cell_type": "markdown",
   "metadata": {
    "slideshow": {
     "slide_type": ""
    }
   },
   "source": [
    "# cohérence repo - fichiers"
   ]
  },
  {
   "cell_type": "code",
   "execution_count": 1,
   "metadata": {
    "slideshow": {
     "slide_type": "slide"
    }
   },
   "outputs": [
    {
     "name": "stdout",
     "output_type": "stream",
     "text": [
      "TOP=/Users/tparment/git/flotpython-gittutorial/notebooks\r\n",
      "\n"
     ]
    }
   ],
   "source": [
    "# ce sera toujours notre façon de commencer\n",
    "[ -f scripts/helpers.sh ] && source scripts/helpers.sh  "
   ]
  },
  {
   "cell_type": "markdown",
   "metadata": {
    "slideshow": {
     "slide_type": "slide"
    }
   },
   "source": [
    "## repartons de la partie 1"
   ]
  },
  {
   "cell_type": "markdown",
   "metadata": {},
   "source": [
    "si vous avez bien suivi et exécuté la 1ère partie, vous devez avoir un répertoire `my-first-repo` qui contient 4 commits."
   ]
  },
  {
   "cell_type": "code",
   "execution_count": 2,
   "metadata": {},
   "outputs": [
    {
     "name": "stdout",
     "output_type": "stream",
     "text": [
      "\n"
     ]
    }
   ],
   "source": [
    "# si nécessaire, vous pouvez remettre le repository \n",
    "# dans l'état où il est après le notebook 10-my-first-repo\n",
    "# \n",
    "# pour cela mettez \"true\" au lieu de \"\"\n",
    "# et bien sûr évaluer la cellule\n",
    "\n",
    "reset=\"\"\n",
    "\n",
    "if [ -n \"$reset\" ]; then \n",
    "    cd $TOP\n",
    "    bash $SCRIPTS/2-01-my-first-repo.sh \n",
    "fi >& /dev/null"
   ]
  },
  {
   "cell_type": "code",
   "execution_count": 3,
   "metadata": {},
   "outputs": [
    {
     "name": "stdout",
     "output_type": "stream",
     "text": [
      "/Users/tparment/git/flotpython-gittutorial/notebooks/my-first-repo\r\n",
      "\n"
     ]
    }
   ],
   "source": [
    "# si nécessaire, on se place dans le repo git\n",
    "[ -d my-first-repo ] && cd my-first-repo\n",
    "\n",
    "pwd"
   ]
  },
  {
   "cell_type": "code",
   "execution_count": 4,
   "metadata": {
    "slideshow": {
     "slide_type": "slide"
    }
   },
   "outputs": [
    {
     "name": "stdout",
     "output_type": "stream",
     "text": [
      "* \u001b[33m353fe18\u001b[m\u001b[33m (\u001b[m\u001b[1;36mHEAD -> \u001b[m\u001b[1;32mmaster\u001b[m\u001b[33m)\u001b[m adding markdown, we now have 4 files\r\n",
      "* \u001b[33m6d44d72\u001b[m new code file, tweak README\r\n",
      "* \u001b[33ma7c6b91\u001b[m added LICENSE, changed README.md\r\n",
      "* \u001b[33md87e951\u001b[m my first commit: added README.md\r\n",
      "\n"
     ]
    }
   ],
   "source": [
    "# vous devez avoir 4 commits\n",
    "git l"
   ]
  },
  {
   "cell_type": "markdown",
   "metadata": {
    "slideshow": {
     "slide_type": "slide"
    }
   },
   "source": [
    "## revenir en arrière"
   ]
  },
  {
   "cell_type": "markdown",
   "metadata": {},
   "source": [
    "la première fonctionnalité de git est bien sûr de  \n",
    "permettre de revenir en arrière\n",
    "\n",
    "pour cela il existe plusieurs moyens,  \n",
    "en voici un pour commencer\n",
    "\n",
    "nous allons\n",
    "\n",
    "* créer une **nouvelle branche** `devel`\n",
    "* au niveau de l'avant-dernier commit\n",
    "* et nous allons en faire la **branche courante**"
   ]
  },
  {
   "cell_type": "markdown",
   "metadata": {
    "slideshow": {
     "slide_type": "slide"
    }
   },
   "source": [
    "## créer une branche et y aller"
   ]
  },
  {
   "cell_type": "code",
   "execution_count": 5,
   "metadata": {
    "cell_style": "split",
    "slideshow": {
     "slide_type": ""
    }
   },
   "outputs": [
    {
     "name": "stdout",
     "output_type": "stream",
     "text": [
      "Switched to a new branch 'devel'\r\n",
      "\n"
     ]
    }
   ],
   "source": [
    "# souvenez-vous que HEAD^^ \n",
    "# désigne le commit\n",
    "# qui est le grand-père de HEAD\n",
    "# donc l'avant-dernier\n",
    "\n",
    "git checkout -b devel HEAD^^"
   ]
  },
  {
   "cell_type": "code",
   "execution_count": 6,
   "metadata": {
    "cell_style": "split",
    "slideshow": {
     "slide_type": ""
    }
   },
   "outputs": [
    {
     "name": "stdout",
     "output_type": "stream",
     "text": [
      "* \u001b[33ma7c6b91\u001b[m\u001b[33m (\u001b[m\u001b[1;36mHEAD -> \u001b[m\u001b[1;32mdevel\u001b[m\u001b[33m)\u001b[m added LICENSE, changed README.md\r\n",
      "* \u001b[33md87e951\u001b[m my first commit: added README.md\r\n",
      "\n"
     ]
    }
   ],
   "source": [
    "git l"
   ]
  },
  {
   "cell_type": "markdown",
   "metadata": {
    "slideshow": {
     "slide_type": ""
    }
   },
   "source": [
    "on ne voit plus que 2 commits !  \n",
    "mais n'ayez pas peur, on n'a rien perdu de notre travail précédent"
   ]
  },
  {
   "cell_type": "markdown",
   "metadata": {
    "slideshow": {
     "slide_type": "slide"
    }
   },
   "source": [
    "## on n'a rien perdu"
   ]
  },
  {
   "cell_type": "markdown",
   "metadata": {},
   "source": [
    "c'est juste que par défaut `git log` ne montre que la branche courante"
   ]
  },
  {
   "cell_type": "code",
   "execution_count": 7,
   "metadata": {
    "cell_style": "center"
   },
   "outputs": [
    {
     "name": "stdout",
     "output_type": "stream",
     "text": [
      "* \u001b[33m353fe18\u001b[m\u001b[33m (\u001b[m\u001b[1;32mmaster\u001b[m\u001b[33m)\u001b[m adding markdown, we now have 4 files\r\n",
      "* \u001b[33m6d44d72\u001b[m new code file, tweak README\r\n",
      "* \u001b[33ma7c6b91\u001b[m\u001b[33m (\u001b[m\u001b[1;36mHEAD -> \u001b[m\u001b[1;32mdevel\u001b[m\u001b[33m)\u001b[m added LICENSE, changed README.md\r\n",
      "* \u001b[33md87e951\u001b[m my first commit: added README.md\r\n",
      "\n"
     ]
    }
   ],
   "source": [
    "# avec --all on demande à voir toutes les branches\n",
    "git l --all"
   ]
  },
  {
   "cell_type": "markdown",
   "metadata": {
    "cell_style": "center"
   },
   "source": [
    "![](media/repo-030-1.png)"
   ]
  },
  {
   "cell_type": "markdown",
   "metadata": {
    "slideshow": {
     "slide_type": "slide"
    }
   },
   "source": [
    "## cohérence entre espace de travail et repo"
   ]
  },
  {
   "cell_type": "markdown",
   "metadata": {
    "slideshow": {
     "slide_type": ""
    }
   },
   "source": [
    "**très important**\n",
    "\n",
    "lorsqu'on a changé de branche, on a changé le 'commit courant' (i.e. `HEAD`)\n",
    "\n",
    "et bien entendu `git` **maintient la cohérence** entre \n",
    "\n",
    "* l'espace de travail (fichiers)\n",
    "* le repo (commits)\n",
    "* et accessoirement l'index"
   ]
  },
  {
   "cell_type": "markdown",
   "metadata": {
    "slideshow": {
     "slide_type": "slide"
    }
   },
   "source": [
    "## cohérence (suite)"
   ]
  },
  {
   "cell_type": "markdown",
   "metadata": {
    "slideshow": {
     "slide_type": ""
    }
   },
   "source": [
    "nous **sommes revenus au deuxième commit**  \n",
    "souvenez-vous, on n'avait à ce moment-là que deux fichiers, `README.md` et `LICENSE`"
   ]
  },
  {
   "cell_type": "code",
   "execution_count": 8,
   "metadata": {
    "slideshow": {
     "slide_type": ""
    }
   },
   "outputs": [
    {
     "name": "stdout",
     "output_type": "stream",
     "text": [
      "LICENSE\t\tREADME.md\r\n",
      "\n"
     ]
    }
   ],
   "source": [
    "# quand on change de branche\n",
    "# les fichiers sur le disque changent aussi !\n",
    "ls"
   ]
  },
  {
   "cell_type": "markdown",
   "metadata": {
    "slideshow": {
     "slide_type": "slide"
    }
   },
   "source": [
    "## cohérence (fin)"
   ]
  },
  {
   "cell_type": "markdown",
   "metadata": {},
   "source": [
    "en pratique, ça signifie que\n",
    "\n",
    "* les deux fichiers `file1` et `file2` ont été **supprimés** du répertoire\n",
    "* les deux fichiers `README.md` et `LICENSE` ont été **modifiés**  \n",
    "  et remis dans l'état où ils étaient dans ce commit"
   ]
  },
  {
   "cell_type": "markdown",
   "metadata": {},
   "source": [
    "de façon générale :\n",
    "\n",
    "* s'il semble y avoir **le moindre risque** de perdre du contenu\n",
    "* `git` va **refuser** de faire le mouvement\n",
    "\n",
    "c'est sans doute la source principale de frustration chez les débutants...\n",
    "\n",
    "on en reparlera"
   ]
  },
  {
   "cell_type": "markdown",
   "metadata": {
    "slideshow": {
     "slide_type": "slide"
    }
   },
   "source": [
    "## décomposons un peu"
   ]
  },
  {
   "cell_type": "markdown",
   "metadata": {
    "cell_style": "split"
   },
   "source": [
    "petite parenthèse :  \n",
    "notez que `checkout -b`  \n",
    "est un raccourci\n",
    "\n",
    "lorsqu'on fait\n",
    "\n",
    "* `git checkout -b devel HEAD~2`"
   ]
  },
  {
   "cell_type": "markdown",
   "metadata": {
    "cell_style": "split"
   },
   "source": [
    "on fait en réalité plusieurs choses :\n",
    "\n",
    "* **créer** la branche\n",
    "  * `git branch devel HEAD~2`\n",
    "  \n",
    "* *aller* sur cette branche\n",
    "  * `git checkout devel`"
   ]
  },
  {
   "cell_type": "markdown",
   "metadata": {},
   "source": [
    "et bien sûr si la branche `devel` existait déjà,  \n",
    "on ne pourrait pas faire la première étape"
   ]
  },
  {
   "cell_type": "markdown",
   "metadata": {
    "slideshow": {
     "slide_type": "slide"
    }
   },
   "source": [
    "## résumé\n",
    "\n",
    "* **créer** une branche :\n",
    "  * `git branch la-branche le-commit`\n",
    "* **aller** sur une branche  \n",
    "  * `git checkout la-branche`\n",
    "  * **les fichiers sont modifiés**\n",
    "  * risque de refus si risque de perte de données\n",
    "* **créer** et **aller** sur une nouvelle branche\n",
    "  * `git checkout -b la-branche le-commit`"
   ]
  },
  {
   "cell_type": "markdown",
   "metadata": {
    "slideshow": {
     "slide_type": "slide"
    }
   },
   "source": [
    "## résumé / rappel\n",
    "\n",
    "* pour identifier `le-commit` vous pouvez utiliser\n",
    "  * un SHA-1 \n",
    "  * un nom de branche\n",
    "  * les notations genre `commit^^` ou `commit~4`"
   ]
  },
  {
   "cell_type": "markdown",
   "metadata": {
    "slideshow": {
     "slide_type": "slide"
    }
   },
   "source": [
    "## état\n",
    "\n",
    "l'état de notre repo à la fin de ce scénario"
   ]
  },
  {
   "cell_type": "code",
   "execution_count": 9,
   "metadata": {},
   "outputs": [
    {
     "name": "stdout",
     "output_type": "stream",
     "text": [
      "* \u001b[33m353fe18\u001b[m\u001b[33m (\u001b[m\u001b[1;32mmaster\u001b[m\u001b[33m)\u001b[m adding markdown, we now have 4 files\r\n",
      "* \u001b[33m6d44d72\u001b[m new code file, tweak README\r\n",
      "* \u001b[33ma7c6b91\u001b[m\u001b[33m (\u001b[m\u001b[1;36mHEAD -> \u001b[m\u001b[1;32mdevel\u001b[m\u001b[33m)\u001b[m added LICENSE, changed README.md\r\n",
      "* \u001b[33md87e951\u001b[m my first commit: added README.md\r\n",
      "\n"
     ]
    }
   ],
   "source": [
    "git l --all"
   ]
  }
 ],
 "metadata": {
  "celltoolbar": "Slideshow",
  "ipub": {
   "sphinx": {
    "toggle_input": true,
    "toggle_input_all": true,
    "toggle_output": true,
    "toggle_output_all": true
   }
  },
  "kernelspec": {
   "display_name": "Calysto Bash",
   "language": "bash",
   "name": "calysto_bash"
  },
  "language_info": {
   "file_extension": ".sh",
   "help_links": [
    {
     "text": "MetaKernel Magics",
     "url": "https://metakernel.readthedocs.io/en/latest/source/README.html"
    }
   ],
   "mimetype": "text/x-sh",
   "name": "bash",
   "version": "0.2.1"
  },
  "notebookname": "cohérence repo - fichiers",
  "rise": {
   "autolaunch": true,
   "slideNumber": "c/t",
   "start_slideshow_at": "selected",
   "theme": "sky",
   "transition": "cube"
  },
  "version": "1.0"
 },
 "nbformat": 4,
 "nbformat_minor": 4
}
