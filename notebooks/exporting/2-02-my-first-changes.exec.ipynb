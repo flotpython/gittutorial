{
 "cells": [
  {
   "cell_type": "markdown",
   "metadata": {
    "slideshow": {
     "slide_type": ""
    }
   },
   "source": [
    "tutorial `git` (2)"
   ]
  },
  {
   "cell_type": "markdown",
   "metadata": {
    "slideshow": {
     "slide_type": ""
    }
   },
   "source": [
    "# travailler avec les modifications pendantes"
   ]
  },
  {
   "cell_type": "code",
   "execution_count": 1,
   "metadata": {},
   "outputs": [
    {
     "name": "stdout",
     "output_type": "stream",
     "text": [
      "TOP=/Users/tparment/git/flotpython-gittutorial/notebooks\r\n",
      "\n"
     ]
    }
   ],
   "source": [
    "# ce sera toujours notre façon de commencer\n",
    "[ -f scripts/helpers.sh ] && source scripts/helpers.sh"
   ]
  },
  {
   "cell_type": "markdown",
   "metadata": {
    "slideshow": {
     "slide_type": "slide"
    }
   },
   "source": [
    "## repartons de la partie 1"
   ]
  },
  {
   "cell_type": "markdown",
   "metadata": {},
   "source": [
    "si vous avez bien suivi et exécuté la 1ère partie, vous devez avoir un répertoire `my-first-repo` qui contient 4 commits."
   ]
  },
  {
   "cell_type": "code",
   "execution_count": 2,
   "metadata": {},
   "outputs": [
    {
     "name": "stdout",
     "output_type": "stream",
     "text": [
      "\n"
     ]
    }
   ],
   "source": [
    "# si nécessaire, vous pouvez remettre le repository \n",
    "# dans l'état où il est après le notebook 10-my-first-repo\n",
    "# \n",
    "# pour cela mettez \"true\" au lieu de \"\"\n",
    "# et bien sûr évaluer la cellule\n",
    "\n",
    "reset=\"\"\n",
    "\n",
    "if [ -n \"$reset\" ]; then \n",
    "    cd $TOP\n",
    "    bash $SCRIPTS/2-01-my-first-repo.sh \n",
    "fi >& /dev/null"
   ]
  },
  {
   "cell_type": "code",
   "execution_count": 3,
   "metadata": {},
   "outputs": [
    {
     "name": "stdout",
     "output_type": "stream",
     "text": [
      "/Users/tparment/git/flotpython-gittutorial/notebooks/my-first-repo\r\n",
      "\n"
     ]
    }
   ],
   "source": [
    "# si nécessaire, on se place dans le repo git\n",
    "[ -d my-first-repo ] && cd my-first-repo\n",
    "\n",
    "pwd"
   ]
  },
  {
   "cell_type": "code",
   "execution_count": 4,
   "metadata": {
    "slideshow": {
     "slide_type": "slide"
    }
   },
   "outputs": [
    {
     "name": "stdout",
     "output_type": "stream",
     "text": [
      "* \u001b[33m9ed3603\u001b[m\u001b[33m (\u001b[m\u001b[1;36mHEAD -> \u001b[m\u001b[1;32mmaster\u001b[m\u001b[33m)\u001b[m adding markdown, we now have 4 files\r\n",
      "* \u001b[33m6737bdd\u001b[m new code file, tweak README\r\n",
      "* \u001b[33m7b5f912\u001b[m added LICENSE, changed README.md\r\n",
      "* \u001b[33m8ead390\u001b[m my first commit: added README.md\r\n",
      "\n"
     ]
    }
   ],
   "source": [
    "# vous devez avoir 4 commits\n",
    "git l"
   ]
  },
  {
   "cell_type": "markdown",
   "metadata": {
    "slideshow": {
     "slide_type": "slide"
    }
   },
   "source": [
    "## revenir en arrière"
   ]
  },
  {
   "cell_type": "markdown",
   "metadata": {},
   "source": [
    "la première fonctionnalité de git est bien sûr de permettre de revenir en arrière; pour cela il existe plusieurs moyens. En voici un pour commencer."
   ]
  },
  {
   "cell_type": "code",
   "execution_count": 5,
   "metadata": {},
   "outputs": [
    {
     "name": "stdout",
     "output_type": "stream",
     "text": [
      "Switched to a new branch 'devel'\r\n",
      "\n"
     ]
    }
   ],
   "source": [
    "# souvenez-vous que HEAD^^ signifie désigne le commit\n",
    "# qui est le grand-père de HEAD\n",
    "\n",
    "git checkout -b devel HEAD^^"
   ]
  },
  {
   "cell_type": "code",
   "execution_count": 6,
   "metadata": {
    "cell_style": "center",
    "slideshow": {
     "slide_type": ""
    }
   },
   "outputs": [
    {
     "name": "stdout",
     "output_type": "stream",
     "text": [
      "* \u001b[33m7b5f912\u001b[m\u001b[33m (\u001b[m\u001b[1;36mHEAD -> \u001b[m\u001b[1;32mdevel\u001b[m\u001b[33m)\u001b[m added LICENSE, changed README.md\r\n",
      "* \u001b[33m8ead390\u001b[m my first commit: added README.md\r\n",
      "\n"
     ]
    }
   ],
   "source": [
    "git l"
   ]
  },
  {
   "cell_type": "markdown",
   "metadata": {
    "slideshow": {
     "slide_type": "slide"
    }
   },
   "source": [
    "n'ayez pas peur, on n'a rien perdu de notre travail précédent"
   ]
  },
  {
   "cell_type": "markdown",
   "metadata": {},
   "source": [
    "c'est juste que par défaut on ne montre que la branche courante"
   ]
  },
  {
   "cell_type": "code",
   "execution_count": 7,
   "metadata": {
    "cell_style": "center"
   },
   "outputs": [
    {
     "name": "stdout",
     "output_type": "stream",
     "text": [
      "* \u001b[33m9ed3603\u001b[m\u001b[33m (\u001b[m\u001b[1;32mmaster\u001b[m\u001b[33m)\u001b[m adding markdown, we now have 4 files\r\n",
      "* \u001b[33m6737bdd\u001b[m new code file, tweak README\r\n",
      "* \u001b[33m7b5f912\u001b[m\u001b[33m (\u001b[m\u001b[1;36mHEAD -> \u001b[m\u001b[1;32mdevel\u001b[m\u001b[33m)\u001b[m added LICENSE, changed README.md\r\n",
      "* \u001b[33m8ead390\u001b[m my first commit: added README.md\r\n",
      "\n"
     ]
    }
   ],
   "source": [
    "git l --all"
   ]
  },
  {
   "cell_type": "markdown",
   "metadata": {
    "cell_style": "center"
   },
   "source": [
    "![](media/repo-030-1.png)"
   ]
  },
  {
   "cell_type": "markdown",
   "metadata": {
    "slideshow": {
     "slide_type": "slide"
    }
   },
   "source": [
    "## digression : un commit est immutable"
   ]
  },
  {
   "cell_type": "markdown",
   "metadata": {},
   "source": [
    "en informatique, on fait la distinction entre objets mutables et immutables\n",
    "\n",
    "* un terme savant pour désigner les objets qui peuvent changer\n",
    "* un ficher par exemple est un objet mutable\n",
    "* un commit est par contre **immutable**"
   ]
  },
  {
   "cell_type": "markdown",
   "metadata": {},
   "source": [
    "cela signifie notamment que \n",
    "\n",
    "* **vous ne pouvez pas perdre** ce que vous avez mis dans un commit \n",
    "* pourvu que ce soit **dans un commit**\n",
    "* ou alors il faut vraiment le faire exprès\n",
    "  * par exemple quelqu'un met une vidéo de 10 Gb dans le repo.."
   ]
  },
  {
   "cell_type": "markdown",
   "metadata": {
    "slideshow": {
     "slide_type": "slide"
    }
   },
   "source": [
    "## décomposons un peu"
   ]
  },
  {
   "cell_type": "markdown",
   "metadata": {
    "cell_style": "split"
   },
   "source": [
    "petite parenthèse: notez que `checkout -b` est un raccourci\n",
    "\n",
    "lorsqu'on fait\n",
    "\n",
    "* `git checkout -b devel HEAD~2`"
   ]
  },
  {
   "cell_type": "markdown",
   "metadata": {
    "cell_style": "split"
   },
   "source": [
    "on fait en réalité plusieurs choses:\n",
    "\n",
    "* **créer** la branche\n",
    "  * `git branch devel HEAD~2`\n",
    "  \n",
    "* *aller* sur cette branche\n",
    "  * `git checkout devel`"
   ]
  },
  {
   "cell_type": "markdown",
   "metadata": {},
   "source": [
    "(et bien sûr si la branche `devel` existait déjà, on ne pourrait pas faire la première étape)"
   ]
  },
  {
   "cell_type": "markdown",
   "metadata": {
    "slideshow": {
     "slide_type": "slide"
    }
   },
   "source": [
    "sinon, comme vous le voyez nous **sommes revenus** au point où on en était **au deuxième commit**; souvenez-vous, on n'avait à ce moment-là que deux fichiers, `README.md` et `LICENSE`:"
   ]
  },
  {
   "cell_type": "code",
   "execution_count": 8,
   "metadata": {},
   "outputs": [
    {
     "name": "stdout",
     "output_type": "stream",
     "text": [
      "LICENSE\t\tREADME.md\r\n",
      "\n"
     ]
    }
   ],
   "source": [
    "# quand on change de branche\n",
    "# les fichiers sur le disque changent aussi !\n",
    "ls"
   ]
  },
  {
   "cell_type": "markdown",
   "metadata": {
    "slideshow": {
     "slide_type": "slide"
    }
   },
   "source": [
    "## cohérence entre espace de travail et repo"
   ]
  },
  {
   "cell_type": "markdown",
   "metadata": {
    "slideshow": {
     "slide_type": ""
    }
   },
   "source": [
    "**très important**:\n",
    "\n",
    "lorsqu'on a changé de branche, on a changé le 'commit courant' (i.e. `HEAD`)\n",
    "\n",
    "et bien entendu `git` **maintient la cohérence** entre \n",
    "\n",
    "* l'espace de travail (fichiers)\n",
    "* le repo (commits)\n",
    "* et accessoirement l'index"
   ]
  },
  {
   "cell_type": "markdown",
   "metadata": {},
   "source": [
    "en pratique, ça signifie que\n",
    "\n",
    "* les trois fichiers `file1` et `file2` ont été **supprimés** du répertoire\n",
    "* les deux fichiers `README.md` et `LICENSE` ont été mis dans l'état où ils étaient dans ce commit"
   ]
  },
  {
   "cell_type": "markdown",
   "metadata": {
    "slideshow": {
     "slide_type": "slide"
    }
   },
   "source": [
    "## cohérence (suite)"
   ]
  },
  {
   "cell_type": "markdown",
   "metadata": {},
   "source": [
    "de façon générale:\n",
    "\n",
    "* s'il semble y avoir **le moindre risque** de perdre du contenu\n",
    "* `git` va **refuser** de faire le mouvement\n",
    "\n",
    "c'est sans doute la source principale de frustration chez les débutants..."
   ]
  },
  {
   "cell_type": "markdown",
   "metadata": {
    "slideshow": {
     "slide_type": "slide"
    }
   },
   "source": [
    "## comprendre où on en est"
   ]
  },
  {
   "cell_type": "markdown",
   "metadata": {},
   "source": [
    "* git vient avec **beaucoup** (trop) de commandes !\n",
    "* en plus pas toujours très cohérentes entre elles ...\n",
    "* simplement pour *regarder* l'état courant il y a \n",
    "  * `git log` : lister les commits\n",
    "  * `git ls-tree` : voir le contenu d'un commit\n",
    "  * `git status` : une synthèse \n",
    "  * `git diff` : voir les modifications (dans l'index, entre edt et index, entre deux commits)\n",
    "  * `git ls-files` : lister les fichiers dans l'index et l'e.d.t.\n",
    "  * `git branch` : sans argument, liste les branches connues"
   ]
  },
  {
   "cell_type": "markdown",
   "metadata": {
    "slideshow": {
     "slide_type": "slide"
    }
   },
   "source": [
    "## sans compter toutes les UI disponibles"
   ]
  },
  {
   "cell_type": "markdown",
   "metadata": {
    "slideshow": {
     "slide_type": ""
    }
   },
   "source": [
    "* qui permettent le plus souvent de gérer\n",
    "  * ajout dans l'index\n",
    "  * commit\n",
    "* et dans l'autre sens\n",
    "  * enlever un changement de l'index  \n",
    "    et le conserver dans les fichiers\n",
    "\n",
    "  * jeter complètement un changement  \n",
    "    souvent appelé *discard*"
   ]
  },
  {
   "cell_type": "markdown",
   "metadata": {
    "cell_style": "split",
    "slideshow": {
     "slide_type": "fragment"
    }
   },
   "source": [
    "* les plus répandues\n",
    "  * sourcetree\n",
    "  * gitkraken\n",
    "  * vscode"
   ]
  },
  {
   "cell_type": "markdown",
   "metadata": {
    "cell_style": "split",
    "slideshow": {
     "slide_type": "fragment"
    }
   },
   "source": [
    "* et les autres\n",
    "  * smartgit\n",
    "  * guitar\n",
    "  * gitahead\n",
    "  * tower"
   ]
  },
  {
   "cell_type": "markdown",
   "metadata": {
    "cell_style": "center",
    "slideshow": {
     "slide_type": "fragment"
    }
   },
   "source": [
    "https://www.slant.co/topics/4985/~visual-git-guis"
   ]
  },
  {
   "cell_type": "markdown",
   "metadata": {
    "slideshow": {
     "slide_type": "slide"
    }
   },
   "source": [
    "## où on en est: `git log`"
   ]
  },
  {
   "cell_type": "markdown",
   "metadata": {},
   "source": [
    "travaille uniquement **à partir du repo**  (ignore les fichiers)"
   ]
  },
  {
   "cell_type": "code",
   "execution_count": 9,
   "metadata": {
    "cell_style": "center"
   },
   "outputs": [
    {
     "name": "stdout",
     "output_type": "stream",
     "text": [
      "* \u001b[1;34m7b5f912\u001b[m - \u001b[1;36mWed, 31 Jul 2019 11:26:46 +0200\u001b[m \u001b[1;32m(10 seconds ago)\u001b[m\u001b[1;33m (HEAD -> devel)\u001b[m\r\n",
      "\u001b[31m|\u001b[m           \u001b[37madded LICENSE, changed README.md\u001b[m \u001b[2;37m- Thierry Parmentelat\u001b[m\r\n",
      "* \u001b[1;34m8ead390\u001b[m - \u001b[1;36mWed, 31 Jul 2019 11:26:44 +0200\u001b[m \u001b[1;32m(12 seconds ago)\u001b[m\u001b[1;33m\u001b[m\r\n",
      "            \u001b[37mmy first commit: added README.md\u001b[m \u001b[2;37m- Thierry Parmentelat\u001b[m\n"
     ]
    }
   ],
   "source": [
    "# de très nombreuses options disponibles\n",
    "# sans --all\n",
    "git log --graph --abbrev-commit --decorate --format=format:'%C(bold blue)%h%C(reset) - %C(bold cyan)%aD%C(reset) %C(bold green)(%ar)%C(reset)%C(bold yellow)%d%C(reset)%n''          %C(white)%s%C(reset) %C(dim white)- %an%C(reset)'"
   ]
  },
  {
   "cell_type": "code",
   "execution_count": 10,
   "metadata": {},
   "outputs": [
    {
     "name": "stdout",
     "output_type": "stream",
     "text": [
      "* \u001b[1;34m9ed3603\u001b[m - \u001b[1;32m(7 seconds ago)\u001b[m \u001b[37madding markdown, we now have 4 files\u001b[m \u001b[2;37m- Thierry Parmentelat\u001b[m\u001b[1;33m (master)\u001b[m\r\n",
      "* \u001b[1;34m6737bdd\u001b[m - \u001b[1;32m(7 seconds ago)\u001b[m \u001b[37mnew code file, tweak README\u001b[m \u001b[2;37m- Thierry Parmentelat\u001b[m\u001b[1;33m\u001b[m\r\n",
      "* \u001b[1;34m7b5f912\u001b[m - \u001b[1;32m(10 seconds ago)\u001b[m \u001b[37madded LICENSE, changed README.md\u001b[m \u001b[2;37m- Thierry Parmentelat\u001b[m\u001b[1;33m (HEAD -> devel)\u001b[m\r\n",
      "* \u001b[1;34m8ead390\u001b[m - \u001b[1;32m(12 seconds ago)\u001b[m \u001b[37mmy first commit: added README.md\u001b[m \u001b[2;37m- Thierry Parmentelat\u001b[m\u001b[1;33m\u001b[m\n"
     ]
    }
   ],
   "source": [
    "# avec --all\n",
    "git log --graph --abbrev-commit --decorate --format=format:'%C(bold blue)%h%C(reset) - %C(bold green)(%ar)%C(reset) %C(white)%s%C(reset) %C(dim white)- %an%C(reset)%C(bold yellow)%d%C(reset)' --all"
   ]
  },
  {
   "cell_type": "markdown",
   "metadata": {
    "slideshow": {
     "slide_type": "slide"
    }
   },
   "source": [
    "## où on en est: `git ls-tree`"
   ]
  },
  {
   "cell_type": "markdown",
   "metadata": {},
   "source": [
    "travaille uniquement **à partir du repo**  (ignore les fichiers)"
   ]
  },
  {
   "cell_type": "code",
   "execution_count": 11,
   "metadata": {
    "cell_style": "split"
   },
   "outputs": [
    {
     "name": "stdout",
     "output_type": "stream",
     "text": [
      "100644 blob 5a50125\tLICENSE\r\n",
      "100644 blob f724681\tREADME.md\r\n",
      "\n"
     ]
    }
   ],
   "source": [
    "# le contenu d'un commit\n",
    "git ls-tree --abbrev HEAD"
   ]
  },
  {
   "cell_type": "code",
   "execution_count": 12,
   "metadata": {
    "cell_style": "split"
   },
   "outputs": [
    {
     "name": "stdout",
     "output_type": "stream",
     "text": [
      "100644 blob 5a50125\tLICENSE\r\n",
      "100644 blob 1000113\tREADME.md\r\n",
      "100644 blob 194c0de\tfactorial.md\r\n",
      "100644 blob 7949a21\tfactorial.py\r\n",
      "\n"
     ]
    }
   ],
   "source": [
    "# un autre commit\n",
    "git ls-tree --abbrev master"
   ]
  },
  {
   "cell_type": "markdown",
   "metadata": {
    "slideshow": {
     "slide_type": "slide"
    }
   },
   "source": [
    "## où on en est: `git status`"
   ]
  },
  {
   "cell_type": "code",
   "execution_count": 13,
   "metadata": {
    "cell_style": "split"
   },
   "outputs": [
    {
     "name": "stdout",
     "output_type": "stream",
     "text": [
      "On branch devel\r\n",
      "nothing to commit, working tree clean\r\n",
      "\n"
     ]
    }
   ],
   "source": [
    "# git status donne une synthèse\n",
    "\n",
    "# dans le cas général il va nous montrer \n",
    "# (*) le nom de la branche courante\n",
    "# (*) les deux sortes de différences\n",
    "# (*) et aussi le cas échéant les fichiers\n",
    "#     qui sont présents mais pas dans le commit\n",
    "\n",
    "# mais pour l'instant il n'y a pas grand chose à voir\n",
    "git status"
   ]
  },
  {
   "cell_type": "code",
   "execution_count": 14,
   "metadata": {
    "cell_style": "split"
   },
   "outputs": [
    {
     "name": "stdout",
     "output_type": "stream",
     "text": [
      "\n"
     ]
    }
   ],
   "source": [
    "# je mets un changement dans l'index\n",
    "echo \"δ2: une ligne dans l'index\" >> README.md\n",
    "git add README.md\n",
    "\n",
    "# je fais un autre changement \n",
    "# mais pas dans l'index\n",
    "echo \"δ1: pas dans l'index\" >> README.md"
   ]
  },
  {
   "cell_type": "markdown",
   "metadata": {
    "cell_style": "split"
   },
   "source": [
    "![](media/changes-reference.png)"
   ]
  },
  {
   "cell_type": "code",
   "execution_count": 15,
   "metadata": {},
   "outputs": [
    {
     "name": "stdout",
     "output_type": "stream",
     "text": [
      "On branch devel\r\n",
      "Changes to be committed:\r\n",
      "  (use \"git reset HEAD <file>...\" to unstage)\r\n",
      "\r\n",
      "\t\u001b[32mmodified:   README.md\u001b[m\r\n",
      "\r\n",
      "Changes not staged for commit:\r\n",
      "  (use \"git add <file>...\" to update what will be committed)\r\n",
      "  (use \"git checkout -- <file>...\" to discard changes in working directory)\r\n",
      "\r\n",
      "\t\u001b[31mmodified:   README.md\u001b[m\r\n",
      "\r\n",
      "\n"
     ]
    }
   ],
   "source": [
    "# voici ce que ça donne quand on a des changements \n",
    "\n",
    "git status"
   ]
  },
  {
   "cell_type": "markdown",
   "metadata": {
    "slideshow": {
     "slide_type": "slide"
    }
   },
   "source": [
    "## où on en est: `git diff`"
   ]
  },
  {
   "cell_type": "code",
   "execution_count": 16,
   "metadata": {
    "cell_style": "split"
   },
   "outputs": [
    {
     "name": "stdout",
     "output_type": "stream",
     "text": [
      "\u001b[1mdiff --git a/README.md b/README.md\u001b[m\r\n",
      "\u001b[1mindex aaf32eb..78a11e1 100644\u001b[m\r\n",
      "\u001b[1m--- a/README.md\u001b[m\r\n",
      "\u001b[1m+++ b/README.md\u001b[m\r\n",
      "\u001b[36m@@ -3,3 +3,4 @@\u001b[m\r\n",
      " Ce dépôt sert à illustrer \u001b[m\r\n",
      " notre cours sur **git**\u001b[m\r\n",
      " δ2: une ligne dans l'index\u001b[m\r\n",
      "\u001b[32m+\u001b[m\u001b[32mδ1: pas dans l'index\u001b[m\r\n",
      "\n"
     ]
    }
   ],
   "source": [
    "# par défaut git diff montre les diffs\n",
    "# entre l'espace de travail et l'index\n",
    "\n",
    "git diff"
   ]
  },
  {
   "cell_type": "code",
   "execution_count": 17,
   "metadata": {
    "cell_style": "split"
   },
   "outputs": [
    {
     "name": "stdout",
     "output_type": "stream",
     "text": [
      "\u001b[1mdiff --git a/README.md b/README.md\u001b[m\r\n",
      "\u001b[1mindex f724681..aaf32eb 100644\u001b[m\r\n",
      "\u001b[1m--- a/README.md\u001b[m\r\n",
      "\u001b[1m+++ b/README.md\u001b[m\r\n",
      "\u001b[36m@@ -2,3 +2,4 @@\u001b[m\r\n",
      " \u001b[m\r\n",
      " Ce dépôt sert à illustrer \u001b[m\r\n",
      " notre cours sur **git**\u001b[m\r\n",
      "\u001b[32m+\u001b[m\u001b[32mδ2: une ligne dans l'index\u001b[m\r\n",
      "\n"
     ]
    }
   ],
   "source": [
    "# pour voir ce qui est dans l'index\n",
    "\n",
    "git diff --cached"
   ]
  },
  {
   "cell_type": "markdown",
   "metadata": {
    "slideshow": {
     "slide_type": "slide"
    }
   },
   "source": [
    "## un raccourci: `show-diffs`"
   ]
  },
  {
   "cell_type": "code",
   "execution_count": 18,
   "metadata": {
    "cell_style": "split"
   },
   "outputs": [
    {
     "name": "stdout",
     "output_type": "stream",
     "text": [
      "show-diffs is a function\r\n",
      "show-diffs () \r\n",
      "{ \r\n",
      "    echo '---------- FILES <-> INDEX';\r\n",
      "    git diff \"$@\";\r\n",
      "    echo '---------- INDEX <-> HEAD';\r\n",
      "    git diff --cached\r\n",
      "}\r\n",
      "\n"
     ]
    }
   ],
   "source": [
    "# juste pour ce tuto:\n",
    "# \n",
    "# un raccourci pour bien montrer \n",
    "# LES DEUX différences:\n",
    "# fichiers / index \n",
    "# et\n",
    "# index / commit\n",
    "\n",
    "type show-diffs"
   ]
  },
  {
   "cell_type": "code",
   "execution_count": 19,
   "metadata": {
    "cell_style": "split"
   },
   "outputs": [
    {
     "name": "stdout",
     "output_type": "stream",
     "text": [
      "---------- FILES <-> INDEX\r\n",
      "\u001b[1mdiff --git a/README.md b/README.md\u001b[m\r\n",
      "\u001b[1mindex aaf32eb..78a11e1 100644\u001b[m\r\n",
      "\u001b[1m--- a/README.md\u001b[m\r\n",
      "\u001b[1m+++ b/README.md\u001b[m\r\n",
      "\u001b[36m@@ -3,3 +3,4 @@\u001b[m\r\n",
      " Ce dépôt sert à illustrer \u001b[m\r\n",
      " notre cours sur **git**\u001b[m\r\n",
      " δ2: une ligne dans l'index\u001b[m\r\n",
      "\u001b[32m+\u001b[m\u001b[32mδ1: pas dans l'index\u001b[m\r\n",
      "---------- INDEX <-> HEAD\r\n",
      "\u001b[1mdiff --git a/README.md b/README.md\u001b[m\r\n",
      "\u001b[1mindex f724681..aaf32eb 100644\u001b[m\r\n",
      "\u001b[1m--- a/README.md\u001b[m\r\n",
      "\u001b[1m+++ b/README.md\u001b[m\r\n",
      "\u001b[36m@@ -2,3 +2,4 @@\u001b[m\r\n",
      " \u001b[m\r\n",
      " Ce dépôt sert à illustrer \u001b[m\r\n",
      " notre cours sur **git**\u001b[m\r\n",
      "\u001b[32m+\u001b[m\u001b[32mδ2: une ligne dans l'index\u001b[m\r\n",
      "\n"
     ]
    }
   ],
   "source": [
    "show-diffs"
   ]
  },
  {
   "cell_type": "markdown",
   "metadata": {
    "slideshow": {
     "slide_type": "slide"
    }
   },
   "source": [
    "## abandonner toutes les modifications pendantes :  \n",
    "`git reset --hard`"
   ]
  },
  {
   "cell_type": "markdown",
   "metadata": {},
   "source": [
    "***attention*** : avec cette commande :\n",
    "\n",
    "* je **jette** littéralement **toutes les modifications** pendantes\n",
    "* qu'elles aient été mises dans l'index ou non"
   ]
  },
  {
   "cell_type": "code",
   "execution_count": 20,
   "metadata": {},
   "outputs": [
    {
     "name": "stdout",
     "output_type": "stream",
     "text": [
      "HEAD is now at 7b5f912 added LICENSE, changed README.md\r\n",
      "\n"
     ]
    }
   ],
   "source": [
    "# j'avais deux différences (une dans l'index et l'autre non)\n",
    "\n",
    "# avec cette commande je vais revenir à l'état du dernier commit\n",
    "\n",
    "git reset --hard"
   ]
  },
  {
   "cell_type": "code",
   "execution_count": 21,
   "metadata": {
    "cell_style": "split"
   },
   "outputs": [
    {
     "name": "stdout",
     "output_type": "stream",
     "text": [
      "On branch devel\r\n",
      "nothing to commit, working tree clean\r\n",
      "\n"
     ]
    }
   ],
   "source": [
    "git status"
   ]
  },
  {
   "cell_type": "code",
   "execution_count": 22,
   "metadata": {
    "cell_style": "split"
   },
   "outputs": [
    {
     "name": "stdout",
     "output_type": "stream",
     "text": [
      "---------- FILES <-> INDEX\r\n",
      "---------- INDEX <-> HEAD\r\n",
      "\n"
     ]
    }
   ],
   "source": [
    "show-diffs"
   ]
  },
  {
   "cell_type": "code",
   "execution_count": 23,
   "metadata": {
    "cell_style": "split"
   },
   "outputs": [
    {
     "name": "stdout",
     "output_type": "stream",
     "text": [
      "LICENSE\t\tREADME.md\r\n",
      "\n"
     ]
    }
   ],
   "source": [
    "ls"
   ]
  },
  {
   "cell_type": "markdown",
   "metadata": {
    "slideshow": {
     "slide_type": "slide"
    }
   },
   "source": [
    "![](media/changes-reference.png)"
   ]
  },
  {
   "cell_type": "markdown",
   "metadata": {},
   "source": [
    "![](media/changes-reset-hard.png)"
   ]
  },
  {
   "cell_type": "markdown",
   "metadata": {
    "slideshow": {
     "slide_type": "slide"
    }
   },
   "source": [
    "## les deux sortes de modification"
   ]
  },
  {
   "cell_type": "markdown",
   "metadata": {},
   "source": [
    "on se définit un état de référence avec deux changements"
   ]
  },
  {
   "cell_type": "code",
   "execution_count": 24,
   "metadata": {
    "cell_style": "split"
   },
   "outputs": [
    {
     "name": "stdout",
     "output_type": "stream",
     "text": [
      "HEAD is now at 7b5f912 added LICENSE, changed README.md\r\n",
      "\n"
     ]
    }
   ],
   "source": [
    "git reset --hard\n",
    "$SCRIPTS/do both-kinds-of-changes"
   ]
  },
  {
   "cell_type": "code",
   "execution_count": 25,
   "metadata": {
    "cell_style": "split"
   },
   "outputs": [
    {
     "name": "stdout",
     "output_type": "stream",
     "text": [
      "---------- FILES <-> INDEX\r\n",
      "\u001b[1mdiff --git a/README.md b/README.md\u001b[m\r\n",
      "\u001b[1mindex aaf32eb..78a11e1 100644\u001b[m\r\n",
      "\u001b[1m--- a/README.md\u001b[m\r\n",
      "\u001b[1m+++ b/README.md\u001b[m\r\n",
      "\u001b[36m@@ -3,3 +3,4 @@\u001b[m\r\n",
      " Ce dépôt sert à illustrer \u001b[m\r\n",
      " notre cours sur **git**\u001b[m\r\n",
      " δ2: une ligne dans l'index\u001b[m\r\n",
      "\u001b[32m+\u001b[m\u001b[32mδ1: pas dans l'index\u001b[m\r\n",
      "---------- INDEX <-> HEAD\r\n",
      "\u001b[1mdiff --git a/README.md b/README.md\u001b[m\r\n",
      "\u001b[1mindex f724681..aaf32eb 100644\u001b[m\r\n",
      "\u001b[1m--- a/README.md\u001b[m\r\n",
      "\u001b[1m+++ b/README.md\u001b[m\r\n",
      "\u001b[36m@@ -2,3 +2,4 @@\u001b[m\r\n",
      " \u001b[m\r\n",
      " Ce dépôt sert à illustrer \u001b[m\r\n",
      " notre cours sur **git**\u001b[m\r\n",
      "\u001b[32m+\u001b[m\u001b[32mδ2: une ligne dans l'index\u001b[m\r\n",
      "\n"
     ]
    }
   ],
   "source": [
    "show-diffs"
   ]
  },
  {
   "cell_type": "markdown",
   "metadata": {
    "slideshow": {
     "slide_type": "slide"
    }
   },
   "source": [
    "## abandonner des modifications pendantes - suite"
   ]
  },
  {
   "cell_type": "markdown",
   "metadata": {},
   "source": [
    "autres variantes -- moins extrêmes que `git reset --hard`\n",
    "\n",
    "avec les commandes\n",
    "\n",
    "* `git reset` : \n",
    "  * sans option, permet d'enlever les modifications dans l'index  \n",
    "  * `git reset -- README.md` pour se limiter à des fichiers spécifiques\n",
    "  \n",
    "* `git checkout` : \n",
    "  * pour enlever les modifications qui ne sont pas dans l'index\n",
    "  * à nouveau on peut faire `git checkout -- README.md` pour limiter la portée\n"
   ]
  },
  {
   "cell_type": "markdown",
   "metadata": {
    "slideshow": {
     "slide_type": "slide"
    }
   },
   "source": [
    "## `git reset` sans arguments "
   ]
  },
  {
   "cell_type": "code",
   "execution_count": 26,
   "metadata": {
    "cell_style": "split"
   },
   "outputs": [
    {
     "name": "stdout",
     "output_type": "stream",
     "text": [
      "HEAD is now at 7b5f912 added LICENSE, changed README.md\r\n",
      "Unstaged changes after reset:\r\n",
      "M\tREADME.md\r\n",
      "\n"
     ]
    }
   ],
   "source": [
    "git reset --hard\n",
    "$SCRIPTS/do both-kinds-of-changes\n",
    "\n",
    "\n",
    "# on vide l'index mais on conserve \n",
    "# les deux différences  \n",
    "\n",
    "git reset"
   ]
  },
  {
   "cell_type": "code",
   "execution_count": 27,
   "metadata": {
    "cell_style": "split"
   },
   "outputs": [
    {
     "name": "stdout",
     "output_type": "stream",
     "text": [
      "---------- FILES <-> INDEX\r\n",
      "\u001b[1mdiff --git a/README.md b/README.md\u001b[m\r\n",
      "\u001b[1mindex f724681..78a11e1 100644\u001b[m\r\n",
      "\u001b[1m--- a/README.md\u001b[m\r\n",
      "\u001b[1m+++ b/README.md\u001b[m\r\n",
      "\u001b[36m@@ -2,3 +2,5 @@\u001b[m\r\n",
      " \u001b[m\r\n",
      " Ce dépôt sert à illustrer \u001b[m\r\n",
      " notre cours sur **git**\u001b[m\r\n",
      "\u001b[32m+\u001b[m\u001b[32mδ2: une ligne dans l'index\u001b[m\r\n",
      "\u001b[32m+\u001b[m\u001b[32mδ1: pas dans l'index\u001b[m\r\n",
      "---------- INDEX <-> HEAD\r\n",
      "\n"
     ]
    }
   ],
   "source": [
    "show-diffs"
   ]
  },
  {
   "cell_type": "markdown",
   "metadata": {},
   "source": [
    "![](media/changes-reset.png)"
   ]
  },
  {
   "cell_type": "markdown",
   "metadata": {
    "slideshow": {
     "slide_type": "slide"
    }
   },
   "source": [
    "## `git checkout -- .` "
   ]
  },
  {
   "cell_type": "code",
   "execution_count": 28,
   "metadata": {
    "cell_style": "split"
   },
   "outputs": [
    {
     "name": "stdout",
     "output_type": "stream",
     "text": [
      "HEAD is now at 7b5f912 added LICENSE, changed README.md\r\n",
      "\n"
     ]
    }
   ],
   "source": [
    "git reset --hard\n",
    "$SCRIPTS/do both-kinds-of-changes\n",
    "\n",
    "\n",
    "# on abandonne la différence \n",
    "# qui n'etait pas dans l'index\n",
    "\n",
    "git checkout -- ."
   ]
  },
  {
   "cell_type": "code",
   "execution_count": 29,
   "metadata": {
    "cell_style": "split"
   },
   "outputs": [
    {
     "name": "stdout",
     "output_type": "stream",
     "text": [
      "---------- FILES <-> INDEX\r\n",
      "---------- INDEX <-> HEAD\r\n",
      "\u001b[1mdiff --git a/README.md b/README.md\u001b[m\r\n",
      "\u001b[1mindex f724681..aaf32eb 100644\u001b[m\r\n",
      "\u001b[1m--- a/README.md\u001b[m\r\n",
      "\u001b[1m+++ b/README.md\u001b[m\r\n",
      "\u001b[36m@@ -2,3 +2,4 @@\u001b[m\r\n",
      " \u001b[m\r\n",
      " Ce dépôt sert à illustrer \u001b[m\r\n",
      " notre cours sur **git**\u001b[m\r\n",
      "\u001b[32m+\u001b[m\u001b[32mδ2: une ligne dans l'index\u001b[m\r\n",
      "\n"
     ]
    }
   ],
   "source": [
    "show-diffs"
   ]
  },
  {
   "cell_type": "markdown",
   "metadata": {},
   "source": [
    "![](media/changes-checkout.png)"
   ]
  },
  {
   "cell_type": "markdown",
   "metadata": {
    "slideshow": {
     "slide_type": "slide"
    }
   },
   "source": [
    "## reset + checkout"
   ]
  },
  {
   "cell_type": "code",
   "execution_count": 30,
   "metadata": {
    "cell_style": "split"
   },
   "outputs": [
    {
     "name": "stdout",
     "output_type": "stream",
     "text": [
      "HEAD is now at 7b5f912 added LICENSE, changed README.md\r\n",
      "Unstaged changes after reset:\r\n",
      "M\tREADME.md\r\n",
      "\n"
     ]
    }
   ],
   "source": [
    "git reset --hard HEAD\n",
    "$SCRIPTS/do both-kinds-of-changes\n",
    "\n",
    "# si on fait les deux \n",
    "# c'est comme reset --hard\n",
    "\n",
    "git reset -- README.md\n",
    "git checkout -- README.md"
   ]
  },
  {
   "cell_type": "code",
   "execution_count": 31,
   "metadata": {
    "cell_style": "split"
   },
   "outputs": [
    {
     "name": "stdout",
     "output_type": "stream",
     "text": [
      "---------- FILES <-> INDEX\r\n",
      "---------- INDEX <-> HEAD\r\n",
      "\n"
     ]
    }
   ],
   "source": [
    "show-diffs"
   ]
  },
  {
   "cell_type": "markdown",
   "metadata": {
    "slideshow": {
     "slide_type": "slide"
    }
   },
   "source": [
    "## résumé"
   ]
  },
  {
   "cell_type": "markdown",
   "metadata": {},
   "source": [
    "* **créer** une branche:\n",
    "  * `git branch la-branche le-commit`\n",
    "* pour identifier `le-commit` vous pouvez utiliser\n",
    "  * un SHA-1 \n",
    "  * un nom de branche\n",
    "  * les notations genre `commit^^` ou `commit~4`\n",
    "  \n",
    "* **aller** sur une branche (et mettre à jour vos fichiers locaux)\n",
    "  * `git checkout la-branche`\n",
    "  \n",
    "* **créer** et **aller** sur une nouvelle branche\n",
    "  * `git checkout -b la-branche le-commit`"
   ]
  },
  {
   "cell_type": "markdown",
   "metadata": {
    "slideshow": {
     "slide_type": "slide"
    }
   },
   "source": [
    "## résumé"
   ]
  },
  {
   "cell_type": "markdown",
   "metadata": {},
   "source": [
    "![](media/changes-summary.png)"
   ]
  }
 ],
 "metadata": {
  "celltoolbar": "Slideshow",
  "ipub": {
   "sphinx": {
    "toggle_input": true,
    "toggle_input_all": true,
    "toggle_output": true,
    "toggle_output_all": true
   }
  },
  "kernelspec": {
   "display_name": "Calysto Bash",
   "language": "bash",
   "name": "calysto_bash"
  },
  "language_info": {
   "file_extension": ".sh",
   "help_links": [
    {
     "text": "MetaKernel Magics",
     "url": "https://metakernel.readthedocs.io/en/latest/source/README.html"
    }
   ],
   "mimetype": "text/x-sh",
   "name": "bash",
   "version": "0.2.1"
  },
  "notebookname": "gérer les changements",
  "rise": {
   "autolaunch": true,
   "slideNumber": "c/t",
   "start_slideshow_at": "selected",
   "theme": "sky",
   "transition": "cube"
  },
  "version": "1.0"
 },
 "nbformat": 4,
 "nbformat_minor": 2
}
