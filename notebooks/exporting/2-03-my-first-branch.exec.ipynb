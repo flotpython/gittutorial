{
 "cells": [
  {
   "cell_type": "markdown",
   "metadata": {
    "slideshow": {
     "slide_type": ""
    }
   },
   "source": [
    "# ma première branche"
   ]
  },
  {
   "cell_type": "code",
   "execution_count": 1,
   "metadata": {
    "slideshow": {
     "slide_type": "slide"
    }
   },
   "outputs": [
    {
     "name": "stdout",
     "output_type": "stream",
     "text": [
      "TOP=/Users/tparment/git/flotpython-gittutorial/notebooks\r\n",
      "\n"
     ]
    }
   ],
   "source": [
    "# ce sera toujours notre façon de commencer\n",
    "[ -f scripts/helpers.sh ] && source scripts/helpers.sh"
   ]
  },
  {
   "cell_type": "markdown",
   "metadata": {
    "slideshow": {
     "slide_type": "slide"
    }
   },
   "source": [
    "## repartons de la partie 2"
   ]
  },
  {
   "cell_type": "markdown",
   "metadata": {},
   "source": [
    "si vous avez bien suivi et exécuté ce qui précède, vous devez avoir un répertoire `my-first-repo`:\n",
    "\n",
    "* qui contient 4 commits\n",
    "* et deux branches `master` et `devel`\n",
    "* et vous devez être sur la branche devel"
   ]
  },
  {
   "cell_type": "code",
   "execution_count": 2,
   "metadata": {},
   "outputs": [
    {
     "name": "stdout",
     "output_type": "stream",
     "text": [
      "\n"
     ]
    }
   ],
   "source": [
    "# si nécessaire, vous pouvez remettre le repository en l'état\n",
    "# \n",
    "# pour cela mettez \"true\" au lieu de \"\"\n",
    "# et bien sûr évaluer la cellule\n",
    "\n",
    "reset=\"\"\n",
    "\n",
    "if [ -n \"$reset\" ]; then \n",
    "    cd $TOP\n",
    "    bash $SCRIPTS/2-01-my-first-repo.sh \n",
    "    bash $SCRIPTS/2-02-my-first-changes.sh \n",
    "fi >& /dev/null"
   ]
  },
  {
   "cell_type": "code",
   "execution_count": 3,
   "metadata": {
    "slideshow": {
     "slide_type": "slide"
    }
   },
   "outputs": [
    {
     "name": "stdout",
     "output_type": "stream",
     "text": [
      "/Users/tparment/git/flotpython-gittutorial/notebooks/my-first-repo\r\n",
      "\n"
     ]
    }
   ],
   "source": [
    "# si nécessaire, on se place dans le repo git\n",
    "[ -d my-first-repo ] && cd my-first-repo\n",
    "\n",
    "pwd"
   ]
  },
  {
   "cell_type": "code",
   "execution_count": 4,
   "metadata": {
    "cell_style": "center",
    "slideshow": {
     "slide_type": ""
    }
   },
   "outputs": [
    {
     "name": "stdout",
     "output_type": "stream",
     "text": [
      "* \u001b[33ma9f1abe\u001b[m\u001b[33m (\u001b[m\u001b[1;32mmaster\u001b[m\u001b[33m)\u001b[m adding markdown, we now have 4 files\r\n",
      "* \u001b[33m1f00a61\u001b[m new code file, tweak README\r\n",
      "* \u001b[33mbf7b679\u001b[m\u001b[33m (\u001b[m\u001b[1;36mHEAD -> \u001b[m\u001b[1;32mdevel\u001b[m\u001b[33m)\u001b[m added LICENSE, changed README.md\r\n",
      "* \u001b[33me82fa9a\u001b[m my first commit: added README.md\r\n",
      "\n"
     ]
    }
   ],
   "source": [
    "# vous devez avoir 4 commits, deux branches\n",
    "# et être sur la branche devel\n",
    "git l --all"
   ]
  },
  {
   "cell_type": "markdown",
   "metadata": {
    "slideshow": {
     "slide_type": "slide"
    }
   },
   "source": [
    "## branche courante"
   ]
  },
  {
   "cell_type": "markdown",
   "metadata": {
    "cell_style": "center"
   },
   "source": [
    "souvenez vous: \n",
    "\n",
    "* on avait fait\n",
    " * `git checkout -b devel HEAD^^`\n",
    "* on avait vu que ça avait :\n",
    "  * créé une branche `devel` \n",
    "  * choisi cette branche comme **courante**"
   ]
  },
  {
   "cell_type": "markdown",
   "metadata": {
    "cell_style": "split"
   },
   "source": [
    "vue gitkraken:"
   ]
  },
  {
   "cell_type": "markdown",
   "metadata": {
    "cell_style": "split"
   },
   "source": [
    "![](media/repo-030-1.png)"
   ]
  },
  {
   "cell_type": "markdown",
   "metadata": {},
   "source": [
    "* parfois `git branch -d ` refusera de détruire une branche\n",
    "* parce qu'il semble y avoir un risque de perdre des données\n",
    "* si vous êtes sûr de vous, utilisez `-D` pour forcer "
   ]
  },
  {
   "cell_type": "markdown",
   "metadata": {
    "slideshow": {
     "slide_type": "slide"
    }
   },
   "source": [
    "## branches"
   ]
  },
  {
   "cell_type": "markdown",
   "metadata": {},
   "source": [
    "notion de branche\n",
    "\n",
    "* une branche correspond uniquement à **une marque posée sur un commit**\n",
    "* comme on va le voir, la branche courante **suit les commits**"
   ]
  },
  {
   "cell_type": "markdown",
   "metadata": {
    "slideshow": {
     "slide_type": "slide"
    }
   },
   "source": [
    "## on committe toujours au dessus de `HEAD`"
   ]
  },
  {
   "cell_type": "code",
   "execution_count": 5,
   "metadata": {
    "cell_style": "split"
   },
   "outputs": [
    {
     "name": "stdout",
     "output_type": "stream",
     "text": [
      "[devel 045d8bc] le début de la branche devel\r\n",
      " 1 file changed, 1 insertion(+)\r\n",
      "\n"
     ]
    }
   ],
   "source": [
    "# la branche courante est devel\n",
    "# du coup si on crée un commit\n",
    "# maintenant:\n",
    "\n",
    "echo \"dans la branche devel\" >> LICENSE\n",
    "git add LICENSE\n",
    "git commit -m \"le début de la branche devel\""
   ]
  },
  {
   "cell_type": "markdown",
   "metadata": {
    "cell_style": "split"
   },
   "source": [
    "![](media/repo-040-2.png)"
   ]
  },
  {
   "cell_type": "code",
   "execution_count": 6,
   "metadata": {},
   "outputs": [
    {
     "name": "stdout",
     "output_type": "stream",
     "text": [
      "* \u001b[33m045d8bc\u001b[m\u001b[33m (\u001b[m\u001b[1;36mHEAD -> \u001b[m\u001b[1;32mdevel\u001b[m\u001b[33m)\u001b[m le début de la branche devel\r\n",
      "\u001b[31m|\u001b[m * \u001b[33ma9f1abe\u001b[m\u001b[33m (\u001b[m\u001b[1;32mmaster\u001b[m\u001b[33m)\u001b[m adding markdown, we now have 4 files\r\n",
      "\u001b[31m|\u001b[m * \u001b[33m1f00a61\u001b[m new code file, tweak README\r\n",
      "\u001b[31m|\u001b[m\u001b[31m/\u001b[m  \r\n",
      "* \u001b[33mbf7b679\u001b[m added LICENSE, changed README.md\r\n",
      "* \u001b[33me82fa9a\u001b[m my first commit: added README.md\r\n",
      "\n"
     ]
    }
   ],
   "source": [
    "git l --all"
   ]
  },
  {
   "cell_type": "markdown",
   "metadata": {
    "slideshow": {
     "slide_type": "slide"
    }
   },
   "source": [
    "\n",
    " ## changer de branche: `git checkout`"
   ]
  },
  {
   "cell_type": "code",
   "execution_count": 7,
   "metadata": {
    "cell_style": "center"
   },
   "outputs": [
    {
     "name": "stdout",
     "output_type": "stream",
     "text": [
      "LICENSE\t\tREADME.md\r\n",
      "\n"
     ]
    }
   ],
   "source": [
    "ls"
   ]
  },
  {
   "cell_type": "code",
   "execution_count": 8,
   "metadata": {
    "cell_style": "split"
   },
   "outputs": [
    {
     "name": "stdout",
     "output_type": "stream",
     "text": [
      "Switched to branch 'master'\r\n",
      "\n"
     ]
    }
   ],
   "source": [
    "git checkout master"
   ]
  },
  {
   "cell_type": "code",
   "execution_count": 9,
   "metadata": {
    "cell_style": "split"
   },
   "outputs": [
    {
     "name": "stdout",
     "output_type": "stream",
     "text": [
      "LICENSE\t\tREADME.md\tfactorial.md\tfactorial.py\r\n",
      "\n"
     ]
    }
   ],
   "source": [
    "ls"
   ]
  },
  {
   "cell_type": "code",
   "execution_count": 10,
   "metadata": {
    "cell_style": "split"
   },
   "outputs": [
    {
     "name": "stdout",
     "output_type": "stream",
     "text": [
      "Switched to branch 'devel'\r\n",
      "\n"
     ]
    }
   ],
   "source": [
    "git checkout devel"
   ]
  },
  {
   "cell_type": "code",
   "execution_count": 11,
   "metadata": {
    "cell_style": "split"
   },
   "outputs": [
    {
     "name": "stdout",
     "output_type": "stream",
     "text": [
      "LICENSE\t\tREADME.md\r\n",
      "\n"
     ]
    }
   ],
   "source": [
    "ls"
   ]
  },
  {
   "cell_type": "markdown",
   "metadata": {
    "slideshow": {
     "slide_type": "slide"
    }
   },
   "source": [
    "## digression: \n",
    "\n",
    "`git diff` fonctionne **aussi** entre deux commits :"
   ]
  },
  {
   "cell_type": "code",
   "execution_count": 12,
   "metadata": {
    "cell_style": "split"
   },
   "outputs": [
    {
     "name": "stdout",
     "output_type": "stream",
     "text": [
      "\u001b[1mdiff --git a/LICENSE b/LICENSE\u001b[m\r\n",
      "\u001b[1mindex 5a50125..931829b 100644\u001b[m\r\n",
      "\u001b[1m--- a/LICENSE\u001b[m\r\n",
      "\u001b[1m+++ b/LICENSE\u001b[m\r\n",
      "\u001b[36m@@ -1 +1,2 @@\u001b[m\r\n",
      " Licence Creative Commons BY-NC-ND 4.0\u001b[m\r\n",
      "\u001b[32m+\u001b[m\u001b[32mdans la branche devel\u001b[m\r\n",
      "\u001b[1mdiff --git a/README.md b/README.md\u001b[m\r\n",
      "\u001b[1mindex 1000113..f724681 100644\u001b[m\r\n",
      "\u001b[1m--- a/README.md\u001b[m\r\n",
      "\u001b[1m+++ b/README.md\u001b[m\r\n",
      "\u001b[36m@@ -2,5 +2,3 @@\u001b[m\r\n",
      " \u001b[m\r\n",
      " Ce dépôt sert à illustrer \u001b[m\r\n",
      " notre cours sur **git**\u001b[m\r\n",
      "\u001b[31m-commit #3\u001b[m\r\n",
      "\u001b[31m-commit #4\u001b[m\r\n",
      "\u001b[1mdiff --git a/factorial.md b/factorial.md\u001b[m\r\n",
      "\u001b[1mdeleted file mode 100644\u001b[m\r\n",
      "\u001b[1mindex 194c0de..0000000\u001b[m\r\n",
      "\u001b[1m--- a/factorial.md\u001b[m\r\n",
      "\u001b[1m+++ /dev/null\u001b[m\r\n",
      "\u001b[36m@@ -1,3 +0,0 @@\u001b[m\r\n",
      "\u001b[31m-# la fonction `factorial`\u001b[m\r\n",
      "\u001b[31m-\u001b[m\r\n",
      "\u001b[31m-renvoie le factoriel de son argument\u001b[m\r\n",
      "\u001b[1mdiff --git a/factorial.py b/factorial.py\u001b[m\r\n",
      "\u001b[1mdeleted file mode 100644\u001b[m\r\n",
      "\u001b[1mindex 7949a21..0000000\u001b[m\r\n",
      "\u001b[1m--- a/factorial.py\u001b[m\r\n",
      "\u001b[1m+++ /dev/null\u001b[m\r\n",
      "\u001b[36m@@ -1,9 +0,0 @@\u001b[m\r\n",
      "\u001b[31m-#!/usr/bin/python3\u001b[m\r\n",
      "\u001b[31m-\u001b[m\r\n",
      "\u001b[31m-# factoriel mais avec un petit bug dedans\u001b[m\r\n",
      "\u001b[31m-\u001b[m\r\n",
      "\u001b[31m-def factorial(n):\u001b[m\r\n",
      "\u001b[31m-    if n <= 0:\u001b[m\r\n",
      "\u001b[31m-        return n\u001b[m\r\n",
      "\u001b[31m-    else:\u001b[m\r\n",
      "\u001b[31m-        return n * factorial(n-1)\u001b[m\r\n",
      "\n"
     ]
    }
   ],
   "source": [
    "git diff master devel"
   ]
  },
  {
   "cell_type": "markdown",
   "metadata": {
    "cell_style": "split"
   },
   "source": [
    "![](media/repo-040-2.png)"
   ]
  },
  {
   "cell_type": "markdown",
   "metadata": {
    "slideshow": {
     "slide_type": "slide"
    }
   },
   "source": [
    "## mon premier `merge`"
   ]
  },
  {
   "cell_type": "markdown",
   "metadata": {},
   "source": [
    "dans sa version la plus simple, `git merge` permet de 'fusionner' deux branches :"
   ]
  },
  {
   "cell_type": "code",
   "execution_count": 13,
   "metadata": {
    "cell_style": "split"
   },
   "outputs": [
    {
     "name": "stdout",
     "output_type": "stream",
     "text": [
      "Switched to branch 'master'\r\n",
      "  devel\u001b[m\r\n",
      "* \u001b[32mmaster\u001b[m\r\n",
      "\n"
     ]
    }
   ],
   "source": [
    "# on se met dans la branche master\n",
    "git checkout master\n",
    "\n",
    "# on vérifie\n",
    "git branch"
   ]
  },
  {
   "cell_type": "code",
   "execution_count": 14,
   "metadata": {
    "cell_style": "split"
   },
   "outputs": [
    {
     "name": "stdout",
     "output_type": "stream",
     "text": [
      "Merge made by the 'recursive' strategy.\r\n",
      " LICENSE | 1 \u001b[32m+\u001b[m\r\n",
      " 1 file changed, 1 insertion(+)\r\n",
      "\n"
     ]
    }
   ],
   "source": [
    "# ce merge va créer un commit, donc:\n",
    "\n",
    "# - il sera créé sur la branche courante\n",
    "# ici master\n",
    "# -  il me faut donner un message\n",
    "git merge devel -m \"mon premier merge\"\n"
   ]
  },
  {
   "cell_type": "code",
   "execution_count": 15,
   "metadata": {
    "cell_style": "split"
   },
   "outputs": [
    {
     "name": "stdout",
     "output_type": "stream",
     "text": [
      "*   \u001b[33m84edaf8\u001b[m\u001b[33m (\u001b[m\u001b[1;36mHEAD -> \u001b[m\u001b[1;32mmaster\u001b[m\u001b[33m)\u001b[m mon premier merge\r\n",
      "\u001b[31m|\u001b[m\u001b[32m\\\u001b[m  \r\n",
      "\u001b[31m|\u001b[m * \u001b[33m045d8bc\u001b[m\u001b[33m (\u001b[m\u001b[1;32mdevel\u001b[m\u001b[33m)\u001b[m le début de la branche devel\r\n",
      "* \u001b[32m|\u001b[m \u001b[33ma9f1abe\u001b[m adding markdown, we now have 4 files\r\n",
      "* \u001b[32m|\u001b[m \u001b[33m1f00a61\u001b[m new code file, tweak README\r\n",
      "\u001b[32m|\u001b[m\u001b[32m/\u001b[m  \r\n",
      "* \u001b[33mbf7b679\u001b[m added LICENSE, changed README.md\r\n",
      "* \u001b[33me82fa9a\u001b[m my first commit: added README.md\r\n",
      "\n"
     ]
    }
   ],
   "source": [
    "# remarquez le nouveau commit \n",
    "# qui est bien sûr\n",
    "# créé dans la branche courante\n",
    "git l"
   ]
  },
  {
   "cell_type": "markdown",
   "metadata": {
    "cell_style": "split"
   },
   "source": [
    "![](media/order-0-both.png)"
   ]
  },
  {
   "cell_type": "markdown",
   "metadata": {
    "slideshow": {
     "slide_type": "slide"
    }
   },
   "source": [
    "## mon premier `merge` - suite"
   ]
  },
  {
   "cell_type": "markdown",
   "metadata": {
    "cell_style": "split"
   },
   "source": [
    "naturellement:\n",
    "\n",
    "* le merge inclut tout le code contenu dans le point de la fourche\n",
    "* ainsi que toutes les modifications faites **dans les deux branches**\n",
    "\n",
    "* nous allons le vérifier en comparant\n",
    "  * les modifs `left` *vs* `master`\n",
    "  * avec les modifs `fork` *vs* `right`\n",
    "* et symétriquement"
   ]
  },
  {
   "cell_type": "markdown",
   "metadata": {
    "cell_style": "split"
   },
   "source": [
    "![](media/order-1-compare-labels.png)"
   ]
  },
  {
   "cell_type": "markdown",
   "metadata": {
    "slideshow": {
     "slide_type": "slide"
    }
   },
   "source": [
    "## digression - naviguer dans les commits (1)"
   ]
  },
  {
   "cell_type": "code",
   "execution_count": 16,
   "metadata": {
    "cell_style": "split"
   },
   "outputs": [
    {
     "name": "stdout",
     "output_type": "stream",
     "text": [
      "*   \u001b[33m84edaf8\u001b[m\u001b[33m (\u001b[m\u001b[1;36mHEAD -> \u001b[m\u001b[1;32mmaster\u001b[m\u001b[33m)\u001b[m mon premier merge\r\n",
      "\u001b[31m|\u001b[m\u001b[32m\\\u001b[m  \r\n",
      "\u001b[31m|\u001b[m * \u001b[33m045d8bc\u001b[m\u001b[33m (\u001b[m\u001b[1;32mdevel\u001b[m\u001b[33m)\u001b[m le début de la branche devel\r\n",
      "* \u001b[32m|\u001b[m \u001b[33ma9f1abe\u001b[m adding markdown, we now have 4 files\r\n",
      "* \u001b[32m|\u001b[m \u001b[33m1f00a61\u001b[m new code file, tweak README\r\n",
      "\u001b[32m|\u001b[m\u001b[32m/\u001b[m  \r\n",
      "* \u001b[33mbf7b679\u001b[m added LICENSE, changed README.md\r\n",
      "* \u001b[33me82fa9a\u001b[m my first commit: added README.md\r\n",
      "\n"
     ]
    }
   ],
   "source": [
    "git l"
   ]
  },
  {
   "cell_type": "markdown",
   "metadata": {
    "cell_style": "split"
   },
   "source": [
    "on a déjà vu comment *descendre* avec\n",
    "\n",
    "* `HEAD^` pour désigner le père\n",
    "* `HEAD~2` pour désigner le grand père\n",
    "\n",
    "il nous manque une façon de *tourner à droite* "
   ]
  },
  {
   "cell_type": "code",
   "execution_count": 17,
   "metadata": {
    "cell_style": "split"
   },
   "outputs": [
    {
     "name": "stdout",
     "output_type": "stream",
     "text": [
      "* \u001b[33ma9f1abe\u001b[m adding markdown, we now have 4 files\r\n",
      "\n"
     ]
    }
   ],
   "source": [
    "git l -1 master^"
   ]
  },
  {
   "cell_type": "code",
   "execution_count": 18,
   "metadata": {
    "cell_style": "split"
   },
   "outputs": [
    {
     "name": "stdout",
     "output_type": "stream",
     "text": [
      "* \u001b[33m1f00a61\u001b[m new code file, tweak README\r\n",
      "\n"
     ]
    }
   ],
   "source": [
    "git l -1 master~2"
   ]
  },
  {
   "cell_type": "markdown",
   "metadata": {
    "slideshow": {
     "slide_type": "slide"
    }
   },
   "source": [
    "## digression - naviguer dans les commits (2)"
   ]
  },
  {
   "cell_type": "code",
   "execution_count": 19,
   "metadata": {
    "cell_style": "split"
   },
   "outputs": [
    {
     "name": "stdout",
     "output_type": "stream",
     "text": [
      "*   \u001b[33m84edaf8\u001b[m\u001b[33m (\u001b[m\u001b[1;36mHEAD -> \u001b[m\u001b[1;32mmaster\u001b[m\u001b[33m)\u001b[m mon premier merge\r\n",
      "\u001b[31m|\u001b[m\u001b[32m\\\u001b[m  \r\n",
      "\u001b[31m|\u001b[m * \u001b[33m045d8bc\u001b[m\u001b[33m (\u001b[m\u001b[1;32mdevel\u001b[m\u001b[33m)\u001b[m le début de la branche devel\r\n",
      "* \u001b[32m|\u001b[m \u001b[33ma9f1abe\u001b[m adding markdown, we now have 4 files\r\n",
      "* \u001b[32m|\u001b[m \u001b[33m1f00a61\u001b[m new code file, tweak README\r\n",
      "\u001b[32m|\u001b[m\u001b[32m/\u001b[m  \r\n",
      "* \u001b[33mbf7b679\u001b[m added LICENSE, changed README.md\r\n",
      "* \u001b[33me82fa9a\u001b[m my first commit: added README.md\r\n",
      "\n"
     ]
    }
   ],
   "source": [
    "git l"
   ]
  },
  {
   "cell_type": "markdown",
   "metadata": {
    "cell_style": "split"
   },
   "source": [
    "ce qui nous manque c'est  \n",
    "\n",
    "* `HEAD^2` qui permet de désigner le deuxième père \n",
    "* lorsqu'un commit est le résultat d'un `merge` \n",
    "* et que donc il a deux pères"
   ]
  },
  {
   "cell_type": "code",
   "execution_count": 20,
   "metadata": {
    "cell_style": "split"
   },
   "outputs": [
    {
     "name": "stdout",
     "output_type": "stream",
     "text": [
      "* \u001b[33ma9f1abe\u001b[m adding markdown, we now have 4 files\r\n",
      "\n"
     ]
    }
   ],
   "source": [
    "git l -1 master^"
   ]
  },
  {
   "cell_type": "code",
   "execution_count": 21,
   "metadata": {
    "cell_style": "split"
   },
   "outputs": [
    {
     "name": "stdout",
     "output_type": "stream",
     "text": [
      "* \u001b[33m045d8bc\u001b[m\u001b[33m (\u001b[m\u001b[1;32mdevel\u001b[m\u001b[33m)\u001b[m le début de la branche devel\r\n",
      "\n"
     ]
    }
   ],
   "source": [
    "git l -1 master^2"
   ]
  },
  {
   "cell_type": "markdown",
   "metadata": {
    "slideshow": {
     "slide_type": "slide"
    }
   },
   "source": [
    "## digression - naviguer dans les commits (3)"
   ]
  },
  {
   "cell_type": "code",
   "execution_count": 22,
   "metadata": {},
   "outputs": [
    {
     "name": "stdout",
     "output_type": "stream",
     "text": [
      "*   \u001b[33m84edaf8\u001b[m\u001b[33m (\u001b[m\u001b[1;36mHEAD -> \u001b[m\u001b[1;32mmaster\u001b[m\u001b[33m)\u001b[m mon premier merge\r\n",
      "\u001b[31m|\u001b[m\u001b[32m\\\u001b[m  \r\n",
      "\u001b[31m|\u001b[m * \u001b[33m045d8bc\u001b[m\u001b[33m (\u001b[m\u001b[1;32mdevel\u001b[m\u001b[33m)\u001b[m le début de la branche devel\r\n",
      "* \u001b[32m|\u001b[m \u001b[33ma9f1abe\u001b[m adding markdown, we now have 4 files\r\n",
      "* \u001b[32m|\u001b[m \u001b[33m1f00a61\u001b[m new code file, tweak README\r\n",
      "\u001b[32m|\u001b[m\u001b[32m/\u001b[m  \r\n",
      "* \u001b[33mbf7b679\u001b[m added LICENSE, changed README.md\r\n",
      "* \u001b[33me82fa9a\u001b[m my first commit: added README.md\r\n",
      "\n"
     ]
    }
   ],
   "source": [
    "git l"
   ]
  },
  {
   "cell_type": "markdown",
   "metadata": {
    "cell_style": "split"
   },
   "source": [
    "on peut combiner les différentes approches"
   ]
  },
  {
   "cell_type": "code",
   "execution_count": 23,
   "metadata": {
    "cell_style": "split"
   },
   "outputs": [
    {
     "name": "stdout",
     "output_type": "stream",
     "text": [
      "* \u001b[33mbf7b679\u001b[m added LICENSE, changed README.md\r\n",
      "\n"
     ]
    }
   ],
   "source": [
    "# première à droite, puis on descend\n",
    "git l -1 master^2^"
   ]
  },
  {
   "cell_type": "code",
   "execution_count": 24,
   "metadata": {
    "cell_style": "split"
   },
   "outputs": [
    {
     "name": "stdout",
     "output_type": "stream",
     "text": [
      "* \u001b[33mbf7b679\u001b[m added LICENSE, changed README.md\r\n",
      "\n"
     ]
    }
   ],
   "source": [
    "# c'est donc comme si j'était descendu 3 fois\n",
    "git l -1 master~3"
   ]
  },
  {
   "cell_type": "markdown",
   "metadata": {},
   "source": [
    "beaucoup d'autres mécanismes existent, voir aussi https://git-scm.com/book/en/v2/Git-Tools-Revision-Selection"
   ]
  },
  {
   "cell_type": "markdown",
   "metadata": {
    "slideshow": {
     "slide_type": "slide"
    }
   },
   "source": [
    "## digression - le plus proche ancêtre commun\n",
    "\n",
    "`git merge-base` "
   ]
  },
  {
   "cell_type": "code",
   "execution_count": 25,
   "metadata": {
    "cell_style": "split"
   },
   "outputs": [
    {
     "name": "stdout",
     "output_type": "stream",
     "text": [
      "*   \u001b[33m84edaf8\u001b[m\u001b[33m (\u001b[m\u001b[1;36mHEAD -> \u001b[m\u001b[1;32mmaster\u001b[m\u001b[33m)\u001b[m mon premier merge\r\n",
      "\u001b[31m|\u001b[m\u001b[32m\\\u001b[m  \r\n",
      "\u001b[31m|\u001b[m * \u001b[33m045d8bc\u001b[m\u001b[33m (\u001b[m\u001b[1;32mdevel\u001b[m\u001b[33m)\u001b[m le début de la branche devel\r\n",
      "* \u001b[32m|\u001b[m \u001b[33ma9f1abe\u001b[m adding markdown, we now have 4 files\r\n",
      "* \u001b[32m|\u001b[m \u001b[33m1f00a61\u001b[m new code file, tweak README\r\n",
      "\u001b[32m|\u001b[m\u001b[32m/\u001b[m  \r\n",
      "* \u001b[33mbf7b679\u001b[m added LICENSE, changed README.md\r\n",
      "* \u001b[33me82fa9a\u001b[m my first commit: added README.md\r\n",
      "\n"
     ]
    }
   ],
   "source": [
    "git l --all"
   ]
  },
  {
   "cell_type": "code",
   "execution_count": 26,
   "metadata": {
    "cell_style": "split"
   },
   "outputs": [
    {
     "name": "stdout",
     "output_type": "stream",
     "text": [
      "bf7b6799b8e639f0b1dbb186c160dd814366bbbf\r\n",
      "\n"
     ]
    }
   ],
   "source": [
    "# l'endroit de la 'fourche' c'est\n",
    "git merge-base master^ master^2"
   ]
  },
  {
   "cell_type": "code",
   "execution_count": 27,
   "metadata": {
    "cell_style": "split"
   },
   "outputs": [
    {
     "name": "stdout",
     "output_type": "stream",
     "text": [
      "bf7b6799b8e639f0b1dbb186c160dd814366bbbf\r\n",
      "\n"
     ]
    }
   ],
   "source": [
    "fork=$(git merge-base master^ master^2)\n",
    "echo $fork"
   ]
  },
  {
   "cell_type": "markdown",
   "metadata": {},
   "source": [
    "pas besoin tous les jours, juste utile pour nous pour démontrer ce qui s'est passé dans ce merge"
   ]
  },
  {
   "cell_type": "markdown",
   "metadata": {
    "slideshow": {
     "slide_type": "slide"
    }
   },
   "source": [
    "## les pivots du merge"
   ]
  },
  {
   "cell_type": "markdown",
   "metadata": {
    "cell_style": "split"
   },
   "source": [
    "![](media/order-1-compare-labels.png)"
   ]
  },
  {
   "cell_type": "code",
   "execution_count": 28,
   "metadata": {
    "cell_style": "split"
   },
   "outputs": [
    {
     "name": "stdout",
     "output_type": "stream",
     "text": [
      "\n"
     ]
    }
   ],
   "source": [
    "# on va se définir des raccourcis\n",
    "# pour désigner les 4 points importants\n",
    "\n",
    "left=\"master^\"\n",
    "\n",
    "right=\"master^2\""
   ]
  },
  {
   "cell_type": "code",
   "execution_count": 29,
   "metadata": {
    "cell_style": "split"
   },
   "outputs": [
    {
     "name": "stdout",
     "output_type": "stream",
     "text": [
      "*   \u001b[33m84edaf8\u001b[m\u001b[33m (\u001b[m\u001b[1;36mHEAD -> \u001b[m\u001b[1;32mmaster\u001b[m\u001b[33m)\u001b[m mon premier merge\r\n",
      "\u001b[31m|\u001b[m\u001b[32m\\\u001b[m  \r\n",
      "\n"
     ]
    }
   ],
   "source": [
    "git l -1 master"
   ]
  },
  {
   "cell_type": "code",
   "execution_count": 30,
   "metadata": {
    "cell_style": "split"
   },
   "outputs": [
    {
     "name": "stdout",
     "output_type": "stream",
     "text": [
      "* \u001b[33ma9f1abe\u001b[m adding markdown, we now have 4 files\r\n",
      "\n"
     ]
    }
   ],
   "source": [
    "git l -1 $left"
   ]
  },
  {
   "cell_type": "code",
   "execution_count": 31,
   "metadata": {
    "cell_style": "split"
   },
   "outputs": [
    {
     "name": "stdout",
     "output_type": "stream",
     "text": [
      "* \u001b[33m045d8bc\u001b[m\u001b[33m (\u001b[m\u001b[1;32mdevel\u001b[m\u001b[33m)\u001b[m le début de la branche devel\r\n",
      "\n"
     ]
    }
   ],
   "source": [
    "git l -1 $right"
   ]
  },
  {
   "cell_type": "code",
   "execution_count": 32,
   "metadata": {
    "cell_style": "split"
   },
   "outputs": [
    {
     "name": "stdout",
     "output_type": "stream",
     "text": [
      "* \u001b[33mbf7b679\u001b[m added LICENSE, changed README.md\r\n",
      "\n"
     ]
    }
   ],
   "source": [
    "git l -1 $fork\n"
   ]
  },
  {
   "cell_type": "markdown",
   "metadata": {
    "cell_style": "split",
    "slideshow": {
     "slide_type": "slide"
    }
   },
   "source": [
    "## vérifions le merge"
   ]
  },
  {
   "cell_type": "markdown",
   "metadata": {
    "cell_style": "split",
    "slideshow": {
     "slide_type": ""
    }
   },
   "source": [
    "<span><img src=\"media/order-1-compare-labels.png\" width=\"120px\" />"
   ]
  },
  {
   "cell_type": "code",
   "execution_count": 33,
   "metadata": {
    "cell_style": "split"
   },
   "outputs": [
    {
     "name": "stdout",
     "output_type": "stream",
     "text": [
      "\u001b[1mdiff --git a/README.md b/README.md\u001b[m\r\n",
      "\u001b[1mindex f724681..1000113 100644\u001b[m\r\n",
      "\u001b[1m--- a/README.md\u001b[m\r\n",
      "\u001b[1m+++ b/README.md\u001b[m\r\n",
      "\u001b[36m@@ -2,3 +2,5 @@\u001b[m\r\n",
      " \u001b[m\r\n",
      " Ce dépôt sert à illustrer \u001b[m\r\n",
      " notre cours sur **git**\u001b[m\r\n",
      "\u001b[32m+\u001b[m\u001b[32mcommit #3\u001b[m\r\n",
      "\u001b[32m+\u001b[m\u001b[32mcommit #4\u001b[m\r\n",
      "\u001b[1mdiff --git a/factorial.md b/factorial.md\u001b[m\r\n",
      "\u001b[1mnew file mode 100644\u001b[m\r\n",
      "\u001b[1mindex 0000000..194c0de\u001b[m\r\n",
      "\u001b[1m--- /dev/null\u001b[m\r\n",
      "\u001b[1m+++ b/factorial.md\u001b[m\r\n",
      "\u001b[36m@@ -0,0 +1,3 @@\u001b[m\r\n",
      "\u001b[32m+\u001b[m\u001b[32m# la fonction `factorial`\u001b[m\r\n",
      "\u001b[32m+\u001b[m\r\n",
      "\u001b[32m+\u001b[m\u001b[32mrenvoie le factoriel de son argument\u001b[m\r\n",
      "\u001b[1mdiff --git a/factorial.py b/factorial.py\u001b[m\r\n",
      "\u001b[1mnew file mode 100644\u001b[m\r\n",
      "\u001b[1mindex 0000000..7949a21\u001b[m\r\n",
      "\u001b[1m--- /dev/null\u001b[m\r\n",
      "\u001b[1m+++ b/factorial.py\u001b[m\r\n",
      "\u001b[36m@@ -0,0 +1,9 @@\u001b[m\r\n",
      "\u001b[32m+\u001b[m\u001b[32m#!/usr/bin/python3\u001b[m\r\n",
      "\u001b[32m+\u001b[m\r\n",
      "\u001b[32m+\u001b[m\u001b[32m# factoriel mais avec un petit bug dedans\u001b[m\r\n",
      "\u001b[32m+\u001b[m\r\n",
      "\u001b[32m+\u001b[m\u001b[32mdef factorial(n):\u001b[m\r\n",
      "\u001b[32m+\u001b[m\u001b[32m    if n <= 0:\u001b[m\r\n",
      "\u001b[32m+\u001b[m\u001b[32m        return n\u001b[m\r\n",
      "\u001b[32m+\u001b[m\u001b[32m    else:\u001b[m\r\n",
      "\u001b[32m+\u001b[m\u001b[32m        return n * factorial(n-1)\u001b[m\r\n",
      "\n"
     ]
    }
   ],
   "source": [
    "git diff $right master"
   ]
  },
  {
   "cell_type": "code",
   "execution_count": 34,
   "metadata": {
    "cell_style": "split"
   },
   "outputs": [
    {
     "name": "stdout",
     "output_type": "stream",
     "text": [
      "\u001b[1mdiff --git a/README.md b/README.md\u001b[m\r\n",
      "\u001b[1mindex f724681..1000113 100644\u001b[m\r\n",
      "\u001b[1m--- a/README.md\u001b[m\r\n",
      "\u001b[1m+++ b/README.md\u001b[m\r\n",
      "\u001b[36m@@ -2,3 +2,5 @@\u001b[m\r\n",
      " \u001b[m\r\n",
      " Ce dépôt sert à illustrer \u001b[m\r\n",
      " notre cours sur **git**\u001b[m\r\n",
      "\u001b[32m+\u001b[m\u001b[32mcommit #3\u001b[m\r\n",
      "\u001b[32m+\u001b[m\u001b[32mcommit #4\u001b[m\r\n",
      "\u001b[1mdiff --git a/factorial.md b/factorial.md\u001b[m\r\n",
      "\u001b[1mnew file mode 100644\u001b[m\r\n",
      "\u001b[1mindex 0000000..194c0de\u001b[m\r\n",
      "\u001b[1m--- /dev/null\u001b[m\r\n",
      "\u001b[1m+++ b/factorial.md\u001b[m\r\n",
      "\u001b[36m@@ -0,0 +1,3 @@\u001b[m\r\n",
      "\u001b[32m+\u001b[m\u001b[32m# la fonction `factorial`\u001b[m\r\n",
      "\u001b[32m+\u001b[m\r\n",
      "\u001b[32m+\u001b[m\u001b[32mrenvoie le factoriel de son argument\u001b[m\r\n",
      "\u001b[1mdiff --git a/factorial.py b/factorial.py\u001b[m\r\n",
      "\u001b[1mnew file mode 100644\u001b[m\r\n",
      "\u001b[1mindex 0000000..7949a21\u001b[m\r\n",
      "\u001b[1m--- /dev/null\u001b[m\r\n",
      "\u001b[1m+++ b/factorial.py\u001b[m\r\n",
      "\u001b[36m@@ -0,0 +1,9 @@\u001b[m\r\n",
      "\u001b[32m+\u001b[m\u001b[32m#!/usr/bin/python3\u001b[m\r\n",
      "\u001b[32m+\u001b[m\r\n",
      "\u001b[32m+\u001b[m\u001b[32m# factoriel mais avec un petit bug dedans\u001b[m\r\n",
      "\u001b[32m+\u001b[m\r\n",
      "\u001b[32m+\u001b[m\u001b[32mdef factorial(n):\u001b[m\r\n",
      "\u001b[32m+\u001b[m\u001b[32m    if n <= 0:\u001b[m\r\n",
      "\u001b[32m+\u001b[m\u001b[32m        return n\u001b[m\r\n",
      "\u001b[32m+\u001b[m\u001b[32m    else:\u001b[m\r\n",
      "\u001b[32m+\u001b[m\u001b[32m        return n * factorial(n-1)\u001b[m\r\n",
      "\n"
     ]
    }
   ],
   "source": [
    "git diff $fork $left"
   ]
  },
  {
   "cell_type": "markdown",
   "metadata": {
    "cell_style": "split",
    "slideshow": {
     "slide_type": "slide"
    }
   },
   "source": [
    "## vérifions le merge "
   ]
  },
  {
   "cell_type": "markdown",
   "metadata": {
    "cell_style": "split",
    "slideshow": {
     "slide_type": ""
    }
   },
   "source": [
    "<span><img src=\"media/order-1-compare-labels.png\" width=\"120px\" />"
   ]
  },
  {
   "cell_type": "code",
   "execution_count": 35,
   "metadata": {
    "cell_style": "split"
   },
   "outputs": [
    {
     "name": "stdout",
     "output_type": "stream",
     "text": [
      "\u001b[1mdiff --git a/LICENSE b/LICENSE\u001b[m\r\n",
      "\u001b[1mindex 5a50125..931829b 100644\u001b[m\r\n",
      "\u001b[1m--- a/LICENSE\u001b[m\r\n",
      "\u001b[1m+++ b/LICENSE\u001b[m\r\n",
      "\u001b[36m@@ -1 +1,2 @@\u001b[m\r\n",
      " Licence Creative Commons BY-NC-ND 4.0\u001b[m\r\n",
      "\u001b[32m+\u001b[m\u001b[32mdans la branche devel\u001b[m\r\n",
      "\n"
     ]
    }
   ],
   "source": [
    "git diff $left master"
   ]
  },
  {
   "cell_type": "code",
   "execution_count": 36,
   "metadata": {
    "cell_style": "split"
   },
   "outputs": [
    {
     "name": "stdout",
     "output_type": "stream",
     "text": [
      "\u001b[1mdiff --git a/LICENSE b/LICENSE\u001b[m\r\n",
      "\u001b[1mindex 5a50125..931829b 100644\u001b[m\r\n",
      "\u001b[1m--- a/LICENSE\u001b[m\r\n",
      "\u001b[1m+++ b/LICENSE\u001b[m\r\n",
      "\u001b[36m@@ -1 +1,2 @@\u001b[m\r\n",
      " Licence Creative Commons BY-NC-ND 4.0\u001b[m\r\n",
      "\u001b[32m+\u001b[m\u001b[32mdans la branche devel\u001b[m\r\n",
      "\n"
     ]
    }
   ],
   "source": [
    "git diff $fork $right"
   ]
  },
  {
   "cell_type": "markdown",
   "metadata": {
    "slideshow": {
     "slide_type": "slide"
    }
   },
   "source": [
    "## autant de branches qu'on veut"
   ]
  },
  {
   "cell_type": "markdown",
   "metadata": {},
   "source": [
    "on ne va pas le faire sur ce premier exemple, mais\n",
    "\n",
    "* on peut créer autant de branches qu'on veut\n",
    "  * qui partent de où on veut\n",
    "  \n",
    "* on peut ausii merger plusieurs branches dans un merge\n",
    "  * ça s'appelle *octopus* merge\n",
    "  \n",
    "* on peut donc parfaitement avoir\n",
    "  * *n* branches qui partent du même commit\n",
    "  * et *n* branches qui sont fusionnées dans un seul commit"
   ]
  },
  {
   "cell_type": "markdown",
   "metadata": {
    "slideshow": {
     "slide_type": "slide"
    }
   },
   "source": [
    "## résumé\n",
    "\n"
   ]
  },
  {
   "cell_type": "markdown",
   "metadata": {},
   "source": [
    "* `git merge` crée si nécessaire **un nouveau commit**\n",
    "  * qui contient les changements \n",
    "  * faits dans les branches fusionnées\n",
    "\n",
    "* pour fusionner deux commits\n",
    "  * choisir la branche courante\n",
    "  * qui comme toujours va recevoir le commit\n",
    "  * désigner le (ou les) commits qu'il faut fusionner"
   ]
  },
  {
   "cell_type": "markdown",
   "metadata": {
    "slideshow": {
     "slide_type": ""
    }
   },
   "source": [
    "## état\n",
    "\n",
    "pour pouvoir s'y référer le cas échéant, voici notre repo à ce stade"
   ]
  },
  {
   "cell_type": "code",
   "execution_count": 37,
   "metadata": {},
   "outputs": [
    {
     "name": "stdout",
     "output_type": "stream",
     "text": [
      "*   \u001b[33m84edaf8\u001b[m\u001b[33m (\u001b[m\u001b[1;36mHEAD -> \u001b[m\u001b[1;32mmaster\u001b[m\u001b[33m)\u001b[m mon premier merge\r\n",
      "\u001b[31m|\u001b[m\u001b[32m\\\u001b[m  \r\n",
      "\u001b[31m|\u001b[m * \u001b[33m045d8bc\u001b[m\u001b[33m (\u001b[m\u001b[1;32mdevel\u001b[m\u001b[33m)\u001b[m le début de la branche devel\r\n",
      "* \u001b[32m|\u001b[m \u001b[33ma9f1abe\u001b[m adding markdown, we now have 4 files\r\n",
      "* \u001b[32m|\u001b[m \u001b[33m1f00a61\u001b[m new code file, tweak README\r\n",
      "\u001b[32m|\u001b[m\u001b[32m/\u001b[m  \r\n",
      "* \u001b[33mbf7b679\u001b[m added LICENSE, changed README.md\r\n",
      "* \u001b[33me82fa9a\u001b[m my first commit: added README.md\r\n",
      "\n"
     ]
    }
   ],
   "source": [
    "git l --all"
   ]
  }
 ],
 "metadata": {
  "celltoolbar": "Slideshow",
  "ipub": {
   "sphinx": {
    "toggle_input": true,
    "toggle_input_all": true,
    "toggle_output": true,
    "toggle_output_all": true
   }
  },
  "kernelspec": {
   "display_name": "Calysto Bash",
   "language": "bash",
   "name": "calysto_bash"
  },
  "language_info": {
   "file_extension": ".sh",
   "help_links": [
    {
     "text": "MetaKernel Magics",
     "url": "https://metakernel.readthedocs.io/en/latest/source/README.html"
    }
   ],
   "mimetype": "text/x-sh",
   "name": "bash",
   "version": "0.2.1"
  },
  "notebookname": "ma première branche",
  "rise": {
   "autolaunch": true,
   "slideNumber": "c/t",
   "start_slideshow_at": "selected",
   "theme": "sky",
   "transition": "cube"
  },
  "version": "1.0"
 },
 "nbformat": 4,
 "nbformat_minor": 2
}
