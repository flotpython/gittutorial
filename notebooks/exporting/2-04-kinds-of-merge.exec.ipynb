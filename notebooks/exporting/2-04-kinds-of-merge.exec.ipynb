{
 "cells": [
  {
   "cell_type": "markdown",
   "metadata": {
    "slideshow": {
     "slide_type": ""
    }
   },
   "source": [
    "# plusieurs sortes de merge"
   ]
  },
  {
   "cell_type": "code",
   "execution_count": 1,
   "metadata": {
    "slideshow": {
     "slide_type": "slide"
    }
   },
   "outputs": [
    {
     "name": "stdout",
     "output_type": "stream",
     "text": [
      "TOP=/Users/tparment/git/flotpython-gittutorial/notebooks\r\n",
      "\n"
     ]
    }
   ],
   "source": [
    "# ce sera toujours notre façon de commencer\n",
    "[ -f scripts/helpers.sh ] && source scripts/helpers.sh"
   ]
  },
  {
   "cell_type": "markdown",
   "metadata": {
    "slideshow": {
     "slide_type": "slide"
    }
   },
   "source": [
    "## reprenons .."
   ]
  },
  {
   "cell_type": "markdown",
   "metadata": {},
   "source": [
    "si vous avez bien suivi et exécuté ce qui précède, vous devez avoir un répertoire `my-first-repo`:\n",
    "\n",
    "* qui contient 4 commits\n",
    "* et deux branches `master` et `devel`\n",
    "* la branche `master` pointe sur notre premier merge\n",
    "* la branche `devel` est un peu en retrait"
   ]
  },
  {
   "cell_type": "code",
   "execution_count": 2,
   "metadata": {},
   "outputs": [
    {
     "name": "stdout",
     "output_type": "stream",
     "text": [
      "\n"
     ]
    }
   ],
   "source": [
    "# si nécessaire, vous pouvez remettre le repository en l'état\n",
    "# \n",
    "# pour cela mettez \"true\" au lieu de \"\"\n",
    "# et bien sûr évaluer la cellule\n",
    "\n",
    "reset=\"\"\n",
    "\n",
    "if [ -n \"$reset\" ]; then \n",
    "    cd $TOP\n",
    "    bash $SCRIPTS/2-01-my-first-repo.sh\n",
    "    bash $SCRIPTS/2-02-consistency-repo-fs.sh\n",
    "    bash $SCRIPTS/2-03-my-first-branch.sh\n",
    "fi >& /dev/null"
   ]
  },
  {
   "cell_type": "markdown",
   "metadata": {
    "slideshow": {
     "slide_type": "slide"
    }
   },
   "source": [
    "## le point.."
   ]
  },
  {
   "cell_type": "code",
   "execution_count": 3,
   "metadata": {},
   "outputs": [
    {
     "name": "stdout",
     "output_type": "stream",
     "text": [
      "/Users/tparment/git/flotpython-gittutorial/notebooks/my-first-repo\r\n",
      "\n"
     ]
    }
   ],
   "source": [
    "# si nécessaire, on se place dans le repo git\n",
    "[ -d my-first-repo ] && cd my-first-repo\n",
    "\n",
    "pwd"
   ]
  },
  {
   "cell_type": "code",
   "execution_count": 4,
   "metadata": {},
   "outputs": [
    {
     "name": "stdout",
     "output_type": "stream",
     "text": [
      "*   \u001b[33mc8f8c2f\u001b[m\u001b[33m (\u001b[m\u001b[1;36mHEAD -> \u001b[m\u001b[1;32mmaster\u001b[m\u001b[33m)\u001b[m mon premier merge\r\n",
      "\u001b[31m|\u001b[m\u001b[32m\\\u001b[m  \r\n",
      "\u001b[31m|\u001b[m * \u001b[33mf1523c4\u001b[m\u001b[33m (\u001b[m\u001b[1;32mdevel\u001b[m\u001b[33m)\u001b[m le début de la branche devel\r\n",
      "* \u001b[32m|\u001b[m \u001b[33m84e32bb\u001b[m adding markdown, we now have 4 files\r\n",
      "* \u001b[32m|\u001b[m \u001b[33m2e764e8\u001b[m new code file, tweak README\r\n",
      "\u001b[32m|\u001b[m\u001b[32m/\u001b[m  \r\n",
      "* \u001b[33mae3073d\u001b[m added LICENSE, changed README.md\r\n",
      "* \u001b[33mb43cf5e\u001b[m my first commit: added README.md\r\n",
      "\n"
     ]
    }
   ],
   "source": [
    "# vous devez avoir deux branches, 6 commits dont un merge\n",
    "# et être sur la branche master \n",
    "git l --all"
   ]
  },
  {
   "cell_type": "markdown",
   "metadata": {
    "slideshow": {
     "slide_type": "slide"
    }
   },
   "source": [
    "## commits comparables ou pas"
   ]
  },
  {
   "cell_type": "markdown",
   "metadata": {},
   "source": [
    "* la relation *commit X référence commit Y* définit un **ordre partiel** sur les commits\n",
    "\n",
    "* selon que deux commits **sont comparables ou non**\n",
    "  * la création d'un merge va avoir des effets très différents"
   ]
  },
  {
   "cell_type": "markdown",
   "metadata": {
    "cell_style": "split"
   },
   "source": [
    "`master` et `media` non comparables `master` $\\nless$ `devel`  \n",
    "`master` $\\ngtr$ `devel`  \n",
    "\n",
    "\n",
    "\n",
    "![](media/order-2-not-compare.png) "
   ]
  },
  {
   "cell_type": "markdown",
   "metadata": {
    "cell_style": "split"
   },
   "source": [
    "ils sont comparables  \n",
    "`master` > `media`\n",
    "\n",
    "![](media/order-3-compare.png) "
   ]
  },
  {
   "cell_type": "markdown",
   "metadata": {
    "cell_style": "center",
    "slideshow": {
     "slide_type": "slide"
    }
   },
   "source": [
    "## deux sortes de merge"
   ]
  },
  {
   "cell_type": "markdown",
   "metadata": {},
   "source": [
    "* si les deux points du merge **sont comparables** :\n",
    "  * **pas besoin** de créer un commit !\n",
    "* dans le cas contraire\n",
    "  * un nouveau commit **est nécessaire**\n",
    "  \n",
    "* voyons ces deux cas plus en détail  "
   ]
  },
  {
   "cell_type": "markdown",
   "metadata": {
    "slideshow": {
     "slide_type": "slide"
    }
   },
   "source": [
    "## (1) merge avec deux commits comparables"
   ]
  },
  {
   "cell_type": "markdown",
   "metadata": {},
   "source": [
    "si les deux commits sont comparables\n",
    "\n",
    "* le plus grand des deux **contient déjà** les changements communs aux deux commits\n",
    "* d'ailleurs: le plus proche ancêtre commun est le plus petit des deux\n"
   ]
  },
  {
   "cell_type": "markdown",
   "metadata": {
    "slideshow": {
     "slide_type": "slide"
    }
   },
   "source": [
    "## (1) merge avec deux commits comparables"
   ]
  },
  {
   "cell_type": "markdown",
   "metadata": {
    "cell_style": "split"
   },
   "source": [
    "un merge dit *fast-forward*\n",
    "\n",
    "![](media/merge-1-fast-forward.png)"
   ]
  },
  {
   "cell_type": "markdown",
   "metadata": {
    "cell_style": "split"
   },
   "source": [
    "un merge sans aucun effet\n",
    "\n",
    "![](media/merge-2-noop.png)"
   ]
  },
  {
   "cell_type": "markdown",
   "metadata": {
    "slideshow": {
     "slide_type": "slide"
    }
   },
   "source": [
    "## (2) merge avec commits incomparables"
   ]
  },
  {
   "cell_type": "markdown",
   "metadata": {},
   "source": [
    "* dans ce cas donc, il faut **créer un commit** qui incorpore les changements\n",
    "* c'est fait **automatiquement** par `git merge` \n",
    "* toutefois :\n",
    "  * l'algorithme fonctionne à base de `diff`\n",
    "  * qui est **orienté lignes**\n",
    "  * d'où la bien meilleure adéquation sur **le texte**\n",
    "\n",
    "digression:\n",
    "\n",
    "* c'est une des raisons qui ont favorisé le format *markdown* \n",
    "* on en reparlera"
   ]
  },
  {
   "cell_type": "markdown",
   "metadata": {
    "slideshow": {
     "slide_type": "slide"
    }
   },
   "source": [
    "## notion de conflit"
   ]
  },
  {
   "cell_type": "markdown",
   "metadata": {},
   "source": [
    "* imaginez que vous avez une section de code, disons une ligne\n",
    "* qui est changée dans la branche A\n",
    "* et **aussi** changée dans la branche B\n",
    "* mais de manière différente.."
   ]
  },
  {
   "cell_type": "markdown",
   "metadata": {
    "slideshow": {
     "slide_type": "slide"
    }
   },
   "source": [
    "## en cas de conflit"
   ]
  },
  {
   "cell_type": "markdown",
   "metadata": {
    "cell_style": "split"
   },
   "source": [
    "Dans ce genre de cas\n",
    "\n",
    "* la fusion automatique **ne va pas réussir**\n",
    "* et le commit **ne sera pas créé**"
   ]
  },
  {
   "cell_type": "markdown",
   "metadata": {
    "cell_style": "split"
   },
   "source": [
    "`git merge` va\n",
    "\n",
    "* fusionner le maximum\n",
    "  * c'est mis dans l'index\n",
    "* pour le reste\n",
    "  * il insère des balises dans le texte\n",
    "  * avec les deux versions\n",
    "  * **pas dans l'index**\n",
    "  * vous laisse le soin de choisir\n",
    "* il vous reste à \n",
    "  * mettre dans l'index les conflits résolus\n",
    "  * créer le commit vous même"
   ]
  },
  {
   "cell_type": "markdown",
   "metadata": {
    "slideshow": {
     "slide_type": "slide"
    }
   },
   "source": [
    "## auto merge"
   ]
  },
  {
   "cell_type": "markdown",
   "metadata": {},
   "source": [
    "![](media/auto-merge-failed.png)"
   ]
  },
  {
   "cell_type": "markdown",
   "metadata": {
    "slideshow": {
     "slide_type": "slide"
    }
   },
   "source": [
    "## exemple 1: fast-forward"
   ]
  },
  {
   "cell_type": "code",
   "execution_count": 5,
   "metadata": {
    "cell_style": "split"
   },
   "outputs": [
    {
     "name": "stdout",
     "output_type": "stream",
     "text": [
      "*   \u001b[33mc8f8c2f\u001b[m\u001b[33m (\u001b[m\u001b[1;36mHEAD -> \u001b[m\u001b[1;32mmaster\u001b[m\u001b[33m)\u001b[m mon premier merge\r\n",
      "\u001b[31m|\u001b[m\u001b[32m\\\u001b[m  \r\n",
      "\u001b[31m|\u001b[m * \u001b[33mf1523c4\u001b[m\u001b[33m (\u001b[m\u001b[1;32mdevel\u001b[m\u001b[33m)\u001b[m le début de la branche devel\r\n",
      "* \u001b[32m|\u001b[m \u001b[33m84e32bb\u001b[m adding markdown, we now have 4 files\r\n",
      "* \u001b[32m|\u001b[m \u001b[33m2e764e8\u001b[m new code file, tweak README\r\n",
      "\u001b[32m|\u001b[m\u001b[32m/\u001b[m  \r\n",
      "* \u001b[33mae3073d\u001b[m added LICENSE, changed README.md\r\n",
      "* \u001b[33mb43cf5e\u001b[m my first commit: added README.md\r\n",
      "\n"
     ]
    }
   ],
   "source": [
    "git l"
   ]
  },
  {
   "cell_type": "markdown",
   "metadata": {
    "cell_style": "split"
   },
   "source": [
    "* rappel: `master` a fusionné `devel`\n",
    "* vérifiez que `master` et `devel` sont comparables\n",
    "* que se passe-t-il si on merge `master` dans `devel` ?"
   ]
  },
  {
   "cell_type": "code",
   "execution_count": 6,
   "metadata": {
    "cell_style": "center",
    "slideshow": {
     "slide_type": "slide"
    }
   },
   "outputs": [
    {
     "name": "stdout",
     "output_type": "stream",
     "text": [
      "Switched to branch 'devel'\r\n",
      "Updating f1523c4..c8f8c2f\r\n",
      "Fast-forward\r\n",
      " README.md    | 2 \u001b[32m++\u001b[m\r\n",
      " factorial.md | 3 \u001b[32m+++\u001b[m\r\n",
      " factorial.py | 9 \u001b[32m+++++++++\u001b[m\r\n",
      " 3 files changed, 14 insertions(+)\r\n",
      " create mode 100644 factorial.md\r\n",
      " create mode 100644 factorial.py\r\n",
      "\n"
     ]
    }
   ],
   "source": [
    "git checkout devel\n",
    "git merge master"
   ]
  },
  {
   "cell_type": "code",
   "execution_count": 7,
   "metadata": {
    "cell_style": "center"
   },
   "outputs": [
    {
     "name": "stdout",
     "output_type": "stream",
     "text": [
      "*   \u001b[33mc8f8c2f\u001b[m\u001b[33m (\u001b[m\u001b[1;36mHEAD -> \u001b[m\u001b[1;32mdevel\u001b[m\u001b[33m, \u001b[m\u001b[1;32mmaster\u001b[m\u001b[33m)\u001b[m mon premier merge\r\n",
      "\u001b[31m|\u001b[m\u001b[32m\\\u001b[m  \r\n",
      "\u001b[31m|\u001b[m * \u001b[33mf1523c4\u001b[m le début de la branche devel\r\n",
      "* \u001b[32m|\u001b[m \u001b[33m84e32bb\u001b[m adding markdown, we now have 4 files\r\n",
      "* \u001b[32m|\u001b[m \u001b[33m2e764e8\u001b[m new code file, tweak README\r\n",
      "\u001b[32m|\u001b[m\u001b[32m/\u001b[m  \r\n",
      "* \u001b[33mae3073d\u001b[m added LICENSE, changed README.md\r\n",
      "* \u001b[33mb43cf5e\u001b[m my first commit: added README.md\r\n",
      "\n"
     ]
    }
   ],
   "source": [
    "git l"
   ]
  },
  {
   "cell_type": "markdown",
   "metadata": {},
   "source": [
    "Réponse: \n",
    "\n",
    "* pas de commit créé\n",
    "* `devel` \"rattrape\" simplement `master`"
   ]
  },
  {
   "cell_type": "markdown",
   "metadata": {
    "slideshow": {
     "slide_type": "slide"
    }
   },
   "source": [
    "## exemple 2 : merge avec conflit - première branche"
   ]
  },
  {
   "cell_type": "code",
   "execution_count": 8,
   "metadata": {
    "cell_style": "split"
   },
   "outputs": [
    {
     "name": "stdout",
     "output_type": "stream",
     "text": [
      "\n"
     ]
    }
   ],
   "source": [
    "# un changement qui\n",
    "# ne sera pas conflictuel\n",
    "\n",
    "$SCRIPTS/do no-worries-1"
   ]
  },
  {
   "cell_type": "code",
   "execution_count": 9,
   "metadata": {
    "cell_style": "split"
   },
   "outputs": [
    {
     "name": "stdout",
     "output_type": "stream",
     "text": [
      "\n"
     ]
    }
   ],
   "source": [
    "# celui-ci par contre le sera\n",
    "\n",
    "$SCRIPTS/do conflict-1"
   ]
  },
  {
   "cell_type": "code",
   "execution_count": 10,
   "metadata": {
    "cell_style": "center"
   },
   "outputs": [
    {
     "name": "stdout",
     "output_type": "stream",
     "text": [
      "\u001b[1mdiff --git a/factorial.md b/factorial.md\u001b[m\r\n",
      "\u001b[1mindex 194c0de..7a3d6cc 100644\u001b[m\r\n",
      "\u001b[1m--- a/factorial.md\u001b[m\r\n",
      "\u001b[1m+++ b/factorial.md\u001b[m\r\n",
      "\u001b[36m@@ -1,3 +1,4 @@\u001b[m\r\n",
      " # la fonction `factorial`\u001b[m\r\n",
      "\u001b[32m+\u001b[m\u001b[32m# un changement sans problème\u001b[m\r\n",
      " \u001b[m\r\n",
      "\u001b[31m-renvoie le factoriel de son argument\u001b[m\r\n",
      "\u001b[32m+\u001b[m\u001b[32mrenvoie le résultat de factoriel sur son argument\u001b[m\r\n",
      "\n"
     ]
    }
   ],
   "source": [
    "git diff"
   ]
  },
  {
   "cell_type": "markdown",
   "metadata": {
    "slideshow": {
     "slide_type": "slide"
    }
   },
   "source": [
    "## exemple 2 : merge avec conflit - première branche"
   ]
  },
  {
   "cell_type": "code",
   "execution_count": 11,
   "metadata": {
    "cell_style": "center"
   },
   "outputs": [
    {
     "name": "stdout",
     "output_type": "stream",
     "text": [
      "[devel b21a5f6] pour conflit dans devel\r\n",
      " 1 file changed, 2 insertions(+), 1 deletion(-)\r\n",
      "\n"
     ]
    }
   ],
   "source": [
    "git add factorial.md\n",
    "git commit -m 'pour conflit dans devel'"
   ]
  },
  {
   "cell_type": "code",
   "execution_count": 12,
   "metadata": {},
   "outputs": [
    {
     "name": "stdout",
     "output_type": "stream",
     "text": [
      "* \u001b[33mb21a5f6\u001b[m\u001b[33m (\u001b[m\u001b[1;36mHEAD -> \u001b[m\u001b[1;32mdevel\u001b[m\u001b[33m)\u001b[m pour conflit dans devel\r\n",
      "*   \u001b[33mc8f8c2f\u001b[m\u001b[33m (\u001b[m\u001b[1;32mmaster\u001b[m\u001b[33m)\u001b[m mon premier merge\r\n",
      "\u001b[32m|\u001b[m\u001b[33m\\\u001b[m  \r\n",
      "\u001b[32m|\u001b[m * \u001b[33mf1523c4\u001b[m le début de la branche devel\r\n",
      "* \u001b[33m|\u001b[m \u001b[33m84e32bb\u001b[m adding markdown, we now have 4 files\r\n",
      "* \u001b[33m|\u001b[m \u001b[33m2e764e8\u001b[m new code file, tweak README\r\n",
      "\u001b[33m|\u001b[m\u001b[33m/\u001b[m  \r\n",
      "* \u001b[33mae3073d\u001b[m added LICENSE, changed README.md\r\n",
      "* \u001b[33mb43cf5e\u001b[m my first commit: added README.md\r\n",
      "\n"
     ]
    }
   ],
   "source": [
    "git l --all"
   ]
  },
  {
   "cell_type": "markdown",
   "metadata": {
    "slideshow": {
     "slide_type": "slide"
    }
   },
   "source": [
    "## exemple 2 : merge avec conflit - deuxième branche"
   ]
  },
  {
   "cell_type": "code",
   "execution_count": 13,
   "metadata": {
    "cell_style": "split"
   },
   "outputs": [
    {
     "name": "stdout",
     "output_type": "stream",
     "text": [
      "Switched to branch 'master'\r\n",
      "\n"
     ]
    }
   ],
   "source": [
    "# remettons-nous au commit précédent\n",
    "git checkout master"
   ]
  },
  {
   "cell_type": "code",
   "execution_count": 14,
   "metadata": {
    "cell_style": "split"
   },
   "outputs": [
    {
     "name": "stdout",
     "output_type": "stream",
     "text": [
      "\n"
     ]
    }
   ],
   "source": [
    "# même logique, on fait deux changements\n",
    "\n",
    "$SCRIPTS/do no-worries-2\n",
    "$SCRIPTS/do conflict-2"
   ]
  },
  {
   "cell_type": "code",
   "execution_count": 15,
   "metadata": {
    "cell_style": "split",
    "scrolled": true
   },
   "outputs": [
    {
     "name": "stdout",
     "output_type": "stream",
     "text": [
      "\u001b[1mdiff --git a/factorial.md b/factorial.md\u001b[m\r\n",
      "\u001b[1mindex 194c0de..dbc66b8 100644\u001b[m\r\n",
      "\u001b[1m--- a/factorial.md\u001b[m\r\n",
      "\u001b[1m+++ b/factorial.md\u001b[m\r\n",
      "\u001b[36m@@ -1,3 +1,3 @@\u001b[m\r\n",
      " # la fonction `factorial`\u001b[m\r\n",
      " \u001b[m\r\n",
      "\u001b[31m-renvoie le factoriel de son argument\u001b[m\r\n",
      "\u001b[32m+\u001b[m\u001b[32mrenvoie le factoriel de son paramètre\u001b[m\r\n",
      "\u001b[1mdiff --git a/factorial.py b/factorial.py\u001b[m\r\n",
      "\u001b[1mindex 7949a21..5a635cf 100644\u001b[m\r\n",
      "\u001b[1m--- a/factorial.py\u001b[m\r\n",
      "\u001b[1m+++ b/factorial.py\u001b[m\r\n",
      "\u001b[36m@@ -1,6 +1,6 @@\u001b[m\r\n",
      " #!/usr/bin/python3\u001b[m\r\n",
      " \u001b[m\r\n",
      "\u001b[31m-# factoriel mais avec un petit bug dedans\u001b[m\r\n",
      "\u001b[32m+\u001b[m\u001b[32m# factoriel avec bug corrigé\u001b[m\r\n",
      " \u001b[m\r\n",
      " def factorial(n):\u001b[m\r\n",
      "     if n <= 0:\u001b[m\r\n",
      "\n"
     ]
    }
   ],
   "source": [
    "git diff"
   ]
  },
  {
   "cell_type": "code",
   "execution_count": 16,
   "metadata": {
    "cell_style": "split"
   },
   "outputs": [
    {
     "name": "stdout",
     "output_type": "stream",
     "text": [
      "[master 3d6a400] pour conflit, dans master\r\n",
      " 2 files changed, 2 insertions(+), 2 deletions(-)\r\n",
      "\n"
     ]
    }
   ],
   "source": [
    "git add factorial.py factorial.md\n",
    "\n",
    "git commit -m'pour conflit, dans master'"
   ]
  },
  {
   "cell_type": "markdown",
   "metadata": {
    "slideshow": {
     "slide_type": "slide"
    }
   },
   "source": [
    "## exemple 2 : merge avec conflit - on a deux branches"
   ]
  },
  {
   "cell_type": "code",
   "execution_count": 17,
   "metadata": {},
   "outputs": [
    {
     "name": "stdout",
     "output_type": "stream",
     "text": [
      "* \u001b[33mb21a5f6\u001b[m\u001b[33m (\u001b[m\u001b[1;32mdevel\u001b[m\u001b[33m)\u001b[m pour conflit dans devel\r\n",
      "\u001b[31m|\u001b[m * \u001b[33m3d6a400\u001b[m\u001b[33m (\u001b[m\u001b[1;36mHEAD -> \u001b[m\u001b[1;32mmaster\u001b[m\u001b[33m)\u001b[m pour conflit, dans master\r\n",
      "\u001b[31m|\u001b[m\u001b[31m/\u001b[m  \r\n",
      "*   \u001b[33mc8f8c2f\u001b[m mon premier merge\r\n",
      "\u001b[33m|\u001b[m\u001b[34m\\\u001b[m  \r\n",
      "\u001b[33m|\u001b[m * \u001b[33mf1523c4\u001b[m le début de la branche devel\r\n",
      "* \u001b[34m|\u001b[m \u001b[33m84e32bb\u001b[m adding markdown, we now have 4 files\r\n",
      "* \u001b[34m|\u001b[m \u001b[33m2e764e8\u001b[m new code file, tweak README\r\n",
      "\u001b[34m|\u001b[m\u001b[34m/\u001b[m  \r\n",
      "* \u001b[33mae3073d\u001b[m added LICENSE, changed README.md\r\n",
      "* \u001b[33mb43cf5e\u001b[m my first commit: added README.md\r\n",
      "\n"
     ]
    }
   ],
   "source": [
    "git l --all\n"
   ]
  },
  {
   "cell_type": "markdown",
   "metadata": {
    "slideshow": {
     "slide_type": "slide"
    }
   },
   "source": [
    "## exemple 2 : le merge échoue"
   ]
  },
  {
   "cell_type": "code",
   "execution_count": 18,
   "metadata": {},
   "outputs": [
    {
     "name": "stdout",
     "output_type": "stream",
     "text": [
      "Auto-merging factorial.md\r\n",
      "CONFLICT (content): Merge conflict in factorial.md\r\n",
      "Automatic merge failed; fix conflicts and then commit the result.\r\n",
      "\n"
     ]
    }
   ],
   "source": [
    "# on est sur master\n",
    "git merge devel"
   ]
  },
  {
   "cell_type": "markdown",
   "metadata": {
    "slideshow": {
     "slide_type": "slide"
    }
   },
   "source": [
    "## exemple 2 : le résultat du merge qui a échoué"
   ]
  },
  {
   "cell_type": "code",
   "execution_count": 19,
   "metadata": {
    "cell_style": "split"
   },
   "outputs": [
    {
     "name": "stdout",
     "output_type": "stream",
     "text": [
      "On branch master\r\n",
      "You have unmerged paths.\r\n",
      "  (fix conflicts and run \"git commit\")\r\n",
      "  (use \"git merge --abort\" to abort the merge)\r\n",
      "\r\n",
      "Unmerged paths:\r\n",
      "  (use \"git add <file>...\" to mark resolution)\r\n",
      "\r\n",
      "\t\u001b[31mboth modified:   factorial.md\u001b[m\r\n",
      "\r\n",
      "no changes added to commit (use \"git add\" and/or \"git commit -a\")\r\n",
      "\n"
     ]
    }
   ],
   "source": [
    "git status"
   ]
  },
  {
   "cell_type": "code",
   "execution_count": 20,
   "metadata": {
    "cell_style": "split"
   },
   "outputs": [
    {
     "name": "stdout",
     "output_type": "stream",
     "text": [
      "# la fonction `factorial`\r\n",
      "# un changement sans problème\r\n",
      "\r\n",
      "<<<<<<< HEAD\r\n",
      "renvoie le factoriel de son paramètre\r\n",
      "=======\r\n",
      "renvoie le résultat de factoriel sur son argument\r\n",
      ">>>>>>> devel\r\n",
      "\n"
     ]
    }
   ],
   "source": [
    "cat factorial.md"
   ]
  },
  {
   "cell_type": "markdown",
   "metadata": {
    "slideshow": {
     "slide_type": "slide"
    }
   },
   "source": [
    "## exemple 2 : résoudre le conflit"
   ]
  },
  {
   "cell_type": "markdown",
   "metadata": {
    "cell_style": "split"
   },
   "source": [
    "* modifier à la main le fichier concerné\n",
    "* ajouter ce changement à l'index\n",
    "* on peut alors commiter"
   ]
  },
  {
   "cell_type": "code",
   "execution_count": 21,
   "metadata": {
    "cell_style": "split"
   },
   "outputs": [
    {
     "name": "stdout",
     "output_type": "stream",
     "text": [
      "# la fonction `factorial`\r\n",
      "# un changement sans problème\r\n",
      "\r\n",
      "renvoie le résultat de factoriel sur son paramètre\r\n",
      "\n"
     ]
    }
   ],
   "source": [
    "# je simule une modification sous éditeur\n",
    "$SCRIPTS/do resolve-conflict\n",
    "\n",
    "cat factorial.md"
   ]
  },
  {
   "cell_type": "code",
   "execution_count": 22,
   "metadata": {
    "cell_style": "center"
   },
   "outputs": [
    {
     "name": "stdout",
     "output_type": "stream",
     "text": [
      "On branch master\r\n",
      "You have unmerged paths.\r\n",
      "  (fix conflicts and run \"git commit\")\r\n",
      "  (use \"git merge --abort\" to abort the merge)\r\n",
      "\r\n",
      "Unmerged paths:\r\n",
      "  (use \"git add <file>...\" to mark resolution)\r\n",
      "\r\n",
      "\t\u001b[31mboth modified:   factorial.md\u001b[m\r\n",
      "\r\n",
      "no changes added to commit (use \"git add\" and/or \"git commit -a\")\r\n",
      "\n"
     ]
    }
   ],
   "source": [
    "# pas de changement naturellement\n",
    "git status"
   ]
  },
  {
   "cell_type": "markdown",
   "metadata": {
    "slideshow": {
     "slide_type": "slide"
    }
   },
   "source": [
    "## exemple 2 : résoudre le conflit (2)"
   ]
  },
  {
   "cell_type": "code",
   "execution_count": 23,
   "metadata": {
    "cell_style": "split"
   },
   "outputs": [
    {
     "name": "stdout",
     "output_type": "stream",
     "text": [
      "\n"
     ]
    }
   ],
   "source": [
    "# maintenant on peut mettre \n",
    "# la résolution du conflit dans l'index\n",
    "git add factorial.md"
   ]
  },
  {
   "cell_type": "code",
   "execution_count": 24,
   "metadata": {
    "cell_style": "split"
   },
   "outputs": [
    {
     "name": "stdout",
     "output_type": "stream",
     "text": [
      "On branch master\r\n",
      "All conflicts fixed but you are still merging.\r\n",
      "  (use \"git commit\" to conclude merge)\r\n",
      "\r\n",
      "Changes to be committed:\r\n",
      "\r\n",
      "\t\u001b[32mmodified:   factorial.md\u001b[m\r\n",
      "\r\n",
      "\n"
     ]
    }
   ],
   "source": [
    "# plus de souci\n",
    "git status"
   ]
  },
  {
   "cell_type": "code",
   "execution_count": 25,
   "metadata": {},
   "outputs": [
    {
     "name": "stdout",
     "output_type": "stream",
     "text": [
      "[master 20ab5a4] conflit résolu\r\n",
      "\n"
     ]
    }
   ],
   "source": [
    "# et à présent on peut committer\n",
    "git commit -m  'conflit résolu'"
   ]
  },
  {
   "cell_type": "code",
   "execution_count": 26,
   "metadata": {},
   "outputs": [
    {
     "name": "stdout",
     "output_type": "stream",
     "text": [
      "*   \u001b[33m20ab5a4\u001b[m\u001b[33m (\u001b[m\u001b[1;36mHEAD -> \u001b[m\u001b[1;32mmaster\u001b[m\u001b[33m)\u001b[m conflit résolu\r\n",
      "\u001b[31m|\u001b[m\u001b[32m\\\u001b[m  \r\n",
      "\u001b[31m|\u001b[m * \u001b[33mb21a5f6\u001b[m\u001b[33m (\u001b[m\u001b[1;32mdevel\u001b[m\u001b[33m)\u001b[m pour conflit dans devel\r\n",
      "* \u001b[32m|\u001b[m \u001b[33m3d6a400\u001b[m pour conflit, dans master\r\n",
      "\u001b[32m|\u001b[m\u001b[32m/\u001b[m  \r\n",
      "*   \u001b[33mc8f8c2f\u001b[m mon premier merge\r\n",
      "\u001b[33m|\u001b[m\u001b[34m\\\u001b[m  \r\n",
      "\u001b[33m|\u001b[m * \u001b[33mf1523c4\u001b[m le début de la branche devel\r\n",
      "* \u001b[34m|\u001b[m \u001b[33m84e32bb\u001b[m adding markdown, we now have 4 files\r\n",
      "* \u001b[34m|\u001b[m \u001b[33m2e764e8\u001b[m new code file, tweak README\r\n",
      "\u001b[34m|\u001b[m\u001b[34m/\u001b[m  \r\n",
      "* \u001b[33mae3073d\u001b[m added LICENSE, changed README.md\r\n",
      "* \u001b[33mb43cf5e\u001b[m my first commit: added README.md\r\n",
      "\n"
     ]
    }
   ],
   "source": [
    "git l --all"
   ]
  },
  {
   "cell_type": "markdown",
   "metadata": {
    "cell_style": "center",
    "slideshow": {
     "slide_type": "slide"
    }
   },
   "source": [
    "## exercice 1"
   ]
  },
  {
   "cell_type": "markdown",
   "metadata": {},
   "source": [
    "je vous invite à vous amuser à faire les diffs dans tous les sens :\n",
    "\n",
    "* calculer le sha-1 du dernier point de fourche (\"*mon premier merge*\")\n",
    "* diff avec HEAD (a.k.a. master)\n",
    "* diff avec devel\n",
    "* diff entre master et devel"
   ]
  },
  {
   "cell_type": "code",
   "execution_count": 27,
   "metadata": {
    "slideshow": {
     "slide_type": "slide"
    }
   },
   "outputs": [
    {
     "name": "stdout",
     "output_type": "stream",
     "text": [
      "\u001b[1mdiff --git a/factorial.md b/factorial.md\u001b[m\r\n",
      "\u001b[1mindex 7a3d6cc..2afd2be 100644\u001b[m\r\n",
      "\u001b[1m--- a/factorial.md\u001b[m\r\n",
      "\u001b[1m+++ b/factorial.md\u001b[m\r\n",
      "\u001b[36m@@ -1,4 +1,4 @@\u001b[m\r\n",
      " # la fonction `factorial`\u001b[m\r\n",
      " # un changement sans problème\u001b[m\r\n",
      " \u001b[m\r\n",
      "\u001b[31m-renvoie le résultat de factoriel sur son argument\u001b[m\r\n",
      "\u001b[32m+\u001b[m\u001b[32mrenvoie le résultat de factoriel sur son paramètre\u001b[m\r\n",
      "\u001b[1mdiff --git a/factorial.py b/factorial.py\u001b[m\r\n",
      "\u001b[1mindex 7949a21..5a635cf 100644\u001b[m\r\n",
      "\u001b[1m--- a/factorial.py\u001b[m\r\n",
      "\u001b[1m+++ b/factorial.py\u001b[m\r\n",
      "\u001b[36m@@ -1,6 +1,6 @@\u001b[m\r\n",
      " #!/usr/bin/python3\u001b[m\r\n",
      " \u001b[m\r\n",
      "\u001b[31m-# factoriel mais avec un petit bug dedans\u001b[m\r\n",
      "\u001b[32m+\u001b[m\u001b[32m# factoriel avec bug corrigé\u001b[m\r\n",
      " \u001b[m\r\n",
      " def factorial(n):\u001b[m\r\n",
      "     if n <= 0:\u001b[m\r\n",
      "\n"
     ]
    }
   ],
   "source": [
    "git diff devel master\n"
   ]
  },
  {
   "cell_type": "markdown",
   "metadata": {
    "slideshow": {
     "slide_type": "slide"
    }
   },
   "source": [
    "## exercice 2"
   ]
  },
  {
   "cell_type": "markdown",
   "metadata": {},
   "source": [
    "s'entraîner à faire des merge \n",
    "\n",
    "1. avec des configurations *claires*, \n",
    "   c'est-à-dire où clairement les deux changements sont indépendants les uns des autres\n",
    "   \n",
    "1. on a vu un conflit quand les deux branches **modifient** la même ligne  \n",
    "   que se passe-t-il si les deux branches **insèrent** du code au même endroit dans un fichier"
   ]
  },
  {
   "cell_type": "markdown",
   "metadata": {
    "slideshow": {
     "slide_type": "slide"
    }
   },
   "source": [
    "## résumé\n",
    "\n",
    "* lorsque deux commits sont comparables\n",
    "  * c'est-à-dire qu'il existe un chemin uniquement descendant de l'un à l'autre\n",
    "  * alors un merge **ne produit pas de commit**\n",
    "  * mais peut provoquer un \"rattrapage\" d'une branche par une autre\n",
    "\n",
    "* dans le cas contraire\n",
    "  * un merge **crée un commit** de fusion\n",
    "  * sauf lorsqu'il y a conflit\n",
    "  * dans ce cas c'est à vous de résoudre ces conflits à la main\n",
    "  * et de terminer le travail en créant le commit  "
   ]
  },
  {
   "cell_type": "markdown",
   "metadata": {
    "slideshow": {
     "slide_type": "slide"
    }
   },
   "source": [
    "## état\n",
    "\n",
    "comme d'habitude nous observons notre répo à ce stade"
   ]
  },
  {
   "cell_type": "code",
   "execution_count": 28,
   "metadata": {},
   "outputs": [
    {
     "name": "stdout",
     "output_type": "stream",
     "text": [
      "*   \u001b[33m20ab5a4\u001b[m\u001b[33m (\u001b[m\u001b[1;36mHEAD -> \u001b[m\u001b[1;32mmaster\u001b[m\u001b[33m)\u001b[m conflit résolu\r\n",
      "\u001b[31m|\u001b[m\u001b[32m\\\u001b[m  \r\n",
      "\u001b[31m|\u001b[m * \u001b[33mb21a5f6\u001b[m\u001b[33m (\u001b[m\u001b[1;32mdevel\u001b[m\u001b[33m)\u001b[m pour conflit dans devel\r\n",
      "* \u001b[32m|\u001b[m \u001b[33m3d6a400\u001b[m pour conflit, dans master\r\n",
      "\u001b[32m|\u001b[m\u001b[32m/\u001b[m  \r\n",
      "*   \u001b[33mc8f8c2f\u001b[m mon premier merge\r\n",
      "\u001b[33m|\u001b[m\u001b[34m\\\u001b[m  \r\n",
      "\u001b[33m|\u001b[m * \u001b[33mf1523c4\u001b[m le début de la branche devel\r\n",
      "* \u001b[34m|\u001b[m \u001b[33m84e32bb\u001b[m adding markdown, we now have 4 files\r\n",
      "* \u001b[34m|\u001b[m \u001b[33m2e764e8\u001b[m new code file, tweak README\r\n",
      "\u001b[34m|\u001b[m\u001b[34m/\u001b[m  \r\n",
      "* \u001b[33mae3073d\u001b[m added LICENSE, changed README.md\r\n",
      "* \u001b[33mb43cf5e\u001b[m my first commit: added README.md\r\n",
      "\n"
     ]
    }
   ],
   "source": [
    "git l --all"
   ]
  }
 ],
 "metadata": {
  "celltoolbar": "Slideshow",
  "ipub": {
   "sphinx": {
    "toggle_input": true,
    "toggle_input_all": true,
    "toggle_output": true,
    "toggle_output_all": true
   }
  },
  "kernelspec": {
   "display_name": "Calysto Bash",
   "language": "bash",
   "name": "calysto_bash"
  },
  "language_info": {
   "file_extension": ".sh",
   "help_links": [
    {
     "text": "MetaKernel Magics",
     "url": "https://metakernel.readthedocs.io/en/latest/source/README.html"
    }
   ],
   "mimetype": "text/x-sh",
   "name": "bash",
   "version": "0.2.1"
  },
  "notebookname": "ordre partiel, fast-forward",
  "rise": {
   "autolaunch": true,
   "slideNumber": "c/t",
   "start_slideshow_at": "selected",
   "theme": "sky",
   "transition": "cube"
  },
  "version": "1.0"
 },
 "nbformat": 4,
 "nbformat_minor": 2
}
