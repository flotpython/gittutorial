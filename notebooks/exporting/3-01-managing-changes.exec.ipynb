{
 "cells": [
  {
   "cell_type": "markdown",
   "metadata": {
    "slideshow": {
     "slide_type": ""
    }
   },
   "source": [
    "# modifications pendantes"
   ]
  },
  {
   "cell_type": "code",
   "execution_count": 1,
   "metadata": {
    "slideshow": {
     "slide_type": "slide"
    }
   },
   "outputs": [
    {
     "name": "stdout",
     "output_type": "stream",
     "text": [
      "TOP=/Users/tparment/git/flotpython-gittutorial/notebooks\r\n",
      "\n"
     ]
    }
   ],
   "source": [
    "# ce sera toujours notre façon de commencer\n",
    "[ -f scripts/helpers.sh ] && source scripts/helpers.sh"
   ]
  },
  {
   "cell_type": "markdown",
   "metadata": {
    "slideshow": {
     "slide_type": "slide"
    }
   },
   "source": [
    "## point de départ\n",
    "\n",
    "nous repartons du `repo-alice` du scénario précédent"
   ]
  },
  {
   "cell_type": "code",
   "execution_count": 2,
   "metadata": {},
   "outputs": [
    {
     "name": "stdout",
     "output_type": "stream",
     "text": [
      "\n"
     ]
    }
   ],
   "source": [
    "# si nécessaire, vous pouvez remettre le repository en l'état\n",
    "# \n",
    "# pour cela mettez \"true\" au lieu de \"\"\n",
    "# et bien sûr évaluer la cellule\n",
    "\n",
    "reset=\"\"\n",
    "\n",
    "if [ -n \"$reset\" ]; then \n",
    "    cd $TOP\n",
    "    bash $SCRIPTS/2-06-my-first-remote.sh\n",
    "fi >& /dev/null"
   ]
  },
  {
   "cell_type": "code",
   "execution_count": 3,
   "metadata": {},
   "outputs": [
    {
     "name": "stdout",
     "output_type": "stream",
     "text": [
      "/Users/tparment/git/flotpython-gittutorial/notebooks/repo-alice\r\n",
      "\n"
     ]
    }
   ],
   "source": [
    "# si nécessaire, on se place dans le repo git\n",
    "[ -d repo-alice ] && cd repo-alice\n",
    "\n",
    "pwd"
   ]
  },
  {
   "cell_type": "markdown",
   "metadata": {
    "slideshow": {
     "slide_type": "slide"
    }
   },
   "source": [
    "## vérifions"
   ]
  },
  {
   "cell_type": "code",
   "execution_count": 4,
   "metadata": {
    "cell_style": "split"
   },
   "outputs": [
    {
     "name": "stdout",
     "output_type": "stream",
     "text": [
      "*   \u001b[33m8354d86\u001b[m\u001b[33m (\u001b[m\u001b[1;36mHEAD -> \u001b[m\u001b[1;32mdevel\u001b[m\u001b[33m, \u001b[m\u001b[1;31mgithub/devel\u001b[m\u001b[33m)\u001b[m Merge branch 'devel' of /Users/tparment/git/flotpython-gittutorial/notebooks/fake-github into devel\r\n",
      "\u001b[31m|\u001b[m\u001b[32m\\\u001b[m  \r\n",
      "\u001b[31m|\u001b[m * \u001b[33m2786ac2\u001b[m contribution Alice dans README\r\n",
      "* \u001b[32m|\u001b[m \u001b[33m759b248\u001b[m contribution Bob dans LICENSE\r\n",
      "\u001b[32m|\u001b[m\u001b[32m/\u001b[m  \r\n",
      "* \u001b[33m23e4b55\u001b[m code + doc\r\n",
      "* \u001b[33md412415\u001b[m\u001b[33m (\u001b[m\u001b[1;32mmaster\u001b[m\u001b[33m)\u001b[m readme + licence\r\n",
      "\n"
     ]
    }
   ],
   "source": [
    "# nous sommes dans 'repo-alice' qui a 5 commits\n",
    "\n",
    "git l"
   ]
  },
  {
   "cell_type": "code",
   "execution_count": 5,
   "metadata": {
    "cell_style": "split"
   },
   "outputs": [
    {
     "name": "stdout",
     "output_type": "stream",
     "text": [
      "On branch devel\r\n",
      "nothing to commit, working tree clean\r\n",
      "\n"
     ]
    }
   ],
   "source": [
    "# et pour être sûr on vérifie aussi \n",
    "# qu'il n'y a pas de différence entre\n",
    "# le commit et les fichiers\n",
    "# on doit voir 'working tree clean'\n",
    "\n",
    "git status"
   ]
  },
  {
   "cell_type": "code",
   "execution_count": 6,
   "metadata": {},
   "outputs": [
    {
     "name": "stdout",
     "output_type": "stream",
     "text": [
      "[devel 906168f] modifications pendantes\r\n",
      "\n"
     ]
    }
   ],
   "source": [
    "# juste pour alléger l'affichage, on se crée un commit\n",
    "# avec un libellé plus court\n",
    "git commit --allow-empty --message=\"modifications pendantes\""
   ]
  },
  {
   "cell_type": "markdown",
   "metadata": {
    "slideshow": {
     "slide_type": "slide"
    }
   },
   "source": [
    "## objet\n",
    "\n",
    "on a déjà vu dans la vidéo comment le trajet d'une modification :\n",
    "\n",
    "* d'abord à la main dans un fichier\n",
    "* ensuite dans l'index\n",
    "* enfin dans un commit\n",
    "\n",
    "maintenant : apprendre les commandes qui permettent :\n",
    "\n",
    "* de savoir où on en est  \n",
    "* de revenir en arrière\n",
    "\n",
    "tout ceci naturellement est **local**"
   ]
  },
  {
   "cell_type": "markdown",
   "metadata": {
    "slideshow": {
     "slide_type": "slide"
    }
   },
   "source": [
    "## beaucoup d'outils UI disponibles"
   ]
  },
  {
   "cell_type": "markdown",
   "metadata": {
    "cell_style": "split",
    "slideshow": {
     "slide_type": ""
    }
   },
   "source": [
    "* visualiser le graphe des commits\n",
    "  * une branche ou plusieurs"
   ]
  },
  {
   "cell_type": "markdown",
   "metadata": {
    "cell_style": "split",
    "slideshow": {
     "slide_type": ""
    }
   },
   "source": [
    "* et/ou de gérer\n",
    "  * ajout dans l'index\n",
    "  * commit\n",
    "* et dans l'autre sens\n",
    "  * enlever un changement de l'index  \n",
    "    et le conserver dans les fichiers\n",
    "\n",
    "  * jeter complètement un changement  \n",
    "    souvent appelé *discard*"
   ]
  },
  {
   "cell_type": "markdown",
   "metadata": {
    "cell_style": "center",
    "slideshow": {
     "slide_type": ""
    }
   },
   "source": [
    "https://www.slant.co/topics/4985/~visual-git-guis"
   ]
  },
  {
   "cell_type": "markdown",
   "metadata": {
    "cell_style": "split",
    "slideshow": {
     "slide_type": ""
    }
   },
   "source": [
    "* les plus répandues\n",
    "  * sourcetree\n",
    "  * gitkraken\n",
    "  * vscode"
   ]
  },
  {
   "cell_type": "markdown",
   "metadata": {
    "cell_style": "split",
    "slideshow": {
     "slide_type": ""
    }
   },
   "source": [
    "* et les autres\n",
    "  * smartgit\n",
    "  * guitar\n",
    "  * gitahead\n",
    "  * tower"
   ]
  },
  {
   "cell_type": "markdown",
   "metadata": {
    "slideshow": {
     "slide_type": "slide"
    }
   },
   "source": [
    "## comprendre où on en est"
   ]
  },
  {
   "cell_type": "markdown",
   "metadata": {},
   "source": [
    "* git vient avec **beaucoup** (trop) de commandes !\n",
    "* en plus pas toujours très cohérentes entre elles ...\n",
    "* simplement pour *regarder* l'état courant il y a \n",
    "  * `git log` : lister les commits\n",
    "  * `git ls-tree` : voir le contenu d'un commit\n",
    "  * `git status` : une synthèse \n",
    "  * `git diff` : voir les modifications (dans l'index, entre edt et index, entre deux commits)\n",
    "  * `git ls-files` : lister les fichiers dans l'index et l'e.d.t.\n",
    "  * `git branch` : sans argument, liste les branches connues"
   ]
  },
  {
   "cell_type": "markdown",
   "metadata": {
    "slideshow": {
     "slide_type": "slide"
    }
   },
   "source": [
    "## où on en est: `git log`"
   ]
  },
  {
   "cell_type": "markdown",
   "metadata": {},
   "source": [
    "travaille uniquement **à partir du repo**  (ignore les fichiers)"
   ]
  },
  {
   "cell_type": "code",
   "execution_count": 7,
   "metadata": {
    "cell_style": "center"
   },
   "outputs": [
    {
     "name": "stdout",
     "output_type": "stream",
     "text": [
      "* \u001b[1;34m906168f\u001b[m - \u001b[1;36mFri, 2 Aug 2019 18:12:51 +0200\u001b[m \u001b[1;32m(0 seconds ago)\u001b[m\u001b[1;33m (HEAD -> devel)\u001b[m\r\n",
      "\u001b[31m|\u001b[m           \u001b[37mmodifications pendantes\u001b[m \u001b[2;37m- Thierry Parmentelat\u001b[m\r\n",
      "*   \u001b[1;34m8354d86\u001b[m - \u001b[1;36mFri, 2 Aug 2019 18:12:44 +0200\u001b[m \u001b[1;32m(7 seconds ago)\u001b[m\u001b[1;33m (github/devel)\u001b[m\r\n",
      "\u001b[32m|\u001b[m\u001b[33m\\\u001b[m            \u001b[37mMerge branch 'devel' of /Users/tparment/git/flotpython-gittutorial/notebooks/fake-github into devel\u001b[m \u001b[2;37m- Thierry Parmentelat\u001b[m\r\n",
      "\u001b[32m|\u001b[m * \u001b[1;34m2786ac2\u001b[m - \u001b[1;36mFri, 2 Aug 2019 18:12:42 +0200\u001b[m \u001b[1;32m(9 seconds ago)\u001b[m\u001b[1;33m\u001b[m\r\n",
      "\u001b[32m|\u001b[m \u001b[33m|\u001b[m           \u001b[37mcontribution Alice dans README\u001b[m \u001b[2;37m- Thierry Parmentelat\u001b[m\r\n",
      "* \u001b[33m|\u001b[m \u001b[1;34m759b248\u001b[m - \u001b[1;36mFri, 2 Aug 2019 18:12:42 +0200\u001b[m \u001b[1;32m(9 seconds ago)\u001b[m\u001b[1;33m\u001b[m\r\n",
      "\u001b[33m|\u001b[m\u001b[33m/\u001b[m            \u001b[37mcontribution Bob dans LICENSE\u001b[m \u001b[2;37m- Thierry Parmentelat\u001b[m\r\n",
      "* \u001b[1;34m23e4b55\u001b[m - \u001b[1;36mFri, 2 Aug 2019 18:12:40 +0200\u001b[m \u001b[1;32m(11 seconds ago)\u001b[m\u001b[1;33m\u001b[m\r\n",
      "\u001b[33m|\u001b[m           \u001b[37mcode + doc\u001b[m \u001b[2;37m- Thierry Parmentelat\u001b[m\r\n",
      "* \u001b[1;34md412415\u001b[m - \u001b[1;36mFri, 2 Aug 2019 18:12:40 +0200\u001b[m \u001b[1;32m(11 seconds ago)\u001b[m\u001b[1;33m (master)\u001b[m\r\n",
      "            \u001b[37mreadme + licence\u001b[m \u001b[2;37m- Thierry Parmentelat\u001b[m\n"
     ]
    }
   ],
   "source": [
    "# de très nombreuses options disponibles\n",
    "# sans --all\n",
    "git log --graph --abbrev-commit --decorate --format=format:'%C(bold blue)%h%C(reset) - %C(bold cyan)%aD%C(reset) %C(bold green)(%ar)%C(reset)%C(bold yellow)%d%C(reset)%n''          %C(white)%s%C(reset) %C(dim white)- %an%C(reset)'"
   ]
  },
  {
   "cell_type": "code",
   "execution_count": 8,
   "metadata": {},
   "outputs": [
    {
     "name": "stdout",
     "output_type": "stream",
     "text": [
      "* \u001b[1;34m906168f\u001b[m - \u001b[1;32m(1 second ago)\u001b[m \u001b[37mmodifications pendantes\u001b[m \u001b[2;37m- Thierry Parmentelat\u001b[m\u001b[1;33m (HEAD -> devel)\u001b[m\r\n",
      "*   \u001b[1;34m8354d86\u001b[m - \u001b[1;32m(8 seconds ago)\u001b[m \u001b[37mMerge branch 'devel' of /Users/tparment/git/flotpython-gittutorial/notebooks/fake-github into devel\u001b[m \u001b[2;37m- Thierry Parmentelat\u001b[m\u001b[1;33m (github/devel)\u001b[m\r\n",
      "\u001b[32m|\u001b[m\u001b[33m\\\u001b[m  \r\n",
      "\u001b[32m|\u001b[m * \u001b[1;34m2786ac2\u001b[m - \u001b[1;32m(10 seconds ago)\u001b[m \u001b[37mcontribution Alice dans README\u001b[m \u001b[2;37m- Thierry Parmentelat\u001b[m\u001b[1;33m\u001b[m\r\n",
      "* \u001b[33m|\u001b[m \u001b[1;34m759b248\u001b[m - \u001b[1;32m(10 seconds ago)\u001b[m \u001b[37mcontribution Bob dans LICENSE\u001b[m \u001b[2;37m- Thierry Parmentelat\u001b[m\u001b[1;33m\u001b[m\r\n",
      "\u001b[33m|\u001b[m\u001b[33m/\u001b[m  \r\n",
      "* \u001b[1;34m23e4b55\u001b[m - \u001b[1;32m(12 seconds ago)\u001b[m \u001b[37mcode + doc\u001b[m \u001b[2;37m- Thierry Parmentelat\u001b[m\u001b[1;33m\u001b[m\r\n",
      "* \u001b[1;34md412415\u001b[m - \u001b[1;32m(12 seconds ago)\u001b[m \u001b[37mreadme + licence\u001b[m \u001b[2;37m- Thierry Parmentelat\u001b[m\u001b[1;33m (master)\u001b[m\n"
     ]
    }
   ],
   "source": [
    "# avec --all\n",
    "git log --graph --abbrev-commit --decorate --format=format:'%C(bold blue)%h%C(reset) - %C(bold green)(%ar)%C(reset) %C(white)%s%C(reset) %C(dim white)- %an%C(reset)%C(bold yellow)%d%C(reset)' --all"
   ]
  },
  {
   "cell_type": "markdown",
   "metadata": {
    "slideshow": {
     "slide_type": "slide"
    }
   },
   "source": [
    "## où on en est: `git ls-tree`"
   ]
  },
  {
   "cell_type": "markdown",
   "metadata": {},
   "source": [
    "travaille uniquement **à partir du repo**  (ignore les fichiers)"
   ]
  },
  {
   "cell_type": "code",
   "execution_count": 9,
   "metadata": {
    "cell_style": "split"
   },
   "outputs": [
    {
     "name": "stdout",
     "output_type": "stream",
     "text": [
      "100644 blob 11e0083\tLICENSE\r\n",
      "100644 blob aaef123\tREADME.md\r\n",
      "100644 blob 194c0de\tfactorial.md\r\n",
      "100644 blob c1b629d\tfactorial.py\r\n",
      "\n"
     ]
    }
   ],
   "source": [
    "# le contenu d'un commit\n",
    "git ls-tree --abbrev HEAD"
   ]
  },
  {
   "cell_type": "code",
   "execution_count": 10,
   "metadata": {
    "cell_style": "split"
   },
   "outputs": [
    {
     "name": "stdout",
     "output_type": "stream",
     "text": [
      "100644 blob 5a50125\tLICENSE\r\n",
      "100644 blob f724681\tREADME.md\r\n",
      "\n"
     ]
    }
   ],
   "source": [
    "# un autre commit\n",
    "git ls-tree --abbrev master"
   ]
  },
  {
   "cell_type": "markdown",
   "metadata": {
    "slideshow": {
     "slide_type": ""
    }
   },
   "source": [
    "voir aussi `ls-index` et `ls-files`"
   ]
  },
  {
   "cell_type": "markdown",
   "metadata": {
    "slideshow": {
     "slide_type": "slide"
    }
   },
   "source": [
    "## où on en est: `git status`"
   ]
  },
  {
   "cell_type": "code",
   "execution_count": 11,
   "metadata": {
    "cell_style": "split"
   },
   "outputs": [
    {
     "name": "stdout",
     "output_type": "stream",
     "text": [
      "On branch devel\r\n",
      "nothing to commit, working tree clean\r\n",
      "\n"
     ]
    }
   ],
   "source": [
    "# git status donne une synthèse\n",
    "\n",
    "# dans le cas général il va nous montrer \n",
    "# (*) le nom de la branche courante\n",
    "# (*) les deux sortes de différences\n",
    "# (*) et aussi le cas échéant les fichiers\n",
    "#     qui sont présents mais pas dans le commit\n",
    "\n",
    "# mais pour l'instant il n'y a pas grand chose à voir\n",
    "git status"
   ]
  },
  {
   "cell_type": "code",
   "execution_count": 12,
   "metadata": {
    "cell_style": "split"
   },
   "outputs": [
    {
     "name": "stdout",
     "output_type": "stream",
     "text": [
      "\n"
     ]
    }
   ],
   "source": [
    "# je mets un changement dans l'index\n",
    "echo \"δ2: une ligne dans l'index\" >> README.md\n",
    "git add README.md\n",
    "\n",
    "# je fais un autre changement \n",
    "# mais pas dans l'index\n",
    "echo \"δ1: pas dans l'index\" >> README.md"
   ]
  },
  {
   "cell_type": "markdown",
   "metadata": {
    "cell_style": "split"
   },
   "source": [
    "![](media/changes-reference.png)"
   ]
  },
  {
   "cell_type": "code",
   "execution_count": 13,
   "metadata": {},
   "outputs": [
    {
     "name": "stdout",
     "output_type": "stream",
     "text": [
      "On branch devel\r\n",
      "Changes to be committed:\r\n",
      "  (use \"git reset HEAD <file>...\" to unstage)\r\n",
      "\r\n",
      "\t\u001b[32mmodified:   README.md\u001b[m\r\n",
      "\r\n",
      "Changes not staged for commit:\r\n",
      "  (use \"git add <file>...\" to update what will be committed)\r\n",
      "  (use \"git checkout -- <file>...\" to discard changes in working directory)\r\n",
      "\r\n",
      "\t\u001b[31mmodified:   README.md\u001b[m\r\n",
      "\r\n",
      "\n"
     ]
    }
   ],
   "source": [
    "# voici ce que ça donne quand on a des changements \n",
    "\n",
    "git status"
   ]
  },
  {
   "cell_type": "markdown",
   "metadata": {
    "slideshow": {
     "slide_type": "slide"
    }
   },
   "source": [
    "## où on en est: `git diff`"
   ]
  },
  {
   "cell_type": "code",
   "execution_count": 14,
   "metadata": {
    "cell_style": "split"
   },
   "outputs": [
    {
     "name": "stdout",
     "output_type": "stream",
     "text": [
      "\u001b[1mdiff --git a/README.md b/README.md\u001b[m\r\n",
      "\u001b[1mindex 6d22d8c..fe07a9e 100644\u001b[m\r\n",
      "\u001b[1m--- a/README.md\u001b[m\r\n",
      "\u001b[1m+++ b/README.md\u001b[m\r\n",
      "\u001b[36m@@ -4,3 +4,4 @@\u001b[m \u001b[mCe dépôt sert à illustrer\u001b[m\r\n",
      " notre cours sur **git**\u001b[m\r\n",
      " added by alice\u001b[m\r\n",
      " δ2: une ligne dans l'index\u001b[m\r\n",
      "\u001b[32m+\u001b[m\u001b[32mδ1: pas dans l'index\u001b[m\r\n",
      "\n"
     ]
    }
   ],
   "source": [
    "# par défaut git diff montre les diffs\n",
    "# entre l'espace de travail et l'index\n",
    "\n",
    "git diff"
   ]
  },
  {
   "cell_type": "code",
   "execution_count": 15,
   "metadata": {
    "cell_style": "split"
   },
   "outputs": [
    {
     "name": "stdout",
     "output_type": "stream",
     "text": [
      "\u001b[1mdiff --git a/README.md b/README.md\u001b[m\r\n",
      "\u001b[1mindex aaef123..6d22d8c 100644\u001b[m\r\n",
      "\u001b[1m--- a/README.md\u001b[m\r\n",
      "\u001b[1m+++ b/README.md\u001b[m\r\n",
      "\u001b[36m@@ -3,3 +3,4 @@\u001b[m\r\n",
      " Ce dépôt sert à illustrer \u001b[m\r\n",
      " notre cours sur **git**\u001b[m\r\n",
      " added by alice\u001b[m\r\n",
      "\u001b[32m+\u001b[m\u001b[32mδ2: une ligne dans l'index\u001b[m\r\n",
      "\n"
     ]
    }
   ],
   "source": [
    "# pour voir ce qui est dans l'index\n",
    "\n",
    "git diff --cached"
   ]
  },
  {
   "cell_type": "markdown",
   "metadata": {
    "slideshow": {
     "slide_type": "slide"
    }
   },
   "source": [
    "## un raccourci: `show-diffs`"
   ]
  },
  {
   "cell_type": "code",
   "execution_count": 16,
   "metadata": {
    "cell_style": "split"
   },
   "outputs": [
    {
     "name": "stdout",
     "output_type": "stream",
     "text": [
      "show-diffs is a function\r\n",
      "show-diffs () \r\n",
      "{ \r\n",
      "    echo '---------- FILES <-> INDEX';\r\n",
      "    git diff \"$@\";\r\n",
      "    echo '---------- INDEX <-> HEAD';\r\n",
      "    git diff --cached\r\n",
      "}\r\n",
      "\n"
     ]
    }
   ],
   "source": [
    "# juste pour ce tuto:\n",
    "# \n",
    "# un raccourci pour bien montrer \n",
    "# LES DEUX différences:\n",
    "# fichiers / index \n",
    "# et\n",
    "# index / commit\n",
    "\n",
    "type show-diffs"
   ]
  },
  {
   "cell_type": "code",
   "execution_count": 17,
   "metadata": {
    "cell_style": "split"
   },
   "outputs": [
    {
     "name": "stdout",
     "output_type": "stream",
     "text": [
      "---------- FILES <-> INDEX\r\n",
      "\u001b[1mdiff --git a/README.md b/README.md\u001b[m\r\n",
      "\u001b[1mindex 6d22d8c..fe07a9e 100644\u001b[m\r\n",
      "\u001b[1m--- a/README.md\u001b[m\r\n",
      "\u001b[1m+++ b/README.md\u001b[m\r\n",
      "\u001b[36m@@ -4,3 +4,4 @@\u001b[m \u001b[mCe dépôt sert à illustrer\u001b[m\r\n",
      " notre cours sur **git**\u001b[m\r\n",
      " added by alice\u001b[m\r\n",
      " δ2: une ligne dans l'index\u001b[m\r\n",
      "\u001b[32m+\u001b[m\u001b[32mδ1: pas dans l'index\u001b[m\r\n",
      "---------- INDEX <-> HEAD\r\n",
      "\u001b[1mdiff --git a/README.md b/README.md\u001b[m\r\n",
      "\u001b[1mindex aaef123..6d22d8c 100644\u001b[m\r\n",
      "\u001b[1m--- a/README.md\u001b[m\r\n",
      "\u001b[1m+++ b/README.md\u001b[m\r\n",
      "\u001b[36m@@ -3,3 +3,4 @@\u001b[m\r\n",
      " Ce dépôt sert à illustrer \u001b[m\r\n",
      " notre cours sur **git**\u001b[m\r\n",
      " added by alice\u001b[m\r\n",
      "\u001b[32m+\u001b[m\u001b[32mδ2: une ligne dans l'index\u001b[m\r\n",
      "\n"
     ]
    }
   ],
   "source": [
    "show-diffs"
   ]
  },
  {
   "cell_type": "markdown",
   "metadata": {
    "slideshow": {
     "slide_type": "slide"
    }
   },
   "source": [
    "## abandonner toutes les modifications pendantes :  \n",
    "`git reset --hard`"
   ]
  },
  {
   "cell_type": "markdown",
   "metadata": {},
   "source": [
    "***attention*** : avec cette commande :\n",
    "\n",
    "* je **jette** littéralement **toutes les modifications** pendantes\n",
    "* qu'elles aient été mises dans l'index ou non"
   ]
  },
  {
   "cell_type": "code",
   "execution_count": 18,
   "metadata": {},
   "outputs": [
    {
     "name": "stdout",
     "output_type": "stream",
     "text": [
      "HEAD is now at 906168f modifications pendantes\r\n",
      "\n"
     ]
    }
   ],
   "source": [
    "# j'avais deux différences (une dans l'index et l'autre non)\n",
    "\n",
    "# avec cette commande je vais revenir à l'état du dernier commit\n",
    "\n",
    "git reset --hard"
   ]
  },
  {
   "cell_type": "code",
   "execution_count": 19,
   "metadata": {
    "cell_style": "split"
   },
   "outputs": [
    {
     "name": "stdout",
     "output_type": "stream",
     "text": [
      "On branch devel\r\n",
      "nothing to commit, working tree clean\r\n",
      "\n"
     ]
    }
   ],
   "source": [
    "git status"
   ]
  },
  {
   "cell_type": "code",
   "execution_count": 20,
   "metadata": {
    "cell_style": "split"
   },
   "outputs": [
    {
     "name": "stdout",
     "output_type": "stream",
     "text": [
      "---------- FILES <-> INDEX\r\n",
      "---------- INDEX <-> HEAD\r\n",
      "\n"
     ]
    }
   ],
   "source": [
    "show-diffs"
   ]
  },
  {
   "cell_type": "markdown",
   "metadata": {
    "slideshow": {
     "slide_type": "slide"
    }
   },
   "source": [
    "en partant de ceci"
   ]
  },
  {
   "cell_type": "markdown",
   "metadata": {
    "slideshow": {
     "slide_type": ""
    }
   },
   "source": [
    "![](media/changes-reference.png)"
   ]
  },
  {
   "cell_type": "markdown",
   "metadata": {},
   "source": [
    "on obtient donc cela"
   ]
  },
  {
   "cell_type": "markdown",
   "metadata": {},
   "source": [
    "![](media/changes-reset-hard.png)"
   ]
  },
  {
   "cell_type": "markdown",
   "metadata": {
    "slideshow": {
     "slide_type": "slide"
    }
   },
   "source": [
    "## les deux sortes de modification"
   ]
  },
  {
   "cell_type": "markdown",
   "metadata": {},
   "source": [
    "on se définit un état de référence avec deux changements"
   ]
  },
  {
   "cell_type": "code",
   "execution_count": 21,
   "metadata": {
    "cell_style": "split"
   },
   "outputs": [
    {
     "name": "stdout",
     "output_type": "stream",
     "text": [
      "HEAD is now at 906168f modifications pendantes\r\n",
      "\n"
     ]
    }
   ],
   "source": [
    "git reset --hard\n",
    "$SCRIPTS/do both-kinds-of-changes"
   ]
  },
  {
   "cell_type": "code",
   "execution_count": 22,
   "metadata": {
    "cell_style": "split"
   },
   "outputs": [
    {
     "name": "stdout",
     "output_type": "stream",
     "text": [
      "---------- FILES <-> INDEX\r\n",
      "\u001b[1mdiff --git a/README.md b/README.md\u001b[m\r\n",
      "\u001b[1mindex 6d22d8c..fe07a9e 100644\u001b[m\r\n",
      "\u001b[1m--- a/README.md\u001b[m\r\n",
      "\u001b[1m+++ b/README.md\u001b[m\r\n",
      "\u001b[36m@@ -4,3 +4,4 @@\u001b[m \u001b[mCe dépôt sert à illustrer\u001b[m\r\n",
      " notre cours sur **git**\u001b[m\r\n",
      " added by alice\u001b[m\r\n",
      " δ2: une ligne dans l'index\u001b[m\r\n",
      "\u001b[32m+\u001b[m\u001b[32mδ1: pas dans l'index\u001b[m\r\n",
      "---------- INDEX <-> HEAD\r\n",
      "\u001b[1mdiff --git a/README.md b/README.md\u001b[m\r\n",
      "\u001b[1mindex aaef123..6d22d8c 100644\u001b[m\r\n",
      "\u001b[1m--- a/README.md\u001b[m\r\n",
      "\u001b[1m+++ b/README.md\u001b[m\r\n",
      "\u001b[36m@@ -3,3 +3,4 @@\u001b[m\r\n",
      " Ce dépôt sert à illustrer \u001b[m\r\n",
      " notre cours sur **git**\u001b[m\r\n",
      " added by alice\u001b[m\r\n",
      "\u001b[32m+\u001b[m\u001b[32mδ2: une ligne dans l'index\u001b[m\r\n",
      "\n"
     ]
    }
   ],
   "source": [
    "show-diffs"
   ]
  },
  {
   "cell_type": "markdown",
   "metadata": {
    "slideshow": {
     "slide_type": "slide"
    }
   },
   "source": [
    "## abandonner des modifications pendantes - suite"
   ]
  },
  {
   "cell_type": "markdown",
   "metadata": {},
   "source": [
    "autres variantes -- moins extrêmes que `git reset --hard`\n",
    "\n",
    "avec les commandes\n",
    "\n",
    "* `git reset` : \n",
    "  * sans option, permet d'enlever les modifications dans l'index  \n",
    "  * `git reset -- README.md` pour se limiter à des fichiers spécifiques\n",
    "  \n",
    "* `git checkout --` : \n",
    "  * pour enlever les modifications qui ne sont pas dans l'index\n",
    "  * à nouveau on peut faire `git checkout -- README.md` pour limiter la portée\n"
   ]
  },
  {
   "cell_type": "markdown",
   "metadata": {
    "slideshow": {
     "slide_type": "slide"
    }
   },
   "source": [
    "## `git reset` sans arguments "
   ]
  },
  {
   "cell_type": "code",
   "execution_count": 23,
   "metadata": {
    "cell_style": "split"
   },
   "outputs": [
    {
     "name": "stdout",
     "output_type": "stream",
     "text": [
      "HEAD is now at 906168f modifications pendantes\r\n",
      "Unstaged changes after reset:\r\n",
      "M\tREADME.md\r\n",
      "\n"
     ]
    }
   ],
   "source": [
    "git reset --hard\n",
    "$SCRIPTS/do both-kinds-of-changes\n",
    "\n",
    "\n",
    "# on vide l'index mais on conserve \n",
    "# les deux différences  \n",
    "\n",
    "git reset"
   ]
  },
  {
   "cell_type": "code",
   "execution_count": 24,
   "metadata": {
    "cell_style": "split"
   },
   "outputs": [
    {
     "name": "stdout",
     "output_type": "stream",
     "text": [
      "---------- FILES <-> INDEX\r\n",
      "\u001b[1mdiff --git a/README.md b/README.md\u001b[m\r\n",
      "\u001b[1mindex aaef123..fe07a9e 100644\u001b[m\r\n",
      "\u001b[1m--- a/README.md\u001b[m\r\n",
      "\u001b[1m+++ b/README.md\u001b[m\r\n",
      "\u001b[36m@@ -3,3 +3,5 @@\u001b[m\r\n",
      " Ce dépôt sert à illustrer \u001b[m\r\n",
      " notre cours sur **git**\u001b[m\r\n",
      " added by alice\u001b[m\r\n",
      "\u001b[32m+\u001b[m\u001b[32mδ2: une ligne dans l'index\u001b[m\r\n",
      "\u001b[32m+\u001b[m\u001b[32mδ1: pas dans l'index\u001b[m\r\n",
      "---------- INDEX <-> HEAD\r\n",
      "\n"
     ]
    }
   ],
   "source": [
    "show-diffs"
   ]
  },
  {
   "cell_type": "markdown",
   "metadata": {},
   "source": [
    "![](media/changes-reset.png)"
   ]
  },
  {
   "cell_type": "markdown",
   "metadata": {
    "slideshow": {
     "slide_type": "slide"
    }
   },
   "source": [
    "## `git checkout -- .` "
   ]
  },
  {
   "cell_type": "code",
   "execution_count": 25,
   "metadata": {
    "cell_style": "split"
   },
   "outputs": [
    {
     "name": "stdout",
     "output_type": "stream",
     "text": [
      "HEAD is now at 906168f modifications pendantes\r\n",
      "\n"
     ]
    }
   ],
   "source": [
    "git reset --hard\n",
    "$SCRIPTS/do both-kinds-of-changes\n",
    "\n",
    "\n",
    "# on abandonne la différence \n",
    "# qui n'etait pas dans l'index\n",
    "\n",
    "git checkout -- ."
   ]
  },
  {
   "cell_type": "code",
   "execution_count": 26,
   "metadata": {
    "cell_style": "split"
   },
   "outputs": [
    {
     "name": "stdout",
     "output_type": "stream",
     "text": [
      "---------- FILES <-> INDEX\r\n",
      "---------- INDEX <-> HEAD\r\n",
      "\u001b[1mdiff --git a/README.md b/README.md\u001b[m\r\n",
      "\u001b[1mindex aaef123..6d22d8c 100644\u001b[m\r\n",
      "\u001b[1m--- a/README.md\u001b[m\r\n",
      "\u001b[1m+++ b/README.md\u001b[m\r\n",
      "\u001b[36m@@ -3,3 +3,4 @@\u001b[m\r\n",
      " Ce dépôt sert à illustrer \u001b[m\r\n",
      " notre cours sur **git**\u001b[m\r\n",
      " added by alice\u001b[m\r\n",
      "\u001b[32m+\u001b[m\u001b[32mδ2: une ligne dans l'index\u001b[m\r\n",
      "\n"
     ]
    }
   ],
   "source": [
    "show-diffs"
   ]
  },
  {
   "cell_type": "markdown",
   "metadata": {},
   "source": [
    "![](media/changes-checkout.png)"
   ]
  },
  {
   "cell_type": "markdown",
   "metadata": {
    "slideshow": {
     "slide_type": "slide"
    }
   },
   "source": [
    "## reset + checkout"
   ]
  },
  {
   "cell_type": "code",
   "execution_count": 27,
   "metadata": {
    "cell_style": "split"
   },
   "outputs": [
    {
     "name": "stdout",
     "output_type": "stream",
     "text": [
      "HEAD is now at 906168f modifications pendantes\r\n",
      "Unstaged changes after reset:\r\n",
      "M\tREADME.md\r\n",
      "\n"
     ]
    }
   ],
   "source": [
    "git reset --hard HEAD\n",
    "$SCRIPTS/do both-kinds-of-changes\n",
    "\n",
    "# si on fait les deux \n",
    "# c'est comme reset --hard\n",
    "\n",
    "git reset -- README.md\n",
    "git checkout -- README.md"
   ]
  },
  {
   "cell_type": "code",
   "execution_count": 28,
   "metadata": {
    "cell_style": "split"
   },
   "outputs": [
    {
     "name": "stdout",
     "output_type": "stream",
     "text": [
      "---------- FILES <-> INDEX\r\n",
      "---------- INDEX <-> HEAD\r\n",
      "\n"
     ]
    }
   ],
   "source": [
    "show-diffs"
   ]
  },
  {
   "cell_type": "markdown",
   "metadata": {
    "slideshow": {
     "slide_type": "slide"
    }
   },
   "source": [
    "## résumé"
   ]
  },
  {
   "cell_type": "markdown",
   "metadata": {},
   "source": [
    "![](media/changes-summary.png)"
   ]
  }
 ],
 "metadata": {
  "celltoolbar": "Slideshow",
  "ipub": {
   "sphinx": {
    "toggle_input": true,
    "toggle_input_all": true,
    "toggle_output": true,
    "toggle_output_all": true
   }
  },
  "kernelspec": {
   "display_name": "Calysto Bash",
   "language": "bash",
   "name": "calysto_bash"
  },
  "language_info": {
   "file_extension": ".sh",
   "help_links": [
    {
     "text": "MetaKernel Magics",
     "url": "https://metakernel.readthedocs.io/en/latest/source/README.html"
    }
   ],
   "mimetype": "text/x-sh",
   "name": "bash",
   "version": "0.2.1"
  },
  "notebookname": "modifications pendantes",
  "rise": {
   "autolaunch": true,
   "slideNumber": "c/t",
   "start_slideshow_at": "selected",
   "theme": "sky",
   "transition": "cube"
  },
  "version": "1.0"
 },
 "nbformat": 4,
 "nbformat_minor": 4
}
