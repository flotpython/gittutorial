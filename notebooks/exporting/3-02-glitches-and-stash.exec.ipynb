{
 "cells": [
  {
   "cell_type": "markdown",
   "metadata": {
    "slideshow": {
     "slide_type": ""
    }
   },
   "source": [
    "# quand ça coince"
   ]
  },
  {
   "cell_type": "markdown",
   "metadata": {
    "slideshow": {
     "slide_type": "slide"
    }
   },
   "source": [
    "## situations problématiques\n",
    "\n",
    "`git` peut échouer à, ou refuser de, produire le résultat espéré  \n",
    "deux raisons principales :  \n",
    "\n",
    "* **conflit** lors d'un merge\n",
    "* lors du maintien en cohérence  \n",
    "  des fichiers depuis le dépôt  \n",
    "  si il y a le moindre **risque de perte**  \n",
    "  "
   ]
  },
  {
   "cell_type": "markdown",
   "metadata": {
    "slideshow": {
     "slide_type": "slide"
    }
   },
   "source": [
    "## conflits lors d'un merge"
   ]
  },
  {
   "cell_type": "markdown",
   "metadata": {
    "slideshow": {
     "slide_type": ""
    }
   },
   "source": [
    "si tout se passe bien, par défaut un `merge`  \n",
    "produit automatiquement un commit \n",
    "\n",
    "\n",
    "mais avec des modifications qui  \n",
    "concernent **la même zone de texte**  \n",
    "cela provoque un **conflit**\n",
    "\n"
   ]
  },
  {
   "cell_type": "markdown",
   "metadata": {
    "slideshow": {
     "slide_type": "slide"
    }
   },
   "source": [
    "## conflit et commit\n",
    "\n",
    "par contre en **cas de conflit** lors du merge :  \n",
    "\n",
    "* les changements valides sont mis dans l'index  \n",
    "* les conflits restent dans le fichier  \n",
    "* avec des marques spéciales\n",
    "* résoudre manuellement\n",
    "* ajouter les conflits résolus dans l'index\n",
    "* committer une fois tous les conflits résolus\n"
   ]
  },
  {
   "cell_type": "markdown",
   "metadata": {
    "cell_style": "center",
    "slideshow": {
     "slide_type": "slide"
    }
   },
   "source": [
    "## marques spéciales\n",
    "\n",
    "lorsqu'on avait résolu notre premier conflit  \n",
    "nous avions observé ceci dans le fichier concerné\n",
    "\n",
    "```txt\n",
    "<<<<<<< HEAD\n",
    "renvoie le factoriel de son paramètre\n",
    "=======\n",
    "renvoie le résultat de factoriel sur son argument\n",
    ">>>>>>> devel\n",
    "```"
   ]
  },
  {
   "cell_type": "markdown",
   "metadata": {
    "slideshow": {
     "slide_type": "slide"
    }
   },
   "source": [
    "## résolution assistée"
   ]
  },
  {
   "cell_type": "markdown",
   "metadata": {
    "slideshow": {
     "slide_type": "slide"
    }
   },
   "source": [
    "la plupart des éditeurs modernes reconnaissent un conflit  \n",
    "et proposent de l'aide pour la résolution  \n",
    "parfois c'est simple et il suffit de choisir une des deux options  \n",
    "parfois c'est plus compliqué et il y faut récrire"
   ]
  },
  {
   "cell_type": "markdown",
   "metadata": {
    "cell_style": "split"
   },
   "source": [
    "![](media/vscode-conflict.png)"
   ]
  },
  {
   "cell_type": "markdown",
   "metadata": {
    "cell_style": "split"
   },
   "source": [
    "ne pas oublier de `add`er  \n",
    "et `committer`  \n",
    "pour **conclure** le merge"
   ]
  },
  {
   "cell_type": "markdown",
   "metadata": {
    "cell_style": "split"
   },
   "source": [
    "sinon pour **abandonner**  \n",
    "`git merge --abort`\n",
    "\n",
    "revient à l'état avant le merge"
   ]
  },
  {
   "cell_type": "markdown",
   "metadata": {
    "slideshow": {
     "slide_type": "slide"
    }
   },
   "source": [
    "## refus d'obtempérer"
   ]
  },
  {
   "cell_type": "markdown",
   "metadata": {},
   "source": [
    "il existe d'autres cas troublants pour les débutants  \n",
    "lorsqu'une opération **sur les fichiers**  \n",
    "présente un **risque de perte** de données  \n",
    "dans ce domaine `git` est parfois **très conservatoire**  "
   ]
  },
  {
   "cell_type": "markdown",
   "metadata": {
    "cell_style": "split",
    "slideshow": {
     "slide_type": "slide"
    }
   },
   "source": [
    "## exemple lors d'un pull"
   ]
  },
  {
   "cell_type": "markdown",
   "metadata": {
    "cell_style": "split",
    "slideshow": {
     "slide_type": ""
    }
   },
   "source": [
    "vous travaillez sur un repo super simple (pas de merge)  \n",
    "vous voulez simplement tirer un seul commit  \n",
    "donc pas besoin de merge, pas de risque de conflit  \n",
    "\n",
    "**mais** il se trouve que  \n",
    "vous avez dans vos fichiers un `tutu.txt`  \n",
    "qui n'*est pas* dans votre repo  \n",
    "mais qui a été *ajouté dans le commit* à tirer "
   ]
  },
  {
   "cell_type": "markdown",
   "metadata": {
    "cell_style": "split",
    "slideshow": {
     "slide_type": ""
    }
   },
   "source": [
    "![](media/refuse-pull.png)"
   ]
  },
  {
   "cell_type": "markdown",
   "metadata": {
    "cell_style": "split"
   },
   "source": [
    "et ceci même si les deux versions (fichier et commit)   \n",
    "sont identiques !  \n",
    "car la version fichier est *unique*  "
   ]
  },
  {
   "cell_type": "markdown",
   "metadata": {
    "slideshow": {
     "slide_type": "slide"
    }
   },
   "source": [
    "## lors d'un checkout"
   ]
  },
  {
   "cell_type": "markdown",
   "metadata": {
    "cell_style": "split"
   },
   "source": [
    "lors d'un changement de branche  \n",
    "en vertu de la cohérence dépôt - esp. travail  \n",
    "git peut être amené à toucher les fichiers  "
   ]
  },
  {
   "cell_type": "markdown",
   "metadata": {
    "cell_style": "split"
   },
   "source": [
    "si un des fichiers à modifier  \n",
    "n'est pas identique au commit courant  \n",
    "il y a à nouveau risque de perte de données  \n",
    "et `git` va à nouveau refuser  "
   ]
  },
  {
   "cell_type": "markdown",
   "metadata": {
    "slideshow": {
     "slide_type": "slide"
    }
   },
   "source": [
    "## le stash"
   ]
  },
  {
   "cell_type": "markdown",
   "metadata": {
    "cell_style": "split"
   },
   "source": [
    "c'est pourquoi on prend vite l'habitude  \n",
    "de partir d'un repo *propre*  \n",
    "c-à-d sans modification pendante  \n",
    "avant de lancer ce genre de commandes "
   ]
  },
  {
   "cell_type": "markdown",
   "metadata": {
    "cell_style": "split"
   },
   "source": [
    "c'est le propos du *stash*  \n",
    "que de pouvoir *mettre sous le tapis*  \n",
    "les modifications pendantes  \n",
    "\n",
    "qu'on peut ensuite réutiliser  \n",
    "pour réinjecter ces changements  \n",
    "là où/quand c'est nécessaire  "
   ]
  },
  {
   "cell_type": "markdown",
   "metadata": {
    "slideshow": {
     "slide_type": "slide"
    }
   },
   "source": [
    "## `git stash`"
   ]
  },
  {
   "cell_type": "markdown",
   "metadata": {},
   "source": [
    "* souvent intégré dans les UIs  \n",
    "  permet de réappliquer les changements finement (ligne)\n",
    "\n",
    "* `git stash push` pour stocker les différences pendantes dans un *stash*  \n",
    "  pensez à donner un message significatif\n",
    "\n",
    "* `git stash list` pour lister les \n",
    "* `git stash apply` ou `pop`  pour appliquer tout un stash, et le conserver ou pas"
   ]
  }
 ],
 "metadata": {
  "celltoolbar": "Slideshow",
  "ipub": {
   "sphinx": {
    "toggle_input": true,
    "toggle_input_all": true,
    "toggle_output": true,
    "toggle_output_all": true
   }
  },
  "kernelspec": {
   "display_name": "Calysto Bash",
   "language": "bash",
   "name": "calysto_bash"
  },
  "language_info": {
   "file_extension": ".sh",
   "help_links": [
    {
     "text": "MetaKernel Magics",
     "url": "https://metakernel.readthedocs.io/en/latest/source/README.html"
    }
   ],
   "mimetype": "text/x-sh",
   "name": "bash",
   "version": "0.2.1"
  },
  "notebookname": "quand ça coince",
  "rise": {
   "autolaunch": true,
   "slideNumber": "c/t",
   "start_slideshow_at": "selected",
   "theme": "sky",
   "transition": "cube"
  },
  "version": "1.0"
 },
 "nbformat": 4,
 "nbformat_minor": 2
}
