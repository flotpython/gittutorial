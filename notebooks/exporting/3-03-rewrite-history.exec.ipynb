{
 "cells": [
  {
   "cell_type": "markdown",
   "metadata": {
    "slideshow": {
     "slide_type": ""
    }
   },
   "source": [
    "# récrire l'historique"
   ]
  },
  {
   "cell_type": "code",
   "execution_count": 1,
   "metadata": {
    "slideshow": {
     "slide_type": "slide"
    }
   },
   "outputs": [
    {
     "name": "stdout",
     "output_type": "stream",
     "text": [
      "TOP=/Users/tparment/git/flotpython-gittutorial/notebooks\r\n",
      "\n"
     ]
    }
   ],
   "source": [
    "# ce sera toujours notre façon de commencer\n",
    "[ -f scripts/helpers.sh ] && source scripts/helpers.sh"
   ]
  },
  {
   "cell_type": "markdown",
   "metadata": {
    "slideshow": {
     "slide_type": "slide"
    }
   },
   "source": [
    "## `repo-rebase`"
   ]
  },
  {
   "cell_type": "code",
   "execution_count": 2,
   "metadata": {},
   "outputs": [
    {
     "name": "stdout",
     "output_type": "stream",
     "text": [
      "on repart d'un directory vide\r\n",
      "\n"
     ]
    }
   ],
   "source": [
    "cd $TOP\n",
    "\n",
    "# pour pouvoir recommencer le scénario depuis le début\n",
    "# je nettoie complètement ce qu'on a pu faire précédemment\n",
    "if [ -d repo-rebase ]; then\n",
    "    echo \"on repart d'un directory vide\"\n",
    "    rm -rf repo-rebase\n",
    "fi\n",
    "\n",
    "# on le crée\n",
    "mkdir repo-rebase\n",
    "\n",
    "# on va dedans\n",
    "cd repo-rebase"
   ]
  },
  {
   "cell_type": "markdown",
   "metadata": {
    "slideshow": {
     "slide_type": "slide"
    }
   },
   "source": [
    "## rappel : un commit est immutable"
   ]
  },
  {
   "cell_type": "markdown",
   "metadata": {},
   "source": [
    "en informatique, on fait la distinction entre  \n",
    "objets *mutables* et *immutables*\n",
    "\n",
    "* un terme savant pour désigner les objets  \n",
    "  qui peuvent changer\n",
    "\n",
    "* un ficher par exemple est un objet mutable"
   ]
  },
  {
   "cell_type": "markdown",
   "metadata": {},
   "source": [
    "* un commit est par contre **immutable**\n",
    "* dit autrement, une fois qu'il est créé  \n",
    "  on ne peut plus le modifier  \n",
    "\n",
    "* mais on peut en créer un autre "
   ]
  },
  {
   "cell_type": "markdown",
   "metadata": {
    "slideshow": {
     "slide_type": "slide"
    }
   },
   "source": [
    "## attention aux commits poussés"
   ]
  },
  {
   "cell_type": "markdown",
   "metadata": {},
   "source": [
    "avant d'aller plus loin, souvenez-vous de cette règle d'or\n",
    "\n",
    "> ne **jamais** récrire un commit déjà publié/poussé\n",
    "\n",
    "si quelqu'un a déjà tiré ce commit, et vous le remplacez  \n",
    "par un autre, au deuxième `pull` votre collègue  \n",
    "va déclencher un désordre monstrueux\n",
    "\n",
    "exercice : voyez-vous pourquoi ?"
   ]
  },
  {
   "cell_type": "markdown",
   "metadata": {
    "slideshow": {
     "slide_type": "slide"
    }
   },
   "source": [
    "## un repo"
   ]
  },
  {
   "cell_type": "code",
   "execution_count": 3,
   "metadata": {
    "cell_style": "split"
   },
   "outputs": [
    {
     "name": "stdout",
     "output_type": "stream",
     "text": [
      "Initialized empty Git repository in /Users/tparment/git/flotpython-gittutorial/notebooks/repo-rebase/.git/\r\n",
      "[master (root-commit) 5ba161e] A\r\n",
      " 1 file changed, 20 insertions(+)\r\n",
      " create mode 100644 FILE\r\n",
      "[master 06de616] B\r\n",
      " 1 file changed, 1 insertion(+), 1 deletion(-)\r\n",
      "[master 4738b38] OOPS\r\n",
      " 1 file changed, 1 insertion(+), 1 deletion(-)\r\n",
      "Switched to a new branch 'devel'\r\n",
      "[devel ca46d2e] D\r\n",
      " 1 file changed, 1 insertion(+), 1 deletion(-)\r\n",
      "[devel e7b4a3e] E\r\n",
      " 1 file changed, 1 insertion(+), 1 deletion(-)\r\n",
      "Switched to branch 'master'\r\n",
      "\n"
     ]
    }
   ],
   "source": [
    "$SCRIPTS/do rebase-init\n",
    "$SCRIPTS/do rebase-master-branch\n",
    "$SCRIPTS/do rebase-devel-branch"
   ]
  },
  {
   "cell_type": "code",
   "execution_count": 4,
   "metadata": {
    "cell_style": "split"
   },
   "outputs": [
    {
     "name": "stdout",
     "output_type": "stream",
     "text": [
      "* \u001b[33me7b4a3e\u001b[m\u001b[33m (\u001b[m\u001b[1;32mdevel\u001b[m\u001b[33m)\u001b[m E\r\n",
      "* \u001b[33mca46d2e\u001b[m D\r\n",
      "\u001b[31m|\u001b[m * \u001b[33m4738b38\u001b[m\u001b[33m (\u001b[m\u001b[1;36mHEAD -> \u001b[m\u001b[1;32mmaster\u001b[m\u001b[33m)\u001b[m OOPS\r\n",
      "\u001b[31m|\u001b[m * \u001b[33m06de616\u001b[m B\r\n",
      "\u001b[31m|\u001b[m\u001b[31m/\u001b[m  \r\n",
      "* \u001b[33m5ba161e\u001b[m A\r\n",
      "\n"
     ]
    }
   ],
   "source": [
    "# rappel:\n",
    "# git l = git log --oneline --graph\n",
    "git l --all"
   ]
  },
  {
   "cell_type": "markdown",
   "metadata": {
    "slideshow": {
     "slide_type": "slide"
    }
   },
   "source": [
    "## modifier le dernier commit"
   ]
  },
  {
   "cell_type": "markdown",
   "metadata": {},
   "source": [
    "le cas le plus simple de récriture de l'histoire :  \n",
    "vous voulez modifier le commit que vous venez de faire  \n",
    "à cause d'une faute d'orthographe dans le message\n",
    "\n",
    "\n",
    "```\n",
    "git commit --amend\n",
    "```\n",
    "\n",
    "si vous avez ajouté des changements dans l'index entretemps,  \n",
    "ils feront partie du nouveau commit "
   ]
  },
  {
   "cell_type": "code",
   "execution_count": 5,
   "metadata": {
    "cell_style": "split",
    "slideshow": {
     "slide_type": "slide"
    }
   },
   "outputs": [
    {
     "name": "stdout",
     "output_type": "stream",
     "text": [
      "* \u001b[33m4738b38\u001b[m\u001b[33m (\u001b[m\u001b[1;36mHEAD -> \u001b[m\u001b[1;32mmaster\u001b[m\u001b[33m)\u001b[m OOPS\r\n",
      "* \u001b[33m06de616\u001b[m B\r\n",
      "* \u001b[33m5ba161e\u001b[m A\r\n",
      "\n"
     ]
    }
   ],
   "source": [
    "git l"
   ]
  },
  {
   "cell_type": "code",
   "execution_count": 6,
   "metadata": {
    "cell_style": "split"
   },
   "outputs": [
    {
     "name": "stdout",
     "output_type": "stream",
     "text": [
      "[master a984a1d] C\r\n",
      " Date: Sat Aug 3 15:22:39 2019 +0200\r\n",
      " 1 file changed, 1 insertion(+), 1 deletion(-)\r\n",
      "\n"
     ]
    }
   ],
   "source": [
    "# récrire le dernier commit\n",
    "git commit --amend --message C"
   ]
  },
  {
   "cell_type": "code",
   "execution_count": 7,
   "metadata": {
    "cell_style": "split"
   },
   "outputs": [
    {
     "name": "stdout",
     "output_type": "stream",
     "text": [
      "* \u001b[33ma984a1d\u001b[m\u001b[33m (\u001b[m\u001b[1;36mHEAD -> \u001b[m\u001b[1;32mmaster\u001b[m\u001b[33m)\u001b[m C\r\n",
      "* \u001b[33m06de616\u001b[m B\r\n",
      "* \u001b[33m5ba161e\u001b[m A\r\n",
      "\n"
     ]
    }
   ],
   "source": [
    "git l"
   ]
  },
  {
   "cell_type": "code",
   "execution_count": 8,
   "metadata": {
    "cell_style": "split"
   },
   "outputs": [
    {
     "name": "stdout",
     "output_type": "stream",
     "text": [
      "* \u001b[33me7b4a3e\u001b[m\u001b[33m (\u001b[m\u001b[1;32mdevel\u001b[m\u001b[33m)\u001b[m E\r\n",
      "* \u001b[33mca46d2e\u001b[m D\r\n",
      "\u001b[31m|\u001b[m * \u001b[33ma984a1d\u001b[m\u001b[33m (\u001b[m\u001b[1;36mHEAD -> \u001b[m\u001b[1;32mmaster\u001b[m\u001b[33m)\u001b[m C\r\n",
      "\u001b[31m|\u001b[m * \u001b[33m06de616\u001b[m B\r\n",
      "\u001b[31m|\u001b[m\u001b[31m/\u001b[m  \r\n",
      "* \u001b[33m5ba161e\u001b[m A\r\n",
      "\n"
     ]
    }
   ],
   "source": [
    "# le commit 'OOPS' est \n",
    "# toujours là quelque part\n",
    "# mais on ne le parcourt pas\n",
    "git l --all"
   ]
  },
  {
   "cell_type": "markdown",
   "metadata": {
    "slideshow": {
     "slide_type": "slide"
    }
   },
   "source": [
    "## reconstruire avec `rebase` "
   ]
  },
  {
   "cell_type": "markdown",
   "metadata": {},
   "source": [
    "un outil permettant de rejouer une suite de changements  \n",
    "\n"
   ]
  },
  {
   "cell_type": "markdown",
   "metadata": {
    "cell_style": "split"
   },
   "source": [
    "![](media/merge-vs-rebase.png)"
   ]
  },
  {
   "cell_type": "markdown",
   "metadata": {
    "cell_style": "split",
    "slideshow": {
     "slide_type": ""
    }
   },
   "source": [
    "`rebase` *vs* `merge` :\n",
    "\n",
    "les deux résultats `F` et `E'`  \n",
    "ont un contenu identique  \n",
    "mais la topologie est  \n",
    "évidemment très différente"
   ]
  },
  {
   "cell_type": "code",
   "execution_count": 9,
   "metadata": {
    "cell_style": "split",
    "slideshow": {
     "slide_type": "slide"
    }
   },
   "outputs": [
    {
     "name": "stdout",
     "output_type": "stream",
     "text": [
      "\n"
     ]
    }
   ],
   "source": [
    "# juste pour garder une référence\n",
    "git branch old-devel devel"
   ]
  },
  {
   "cell_type": "code",
   "execution_count": 10,
   "metadata": {
    "cell_style": "split",
    "slideshow": {
     "slide_type": ""
    }
   },
   "outputs": [
    {
     "name": "stdout",
     "output_type": "stream",
     "text": [
      "* \u001b[33me7b4a3e\u001b[m\u001b[33m (\u001b[m\u001b[1;32mold-devel\u001b[m\u001b[33m, \u001b[m\u001b[1;32mdevel\u001b[m\u001b[33m)\u001b[m E\r\n",
      "* \u001b[33mca46d2e\u001b[m D\r\n",
      "\u001b[31m|\u001b[m * \u001b[33ma984a1d\u001b[m\u001b[33m (\u001b[m\u001b[1;36mHEAD -> \u001b[m\u001b[1;32mmaster\u001b[m\u001b[33m)\u001b[m C\r\n",
      "\u001b[31m|\u001b[m * \u001b[33m06de616\u001b[m B\r\n",
      "\u001b[31m|\u001b[m\u001b[31m/\u001b[m  \r\n",
      "* \u001b[33m5ba161e\u001b[m A\r\n",
      "\n"
     ]
    }
   ],
   "source": [
    "git l --all"
   ]
  },
  {
   "cell_type": "code",
   "execution_count": 11,
   "metadata": {
    "cell_style": "split"
   },
   "outputs": [
    {
     "name": "stdout",
     "output_type": "stream",
     "text": [
      "First, rewinding head to replay your work on top of it...\r\n",
      "Applying: D\r\n",
      "Using index info to reconstruct a base tree...\r\n",
      "M\tFILE\r\n",
      "Falling back to patching base and 3-way merge...\r\n",
      "Auto-merging FILE\r\n",
      "Applying: E\r\n",
      "\n"
     ]
    }
   ],
   "source": [
    "# ça se lit comme ceci\n",
    "# reconstruire la branche devel \n",
    "# au dessus de la branche master\n",
    "git rebase master devel"
   ]
  },
  {
   "cell_type": "code",
   "execution_count": 12,
   "metadata": {
    "cell_style": "split"
   },
   "outputs": [
    {
     "name": "stdout",
     "output_type": "stream",
     "text": [
      "* \u001b[33ma81b4e9\u001b[m\u001b[33m (\u001b[m\u001b[1;36mHEAD -> \u001b[m\u001b[1;32mdevel\u001b[m\u001b[33m)\u001b[m E\r\n",
      "* \u001b[33m914f564\u001b[m D\r\n",
      "* \u001b[33ma984a1d\u001b[m\u001b[33m (\u001b[m\u001b[1;32mmaster\u001b[m\u001b[33m)\u001b[m C\r\n",
      "* \u001b[33m06de616\u001b[m B\r\n",
      "\u001b[31m|\u001b[m * \u001b[33me7b4a3e\u001b[m\u001b[33m (\u001b[m\u001b[1;32mold-devel\u001b[m\u001b[33m)\u001b[m E\r\n",
      "\u001b[31m|\u001b[m * \u001b[33mca46d2e\u001b[m D\r\n",
      "\u001b[31m|\u001b[m\u001b[31m/\u001b[m  \r\n",
      "* \u001b[33m5ba161e\u001b[m A\r\n",
      "\n"
     ]
    }
   ],
   "source": [
    "git l --all"
   ]
  },
  {
   "cell_type": "markdown",
   "metadata": {
    "slideshow": {
     "slide_type": "slide"
    }
   },
   "source": [
    "## F == E'"
   ]
  },
  {
   "cell_type": "markdown",
   "metadata": {},
   "source": [
    "pour s'assurer qu'on a bien le même contenu qu'avec un merge"
   ]
  },
  {
   "cell_type": "code",
   "execution_count": 13,
   "metadata": {
    "cell_style": "split"
   },
   "outputs": [
    {
     "name": "stdout",
     "output_type": "stream",
     "text": [
      "Switched to a new branch 'merging'\r\n",
      "Auto-merging FILE\r\n",
      "Merge made by the 'recursive' strategy.\r\n",
      " FILE | 4 \u001b[32m++\u001b[m\u001b[31m--\u001b[m\r\n",
      " 1 file changed, 2 insertions(+), 2 deletions(-)\r\n",
      "\n"
     ]
    }
   ],
   "source": [
    "git checkout -b merging master\n",
    "git merge old-devel --message F"
   ]
  },
  {
   "cell_type": "code",
   "execution_count": 14,
   "metadata": {
    "cell_style": "split"
   },
   "outputs": [
    {
     "name": "stdout",
     "output_type": "stream",
     "text": [
      "*   \u001b[33m1bf75ba\u001b[m\u001b[33m (\u001b[m\u001b[1;36mHEAD -> \u001b[m\u001b[1;32mmerging\u001b[m\u001b[33m)\u001b[m F\r\n",
      "\u001b[31m|\u001b[m\u001b[32m\\\u001b[m  \r\n",
      "\u001b[31m|\u001b[m * \u001b[33me7b4a3e\u001b[m\u001b[33m (\u001b[m\u001b[1;32mold-devel\u001b[m\u001b[33m)\u001b[m E\r\n",
      "\u001b[31m|\u001b[m * \u001b[33mca46d2e\u001b[m D\r\n",
      "\u001b[31m|\u001b[m \u001b[32m|\u001b[m * \u001b[33ma81b4e9\u001b[m\u001b[33m (\u001b[m\u001b[1;32mdevel\u001b[m\u001b[33m)\u001b[m E\r\n",
      "\u001b[31m|\u001b[m \u001b[32m|\u001b[m * \u001b[33m914f564\u001b[m D\r\n",
      "\u001b[31m|\u001b[m \u001b[32m|\u001b[m\u001b[31m/\u001b[m  \r\n",
      "\u001b[31m|\u001b[m\u001b[31m/\u001b[m\u001b[32m|\u001b[m   \r\n",
      "* \u001b[32m|\u001b[m \u001b[33ma984a1d\u001b[m\u001b[33m (\u001b[m\u001b[1;32mmaster\u001b[m\u001b[33m)\u001b[m C\r\n",
      "* \u001b[32m|\u001b[m \u001b[33m06de616\u001b[m B\r\n",
      "\u001b[32m|\u001b[m\u001b[32m/\u001b[m  \r\n",
      "* \u001b[33m5ba161e\u001b[m A\r\n",
      "\n"
     ]
    }
   ],
   "source": [
    "git l --all"
   ]
  },
  {
   "cell_type": "code",
   "execution_count": 15,
   "metadata": {},
   "outputs": [
    {
     "name": "stdout",
     "output_type": "stream",
     "text": [
      "\n"
     ]
    }
   ],
   "source": [
    "# pas de différence entre les deux contenus\n",
    "git diff merging devel"
   ]
  },
  {
   "cell_type": "markdown",
   "metadata": {
    "slideshow": {
     "slide_type": "slide"
    }
   },
   "source": [
    "## `pull --rebase`"
   ]
  },
  {
   "cell_type": "markdown",
   "metadata": {},
   "source": [
    "souvenez-vous des cas où il faut jouer à `pull-push`  \n",
    "i.e. les cas où deux personnes partent d'un même commit  \n",
    "et où on l'un des deux ne peut pas pousser  \n",
    "il doit d'abord faire `pull` (cf. *fast-forward*) "
   ]
  },
  {
   "cell_type": "markdown",
   "metadata": {},
   "source": [
    "dans ces cas-là si on préfère ne pas créer de diamant  \n",
    "envisagez dans ce cas-là de faire un `pull --rebase`  \n",
    "c'est souvent une option proposée dans les diverses UI"
   ]
  },
  {
   "cell_type": "markdown",
   "metadata": {
    "slideshow": {
     "slide_type": "slide"
    }
   },
   "source": [
    "## `rebase -i`"
   ]
  },
  {
   "cell_type": "markdown",
   "metadata": {},
   "source": [
    "on signale enfin (détails à creuser par vous-mêmes)  \n",
    "le **mode interactif** de rebase :\n",
    "\n",
    "* toujours sur des commits **non publiés**\n",
    "* on peut récrire une suite de commits pour\n",
    "* changer leur ordre\n",
    "* en regrouper\n",
    "* en enlever\n",
    "* ...\n",
    "\n",
    "ce qui est l'outil idéal pour produire un historique propre"
   ]
  },
  {
   "cell_type": "markdown",
   "metadata": {
    "slideshow": {
     "slide_type": "slide"
    }
   },
   "source": [
    "## exercice - amend"
   ]
  },
  {
   "cell_type": "markdown",
   "metadata": {
    "cell_style": "center"
   },
   "source": [
    "1. créez un commit  \n",
    "   modifiez le message avec `amend`\n",
    "   \n",
    "1. même scénario, mais vous créez une branche `bookmark`  \n",
    "   juste avant le `amend` pour vérifier  \n",
    "   que le premier commit est toujours présent dans le repo\n",
    "   \n",
    "1. créez un commit  \n",
    "   ajoutez des changements dans l'index  \n",
    "   faites un `amend` et constatez que l'indez est vide\n",
    "   \n",
    "1. utilisez `amend` pour modifier l'auteur du commit  \n",
    "   voyez la doc de `commit` pour cela"
   ]
  },
  {
   "cell_type": "markdown",
   "metadata": {
    "slideshow": {
     "slide_type": "slide"
    }
   },
   "source": [
    "## exercice - rebase "
   ]
  },
  {
   "cell_type": "markdown",
   "metadata": {},
   "source": [
    "1. créer un repo avec 5 commits init, bugfix1, feature1, bugfix2, feature2  \n",
    "1. utiliser `rebase -i` pour récrire au dessus de init  \n",
    "   le même contenu en seulement 2 commit feature, bugfix\n",
    "1. créer une branche au niveau de init, lui appliquer le commit bugfix  \n",
    "   (*hint*: voir la commande `cherry-pick`)"
   ]
  }
 ],
 "metadata": {
  "celltoolbar": "Slideshow",
  "ipub": {
   "sphinx": {
    "toggle_input": true,
    "toggle_input_all": true,
    "toggle_output": true,
    "toggle_output_all": true
   }
  },
  "kernelspec": {
   "display_name": "Calysto Bash",
   "language": "bash",
   "name": "calysto_bash"
  },
  "language_info": {
   "file_extension": ".sh",
   "help_links": [
    {
     "text": "MetaKernel Magics",
     "url": "https://metakernel.readthedocs.io/en/latest/source/README.html"
    }
   ],
   "mimetype": "text/x-sh",
   "name": "bash",
   "version": "0.2.1"
  },
  "notebookname": "rebase",
  "rise": {
   "autolaunch": true,
   "slideNumber": "c/t",
   "start_slideshow_at": "selected",
   "theme": "sky",
   "transition": "cube"
  },
  "version": "1.0"
 },
 "nbformat": 4,
 "nbformat_minor": 4
}
